{
 "cells": [
  {
   "cell_type": "code",
   "execution_count": null,
   "id": "cbb7f8e6-80cc-4df6-9224-97788d5019f1",
   "metadata": {},
   "outputs": [],
   "source": [
    "# Constructor\n",
    "\n",
    "# 1.What is a constructor in Python? Explain its purpose and usage.\n",
    "\n",
    "\"\"\" It is a special type of function that gets automatically called hen object of class is created \n",
    "Main purpouse of constructor is to create and initialize the object\"\"\""
   ]
  },
  {
   "cell_type": "code",
   "execution_count": 1,
   "id": "cef98663-09bd-49ca-80c9-b00e2e1a5344",
   "metadata": {},
   "outputs": [],
   "source": [
    "# 2. Differentiate between a parameterless constructor and a parameterized constructor in Python.\n",
    "\n",
    "\"\"\"Parameterized Constructor: A parameterized constructor is a constructor that takes one or more arguments. It is used to create an object with custom values for its attributes.\n",
    "Non-Parameterized Constructor: A non-parameterized constructor is a constructor that does not take any arguments\"\"\""
   ]
  },
  {
   "cell_type": "code",
   "execution_count": 2,
   "id": "5dff33da-44fa-4cca-8d24-97907f69bc17",
   "metadata": {},
   "outputs": [
    {
     "name": "stdout",
     "output_type": "stream",
     "text": [
      "John\n",
      "30\n"
     ]
    }
   ],
   "source": [
    "# 3. How do you define a constructor in a Python class? Provide an example.\n",
    "\n",
    "\"\"\"Constructors\n",
    "Default constructors are useful when you want to create an object with a predefined\n",
    "set of attributes, but you don’t want to specify the values of those attributes when the object is created.\"\"\"\n",
    "\n",
    "class Person:\n",
    "    def __init__(self):\n",
    "        self.name = \"John\"\n",
    "        self.age = 30\n",
    "\n",
    "person = Person()\n",
    "print(person.name)\n",
    "print(person.age)"
   ]
  },
  {
   "cell_type": "code",
   "execution_count": null,
   "id": "2f540a45-752f-43e3-8b42-fc6839a5e6ca",
   "metadata": {},
   "outputs": [],
   "source": [
    "#4 Explain the `__init__` method in Python and its role in constructors.\n",
    "\n",
    "\"\"\"The python __init__ method is declared within a class and is used \n",
    "to initialize the attributes of an object as soon as the object is formed.\"\"\""
   ]
  },
  {
   "cell_type": "code",
   "execution_count": 13,
   "id": "9ac79dce-e1ec-46ee-9dce-2a24f8bb471c",
   "metadata": {},
   "outputs": [
    {
     "name": "stdout",
     "output_type": "stream",
     "text": [
      "Name Taapas\n",
      "age 25\n"
     ]
    }
   ],
   "source": [
    "#5 In a class named `Person`, create a constructor that initializes the `name` and `age` attributes. Provide an example of creating an object of this class.\n",
    "\n",
    "class Person:  \n",
    "    def __init__(self,name,age):\n",
    "        self.name = name\n",
    "        self.age = age\n",
    "          \n",
    "person = Person(\"Taapas\",\"25\")\n",
    "print(\"Name\",person.name)\n",
    "print(\"age\",person.age)"
   ]
  },
  {
   "cell_type": "code",
   "execution_count": null,
   "id": "205b68cd-23f3-460d-987b-02fb9c22b427",
   "metadata": {},
   "outputs": [],
   "source": [
    "# 6. How can you call a constructor explicitly in Python? Give an example.\n",
    "\n",
    "\"\"\"A constructor is a member function which python calls when it instantiates an object of that class\n",
    "\n",
    "#Assuming we have a class named ItsAClass which receives no parameter \n",
    "y = ItsAClass()\n",
    "\n",
    "The above line creates a new instance of the class ItsAClass and assigns it to the variable y.\n",
    "\n",
    "So, when the new instance is created the __init__() (constructor) is called.\"\"\""
   ]
  },
  {
   "cell_type": "code",
   "execution_count": 14,
   "id": "ae416606-f62f-4bb2-b2ba-673147ee9528",
   "metadata": {},
   "outputs": [
    {
     "data": {
      "text/plain": [
       "'The self variable is used to represent the instance of the class which is often used \\nin object-oriented programming. It works as a reference to the object. \\nPython uses the self parameter to refer to instance attributes and methods of the class.'"
      ]
     },
     "execution_count": 14,
     "metadata": {},
     "output_type": "execute_result"
    }
   ],
   "source": [
    "# 7. What is the significance of the `self` parameter in Python constructors? Explain with an example.\n",
    "\n",
    "\"\"\"The self variable is used to represent the instance of the class which is often used \n",
    "in object-oriented programming. It works as a reference to the object. \n",
    "Python uses the self parameter to refer to instance attributes and methods of the class.\"\"\""
   ]
  },
  {
   "cell_type": "code",
   "execution_count": null,
   "id": "b675eb14-d82c-4e3b-8e20-ef24538f846e",
   "metadata": {},
   "outputs": [],
   "source": [
    "# 8. Discuss the concept of default constructors in Python. When are they used?\n",
    "\n",
    "\"\"\"A default constructor is a constructor that takes no arguments. \n",
    "It is used to create an object with default values for its attributes.\"\"\"\n",
    "\n",
    "class Person:\n",
    "    def __init__(self):\n",
    "        self.name = \"John\"\n",
    "        self.age = 30\n",
    "\n",
    "person = Person()\n",
    "print(person.name)\n",
    "print(person.age)"
   ]
  },
  {
   "cell_type": "code",
   "execution_count": 17,
   "id": "a27a5423-1ca7-4749-bc5b-9a22492283f4",
   "metadata": {},
   "outputs": [
    {
     "name": "stdout",
     "output_type": "stream",
     "text": [
      "Area of Rectangle = 32\n"
     ]
    }
   ],
   "source": [
    "# 9 Create a Python class called `Rectangle` with a constructor that initializes the `width` and `height`\n",
    "# attributes. Provide a method to calculate the area of the rectangle.\n",
    "\n",
    "class Rectangle:\n",
    "    def __init__(self,width,height):\n",
    "        self.width = width\n",
    "        self.height = height\n",
    "    \n",
    "rectangle = Rectangle(8,4)\n",
    "print(\"Area of Rectangle =\", rectangle.width*rectangle.height)"
   ]
  },
  {
   "cell_type": "code",
   "execution_count": 29,
   "id": "739d4631-1516-40e5-9f2c-773c491c5664",
   "metadata": {},
   "outputs": [
    {
     "name": "stdout",
     "output_type": "stream",
     "text": [
      "Sum of list : 15\n",
      "Square of int : 25\n",
      "String : Hello! GeeksforGeeks.\n"
     ]
    }
   ],
   "source": [
    "# 10. How can you have multiple constructors in a Python class? Explain with an example.\n",
    "\n",
    "# using *args\n",
    "\n",
    "class sample: \n",
    "    def __init__(self,*args):\n",
    "    \n",
    "        if(len(args)) > 1:\n",
    "            self.ans = 0\n",
    "            for i in args:\n",
    "                self.ans += i\n",
    "       \n",
    "        elif isinstance(args[0], int):\n",
    "           self.ans = args[0]*args[0] \n",
    "           \n",
    "     # if arg is string \n",
    "        # Print with hello \n",
    "        elif isinstance(args[0], str): \n",
    "            self.ans = \"Hello! \"+args[0]+\".\"\n",
    "  \n",
    "  \n",
    "s1 = sample(1, 2, 3, 4, 5) \n",
    "print(\"Sum of list :\", s1.ans) \n",
    "  \n",
    "s2 = sample(5) \n",
    "print(\"Square of int :\", s2.ans) \n",
    "  \n",
    "s3 = sample(\"GeeksforGeeks\") \n",
    "print(\"String :\", s3.ans) \n"
   ]
  },
  {
   "cell_type": "code",
   "execution_count": 38,
   "id": "80c4cc17-f248-45d0-9f97-eefd67ce54a6",
   "metadata": {},
   "outputs": [
    {
     "name": "stdout",
     "output_type": "stream",
     "text": [
      "Welcome   \n",
      "Welcome  Taapas \n",
      "Welcome  Taapas  Sharma\n"
     ]
    }
   ],
   "source": [
    "# 11. What is method overloading, and how is it related to constructors in Python?\n",
    "\n",
    "# When ever class contains more than 1 method with same name and different types, parameters called overloading\n",
    "\n",
    "class A:\n",
    "    def show(self):\n",
    "        print(\"welcome\")\n",
    "        \n",
    "    def show(self, first_name=''):\n",
    "        print(\"Welcome \",first_name)\n",
    "        \n",
    "    def show(self, first_name='', last_name=''):\n",
    "        print(\"Welcome \",first_name,last_name)\n",
    "        \n",
    "obj = A()\n",
    "obj.show()\n",
    "obj.show(\"Taapas\")\n",
    "obj.show(\"Taapas\",\" Sharma\")"
   ]
  },
  {
   "cell_type": "code",
   "execution_count": 23,
   "id": "6c0ad815-13be-4979-bf9f-ca87a1ce9156",
   "metadata": {},
   "outputs": [
    {
     "name": "stdout",
     "output_type": "stream",
     "text": [
      "Area of square: 4\n",
      "Area of rectangle: 50\n"
     ]
    }
   ],
   "source": [
    "# 12 Explain the use of the `super()` function in Python constructors. Provide an example\n",
    "\n",
    "\"\"\"super() function is used to access method of a parent class , it returns temperary objcts of the class \"\"\"\n",
    "\n",
    "# eg\n",
    "\n",
    "class square:\n",
    "    def __init__(self,length):\n",
    "        self.length = length\n",
    "        \n",
    "    def area(self):\n",
    "        return self.length*self.length\n",
    "        \n",
    "class rectangle(square):\n",
    "    def __init__(self,length,breadth,height):\n",
    "        super().__init__(length)\n",
    "        self.breadth = breadth\n",
    "        self.height = height\n",
    "        \n",
    "    def area(self):\n",
    "        return self.length*self.breadth*self.height\n",
    "        \n",
    "square_obj = Square(2)\n",
    "rectangle_obj = Rectangle(5, 10, 1)\n",
    "\n",
    "\n",
    "print(\"Area of square:\", square_obj.area())\n",
    "print(\"Area of rectangle:\", rectangle_obj.area())"
   ]
  },
  {
   "cell_type": "code",
   "execution_count": 30,
   "id": "720efd24-6195-48e0-a797-ab47de335dd8",
   "metadata": {},
   "outputs": [
    {
     "name": "stdout",
     "output_type": "stream",
     "text": [
      " Book details of Harry Potter\n",
      " Author of the book is \n",
      " It was published in \n"
     ]
    }
   ],
   "source": [
    "# 3. Create a class called `Book` with a constructor that initializes the `title`, `author`, and `published_year` \n",
    "# attributes. Provide a method to display book details\n",
    "\n",
    "class Book:\n",
    "    def __init__(self,title,author,published_year):\n",
    "        self.title = title\n",
    "        self.Author = author\n",
    "        self.published_year = published_year\n",
    "        \n",
    "        \n",
    "class Details(Book):\n",
    "    def __init__(self,title):\n",
    "        super().__init__(title, \"\", \"\")\n",
    "        \n",
    "    def book_details(self):\n",
    "        return f\" Book details of {self.title}\\n Author of the book is {self.Author}\\n It was published in {self.published_year}\"\n",
    "    \n",
    "book = Book(\"Harry Potter\",\"JK Rollins\",\"1988\")    \n",
    "details = Details(\"Harry Potter\")\n",
    "            \n",
    "print(details.book_details())"
   ]
  },
  {
   "cell_type": "code",
   "execution_count": null,
   "id": "f014f0a5-cc81-4024-9fb6-62fca416872f",
   "metadata": {},
   "outputs": [],
   "source": [
    "# 14. Discuss the differences between constructors and regular methods in Python classes.\n",
    "\n",
    "# constructors are the functions that get automaticalley called when object of class is created\n",
    "\n",
    "# Regular (instance) methods need a class instance and can access the instance through self. They can read and modify an objects state freely."
   ]
  },
  {
   "cell_type": "code",
   "execution_count": null,
   "id": "fba1c1f0-bbd3-4f6e-9d90-5d16a34e26fb",
   "metadata": {},
   "outputs": [],
   "source": [
    "# 15. Explain the role of the `self` parameter in instance variable initialization within a constructor.\n",
    "\n",
    "# self represents the instance of the class, it is customary to use self as first parameter in instance method of class"
   ]
  },
  {
   "cell_type": "code",
   "execution_count": 9,
   "id": "9fa8004f-7b72-4bce-97e5-dbee9055d378",
   "metadata": {},
   "outputs": [
    {
     "name": "stdout",
     "output_type": "stream",
     "text": [
      "['Hindi', 'english', 'Maths']\n"
     ]
    }
   ],
   "source": [
    "# 17. Create a Python class called `Student` with a constructor that takes a list of subjects as a parameter and initializes the `subjects` attribute.\n",
    "\n",
    "class Student:\n",
    "    def __init__(self,subjects):\n",
    "        self.subjects = subjects\n",
    "    \n",
    "sub_list = [\"Hindi\",\"english\",\"Maths\"]\n",
    "\n",
    "sub = Student(sub_list)\n",
    "print(sub.subjects)     \n",
    "        "
   ]
  },
  {
   "cell_type": "code",
   "execution_count": 8,
   "id": "65988b76-b415-4bfc-b00c-ff699e83874c",
   "metadata": {},
   "outputs": [
    {
     "name": "stdout",
     "output_type": "stream",
     "text": [
      "Object example is being destroyed\n"
     ]
    }
   ],
   "source": [
    "# 18. What is the purpose of the `__del__` method in Python classes, and how does it relate to constructors?\n",
    "\n",
    "\"\"\"The __del__ method in Python classes is known as the destructor. It's used to define what actions \n",
    "should be taken when an object is about to be destroyed or garbage collected. The purpose of __del__ is\n",
    "to perform any necessary cleanup tasks such as releasing resources (closing files, releasing locks, etc.)\n",
    "before the object is removed from memory.\"\"\"\n",
    "\n",
    "class MyClass:\n",
    "    def __init__(self, name):\n",
    "        self.name = name\n",
    "\n",
    "    def __del__(self):\n",
    "        print(f\"Object {self.name} is being destroyed\")\n",
    "\n",
    "# Creating an instance of MyClass\n",
    "obj = MyClass(\"example\")\n",
    "\n",
    "# Deleting the reference to the object\n",
    "del obj\n"
   ]
  },
  {
   "cell_type": "code",
   "execution_count": 11,
   "id": "e5700668-a307-45be-b6e1-4fd67a8dc3ab",
   "metadata": {},
   "outputs": [
    {
     "name": "stdout",
     "output_type": "stream",
     "text": [
      " He has a dog named Tufy and it is a Labra\n"
     ]
    }
   ],
   "source": [
    "# 19. Explain the use of constructor chaining in Python. Provide a practical example\n",
    "\n",
    "\"\"\"Constructor in python is done using super(), it is the ability of sunclass to call consructor of its\n",
    "super class This allows for initialization code in the superclass to be executed before the initialization \n",
    "code in the subclass.\"\"\"\n",
    "\n",
    "class Animal:\n",
    "    def __init__(self, species): # species = constructor\n",
    "        self.species = species\n",
    "        \n",
    "class dog(Animal):\n",
    "    def __init__(self,species,Name):\n",
    "        super().__init__(species)  # Calling the constructor of the superclass\n",
    "        self.Name = Name\n",
    "        \n",
    "s = dog(\"Labra\", \"Tufy\")\n",
    "print(f\" He has a dog named {s.Name} and it is a {s.species}\")\n",
    "        \n",
    "    \n",
    "    \n",
    "        "
   ]
  },
  {
   "cell_type": "code",
   "execution_count": 12,
   "id": "5acd23be-fa56-4ce1-a39b-988e1c26852f",
   "metadata": {},
   "outputs": [
    {
     "name": "stdout",
     "output_type": "stream",
     "text": [
      "In your Budget range the best car is Grand i10 Nios and its Manufacturer is Hundai\n"
     ]
    }
   ],
   "source": [
    "# 20. Create a Python class called `Car` with a default constructor that initializes the `make` and `model` \n",
    "# attributes. Provide a method to display car information.\n",
    "\n",
    "class Car:\n",
    "    def __init__(self, Make, Model):\n",
    "        self.Make = Make\n",
    "        self.Model = Model\n",
    "        \n",
    "a = Car(\"Hundai\",\"Grand i10 Nios\")\n",
    "\n",
    "print(f\"In your Budget range the best car is {a.Model} and its Manufacturer is {a.Make}\")\n",
    "        \n",
    "    "
   ]
  },
  {
   "cell_type": "code",
   "execution_count": null,
   "id": "0a6f2f13-94d2-4232-8607-0147fed642f7",
   "metadata": {},
   "outputs": [],
   "source": [
    "# 1. What is inheritance in Python? Explain its significance in object-oriented programmin\n",
    "\n",
    "# inheritance is when you inherit all the method and properties of another class\n",
    "\n",
    "# It is important as it saves time and asyou can save other class and it properties you can save memory in large codes\n"
   ]
  },
  {
   "cell_type": "code",
   "execution_count": 2,
   "id": "a8290909-a1f5-4891-9e08-6a63eeb5fb62",
   "metadata": {},
   "outputs": [
    {
     "name": "stdout",
     "output_type": "stream",
     "text": [
      " He has a dog named Tufy and it is a Labra\n",
      " He has a dog named Tufy, it is a Labra and the colour of there dog is Brown\n"
     ]
    }
   ],
   "source": [
    "# 2. Differentiate between single inheritance and multiple inheritance in Python. Provide examples for each\n",
    "\n",
    "\"Single Inheritance - when single class is inherited to another class\"\n",
    "\n",
    "class Animal:\n",
    "    def __init__(self, species): # species = constructor\n",
    "        self.species = species\n",
    "        \n",
    "class dog(Animal):\n",
    "    def __init__(self,species,Name):\n",
    "        super().__init__(species)  # Calling the constructor of the superclass\n",
    "        self.Name = Name\n",
    "        \n",
    "s = dog(\"Labra\", \"Tufy\")\n",
    "print(f\" He has a dog named {s.Name} and it is a {s.species}\")\n",
    "\n",
    "\"multiple inheritance - when single multiple is inherited to another class\"\n",
    "\n",
    "class Animal:\n",
    "    def __init__(self, species): # species = constructor\n",
    "        self.species = species\n",
    "        \n",
    "class Colour:\n",
    "     def __init__(self, colour): # species = constructor\n",
    "        self.colour = colour\n",
    "    \n",
    "        \n",
    "class dog(Animal,Colour):\n",
    "    def __init__(self,species,colour,Name):\n",
    "        Animal.__init__(self,species)\n",
    "        Colour.__init__(self,colour)\n",
    "        self.Name = Name\n",
    "        \n",
    "s = dog(\"Labra\",\"Brown\",\"Tufy\")\n",
    "print(f\" He has a dog named {s.Name}, it is a {s.species} and the colour of there dog is {s.colour}\")\n",
    "\n"
   ]
  },
  {
   "cell_type": "code",
   "execution_count": 3,
   "id": "9028f30c-559b-46e7-8c3e-90cdfe0d859b",
   "metadata": {},
   "outputs": [
    {
     "name": "stdout",
     "output_type": "stream",
     "text": [
      "That Red car from Hundai goes to a top speed of 220km/h\n"
     ]
    }
   ],
   "source": [
    "\"\"\"3. Create a Python class called `Vehicle` with attributes `color` and `speed`. Then, create a child class called \n",
    "`Car` that inherits from `Vehicle` and adds a `brand` attribute. Provide an example of creating a `Car` object.\"\"\"\n",
    "\n",
    "class Vehicle:\n",
    "    def __init__(self,color,speed):\n",
    "        self.color = color\n",
    "        self.speed = speed\n",
    "        \n",
    "class Car(Vehicle):\n",
    "    def __init__(self,color,speed,brand):\n",
    "        super().__init__(color,speed)\n",
    "        self.brand = brand\n",
    "        \n",
    "s = Car(\"Red\",\"220km/h\",\"Hundai\")\n",
    "\n",
    "print(f\"That {s.color} car from {s.brand} goes to a top speed of {s.speed}\") \n",
    "\n",
    "        \n",
    "    "
   ]
  },
  {
   "cell_type": "code",
   "execution_count": 1,
   "id": "b8d2df9c-ba79-4b6b-9068-3340b0874a7c",
   "metadata": {},
   "outputs": [
    {
     "name": "stdout",
     "output_type": "stream",
     "text": [
      "Woof!\n",
      "Meow!\n",
      "Animal speaks\n"
     ]
    }
   ],
   "source": [
    "# 4. Explain the concept of method overriding in inheritance. Provide a practical example\n",
    "\n",
    "\"\"\"Method overiding is when child class can provide the program with specific charicterstics \n",
    "provided that are already definedin the parent class\"\"\"\n",
    "\n",
    "\n",
    "class Animal:\n",
    "    def speak(self):\n",
    "        return \"Animal speaks\"\n",
    "\n",
    "class Dog(Animal):\n",
    "    def speak(self):\n",
    "        return \"Woof!\"\n",
    "\n",
    "class Cat(Animal):\n",
    "    def speak(self):\n",
    "        return \"Meow!\"\n",
    "\n",
    "class Cow(Animal):\n",
    "    pass  # Inherits speak method from Animal\n",
    "\n",
    "# Create instances of different animals\n",
    "dog = Dog()\n",
    "cat = Cat()\n",
    "cow = Cow()\n",
    "\n",
    "# Call the speak method for each animal\n",
    "print(dog.speak())  # Output: Woof!\n",
    "print(cat.speak())  # Output: Meow!\n",
    "print(cow.speak())  # Output: Animal speaks\n",
    "\n"
   ]
  },
  {
   "cell_type": "code",
   "execution_count": 2,
   "id": "c2d6065e-5b3a-47b8-b293-f516ae152b54",
   "metadata": {},
   "outputs": [
    {
     "name": "stdout",
     "output_type": "stream",
     "text": [
      "That Red car from Hundai goes to a top speed of 220km/h\n"
     ]
    }
   ],
   "source": [
    "# . How can you access the methods and attributes of a parent class from a child class in Python? Give an example.\n",
    "\n",
    "\"\"\"to access the methods and attributes of a parent class from a child \n",
    "class you have to make a clas and use parent class right in front of it\"\"\"\n",
    "\n",
    "class Vehicle:\n",
    "    def __init__(self,color,speed):\n",
    "        self.color = color\n",
    "        self.speed = speed\n",
    "        \n",
    "class Car(Vehicle):\n",
    "    def __init__(self,color,speed,brand):\n",
    "        super().__init__(color,speed)\n",
    "        self.brand = brand\n",
    "        \n",
    "s = Car(\"Red\",\"220km/h\",\"Hundai\")\n",
    "\n",
    "print(f\"That {s.color} car from {s.brand} goes to a top speed of {s.speed}\") "
   ]
  },
  {
   "cell_type": "code",
   "execution_count": 3,
   "id": "79a69398-80ca-4323-9ec5-08f353f0f807",
   "metadata": {},
   "outputs": [
    {
     "name": "stdout",
     "output_type": "stream",
     "text": [
      "That Red car from Hundai goes to a top speed of 220km/h\n"
     ]
    }
   ],
   "source": [
    "# 6. Discuss the use of the `super()` function in Python inheritance. When and why is it used? Provide an  example\n",
    "\n",
    "\"\"\"super() function is used to access method of a parent class , it returns temperary objcts of the class \"\"\"\n",
    "\n",
    "class Vehicle:\n",
    "    def __init__(self,color,speed):\n",
    "        self.color = color\n",
    "        self.speed = speed\n",
    "        \n",
    "class Car(Vehicle):\n",
    "    def __init__(self,color,speed,brand):\n",
    "        super().__init__(color,speed)\n",
    "        self.brand = brand\n",
    "        \n",
    "s = Car(\"Red\",\"220km/h\",\"Hundai\")\n",
    "\n",
    "print(f\"That {s.color} car from {s.brand} goes to a top speed of {s.speed}\")"
   ]
  },
  {
   "cell_type": "code",
   "execution_count": 5,
   "id": "4b61abaa-a7ba-4e97-a728-4bed1f49bfa8",
   "metadata": {},
   "outputs": [
    {
     "name": "stdout",
     "output_type": "stream",
     "text": [
      "Animak speak\n",
      "Dog Bark\n",
      "Cat Meoow\n"
     ]
    }
   ],
   "source": [
    "\"\"\" 7. Create a Python class called `Animal` with a method `speak()`. Then, create child classes \n",
    "`Dog` and `Cat` that inherit from `Animal` and override the `speak()` method. \n",
    "Provide an example of using these \"\"\"\n",
    "\n",
    "class Animal:\n",
    "    def speak(self):\n",
    "        return \"Animak speak\"\n",
    "        \n",
    "class Dog(Animal):\n",
    "    def speak(self):\n",
    "        return \"Dog Bark\"\n",
    "        \n",
    "class Cat(Animal):\n",
    "    def speak(self):\n",
    "        return \"Cat Meoow\"\n",
    "    \n",
    "a = Animal()\n",
    "b = Dog()\n",
    "c = Cat()\n",
    "\n",
    "print(a.speak())\n",
    "print(b.speak())\n",
    "print(c.speak())\n",
    "    \n"
   ]
  },
  {
   "cell_type": "code",
   "execution_count": 9,
   "id": "76a63ce0-a6a0-42c2-b8ae-19a6fde5f876",
   "metadata": {},
   "outputs": [
    {
     "name": "stdout",
     "output_type": "stream",
     "text": [
      "True\n"
     ]
    }
   ],
   "source": [
    "# 8. Explain the role of the `isinstance()` function in Python and how it relates to inheritance\n",
    "\n",
    "\"it tells us that if object belongs to that class, if yes then it return boolien value that is True if not ten False\"\n",
    "\n",
    "class Employees:\n",
    "    def Google(self):\n",
    "        return \"works in Google\"\n",
    "   \n",
    "e1 = Employees()\n",
    "e2 = Employees()\n",
    "\n",
    "print(isinstance(e1,Employees))"
   ]
  },
  {
   "cell_type": "code",
   "execution_count": 10,
   "id": "3395996c-5a2f-47ff-9392-ec1202251293",
   "metadata": {},
   "outputs": [
    {
     "name": "stdout",
     "output_type": "stream",
     "text": [
      "True\n"
     ]
    }
   ],
   "source": [
    "# 9. What is the purpose of the `issubclass()` function in Python? Provide an example.\n",
    "\n",
    "\"It helps us to identify if a class is sub class of any other class\"\n",
    "\n",
    "class Business: \n",
    "    pass\n",
    "\n",
    "class Employees(Business):\n",
    "    def Google(self):\n",
    "        return \"works in Google\"\n",
    "    \n",
    "print(issubclass(Employees,Business))\n",
    "    \n"
   ]
  },
  {
   "cell_type": "code",
   "execution_count": 12,
   "id": "0e433176-85f2-4ee5-bd23-43b9033d1b61",
   "metadata": {},
   "outputs": [
    {
     "name": "stdout",
     "output_type": "stream",
     "text": [
      "8000000\n"
     ]
    }
   ],
   "source": [
    "# 10. Discuss the concept of constructor inheritance in Python. How are constructors inherited in child classes?\n",
    "\n",
    "\"Constructor inheritance is when you use the inheritance from parent class to child class, see below eg\" \n",
    "\n",
    "class Father:\n",
    "    def __init__(self):\n",
    "        self.property = 8000000\n",
    "        \n",
    "class son(Father):\n",
    "    pass\n",
    "\n",
    "s = son()\n",
    "\n",
    "print(s.property)"
   ]
  },
  {
   "cell_type": "code",
   "execution_count": 22,
   "id": "306e00ec-961e-49b0-a3de-9d886338801a",
   "metadata": {},
   "outputs": [
    {
     "name": "stdout",
     "output_type": "stream",
     "text": [
      "12.571428571428571\n",
      "('area of rectange = ', 135)\n"
     ]
    }
   ],
   "source": [
    "\"\"\"11. Create a Python class called `Shape` with a method `area()` that calculates the area of a shape. \n",
    "Then, create child classes `Circle` and `Rectangle(` that inherit from `Shape` and implement the `area()` method \n",
    "accordingly. Provide an example\"\"\"\n",
    "\n",
    "class Shapes:\n",
    "    def area(self):\n",
    "        pass\n",
    "    \n",
    "class circle(Shapes):\n",
    "    def __init__(self,r):\n",
    "        self.r = r\n",
    "        \n",
    "    def area(self):\n",
    "        return 22/7 * (self.r**2)\n",
    "    \n",
    "class Rectangle(Shapes):\n",
    "    def __init__(self,l,b,h):\n",
    "        self.l = l\n",
    "        self.b = b\n",
    "        self.h = h\n",
    "    \n",
    "    def area(self):\n",
    "        return \"area of rectange = \", self.l * self.b * self.h\n",
    "\n",
    "        \n",
    "a = circle(2)\n",
    "aa = Rectangle(3,5,9)\n",
    "\n",
    "print(a.area())\n",
    "print(aa.area())\n",
    "    \n",
    "\n",
    "    "
   ]
  },
  {
   "cell_type": "code",
   "execution_count": 6,
   "id": "7b4d3974-c820-4dd3-a362-f24521d59e5d",
   "metadata": {},
   "outputs": [
    {
     "name": "stdout",
     "output_type": "stream",
     "text": [
      "48\n"
     ]
    }
   ],
   "source": [
    "\"\"\"12. Explain the use of abstract base classes (ABCs) in Python and how they relate to inheritance. Provide an\n",
    "example using the `abc` module.\"\"\"\n",
    "\n",
    "# ABC's in python are rules or parameters that is imposed that needs to be used in all the \n",
    "# classes where the abc's is being imposed, eg below\n",
    "\n",
    "from abc import ABC, abstractmethod\n",
    "\n",
    "class Shapes(ABC):\n",
    "    @abstractmethod\n",
    "    def printarea(self):\n",
    "        return 0\n",
    "    \n",
    "class rectangele(Shapes):\n",
    "    def __init__(self):\n",
    "        self.length = 6\n",
    "        self.breadth = 4\n",
    "        \n",
    "    def printarea(self):\n",
    "        return 2*self.length*self.breadth\n",
    "    \n",
    "rec = rectangele()\n",
    "print(rec.printarea())"
   ]
  },
  {
   "cell_type": "code",
   "execution_count": 5,
   "id": "75255509-4cfb-491b-9db3-fb3c37d7de70",
   "metadata": {},
   "outputs": [
    {
     "name": "stdout",
     "output_type": "stream",
     "text": [
      "48\n"
     ]
    }
   ],
   "source": [
    "\"\"\"13. How can you prevent a child class from modifying certain attributes or methods inherited from a parent\n",
    "class in Python?\"\"\"\n",
    "\n",
    "by using ABC"
   ]
  },
  {
   "cell_type": "code",
   "execution_count": 3,
   "id": "3ba2b119-d9a9-4788-a4aa-13338d92800c",
   "metadata": {},
   "outputs": [
    {
     "name": "stdout",
     "output_type": "stream",
     "text": [
      " Taapas Sharma is under Jaya and his salary is 63000 and depatment he works in is Derivatives\n"
     ]
    }
   ],
   "source": [
    "\"\"\" 14 Create a Python class called `Employee` with attributes `name` and `salary`. Then, create a child class\n",
    "`Manager` that inherits from `Employee` and adds an attribute `department`. Provide an example.\"\"\"\n",
    "\n",
    "class Employee:\n",
    "    def __init__(self,name,salary):\n",
    "        self.name = name\n",
    "        self.salary = salary\n",
    "        \n",
    "class Manager(Employee):\n",
    "    def __init__(self,name,salary,department):\n",
    "        super().__init__(name,salary)\n",
    "        self.department = department\n",
    "        \n",
    "Jaya = Manager(\"Taapas Sharma\", \"63000\", \"Derivatives\")\n",
    "\n",
    "print(f\" {Jaya.name} is under Jaya and his salary is {Jaya.salary} and depatment he works in is {Jaya.department}\")\n"
   ]
  },
  {
   "cell_type": "code",
   "execution_count": 4,
   "id": "71868de3-a006-45b7-8a3f-64dba9fa7790",
   "metadata": {},
   "outputs": [
    {
     "name": "stdout",
     "output_type": "stream",
     "text": [
      "5\n",
      "2\n",
      "Child's show method\n"
     ]
    }
   ],
   "source": [
    "\"\"\" 15. Discuss the concept of method overloading in Python inheritance. How does it differ from method\n",
    "overriding?\"\"\"\n",
    "\n",
    "\n",
    "\"\"\"Method overloading in Python is achieved through default parameter values or variable-length argument lists, \n",
    "allowing a single method to handle multiple types or numbers of arguments.\"\"\"\n",
    "\n",
    "class MyClass:\n",
    "    def add(self, x, y=0):\n",
    "        return x + y\n",
    "\n",
    "obj = MyClass()\n",
    "print(obj.add(2, 3))  # Outputs: 5\n",
    "print(obj.add(2))     # Outputs: 2 (default value for y is used)\n",
    "\n",
    "\"\"\"Method overriding occurs when a subclass provides a specific implementation of a method that is already \n",
    "defined in its superclass, enabling polymorphic behavior where different classes can have methods with the \n",
    "same name but perform different actions.\"\"\"\n",
    "\n",
    "class Parent:\n",
    "    def show(self):\n",
    "        print(\"Parent's show method\")\n",
    "\n",
    "class Child(Parent):\n",
    "    def show(self):\n",
    "        print(\"Child's show method\")\n",
    "\n",
    "obj = Child()\n",
    "obj.show()  # Outputs: Child's show method"
   ]
  },
  {
   "cell_type": "code",
   "execution_count": 5,
   "id": "72a4f63d-d172-4cbc-9460-6219a0ca62db",
   "metadata": {},
   "outputs": [
    {
     "name": "stdout",
     "output_type": "stream",
     "text": [
      "parent_value\n",
      "child_value\n"
     ]
    }
   ],
   "source": [
    "#16. Explain the purpose of the `__init__()` method in Python inheritance and how it is utilized in child classes.\n",
    "\n",
    "\"\"\"The __init__() method in Python is a special method used for initializing objects of a class. It is called \n",
    "automatically when a new instance of the class is created. In the context of inheritance, the __init__() method \n",
    "plays a crucial role in initializing attributes of both the parent and child classes\"\"\"\n",
    "\n",
    "\"Here's the purpose of the __init__() method in Python inheritance and how it is utilized in child classes:\"\n",
    "\n",
    "\"\"\"Initializing Attributes: The primary purpose of the __init__() method is to initialize the attributes of an object.\n",
    "In inheritance, when a child class inherits from a parent class, it often needs to initialize its own attributes as \n",
    "well as any attributes inherited from the parent class. The __init__() method allows child classes to do this.\"\"\"\n",
    "\n",
    "\"\"\"Calling Parent Class __init__(): When defining the __init__() method in a child class, it's common practice to call \n",
    "the __init__() method of the parent class as well. This ensures that any initialization logic defined in the parent \n",
    "class is also executed when creating instances of the child class. This can be done using the super() function.\"\"\"\n",
    "\n",
    "\"\"\"Extending Initialization: Child classes can extend the initialization process by adding their own initialization\n",
    "logic after calling the parent class __init__() method. This allows child classes to customize the initialization \n",
    "process without duplicating code from the parent class.\"\"\"\n",
    "\n",
    "class Parent:\n",
    "    def __init__(self, parent_attr):\n",
    "        self.parent_attr = parent_attr\n",
    "\n",
    "class Child(Parent):\n",
    "    def __init__(self, parent_attr, child_attr):\n",
    "        super().__init__(parent_attr)  # Call the __init__() method of the parent class\n",
    "        self.child_attr = child_attr    # Initialize attributes specific to the child class\n",
    "\n",
    "# Creating instances of the Child class\n",
    "child_obj = Child(\"parent_value\", \"child_value\")\n",
    "\n",
    "# Accessing attributes of the child object\n",
    "print(child_obj.parent_attr)  # Outputs: parent_value\n",
    "print(child_obj.child_attr)   # Outputs: child_value\n"
   ]
  },
  {
   "cell_type": "code",
   "execution_count": 8,
   "id": "bb875479-2cd4-4e10-adc5-6444a0aea46a",
   "metadata": {},
   "outputs": [
    {
     "name": "stdout",
     "output_type": "stream",
     "text": [
      "Eagle:\n",
      "The eagle is soaring high in the sky.\n",
      "Sparrow:\n",
      "The sparrow is fluttering gracefully.\n"
     ]
    }
   ],
   "source": [
    "\"\"\"17. Create a Python class called `Bird` with a method `fly()`. Then, create child classes `Eagle` and `Sparrow` \n",
    "that inherit from `Bird` and implement the `fly()` method differently. Provide an example of using these\n",
    "classes.\"\"\"\n",
    "\n",
    "class Bird:\n",
    "    def fly(self):\n",
    "        print(\"The bird is flying.\")\n",
    "\n",
    "class Eagle(Bird):\n",
    "    def fly(self):\n",
    "        print(\"The eagle is soaring high in the sky.\")\n",
    "\n",
    "class Sparrow(Bird):\n",
    "    def fly(self):\n",
    "        print(\"The sparrow is fluttering gracefully.\")\n",
    "\n",
    "# Example usage:\n",
    "eagle = Eagle()\n",
    "sparrow = Sparrow()\n",
    "\n",
    "print(\"Eagle:\")\n",
    "eagle.fly()\n",
    "\n",
    "print(\"Sparrow:\")\n",
    "sparrow.fly()"
   ]
  },
  {
   "cell_type": "markdown",
   "id": "03ce6819-0670-4953-8a4a-15b4d464a326",
   "metadata": {},
   "source": [
    "# What is the \"diamond problem\" in multiple inheritance, and how does Python address it?\n",
    "\n",
    "\"\"\"Diamond problem is a problem in multiple or hybrid inheritance. It is a relationship exist when at least one of \n",
    "the parent classes can be accessed through multiple path from the bottommost class. The bottommost class inherits the\n",
    "members of the base class via different path so that it creates ambiguity or create duplicate members\"\"\""
   ]
  },
  {
   "cell_type": "code",
   "execution_count": 15,
   "id": "c8a1c471-7e60-43fb-a329-bcabfa1c0c9d",
   "metadata": {},
   "outputs": [
    {
     "name": "stdout",
     "output_type": "stream",
     "text": [
      "18\n",
      "MBA\n",
      "Home\n",
      "18\n",
      "MBA\n",
      "Home\n"
     ]
    }
   ],
   "source": [
    "# Discuss the concept of \"is-a\" and \"has-a\" relationships in inheritance, and provide examples of each.\n",
    "\n",
    "# has a relationship =  to access a data member of a class using object, 1st we create object of the class\n",
    "\n",
    "class Taapas:\n",
    "    def setage(self,age):\n",
    "        self.age = age\n",
    "        \n",
    "    def setedu(self,edu):\n",
    "        self.edu = edu\n",
    "        \n",
    "    def sethome(self,home):\n",
    "        self.home = home\n",
    "        \n",
    "    def getage(self):\n",
    "        return self.age\n",
    "    \n",
    "    def getedu(self):\n",
    "        return self.edu\n",
    "    \n",
    "    def gethome(self):\n",
    "        return self.home\n",
    "    \n",
    "obj = Taapas()\n",
    "obj.setage(\"18\")\n",
    "obj.setedu(\"MBA\")\n",
    "obj.sethome(\"Home\")\n",
    "\n",
    "print(obj.getage())\n",
    "print(obj.getedu())\n",
    "print(obj.gethome())\n",
    "\n",
    "# is-a relationship = inheritance relation ship is also known as is a relationship\n",
    "\n",
    "class Taapas:\n",
    "    def setage(self,age):\n",
    "        self.age = age\n",
    "        \n",
    "    def setedu(self,edu):\n",
    "        self.edu = edu\n",
    "        \n",
    "    def sethome(self,home):\n",
    "        self.home = home\n",
    "        \n",
    "    def getage(self):\n",
    "        return self.age\n",
    "    \n",
    "    def getedu(self):\n",
    "        return self.edu\n",
    "    \n",
    "    def gethome(self):\n",
    "        return self.home\n",
    "    \n",
    "class Husband(Taapas):\n",
    "    pass\n",
    "oobj = Husband()\n",
    "oobj.setage(\"18\")\n",
    "oobj.setedu(\"MBA\")\n",
    "oobj.sethome(\"Home\")\n",
    "\n",
    "print(oobj.getage())\n",
    "print(oobj.getedu())\n",
    "print(oobj.gethome())\n",
    "\n"
   ]
  },
  {
   "cell_type": "code",
   "execution_count": 27,
   "id": "c019eab8-c2db-4a65-a1ad-8be5feb56145",
   "metadata": {},
   "outputs": [
    {
     "name": "stdout",
     "output_type": "stream",
     "text": [
      "('2 classes per day required to be attended by', 'Taapas')\n",
      "2 lectures to be taken by Professor Balaji\n",
      "None\n"
     ]
    }
   ],
   "source": [
    "\"\"\"Create a Python class hierarchy for a university system. Start with a base class `Person` and create child\n",
    "classes `Student` and `Professor`, each with their own attributes and methods. Provide an example of using\n",
    "these classes in a university context.\"\"\"\n",
    "\n",
    "class Person:\n",
    "    def __init__(self,Name,age):\n",
    "        self.Name = Name\n",
    "        self.age = age\n",
    "        \n",
    "class Student(Person):\n",
    "    def __init__(self,Name,age,year):\n",
    "        super().__init__(Name,age)\n",
    "        self.year = year\n",
    "        \n",
    "    def classes(self):\n",
    "        if self.year in \"1,2,3\":\n",
    "            return \"2 classes per day required to be attended by\",self.Name\n",
    "        elif self.year == 4:\n",
    "            return \"Only projects needs to be submited by\",self.Name \n",
    "        else:\n",
    "            return \"Individual is not a student\"\n",
    "        \n",
    "class Professor(Person):\n",
    "    def __init__(self,Name,age,subject):\n",
    "        super().__init__(Name,age)\n",
    "        self.subject = subject\n",
    "        \n",
    "        \n",
    "    def number_of_classes(self):\n",
    "        if self.subject == \"Python\":\n",
    "            print (f\"2 lectures to be taken by Professor {self.Name}\")\n",
    "        else:\n",
    "            return \"No lecture for today\"\n",
    "        \n",
    "obj = Student(\"Taapas\",\"25\",\"1\")\n",
    "onjj = Professor(\"Balaji\",\"40\",\"Python\")\n",
    "\n",
    "print(obj.classes())\n",
    "\n",
    "print(onjj.number_of_classes())\n",
    "\n",
    "        \n",
    "    \n"
   ]
  },
  {
   "cell_type": "code",
   "execution_count": 28,
   "id": "b63cbb69-1216-4892-a10f-175e1212062c",
   "metadata": {},
   "outputs": [
    {
     "data": {
      "text/plain": [
       "'Encapsulation is a way to restrict the direct access to some components of an object, so users cannot access \\nstate values for all of the variables of a particular object. Encapsulation can be used to hide both data members \\nand data functions or methods associated with an instantiated class or object.'"
      ]
     },
     "execution_count": 28,
     "metadata": {},
     "output_type": "execute_result"
    }
   ],
   "source": [
    "\"\"\"1. Explain the concept of encapsulation in Python. What is its role in object-oriented programming?\"\"\"\n",
    "\n",
    "\t# We can restrict the variable and methods access globally by making it private or protected\n",
    "    \n",
    "\"\"\"Encapsulation is a way to restrict the direct access to some components of an object, so users cannot access \n",
    "state values for all of the variables of a particular object. Encapsulation can be used to hide both data members \n",
    "and data functions or methods associated with an instantiated class or object.\"\"\"\n"
   ]
  },
  {
   "cell_type": "code",
   "execution_count": null,
   "id": "ae3e663b-4a25-4234-a281-c328e87b80b2",
   "metadata": {},
   "outputs": [],
   "source": [
    "# 2. Describe the key principles of encapsulation, including access control and data hiding.\n",
    "\n",
    "\"\"\" a way to restrict the direct access to some components of an object, so users \n",
    "    cannot access state values for all of the variables of a particular object.\"\"\""
   ]
  },
  {
   "cell_type": "code",
   "execution_count": 39,
   "id": "83eb14bf-dcea-4b2b-9c5d-1bc466ccc675",
   "metadata": {},
   "outputs": [
    {
     "name": "stdout",
     "output_type": "stream",
     "text": [
      "Current balance: 1300\n"
     ]
    }
   ],
   "source": [
    "# 3. How can you achieve encapsulation in Python classes? Provide an example.\n",
    "\n",
    "# Single underscore - (protected)\n",
    "# Double underscore - (private)\n",
    "class BankAccount:\n",
    "    def __init__(self, account_number, balance):\n",
    "        self.__account_number = account_number  # Private variable\n",
    "        self.__balance = balance                # Private variable\n",
    "\n",
    "    def deposit(self, amount):\n",
    "        self.__balance += amount\n",
    "\n",
    "    def withdraw(self, amount):\n",
    "        if amount <= self.__balance:\n",
    "            self.__balance -= amount\n",
    "        else:\n",
    "            print(\"Insufficient funds\")\n",
    "\n",
    "    def get_balance(self):\n",
    "        return self.__balance\n",
    "\n",
    "# Create an instance of the BankAccount class\n",
    "account = BankAccount(\"123456789\", 1000)\n",
    "\n",
    "# Accessing public methods\n",
    "account.deposit(500)\n",
    "account.withdraw(200)\n",
    "\n",
    "# Attempting to access private variables directly (will result in an AttributeError)\n",
    "# print(account.__balance)\n",
    "\n",
    "# Accessing private variable using public method\n",
    "print(\"Current balance:\", account.get_balance())\n",
    "\n"
   ]
  },
  {
   "cell_type": "code",
   "execution_count": null,
   "id": "30a9fc20-101c-463d-936d-3eefc12bfa6e",
   "metadata": {},
   "outputs": [],
   "source": [
    "# Discuss the difference between public, private, and protected access modifiers in Python.\n",
    "\n",
    "# public do not have any symbol, eg obj\n",
    "# private has a single _ it can be used in same class, inheritance, same package but not in other class, eg _obj,\n",
    "# protected have double _ , it can only be accessed in same class, eg __obj"
   ]
  },
  {
   "cell_type": "code",
   "execution_count": 3,
   "id": "31136bf8-05f5-4c7d-bd19-31e40e1bc921",
   "metadata": {},
   "outputs": [
    {
     "name": "stdout",
     "output_type": "stream",
     "text": [
      "Taapas\n"
     ]
    }
   ],
   "source": [
    "\"\"\"5. Create a Python class called `Person` with a private attribute `__name`. Provide methods to get and set the\n",
    "name attribute.\"\"\"\n",
    "\n",
    "class Person:\n",
    "    def setname(self,_name):\n",
    "        self._name = _name\n",
    "        \n",
    "    def getname(self):\n",
    "        return self._name\n",
    "    \n",
    "obj = Person()\n",
    "\n",
    "obj.setname(\"Taapas\")\n",
    "\n",
    "print(obj.getname())\n",
    "        "
   ]
  },
  {
   "cell_type": "code",
   "execution_count": null,
   "id": "f816a76c-9d5f-46ed-bb8a-0085027cf8b3",
   "metadata": {},
   "outputs": [],
   "source": [
    "\"\"\"Explain the purpose of getter and setter methods in encapsulation. Provide examples.\"\"\"\n",
    "\n",
    "\"\"\"Getters are OOPs functions in python. Getters are functions used to retrieve the values of private attributes,\n",
    "while setters are functions used to modify or assign values to private attributes.\"\"\""
   ]
  },
  {
   "cell_type": "code",
   "execution_count": 2,
   "id": "06b6f6ac-1784-44da-9fdf-c3f250398a62",
   "metadata": {},
   "outputs": [
    {
     "name": "stdout",
     "output_type": "stream",
     "text": [
      "10\n",
      "20\n"
     ]
    }
   ],
   "source": [
    "# 7. What is name mangling in Python, and how does it affect encapsulation?\n",
    "\n",
    "\"\"\"Name mingling is when you can not access the double underscore variable it is because python automatically changes the name of that \n",
    "variable to  single underscore class name again double underscore that variable, once writen like this you should be able to acccess \n",
    "the variable\"\"\"\n",
    "\n",
    "class item:\n",
    "    a = 10\n",
    "    __b = 20\n",
    "    \n",
    "print(item.a)\n",
    "print(item._item__b)"
   ]
  },
  {
   "cell_type": "code",
   "execution_count": 9,
   "id": "0097e724-55b1-422c-97d1-a1991bfd0d53",
   "metadata": {},
   "outputs": [
    {
     "data": {
      "text/plain": [
       "600"
      ]
     },
     "execution_count": 9,
     "metadata": {},
     "output_type": "execute_result"
    }
   ],
   "source": [
    "\"\"\"8. Create a Python class called `BankAccount` with private attributes for the account balance (`__balance`) and account number \n",
    ".provide method for deposit and withraw of money\"\"\"\n",
    "\n",
    "class BankAccount:\n",
    "    def __init__(self,balance,acccount_number):\n",
    "        self.__balance = balance \n",
    "        self.__acccount_number = acccount_number\n",
    "        \n",
    "    def deposit(self,amount):\n",
    "        if amount > 0:\n",
    "            self.__balance += amount\n",
    "        else:\n",
    "            return \"kindly enter a valid amount\"\n",
    "        \n",
    "    def withraw(self,amount):\n",
    "        if amount <= self.__balance:\n",
    "            self.__balance -= amount\n",
    "        else:\n",
    "            return \"insufficent balance\"\n",
    "        \n",
    "    def balance(self):\n",
    "        return self.__balance\n",
    "        \n",
    "obj = BankAccount(1000,123)\n",
    "\n",
    "obj.deposit(100)\n",
    "obj.withraw(500)\n",
    "obj.balance()    "
   ]
  },
  {
   "cell_type": "code",
   "execution_count": null,
   "id": "32393961-33d4-403c-958a-9e7e1be5b491",
   "metadata": {},
   "outputs": [],
   "source": [
    "# 9. Discuss the advantages of encapsulation in terms of code maintainability and security.\n",
    "\n",
    "# Code Maintainability:\n",
    "\n",
    "# Modularity: Encapsulation allows you to divide your code into smaller, self-contained modules (classes). Each class is responsible for a specific set of functionalities, making the code easier to understand, maintain, and update.\n",
    "# Isolation of Changes: By encapsulating data and methods within a class, you limit the scope of potential changes. If modifications are needed, you only need to update the class itself rather than every part of the code that interacts with it. This reduces the risk of unintended side effects.\n",
    "# Code Reusability: Encapsulated classes can be easily reused in different parts of the code or in other projects without modification. This promotes code reusability and minimizes redundancy.\n",
    "\n",
    "# Security:\n",
    "\n",
    "# Access Control: Encapsulation allows you to control access to data and methods by making them private or protected. Private members can only be accessed within the class itself, while protected members can be accessed by subclasses as well. This prevents unauthorized access and manipulation of sensitive data.\n",
    "# Data Integrity: By encapsulating data within a class and providing controlled access through methods (getters and setters), you can enforce data integrity rules. This ensures that data is accessed and modified in a consistent and safe manner, reducing the risk of data corruption or inconsistency.\n",
    "# Abstraction: Encapsulation hides the implementation details of a class and exposes only the necessary interfaces to interact with it. This abstraction layer protects the internal workings of the class and limits the exposure of sensitive information, enhancing security.\n"
   ]
  },
  {
   "cell_type": "code",
   "execution_count": 10,
   "id": "ce940a0c-9917-48e6-91d7-8abf0634c6ad",
   "metadata": {},
   "outputs": [
    {
     "name": "stdout",
     "output_type": "stream",
     "text": [
      "10\n",
      "20\n"
     ]
    }
   ],
   "source": [
    "# 10. How can you access private attributes in Python? Provide an example demonstrating the use of name mangling.\n",
    "\n",
    "class item:\n",
    "    a = 10\n",
    "    __b = 20\n",
    "    \n",
    "print(item.a)\n",
    "print(item._item__b)"
   ]
  },
  {
   "cell_type": "code",
   "execution_count": 23,
   "id": "07979928-6ab3-4b34-be76-7c2187c2a084",
   "metadata": {},
   "outputs": [
    {
     "name": "stdout",
     "output_type": "stream",
     "text": [
      "Taapas\n"
     ]
    },
    {
     "ename": "AttributeError",
     "evalue": "'students' object has no attribute 'cast'",
     "output_type": "error",
     "traceback": [
      "\u001b[0;31m---------------------------------------------------------------------------\u001b[0m",
      "\u001b[0;31mAttributeError\u001b[0m                            Traceback (most recent call last)",
      "Cell \u001b[0;32mIn[23], line 17\u001b[0m\n\u001b[1;32m     15\u001b[0m obj \u001b[38;5;241m=\u001b[39m students(\u001b[38;5;124m\"\u001b[39m\u001b[38;5;124mTaapas\u001b[39m\u001b[38;5;124m\"\u001b[39m,\u001b[38;5;124m\"\u001b[39m\u001b[38;5;124mMale\u001b[39m\u001b[38;5;124m\"\u001b[39m,\u001b[38;5;124m\"\u001b[39m\u001b[38;5;124mGeneral\u001b[39m\u001b[38;5;124m\"\u001b[39m,\u001b[38;5;124m\"\u001b[39m\u001b[38;5;124m10th\u001b[39m\u001b[38;5;124m\"\u001b[39m)\n\u001b[1;32m     16\u001b[0m \u001b[38;5;28mprint\u001b[39m(obj\u001b[38;5;241m.\u001b[39mname)\n\u001b[0;32m---> 17\u001b[0m \u001b[38;5;28mprint\u001b[39m(\u001b[43mobj\u001b[49m\u001b[38;5;241;43m.\u001b[39;49m\u001b[43mcast\u001b[49m)\n",
      "\u001b[0;31mAttributeError\u001b[0m: 'students' object has no attribute 'cast'"
     ]
    }
   ],
   "source": [
    "\"\"\"11. Create a Python class hierarchy for a school system, including classes for students, teachers, and courses,\n",
    "and implement encapsulation principles to protect sensitive information.\"\"\"\n",
    "\n",
    "class hierarchy:\n",
    "    def __init__(self,name,gender,cast):\n",
    "        self.name = name\n",
    "        self.gender = gender\n",
    "        self.__cast = cast\n",
    "        \n",
    "class students(hierarchy):\n",
    "    def __init__(self,name,gender,cast,Class):\n",
    "        super().__init__(name,gender,cast)\n",
    "        self.Class = Class\n",
    "        \n",
    "obj = students(\"Taapas\",\"Male\",\"General\",\"10th\")\n",
    "print(obj.name)\n",
    "print(obj.cast)\n"
   ]
  },
  {
   "cell_type": "code",
   "execution_count": 16,
   "id": "7173d69a-e5cb-4833-8f5b-de2fc82f3daf",
   "metadata": {},
   "outputs": [
    {
     "name": "stdout",
     "output_type": "stream",
     "text": [
      "Taapas\n"
     ]
    }
   ],
   "source": [
    "class hierarchy:\n",
    "    def __init__(self, name, gender, cast):\n",
    "        self.name = name\n",
    "        self.gender = gender\n",
    "        self.__cast = cast\n",
    "        \n",
    "class students(hierarchy):\n",
    "    def __init__(self, name, gender, cast, Class):\n",
    "        super().__init__(name, gender, cast)\n",
    "        self.Class = Class\n",
    "        \n",
    "# Create an instance of the students class\n",
    "obj = students(\"Taapas\", \"Male\", \"General\", \"10th\")\n",
    "\n",
    "# Accessing attributes of the obj instance\n",
    "print(obj.name)  # Outputs: Taapas"
   ]
  },
  {
   "cell_type": "code",
   "execution_count": null,
   "id": "66c97fd2-d937-48c0-b641-e933e894ad78",
   "metadata": {},
   "outputs": [],
   "source": [
    "# 12. Explain the concept of property decorators in Python and how they relate to encapsulation.\n",
    "\n",
    "property decoraters are used in python to change the logic for a function "
   ]
  },
  {
   "cell_type": "code",
   "execution_count": null,
   "id": "2dcd113a-79cf-40f5-91f3-82dbee06f5a6",
   "metadata": {},
   "outputs": [],
   "source": [
    "# 14. Create a Python class called `Employee` with private attributes for salary (`__salary`) and employee ID, provide method to calculate yearly bnus\n",
    "\n",
    "class Employee:\n",
    "    def __init__(self,salary,ID):\n",
    "        self.__salary = salary\n",
    "        self.__ID = ID\n",
    "        \n",
    "    def bonus(self):\n",
    "        # 8 percent of yearly salary\n",
    "        return f\" Bonus for employee {self.__ID} = {self.__salary * 0.08}\"\n",
    "    \n",
    "aa = Employee(720000,\"56928\")\n",
    "\n",
    "print(aa.bonus())"
   ]
  },
  {
   "cell_type": "code",
   "execution_count": 14,
   "id": "a691f37b-cd2b-4532-881d-a5ef0012e739",
   "metadata": {},
   "outputs": [
    {
     "name": "stdout",
     "output_type": "stream",
     "text": [
      "Liliput by Chetan bhakat about adventures of Oliver is available\n"
     ]
    }
   ],
   "source": [
    "\"\"\"17. Create a Python class for a library system that encapsulates book information, including titles, authors,\n",
    "and availability status.\"\"\"\n",
    "\n",
    "class library:\n",
    "    def __init__(self,book,title,aurthors,status):\n",
    "        self.__book = book\n",
    "        self.__title = title\n",
    "        self.__aurthors = aurthors\n",
    "        self.__status = status\n",
    "        \n",
    "    def set_status(self,status):\n",
    "        self.__status = status\n",
    "    \n",
    "    def get_book(self):\n",
    "        return f\"{self.__title} by {self.__aurthors} about {self.__book} is {self.__status}\"\n",
    "    \n",
    "kitabe = library(\"adventures of Oliver\",\"Liliput\",\"Chetan bhakat\",\"Not available\")\n",
    "kitabe.set_status(\"available\")\n",
    "print(kitabe.get_book())\n"
   ]
  },
  {
   "cell_type": "code",
   "execution_count": 24,
   "id": "53d5db7a-6a59-4ed8-bfd3-8a550c1e6dfb",
   "metadata": {},
   "outputs": [
    {
     "name": "stdout",
     "output_type": "stream",
     "text": [
      "Name of Customer - Taapas\n",
      "Address - Gurugram\n",
      "Contact - 1234567890\n"
     ]
    }
   ],
   "source": [
    "\"\"\"20. Create a Python class called `Customer` with private attributes for customer details like name, address,\n",
    "and contact information. Implement encapsulation to ensure data integrity and security.\"\"\"\n",
    "\n",
    "class Customers:\n",
    "    def __init__(self, name, address, contact):\n",
    "        self.name = name\n",
    "        self.__address = address\n",
    "        self.__contact = contact\n",
    "        \n",
    "    def set_address(self, address):\n",
    "        self.__address = address\n",
    "        \n",
    "    def set_contact(self, contact):\n",
    "        self.__contact = contact\n",
    "        \n",
    "    def set_name(self, name):\n",
    "        self.name = name\n",
    "        \n",
    "    def get_customer_detail(self):\n",
    "        return f\"Name of Customer - {self.name}\\nAddress - {self.__address}\\nContact - {self.__contact}\"\n",
    "        \n",
    "aa = Customers(\"x\", \"y\", \"z\")\n",
    "    \n",
    "aa.set_name(\"Taapas\")\n",
    "aa.set_contact(1234567890)\n",
    "aa.set_address(\"Gurugram\")\n",
    "print(aa.get_customer_detail())\n",
    "\n",
    "\n",
    "        "
   ]
  },
  {
   "cell_type": "code",
   "execution_count": 1,
   "id": "a4740143-5752-4bde-9a90-2e5c86ee5676",
   "metadata": {},
   "outputs": [
    {
     "data": {
      "text/plain": [
       "' Difference in behavior of  1 object depending on place '"
      ]
     },
     "execution_count": 1,
     "metadata": {},
     "output_type": "execute_result"
    }
   ],
   "source": [
    "# Polymorphism:\n",
    "\n",
    "# 1. What is polymorphism in Python? Explain how it is related to object-oriented programmin\n",
    "\n",
    "\"\"\" Difference in behavior of  1 object depending on place \"\"\"\n",
    "\n",
    "\t# Polymorphism is of 2 types, 1) method overloading 2) method over riding\n",
    "\n",
    "    \t# overloading \n",
    "\t\n",
    "# When ever class contains more than 1 method with same name and different types, parameters called overloading\n",
    "\n",
    "# over riding\n",
    "\n",
    "# When ever we write method name with same signature in parent and child class it is called method overiding\n",
    "\n"
   ]
  },
  {
   "cell_type": "code",
   "execution_count": null,
   "id": "1f3929b5-9f0b-4b2f-bb27-f699c8629ec1",
   "metadata": {},
   "outputs": [],
   "source": [
    "# 2. Describe the difference between compile-time polymorphism and runtime polymorphism in Python.\n",
    "\n",
    "# Compile-time polymorphism allows us to use many methods with the same name but differing signatures and return types. \n",
    "\n",
    "# Run-time polymorphism is associated with different classes, but it allows us to use the same method with different signature names."
   ]
  },
  {
   "cell_type": "code",
   "execution_count": 3,
   "id": "df285e40-b0d0-4f20-a3e7-0b7e264f3151",
   "metadata": {},
   "outputs": [
    {
     "name": "stdout",
     "output_type": "stream",
     "text": [
      "50.285714285714285\n",
      "25\n"
     ]
    }
   ],
   "source": [
    "\"\"\"3. Create a Python class hierarchy for shapes (e.g., circle, square, triangle) and demonstrate polymorphism\n",
    "through a common method, such as `calculate_area()`.\"\"\"\n",
    "\n",
    "class Shapes:\n",
    "    pass\n",
    "\n",
    "class circle(Shapes):\n",
    "    def calculate_area(self,r):\n",
    "        return 22/7*(r**2)\n",
    "    \n",
    "class square(Shapes):\n",
    "    def calculate_area(self,side):\n",
    "        return side**2\n",
    "    \n",
    "c = circle()\n",
    "s = square()\n",
    "\n",
    "print(c.calculate_area(4))\n",
    "\n",
    "print(s.calculate_area(5))\n",
    "        "
   ]
  },
  {
   "cell_type": "code",
   "execution_count": 6,
   "id": "693ca046-254a-4ad3-9662-b4fcfb4458d0",
   "metadata": {},
   "outputs": [
    {
     "name": "stdout",
     "output_type": "stream",
     "text": [
      "This is Child\n"
     ]
    },
    {
     "data": {
      "text/plain": [
       "2"
      ]
     },
     "execution_count": 6,
     "metadata": {},
     "output_type": "execute_result"
    }
   ],
   "source": [
    "# 4. Explain the concept of method overriding in polymorphism. Provide an example.\n",
    "\n",
    "# When ever we write method name with same signature in parent and child class it is called method overiding\n",
    "\n",
    "class A: #Parent\n",
    "    def show(self):\n",
    "        return \"This is parent\"\n",
    "    \n",
    "class B(A): #child\n",
    "    def show(self):\n",
    "        return \"This is Child\"\n",
    "    \n",
    "obj = B()\n",
    "print(obj.show())\n",
    "    \n",
    "    \n",
    "\"\"\"Method overloading in Python is achieved through default parameter values or variable-length argument lists, \n",
    "allowing a single method to handle multiple types or numbers of arguments.\"\"\"\n",
    "\n",
    "\n",
    "class my:\n",
    "    def add(self,a,b=0):\n",
    "        return a+b\n",
    "    \n",
    "obj = my()\n",
    "obj.add(2,3)\n",
    "obj.add(2)\n",
    "\n",
    "\n"
   ]
  },
  {
   "cell_type": "code",
   "execution_count": 8,
   "id": "1091cf29-87d5-4635-b856-bacb9ec48bf7",
   "metadata": {},
   "outputs": [
    {
     "name": "stdout",
     "output_type": "stream",
     "text": [
      "dog Bark\n",
      "Cat Meow\n"
     ]
    },
    {
     "data": {
      "text/plain": [
       "2"
      ]
     },
     "execution_count": 8,
     "metadata": {},
     "output_type": "execute_result"
    }
   ],
   "source": [
    "# 5. How is polymorphism different from method overloading in Python? Provide examples for both.\n",
    "\n",
    "# Polymorphism:\n",
    "\n",
    "# Polymorphism refers to the ability of different objects to respond to the same message (method call) in different ways.\n",
    "\n",
    "# Method Overloading:\n",
    "\n",
    "# Method overloading refers to defining multiple methods in a class with the same name but with different parameters.\n",
    "\n",
    "\n",
    "#Polymorphism example\n",
    "\n",
    "class Animal:\n",
    "    def speak(self):\n",
    "        pass\n",
    "    \n",
    "class Dog(Animal):\n",
    "    def speak(self):\n",
    "        return \"dog Bark\"\n",
    "    \n",
    "class cat(Animal):\n",
    "    def speak(self):\n",
    "        return \"Cat Meow\"\n",
    "    \n",
    "def animal_speak(animal):\n",
    "    print(animal.speak())\n",
    "    \n",
    "dog = Dog()\n",
    "Cat = cat()\n",
    "\n",
    "animal_speak(dog)\n",
    "animal_speak(Cat)\n",
    "    \n",
    "\n",
    "# Method Overloading example:\n",
    "\n",
    "\n",
    "class my:\n",
    "    def add(self,a,b=0):\n",
    "        return a+b\n",
    "    \n",
    "obj = my()\n",
    "obj.add(2,3)\n",
    "obj.add(2)\n"
   ]
  },
  {
   "cell_type": "code",
   "execution_count": 3,
   "id": "c63ad12d-124f-48d1-8130-a039bb4337a5",
   "metadata": {},
   "outputs": [
    {
     "name": "stdout",
     "output_type": "stream",
     "text": [
      "dog bark\n",
      "Cat meow\n",
      "Bird Chirp\n"
     ]
    }
   ],
   "source": [
    "\"\"\"6. Create a Python class called `Animal` with a method `speak()`. Then, create child classes like `Dog`, `Cat`, and `Bird`,\n",
    "each with their own `speak()` method. Demonstrate polymorphism by calling the `speak()` method\n",
    "on objects of different subclasses.\"\"\"\n",
    "\n",
    "class Animal:\n",
    "    def speak(self):\n",
    "        pass\n",
    "    \n",
    "class Dog(Animal):\n",
    "    def speak(self):\n",
    "        return \"dog bark\"\n",
    "    \n",
    "class Cat(Animal):\n",
    "    def speak(self):\n",
    "        return\"Cat meow\"\n",
    "\n",
    "class Bird(Animal):\n",
    "    def speak(self):\n",
    "        return \"Bird Chirp\"\n",
    "    \n",
    "dog = Dog()\n",
    "cat = Cat()\n",
    "bird = Bird()\n",
    "def speak(Animal):\n",
    "    print(Animal.speak())\n",
    "    \n",
    "speak(dog)\n",
    "speak(cat)\n",
    "speak(bird)\n",
    "    \n"
   ]
  },
  {
   "cell_type": "code",
   "execution_count": 11,
   "id": "28bab29b-bbee-4c56-9bca-32e73cdf2bd2",
   "metadata": {},
   "outputs": [
    {
     "name": "stdout",
     "output_type": "stream",
     "text": [
      "dog bark\n"
     ]
    }
   ],
   "source": [
    "\"\"\"7. Discuss the use of abstract methods and classes in achieving polymorphism in Python. Provide an example\n",
    "using the `abc` module.\"\"\"\n",
    "\n",
    "# abstract methods - Rules imposed so that going forward in all class certain parameters needs to be imposed \n",
    "\n",
    "\n",
    "from abc import ABC, abstractmethod\n",
    "\n",
    "class Animal:\n",
    "    @abstractmethod\n",
    "    def speak(self):\n",
    "        pass\n",
    "    \n",
    "class Dog(Animal):\n",
    "    def speak(self):\n",
    "        return \"dog bark\"\n",
    "    \n",
    "class Cat(Animal):\n",
    "    def speak(self):\n",
    "        return\"Cat meow\"\n",
    "\n",
    "def speak_animal(Animal):\n",
    "    print(Animal.speak())\n",
    "\n",
    "dog = Dog()\n",
    "cat = Cat()\n",
    "\n",
    "speak_animal(dog)\n"
   ]
  },
  {
   "cell_type": "code",
   "execution_count": 20,
   "id": "32679250-6927-436a-a4eb-c010b7825508",
   "metadata": {},
   "outputs": [
    {
     "name": "stdout",
     "output_type": "stream",
     "text": [
      "4 wheeler and runs on road\n"
     ]
    }
   ],
   "source": [
    "# 8.  implement a Create a Python class hierarchy for a vehicle system (e.g., car, bicycle, boat) and implement a \n",
    "\n",
    "class Vehicle:\n",
    "    def start(self):\n",
    "        pass\n",
    "    \n",
    "class car:\n",
    "    def start(self):\n",
    "        return \"4 wheeler and runs on road\"\n",
    "    \n",
    "class bicycle:\n",
    "    def start(self):\n",
    "        return \"2 wheeler runs on road\"\n",
    "    \n",
    "class Boat:\n",
    "    def start(self):\n",
    "        return \"0 wheeler and runs on water\"\n",
    "    \n",
    "    \n",
    "def start(Vehicle):\n",
    "    print(Vehicle.start())\n",
    "        \n",
    "Car = car()\n",
    "Bicycle = bicycle()\n",
    "boat = Boat()\n",
    "\n",
    "start(Car)"
   ]
  },
  {
   "cell_type": "code",
   "execution_count": 2,
   "id": "e4575e85-edaf-4729-ba2b-a405bd7b51b7",
   "metadata": {},
   "outputs": [
    {
     "name": "stdout",
     "output_type": "stream",
     "text": [
      "True\n"
     ]
    }
   ],
   "source": [
    "# 9. Explain the significance of the `isinstance()` and `issubclass()` functions in Python polymorphism.\n",
    "\n",
    "# Isinstance()\n",
    "\n",
    "\"it tells us that if object belongs to that class, if yes then it return boolien value that is True if not then False\"\n",
    "\n",
    "class Employees:\n",
    "    def Google(self):\n",
    "        return \"works in Google\"\n",
    "   \n",
    "e1 = Employees()\n",
    "e2 = Employees()\n",
    "\n",
    "print(isinstance(e1,Employees))\n",
    " \n",
    "\n"
   ]
  },
  {
   "cell_type": "code",
   "execution_count": 5,
   "id": "8371150d-9c57-4713-9725-c5d79fcc52b5",
   "metadata": {},
   "outputs": [
    {
     "name": "stdout",
     "output_type": "stream",
     "text": [
      "True\n"
     ]
    }
   ],
   "source": [
    "# issubclass\n",
    "\n",
    "\"It helps us to identify if a class is sub class of any other class\"\n",
    "\n",
    "class Business: \n",
    "    pass\n",
    "\n",
    "class Employees(Business):\n",
    "    def Google(self):\n",
    "        return \"works in Google\"\n",
    "    \n",
    "print(issubclass(Employees,Business))"
   ]
  },
  {
   "cell_type": "code",
   "execution_count": 7,
   "id": "a384ee76-85c8-414a-b863-1f1367086290",
   "metadata": {},
   "outputs": [
    {
     "name": "stdout",
     "output_type": "stream",
     "text": [
      "dog bark\n"
     ]
    }
   ],
   "source": [
    "# 10. What is the role of the `@abstractmethod` decorator in achieving polymorphism in Python? Provide an example.\n",
    "\n",
    "# Rules imposed so that going forward in all class certain parameters needs to be imposed , after using @abstractmethod we can check \n",
    "# impose and all child class needs to have same function.\n",
    "\n",
    "from abc import ABC, abstractmethod\n",
    "\n",
    "\n",
    "class Animal:\n",
    "    @abstractmethod\n",
    "    def speak(self):\n",
    "        pass\n",
    "    \n",
    "class Dog(Animal):\n",
    "    def speak(self):\n",
    "        return \"dog bark\"\n",
    "    \n",
    "class Cat(Animal):\n",
    "    def speak(self):\n",
    "        return\"Cat meow\"\n",
    "\n",
    "def speak_animal(Animal):\n",
    "    print(Animal.speak())\n",
    "\n",
    "dog = Dog()\n",
    "cat = Cat()\n",
    "\n",
    "speak_animal(dog)\n"
   ]
  },
  {
   "cell_type": "code",
   "execution_count": 20,
   "id": "2f59d3d8-9db5-4ada-88bb-466d43243a31",
   "metadata": {},
   "outputs": [
    {
     "name": "stdout",
     "output_type": "stream",
     "text": [
      "12.571428571428571\n",
      "1.5\n",
      "2\n"
     ]
    }
   ],
   "source": [
    "# 11. Create a Python class called `Shape` with a polymorphic method `area()` that calculates the area of diffrent shapes\n",
    "# (circle, triange and rectange).\n",
    "\n",
    "class Shapes:\n",
    "    def area(self):\n",
    "        pass\n",
    "    \n",
    "class circle(Shapes):\n",
    "    def __init__(self,r):\n",
    "        self.r = r\n",
    "        \n",
    "    \n",
    "    def area(self):\n",
    "        return 22/7 * self.r**2\n",
    "    \n",
    "class triange(Shapes):\n",
    "    def __init__(self,b,h):\n",
    "        self.b = b\n",
    "        self.h = h\n",
    "    \n",
    "    def area(self):\n",
    "        return 1/2*self.b*self.h\n",
    "    \n",
    "class rectange(Shapes):\n",
    "    def __init__(self,b,h):\n",
    "        self.b = b\n",
    "        self.h = h\n",
    "        \n",
    "    def area(self):\n",
    "        return self.h*self.b\n",
    "\n",
    "def area(Shapes):\n",
    "    print(Shapes.area())\n",
    "    \n",
    "c = circle(2)\n",
    "t = triange(1,3)\n",
    "r = rectange(1,2)\n",
    "\n",
    "print(c.area())\n",
    "print(t.area())\n",
    "print(r.area())"
   ]
  },
  {
   "cell_type": "code",
   "execution_count": 7,
   "id": "05a9ef21-1f23-4698-a02e-d35e9a55fed1",
   "metadata": {},
   "outputs": [
    {
     "ename": "AttributeError",
     "evalue": "'Credit_card' object has no attribute 'Limit'",
     "output_type": "error",
     "traceback": [
      "\u001b[0;31m---------------------------------------------------------------------------\u001b[0m",
      "\u001b[0;31mAttributeError\u001b[0m                            Traceback (most recent call last)",
      "Cell \u001b[0;32mIn[7], line 42\u001b[0m\n\u001b[1;32m     39\u001b[0m             \u001b[38;5;28;01mreturn\u001b[39;00m \u001b[38;5;28mself\u001b[39m\u001b[38;5;241m.\u001b[39mLimit \u001b[38;5;241m-\u001b[39m amount\n\u001b[1;32m     40\u001b[0m obj \u001b[38;5;241m=\u001b[39m Credit_card(\u001b[38;5;241m100000\u001b[39m,\u001b[38;5;124m\"\u001b[39m\u001b[38;5;124m45 Days\u001b[39m\u001b[38;5;124m\"\u001b[39m)\n\u001b[0;32m---> 42\u001b[0m \u001b[38;5;28mprint\u001b[39m(\u001b[43mobj\u001b[49m\u001b[38;5;241;43m.\u001b[39;49m\u001b[43mwithdraw\u001b[49m\u001b[43m(\u001b[49m\u001b[38;5;241;43m10000\u001b[39;49m\u001b[43m)\u001b[49m)\n",
      "Cell \u001b[0;32mIn[7], line 39\u001b[0m, in \u001b[0;36mCredit_card.withdraw\u001b[0;34m(self, amount)\u001b[0m\n\u001b[1;32m     37\u001b[0m \u001b[38;5;28;01mdef\u001b[39;00m \u001b[38;5;21mwithdraw\u001b[39m(\u001b[38;5;28mself\u001b[39m,amount):\n\u001b[1;32m     38\u001b[0m     \u001b[38;5;28;01mif\u001b[39;00m amount \u001b[38;5;241m<\u001b[39m\u001b[38;5;241m=\u001b[39m \u001b[38;5;28mself\u001b[39m\u001b[38;5;241m.\u001b[39mlimit:\n\u001b[0;32m---> 39\u001b[0m         \u001b[38;5;28;01mreturn\u001b[39;00m \u001b[38;5;28;43mself\u001b[39;49m\u001b[38;5;241;43m.\u001b[39;49m\u001b[43mLimit\u001b[49m \u001b[38;5;241m-\u001b[39m amount\n",
      "\u001b[0;31mAttributeError\u001b[0m: 'Credit_card' object has no attribute 'Limit'"
     ]
    }
   ],
   "source": [
    "# 14. Create a Python class hierarchy for a banking system with various account types (e.g., savings, checking,\n",
    "\n",
    "from abc import ABC, abstractmethod\n",
    "\n",
    "class Banking:\n",
    "    @abstractmethod\n",
    "    def withdraw(self,amount):\n",
    "        pass\n",
    "    \n",
    "class Savings(Banking):\n",
    "    def __init__(self, balance):\n",
    "        self.balance = balance\n",
    "        \n",
    "    def withdraw(self,amount):\n",
    "        if amount <= self.balance:\n",
    "            return self.balance - amount\n",
    "        \n",
    "class Checking(Banking):\n",
    "    def __init__(self, balance):\n",
    "        super().__init__(balance)\n",
    "        \n",
    "    def check_balance(self):\n",
    "        return self.balance\n",
    "    \n",
    "    def withdraw(self,amount):\n",
    "        if amount <= self.balance:\n",
    "            return self.balance - amount\n",
    "    \n",
    "class Credit_card(Banking):\n",
    "    def __init__(self,limit,duration):\n",
    "        self.limit = limit\n",
    "        self.duration = duration\n",
    "        \n",
    "    def cc_limit_duration(self):\n",
    "        return f\" Limit = {self.limit} and Duraton = {self.duration}\"\n",
    "    \n",
    "    def withdraw(self,amount):\n",
    "        if amount <= self.limit:\n",
    "            return self.Limit - amount\n",
    "obj = Credit_card(100000,\"45 Days\")\n",
    "\n",
    "print(obj.withdraw(10000))\n",
    "    "
   ]
  },
  {
   "cell_type": "code",
   "execution_count": null,
   "id": "5169f444-6ed4-4120-82da-43975f8a0b3e",
   "metadata": {},
   "outputs": [],
   "source": [
    "\"\"\" Describe the concept of operator overloading in Python and how it relates to polymorphism. Provide\n",
    "examples using operators like `+` and `*`.\"\"\"\n",
    "\n",
    "# overloading \n",
    "\t\n",
    "# When ever class contains more than 1 method with same name and different types, parameters called overloading\n",
    "\n",
    "# over riding\n",
    "\n",
    "# When ever we write method name with same signature in parent and child class it is called method overiding"
   ]
  },
  {
   "cell_type": "code",
   "execution_count": 4,
   "id": "576fe1c8-4901-4499-8b8e-02b11a639ec9",
   "metadata": {},
   "outputs": [
    {
     "data": {
      "text/plain": [
       "'Inhand salary = 97550.0, pf = 24500, annual bonus = (0, 9600000)'"
      ]
     },
     "execution_count": 4,
     "metadata": {},
     "output_type": "execute_result"
    }
   ],
   "source": [
    "# 17. Create a Python class hierarchy for employees in a company (e.g., manager, developer, designer) and\n",
    "\n",
    "from abc import ABC, abstractmethod\n",
    "\n",
    "class employees:\n",
    "    @abstractmethod\n",
    "    def calculate_salaries(self,package):\n",
    "        pass\n",
    "    \n",
    "class Manage(employees):\n",
    "    def calculate_salaries(self,package):\n",
    "        return f\"Inhand salary = {(package/12) - 2450}, pf = 24500, annual bonus = {0,8*package}\"\n",
    "    \n",
    "obj = Manage()\n",
    "obj.calculate_salaries(1200000)\n",
    "    \n",
    "        "
   ]
  },
  {
   "cell_type": "code",
   "execution_count": null,
   "id": "791a8be0-f632-454f-9ae2-6d58cdc675e0",
   "metadata": {},
   "outputs": [],
   "source": [
    "# Abstraction\n",
    "\n",
    "# 1. What is abstraction in Python, and how does it relate to object-oriented programming?\n",
    "\n",
    "# It is hiding the implementation details from the user, only the highlighted set of services provided to end user\n",
    "\n"
   ]
  },
  {
   "cell_type": "code",
   "execution_count": 1,
   "id": "6b8269d7-be6f-407d-ac96-23bc5088ff71",
   "metadata": {},
   "outputs": [
    {
     "name": "stdout",
     "output_type": "stream",
     "text": [
      "Area of Circle: 78.53981633974483\n",
      "Area of Rectangle: 24\n"
     ]
    }
   ],
   "source": [
    "\"\"\"3. Create a Python class called `Shape` with an abstract method `calculate_area()`. Then, create child classes (e.g., `Circle`, \n",
    "`Rectangle`) that implement the `calculate_area()` method. Provide an example of using these classes.\"\"\"\n",
    "\n",
    "from abc import ABC, abstractmethod\n",
    "import math\n",
    "\n",
    "class Shape(ABC):\n",
    "    @abstractmethod\n",
    "    def calculate_area(self):\n",
    "        pass\n",
    "\n",
    "class Circle(Shape):\n",
    "    def __init__(self, radius):\n",
    "        self.radius = radius\n",
    "\n",
    "    def calculate_area(self):\n",
    "        return math.pi * self.radius ** 2\n",
    "\n",
    "class Rectangle(Shape):\n",
    "    def __init__(self, length, width):\n",
    "        self.length = length\n",
    "        self.width = width\n",
    "\n",
    "    def calculate_area(self):\n",
    "        return self.length * self.width\n",
    "\n",
    "# Example of using these classes\n",
    "circle = Circle(5)\n",
    "print(\"Area of Circle:\", circle.calculate_area())\n",
    "\n",
    "rectangle = Rectangle(4, 6)\n",
    "print(\"Area of Rectangle:\", rectangle.calculate_area())\n",
    "\n",
    "        \n",
    "    "
   ]
  },
  {
   "cell_type": "code",
   "execution_count": 3,
   "id": "64dd8aa3-d3f2-4d29-b114-92525e97d148",
   "metadata": {},
   "outputs": [
    {
     "data": {
      "text/plain": [
       "150000"
      ]
     },
     "execution_count": 3,
     "metadata": {},
     "output_type": "execute_result"
    }
   ],
   "source": [
    "\"\"\"6. Create a Python class for a bank account and demonstrate abstraction by hiding the account balance and\n",
    "providing methods to deposit and withdraw funds.\"\"\"\n",
    "\n",
    "class bank:\n",
    "    def __init__(self,balance):\n",
    "        self.__balance = balance\n",
    "        \n",
    "    def deposit(self,amount):\n",
    "        if amount > 0:\n",
    "            return self.__balance + amount\n",
    "        \n",
    "    def withdraw(self,amount):\n",
    "        if amount <= self.__balance:\n",
    "            return self.__balance - amount\n",
    "    \n",
    "obj = bank(100000)\n",
    "obj.deposit(50000)\n",
    "        \n",
    "    "
   ]
  },
  {
   "cell_type": "code",
   "execution_count": 5,
   "id": "649dd120-a073-48e9-b6ed-249978f9a7d0",
   "metadata": {},
   "outputs": [
    {
     "name": "stdout",
     "output_type": "stream",
     "text": [
      " Dog eats meat\n",
      " On an averate dog sleep 12 hours in a day\n"
     ]
    }
   ],
   "source": [
    "# 8. Create a Python class hierarchy for animals and implement abstraction by defining common methods\n",
    "from abc import ABC, abstractmethod\n",
    "\n",
    "class Animals:\n",
    "    @abstractmethod\n",
    "    def eat(self):\n",
    "        pass\n",
    "    def sleep(self):\n",
    "        pass\n",
    "    \n",
    "class Dog(Animals):\n",
    "    def eat(self):\n",
    "        return f\" Dog eats meat\"\n",
    "    def sleep(self):\n",
    "        return f\" On an averate dog sleep 12 hours in a day\"\n",
    "obj = Dog()\n",
    "print(obj.eat())\n",
    "print(obj.sleep())"
   ]
  },
  {
   "cell_type": "code",
   "execution_count": 1,
   "id": "5e95880b-c6c8-4a03-8e22-1e4add7518cc",
   "metadata": {},
   "outputs": [
    {
     "name": "stdout",
     "output_type": "stream",
     "text": [
      "Hundai car has started\n"
     ]
    }
   ],
   "source": [
    "\"\"\"11. Create a Python class for a vehicle system and demonstrate abstraction by defining common methods (e.g., `start()`, `stop()`) \n",
    "in an abstract base class.\"\"\"\n",
    "from abc import ABC, abstractmethod\n",
    "\n",
    "class vehicle:\n",
    "    @abstractmethod\n",
    "    def start(self):\n",
    "        pass\n",
    "    \n",
    "class Hundai(vehicle):\n",
    "    def start(self):\n",
    "        return \"Hundai car has started\"\n",
    "    \n",
    "obj = Hundai()\n",
    "print(obj.start())"
   ]
  },
  {
   "cell_type": "code",
   "execution_count": 1,
   "id": "5a78f03c-98aa-4e46-b858-1cbb4f5f5656",
   "metadata": {},
   "outputs": [],
   "source": [
    "# 1. Explain the concept of composition in Python and how it is used to build complex objects from simpler ones.\n",
    "\n",
    "# Deligating responsibility from 1 class to another class without inheritance\n"
   ]
  },
  {
   "cell_type": "code",
   "execution_count": 4,
   "id": "6f17dd4d-c0b7-4795-b130-aa2831cc707e",
   "metadata": {},
   "outputs": [
    {
     "ename": "NameError",
     "evalue": "name 'Aurthor_birthdat' is not defined",
     "output_type": "error",
     "traceback": [
      "\u001b[0;31m---------------------------------------------------------------------------\u001b[0m",
      "\u001b[0;31mNameError\u001b[0m                                 Traceback (most recent call last)",
      "Cell \u001b[0;32mIn[4], line 17\u001b[0m\n\u001b[1;32m     14\u001b[0m     \u001b[38;5;28;01mdef\u001b[39;00m \u001b[38;5;21mbook_info\u001b[39m(\u001b[38;5;28mself\u001b[39m):\n\u001b[1;32m     15\u001b[0m         \u001b[38;5;28;01mreturn\u001b[39;00m \u001b[38;5;124mf\u001b[39m\u001b[38;5;124m\"\u001b[39m\u001b[38;5;132;01m{\u001b[39;00m\u001b[38;5;28mself\u001b[39m\u001b[38;5;241m.\u001b[39mAurthor_name\u001b[38;5;132;01m}\u001b[39;00m\u001b[38;5;124m , \u001b[39m\u001b[38;5;132;01m{\u001b[39;00m\u001b[38;5;28mself\u001b[39m\u001b[38;5;241m.\u001b[39mAurthor_birthdat\u001b[38;5;132;01m}\u001b[39;00m\u001b[38;5;124m, \u001b[39m\u001b[38;5;132;01m{\u001b[39;00m\u001b[38;5;28mself\u001b[39m\u001b[38;5;241m.\u001b[39myear\u001b[38;5;132;01m}\u001b[39;00m\u001b[38;5;124m\"\u001b[39m\n\u001b[0;32m---> 17\u001b[0m obj \u001b[38;5;241m=\u001b[39m \u001b[43mBook\u001b[49m\u001b[43m(\u001b[49m\u001b[38;5;124;43m\"\u001b[39;49m\u001b[38;5;124;43m1985\u001b[39;49m\u001b[38;5;124;43m\"\u001b[39;49m\u001b[43m,\u001b[49m\u001b[38;5;124;43m\"\u001b[39;49m\u001b[38;5;124;43mMax\u001b[39;49m\u001b[38;5;124;43m\"\u001b[39;49m\u001b[43m,\u001b[49m\u001b[38;5;124;43m\"\u001b[39;49m\u001b[38;5;124;43msks\u001b[39;49m\u001b[38;5;124;43m\"\u001b[39;49m\u001b[43m)\u001b[49m\n\u001b[1;32m     18\u001b[0m \u001b[38;5;28mprint\u001b[39m(obj\u001b[38;5;241m.\u001b[39mbook_info())\n",
      "Cell \u001b[0;32mIn[4], line 12\u001b[0m, in \u001b[0;36mBook.__init__\u001b[0;34m(self, year, Aurthor_name, Aurthor_birthdate)\u001b[0m\n\u001b[1;32m     10\u001b[0m \u001b[38;5;28;01mdef\u001b[39;00m \u001b[38;5;21m__init__\u001b[39m(\u001b[38;5;28mself\u001b[39m,year,Aurthor_name,Aurthor_birthdate):\n\u001b[1;32m     11\u001b[0m     \u001b[38;5;28mself\u001b[39m\u001b[38;5;241m.\u001b[39myear \u001b[38;5;241m=\u001b[39m year\n\u001b[0;32m---> 12\u001b[0m     \u001b[38;5;28mself\u001b[39m\u001b[38;5;241m.\u001b[39mobj_aurthor \u001b[38;5;241m=\u001b[39m Author(Aurthor_name,\u001b[43mAurthor_birthdat\u001b[49m)\n",
      "\u001b[0;31mNameError\u001b[0m: name 'Aurthor_birthdat' is not defined"
     ]
    }
   ],
   "source": [
    "\"\"\"3. Create a Python class called `Author` with attributes for name and birthdate. Then, create a `Book` class\n",
    "that contains an instance of `Author` as a composition. Provide an example of creating a `Book` object.\"\"\"\n",
    "\n",
    "class Author:\n",
    "    def __init__(self,name,birthdate):\n",
    "        self.name = name\n",
    "        self.birthdate = birthdate\n",
    "        \n",
    "class Book:\n",
    "    def __init__(self,year,author_name,author_birthdate):\n",
    "        self.year = year\n",
    "        self.obj_author = Author(author_name,author_birthdate)\n",
    "        \n",
    "    def book_info(self):\n",
    "        return f\"{self.obj_author.name} , {self.Aurthor_birthdat}, {self.year}\"\n",
    "    \n",
    "obj = Book(\"1985\",\"Max\",\"sks\")\n",
    "print(obj.book_info())\n",
    "\n",
    "class Author:\n",
    "    def __init__(self, name, birthdate):\n",
    "        self.name = name\n",
    "        self.birthdate = birthdate\n",
    "        \n",
    "class Book:\n",
    "    def __init__(self, year, author_name, author_birthdate):\n",
    "        self.year = year\n",
    "        self.obj_author = Author(author_name, author_birthdate)\n",
    "        \n",
    "    def book_info(self):\n",
    "        return f\"{self.obj_author.name}, {self.obj_author.birthdate}, {self.year}\"\n",
    "\n",
    "# Instantiate Book class\n",
    "obj = Book(\"1985\", \"Max\", \"sks\")\n",
    "print(obj.book_info())\n",
    "    "
   ]
  },
  {
   "cell_type": "code",
   "execution_count": 6,
   "id": "aac433ec-edd2-4ec2-b0bf-838cb7199cba",
   "metadata": {},
   "outputs": [
    {
     "name": "stdout",
     "output_type": "stream",
     "text": [
      "Max, sks, 1985\n"
     ]
    }
   ],
   "source": [
    "class Author:\n",
    "    def __init__(self, name, birthdate):\n",
    "        self.name = name\n",
    "        self.birthdate = birthdate\n",
    "        \n",
    "class Book:\n",
    "    def __init__(self, year, author_name, author_birthdate):\n",
    "        self.year = year\n",
    "        self.obj_author = Author(author_name, author_birthdate)\n",
    "        \n",
    "    def book_info(self):\n",
    "        return f\"{self.obj_author.name}, {self.obj_author.birthdate}, {self.year}\"\n",
    "\n",
    "# Instantiate Book class\n",
    "obj = Book(\"1985\", \"Max\", \"sks\")\n",
    "print(obj.book_info())\n",
    "    "
   ]
  },
  {
   "cell_type": "code",
   "execution_count": 11,
   "id": "2b48bb16-323e-4bc7-aa2e-b5aa03394a71",
   "metadata": {},
   "outputs": [
    {
     "name": "stdout",
     "output_type": "stream",
     "text": [
      "Bad Blood by Taylor Swift from album era\n"
     ]
    }
   ],
   "source": [
    "# 6. Create a Python class hierarchy for a music player system, using composition to represent playlists and songs.\n",
    "\n",
    "class music:\n",
    "    def __init__(self,singer,song):\n",
    "        self.singer = singer\n",
    "        self.song = song\n",
    "        \n",
    "    def play(self):\n",
    "        return f\"{self.singer} and {self.song}\"\n",
    "    \n",
    "class playlist:\n",
    "    def __init__(self,album,singer,song):\n",
    "        self.album = album\n",
    "        self.obj_music = music(singer,song)\n",
    "        \n",
    "    def song_info(self):\n",
    "        return f\"{self.obj_music.song} by {self.obj_music.singer} from album {self.album}\"\n",
    "    \n",
    "obj = playlist(\"era\",\"Taylor Swift\",\"Bad Blood\")\n",
    "print(obj.song_info())\n",
    "\n"
   ]
  },
  {
   "cell_type": "code",
   "execution_count": 7,
   "id": "bb9a3f93-2f15-4b80-bcf3-86976ed87b7e",
   "metadata": {},
   "outputs": [
    {
     "name": "stdout",
     "output_type": "stream",
     "text": [
      "Bad Blood by Taylor Swift from album era\n"
     ]
    }
   ],
   "source": [
    "# 7. Explain the concept of \"has-a\" relationships in composition and how it helps design software systems.\n",
    "\n",
    "\"\"\"In object-oriented programming (OOP), \"has-a\" relationships refer to the concept of composition, where one class contains an object\n",
    "of another class as a member variable. This allows the containing class to delegate certain responsibilities or functionalities \n",
    "to the contained class\"\"\"\n"
   ]
  },
  {
   "cell_type": "code",
   "execution_count": 9,
   "id": "291f6079-e87d-47af-bcd9-910be6649233",
   "metadata": {},
   "outputs": [
    {
     "name": "stdout",
     "output_type": "stream",
     "text": [
      "Computer System Specifications:\n",
      "CPU:  this CPU is from Intel with capacity of 3.5 GHZ\n",
      "RAM:  It has 16 Ram\n",
      "Storage:  it has a capacity of 512 and its type is SSD\n"
     ]
    }
   ],
   "source": [
    "\"\"\"8. Create a Python class for a computer system, using composition to represent components like CPU, RAM,\n",
    "and storage devices.\"\"\"\n",
    "class CPU:\n",
    "    def __init__(self,brand,capacity):\n",
    "        self.brand = brand\n",
    "        self.capacity = capacity\n",
    "        \n",
    "    def __str__(self):\n",
    "        return f\" this CPU is from {self.brand} with capacity of {self.capacity} GHZ\"\n",
    "class RAM:\n",
    "    def __init__(self,GB):\n",
    "        self.GB = GB\n",
    "    \n",
    "    def __str__(self):\n",
    "        return f\" It has {self.GB} Ram\"\n",
    "    \n",
    "class Storage:\n",
    "    def __init__(self,Type,capacity):\n",
    "        self.Type = Type\n",
    "        self.capacity = capacity\n",
    "    \n",
    "    def __str__(self):\n",
    "        return f\" it has a capacity of {self.capacity} and its type is {self.Type}\"\n",
    "\n",
    "\n",
    "class Computer_system:\n",
    "    def __init__(self,CPU,RAM,Storage):\n",
    "        self.CPU = CPU\n",
    "        self.RAM = RAM\n",
    "        self.Storage = Storage\n",
    "        \n",
    "    def specs(self):\n",
    "        return f\"Computer System Specifications:\\nCPU: {self.CPU}\\nRAM: {self.RAM}\\nStorage: {self.Storage}\"\n",
    "\n",
    "cpu = CPU(\"Intel\", 3.5)\n",
    "ram = RAM(16)\n",
    "storage = Storage(\"SSD\",512)\n",
    "\n",
    "computer = Computer_system(cpu,ram,storage)\n",
    "print(computer.specs())\n",
    "        \n",
    "    "
   ]
  },
  {
   "cell_type": "code",
   "execution_count": null,
   "id": "9c15c16f-c9bd-438e-b63b-6c3062be75dc",
   "metadata": {},
   "outputs": [],
   "source": [
    "\"\"\"10. Create a Python class for a car, using composition to represent components like the engine, wheels, and\n",
    "transmission.\"\"\"\n",
    "\n",
    "class engine:\n",
    "    def __init__(self,hp,cap):\n",
    "        self.hp = hp\n",
    "        self.cap = cap      \n",
    "    def __str__(self):\n",
    "        return f\" Engine has {self.hp} and has {self.cap} engine\"\n",
    "    \n",
    "class wheels:\n",
    "    def __init__(self,inch):\n",
    "        self.inch = inch\n",
    "        \n",
    "    def __str__(self):\n",
    "        return f\" It has {self.inch} wheels\n",
    "class Car:\n",
    "    def __init__(self,engine,wheels):\n",
    "        self.engine = engine\n",
    "        self.wheels = wheels\n",
    "        \n",
    "    def specs(self):\n",
    "        return f\"Car Specifications:\\nEngine: {self.engine}\\nWheels: {self.wheels}\"\n",
    "    \n",
    "eng = engine(\"18\",\"1200 l\")\n",
    "whe = wheels(\"16\")\n",
    "\n",
    "car = Car(\n",
    "    "
   ]
  }
 ],
 "metadata": {
  "kernelspec": {
   "display_name": "Python 3 (ipykernel)",
   "language": "python",
   "name": "python3"
  },
  "language_info": {
   "codemirror_mode": {
    "name": "ipython",
    "version": 3
   },
   "file_extension": ".py",
   "mimetype": "text/x-python",
   "name": "python",
   "nbconvert_exporter": "python",
   "pygments_lexer": "ipython3",
   "version": "3.10.8"
  }
 },
 "nbformat": 4,
 "nbformat_minor": 5
}
