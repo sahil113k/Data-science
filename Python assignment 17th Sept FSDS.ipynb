{
 "cells": [
  {
   "cell_type": "code",
   "execution_count": 3,
   "id": "5fbdc0f8-652f-47d2-9eec-9ece4e58bb22",
   "metadata": {},
   "outputs": [
    {
     "name": "stdout",
     "output_type": "stream",
     "text": [
      "1 2 3 4 5 6 7 8 9 10 "
     ]
    }
   ],
   "source": [
    "# For Loop :\n",
    "\n",
    "#1  Write a Python program to print numbers from 1 to 10 using a for loop.\n",
    "\n",
    "for i in range(1,11):\n",
    "    print(i,end=\" \")\n"
   ]
  },
  {
   "cell_type": "code",
   "execution_count": null,
   "id": "232de2a1-90a2-467d-9291-2a7634d6ee6a",
   "metadata": {},
   "outputs": [],
   "source": [
    "#2 Explain the difference between a for loop and a while loop in Python.\n",
    "\n",
    "\"\"\" for loop is used when the number of iterations is known, whereas execution is done in a\n",
    "while loop until the statement in the program is proved wrong.\"\"\"\""
   ]
  },
  {
   "cell_type": "code",
   "execution_count": 1,
   "id": "183f275b-5f51-43cd-8579-35b1321cfc08",
   "metadata": {},
   "outputs": [
    {
     "name": "stdout",
     "output_type": "stream",
     "text": [
      "5050\n"
     ]
    }
   ],
   "source": [
    "# 3 Write a Python program to calculate the sum of all numbers from 1 to 100 using a for loop.\n",
    "Sum = 0\n",
    "for i in range(1,101):\n",
    "    Sum += i\n",
    "print(Sum)"
   ]
  },
  {
   "cell_type": "code",
   "execution_count": 2,
   "id": "63bcc6c9-8df6-4fd6-bef5-4551030e7a53",
   "metadata": {},
   "outputs": [
    {
     "name": "stdout",
     "output_type": "stream",
     "text": [
      "1\n",
      "2\n",
      "4\n",
      "5\n",
      "6\n",
      "7\n"
     ]
    }
   ],
   "source": [
    "# #4 How do you iterate through a list using a for loop in Python?\n",
    "\n",
    "# eg list provided to us is A and we have to iterate through it\n",
    "\n",
    "A = [1,2,4,5,6,7]\n",
    "# using for i in A: we can iterate through the list\n",
    "for i in A:\n",
    "    print(i)"
   ]
  },
  {
   "cell_type": "code",
   "execution_count": 4,
   "id": "8d1d7515-dd83-41af-9687-1ff0e6b26975",
   "metadata": {},
   "outputs": [
    {
     "name": "stdout",
     "output_type": "stream",
     "text": [
      "120\n"
     ]
    }
   ],
   "source": [
    "#5 Write a Python program to find the product of all elements in a list using a for loop.\n",
    "\n",
    "A = [1,2,3,4,5]\n",
    "a = 1\n",
    "for i in A:\n",
    "  a = a*i\n",
    "print(a)\n"
   ]
  },
  {
   "cell_type": "code",
   "execution_count": 5,
   "id": "f152292d-c3bb-4807-ab6c-a9f1da5322b4",
   "metadata": {},
   "outputs": [
    {
     "name": "stdout",
     "output_type": "stream",
     "text": [
      "[2, 4, 6, 8, 10, 12, 14, 16, 18, 20]\n"
     ]
    }
   ],
   "source": [
    "# 6 Create a Python program that prints all even numbers from 1 to 20 using a for loop.\n",
    "Even = []\n",
    "for i in list(range(1,21)):\n",
    "  if i % 2 == 0:\n",
    "    Even.append(i)\n",
    "\n",
    "print(Even)"
   ]
  },
  {
   "cell_type": "code",
   "execution_count": 6,
   "id": "d49c042e-04f6-4656-8a3b-25e29574a03b",
   "metadata": {},
   "outputs": [
    {
     "name": "stdout",
     "output_type": "stream",
     "text": [
      "3628800\n"
     ]
    }
   ],
   "source": [
    "# 7 Write a Python program that calculates the factorial of a number using a for loop.\n",
    "\n",
    "def Factorial(n):\n",
    "  if n == 1 or n == 0:\n",
    "    return 1\n",
    "  else:\n",
    "    return n * Factorial(n-1)\n",
    "\n",
    "print(Factorial(10))\n",
    "    "
   ]
  },
  {
   "cell_type": "code",
   "execution_count": 7,
   "id": "326307c9-d54a-4897-ae94-4b7c2eddb391",
   "metadata": {},
   "outputs": [
    {
     "name": "stdout",
     "output_type": "stream",
     "text": [
      "a\n",
      "l\n",
      "p\n",
      "h\n",
      "a\n",
      "b\n",
      "e\n",
      "t\n"
     ]
    }
   ],
   "source": [
    "# 8 How can you iterate through the characters of a string using a for loop in Python?\n",
    "\n",
    "# using for i in A: we can iterate through the list\n",
    "\n",
    "# eg \n",
    "a = \"alphabet\"\n",
    "\n",
    "for i in a:\n",
    "  print(i)"
   ]
  },
  {
   "cell_type": "code",
   "execution_count": 8,
   "id": "f3c48c6d-9b00-4561-ace8-a9af31471212",
   "metadata": {},
   "outputs": [
    {
     "name": "stdout",
     "output_type": "stream",
     "text": [
      "24\n"
     ]
    }
   ],
   "source": [
    "# 9 Write a Python program to find the largest number in a list using a for loop\n",
    "\n",
    "Listt = list(range(1,25))\n",
    "\n",
    "print(max(Listt))\n",
    "\n",
    "  "
   ]
  },
  {
   "cell_type": "code",
   "execution_count": 9,
   "id": "7588dea9-7837-43c7-b705-676443dd0320",
   "metadata": {},
   "outputs": [
    {
     "name": "stdout",
     "output_type": "stream",
     "text": [
      "[1, 1, 2, 3, 5, 8, 13, 21, 34, 55, 89]\n"
     ]
    }
   ],
   "source": [
    "# 10 Create a Python program that prints the Fibonacci sequence up to a specified limit using a for loop.\n",
    "Fibonacci = []\n",
    "a,b = 0,1\n",
    "for i in range(11):\n",
    "    a,b = b,b+a\n",
    "    Fibonacci.append(a)\n",
    "    \n",
    "print(Fibonacci)"
   ]
  },
  {
   "cell_type": "code",
   "execution_count": 12,
   "id": "73b5ff41-85f7-4e32-810a-84b793fe8dc2",
   "metadata": {},
   "outputs": [
    {
     "name": "stdin",
     "output_type": "stream",
     "text": [
      "sentence and we will tell how many vovels are included in it I am good how about you\n"
     ]
    },
    {
     "name": "stdout",
     "output_type": "stream",
     "text": [
      " count the number of vowels = 10\n"
     ]
    }
   ],
   "source": [
    "# 11 Write a Python program to count the number of vowels in a given string using a for loop.\n",
    "x = input(\"sentence and we will tell how many vovels are included in it\")\n",
    "count = 0\n",
    "for i in x:\n",
    "    if i in \"aeiouAEIOU\":\n",
    "        count += 1\n",
    "print(f\" count the number of vowels = {count}\")"
   ]
  },
  {
   "cell_type": "code",
   "execution_count": 15,
   "id": "67493429-9995-4b2a-b858-28f222331e0a",
   "metadata": {},
   "outputs": [
    {
     "name": "stdout",
     "output_type": "stream",
     "text": [
      "Multiplication table of 5\n",
      "5 X 1 = 5\n",
      "5 X 2 = 10\n",
      "5 X 3 = 15\n",
      "5 X 4 = 20\n",
      "5 X 5 = 25\n",
      "5 X 6 = 30\n",
      "5 X 7 = 35\n",
      "5 X 8 = 40\n",
      "5 X 9 = 45\n",
      "5 X 10 = 50\n"
     ]
    }
   ],
   "source": [
    "# Create a Python program that generates a multiplication table for a given number using a for loop.\n",
    "print(\"Multiplication table of 5\")\n",
    "for i in range(1,11):\n",
    "    print(f\"5 X {i} = {5*i}\")"
   ]
  },
  {
   "cell_type": "code",
   "execution_count": 22,
   "id": "011b89dc-3ecd-4cf0-8f6a-bf493aca50ae",
   "metadata": {},
   "outputs": [
    {
     "name": "stdout",
     "output_type": "stream",
     "text": [
      "[10, 9, 8, 7, 6, 5, 4, 3, 2, 1]\n"
     ]
    }
   ],
   "source": [
    "# Write a Python program to reverse a list using a for loop\n",
    "\n",
    "a = [1,2,3,4,5,6,7,8,9,10]\n",
    "A_REV = a[::-1]\n",
    "print(A_REV)"
   ]
  },
  {
   "cell_type": "code",
   "execution_count": 2,
   "id": "ff5d9197-642a-496a-ad44-e2f75fcff1f4",
   "metadata": {},
   "outputs": [
    {
     "name": "stdout",
     "output_type": "stream",
     "text": [
      " Common between both list are [2, 3]\n"
     ]
    }
   ],
   "source": [
    "# Write a Python program to find the common elements between two lists using a for loop.\n",
    "a = [1,2,3,4,5,6,7,8,9,10]\n",
    "b = [2,3,89,99,192,783,628]  \n",
    "common = []\n",
    "for i in a:\n",
    "    if i in b:\n",
    "        common.append(i)\n",
    "print(f\" Common between both list are {common}\")\n",
    "        \n",
    "               "
   ]
  },
  {
   "cell_type": "code",
   "execution_count": null,
   "id": "03209ce2-f90e-46b2-91d8-09533eebbbd1",
   "metadata": {},
   "outputs": [],
   "source": [
    "# Explain how to use a for loop to iterate through the keys and values of a dictionary in Python.\n",
    "\n",
    "\"\"\"Access key using the build .keys() \n",
    "Access key without using a key() \n",
    "Iterate through all values using .values()\n",
    "Iterate through all key, and value pairs using items()\n",
    "Access both key and value without using items()\n",
    "Print items in Key-Value in pair\"\"\""
   ]
  },
  {
   "cell_type": "code",
   "execution_count": 6,
   "id": "3be68e6b-a2d0-48fd-8196-fb161d977945",
   "metadata": {},
   "outputs": [
    {
     "name": "stdin",
     "output_type": "stream",
     "text": [
      "enter 1st number 10\n",
      "enter second number 12\n"
     ]
    },
    {
     "name": "stdout",
     "output_type": "stream",
     "text": [
      " GCD (Greatest Common Divisor) of 10 and 12 = 2\n"
     ]
    }
   ],
   "source": [
    "# Write a Python program to find the GCD (Greatest Common Divisor) of two numbers using a for loop.\n",
    "\n",
    "a = int(input(\"enter 1st number\"))\n",
    "b = int(input(\"enter second number\"))\n",
    "Divisor_a = []\n",
    "Divisor_b = []\n",
    "common = []\n",
    "for i in range(1,a+1):\n",
    "    if a%i== 0:\n",
    "        Divisor_a.append(i)\n",
    "\n",
    "for j in range(1,b+1):\n",
    "    if b%j == 0:\n",
    "        Divisor_b.append(j)\n",
    "        \n",
    "for x in Divisor_a:\n",
    "    if x in Divisor_b:\n",
    "        common.append(x)\n",
    "        \n",
    "print(f\" GCD (Greatest Common Divisor) of {a} and {b} = {max(common)}\")"
   ]
  },
  {
   "cell_type": "code",
   "execution_count": 8,
   "id": "a3d0fa73-cde9-454b-af74-75919e282217",
   "metadata": {},
   "outputs": [
    {
     "name": "stdin",
     "output_type": "stream",
     "text": [
      " level\n"
     ]
    },
    {
     "name": "stdout",
     "output_type": "stream",
     "text": [
      " \"level\" is palindrome\n"
     ]
    }
   ],
   "source": [
    "# Create a Python program that checks if a string is a palindrome using a for loop.\n",
    "\n",
    "x = input()\n",
    "\n",
    "if x == x[::-1]:\n",
    "    print(f\"\"\" \"{x}\" is palindrome\"\"\")\n",
    "else:\n",
    "    print(f\"\"\" \"{x}\" is not palindrome\"\"\")"
   ]
  },
  {
   "cell_type": "code",
   "execution_count": 10,
   "id": "25e0ac79-2555-4ffe-af83-21a7d94abc7d",
   "metadata": {},
   "outputs": [
    {
     "name": "stdout",
     "output_type": "stream",
     "text": [
      "[1, 2, 3, 4, 5, 6, 7]\n"
     ]
    }
   ],
   "source": [
    "# Write a Python program to remove duplicates from a list using a for loop.\n",
    "\n",
    "x = [1,2,2,3,4,4,5,5,6,7]\n",
    "\n",
    "x_rem_dup = set(x)\n",
    "\n",
    "x_new = list(x_rem_dup)\n",
    "\n",
    "print(x_new)"
   ]
  },
  {
   "cell_type": "code",
   "execution_count": 11,
   "id": "296dc02b-2365-402c-a667-9811bb4dfaad",
   "metadata": {},
   "outputs": [
    {
     "name": "stdin",
     "output_type": "stream",
     "text": [
      " taapas\n"
     ]
    },
    {
     "name": "stdout",
     "output_type": "stream",
     "text": [
      "6\n"
     ]
    }
   ],
   "source": [
    "# Create a Python program that counts the number of words in a sentence using a for loop.\n",
    "\n",
    "x = input()\n",
    "count = 0\n",
    "for i in x:\n",
    "    if i in x:\n",
    "        count += 1\n",
    "print(count)\n"
   ]
  },
  {
   "cell_type": "code",
   "execution_count": 13,
   "id": "5a75bfb7-46e1-4ddb-a6f3-6ecae9b1cb68",
   "metadata": {},
   "outputs": [
    {
     "name": "stdout",
     "output_type": "stream",
     "text": [
      " sum of all odd numbers from 1 to 50 = 625\n"
     ]
    }
   ],
   "source": [
    "# Write a Python program to find the sum of all odd numbers from 1 to 50 using a for loop\n",
    "Sum_odd = 0\n",
    "for i in range(1,51):\n",
    "    if i % 2 != 0:\n",
    "        Sum_odd += i\n",
    "        \n",
    "print(f\" sum of all odd numbers from 1 to 50 = {Sum_odd}\")"
   ]
  },
  {
   "cell_type": "code",
   "execution_count": 15,
   "id": "41df1d81-48cf-4d3a-bbec-a98b448b9d6c",
   "metadata": {},
   "outputs": [
    {
     "name": "stdin",
     "output_type": "stream",
     "text": [
      "enter a year 2020\n"
     ]
    },
    {
     "name": "stdout",
     "output_type": "stream",
     "text": [
      " 2020 is a leap year\n"
     ]
    }
   ],
   "source": [
    "# 20 Write a Python program that checks if a given year is a leap year using a for loop.\n",
    "\n",
    "year = int(input(\"enter a year\"))\n",
    "           \n",
    "if year == 0:\n",
    "    print(\"it is a leap year\")\n",
    "elif year % 4 == 0:\n",
    "    print(f\" {year} is a leap year\")\n",
    "else:\n",
    "    print(\"invalid input\")"
   ]
  },
  {
   "cell_type": "code",
   "execution_count": 16,
   "id": "41c35512-d355-4382-87e1-cd0f6aa47ffd",
   "metadata": {},
   "outputs": [
    {
     "name": "stdin",
     "output_type": "stream",
     "text": [
      " 10\n"
     ]
    },
    {
     "name": "stdout",
     "output_type": "stream",
     "text": [
      "100\n"
     ]
    }
   ],
   "source": [
    "# Create a Python program that calculates the square root of a number using a for loop.\n",
    "\n",
    "def squareroot(n):\n",
    "    return n**2\n",
    "x = int(input())\n",
    "print(squareroot(x))"
   ]
  },
  {
   "cell_type": "code",
   "execution_count": 12,
   "id": "76a6feaa-19bf-4735-a913-6a53656b3cdd",
   "metadata": {},
   "outputs": [
    {
     "name": "stdin",
     "output_type": "stream",
     "text": [
      "enter 1st number 5\n",
      "enter second number 7\n"
     ]
    },
    {
     "name": "stdout",
     "output_type": "stream",
     "text": [
      "LCM of 5 and 7 is 35\n"
     ]
    }
   ],
   "source": [
    "# 23 Write a Python program to find the LCM (Least Common Multiple) of two numbers using a for loop.\n",
    "a = int(input(\"enter 1st number\"))\n",
    "b = int(input(\"enter second number\"))\n",
    "Divisor_a = []\n",
    "Divisor_b = []\n",
    "common = []\n",
    "for i in range(1,a+1):\n",
    "    if a%i== 0:\n",
    "        Divisor_a.append(i)\n",
    "\n",
    "for j in range(1,b+1):\n",
    "    if b%j == 0:\n",
    "        Divisor_b.append(j)\n",
    "        \n",
    "for x in Divisor_a:\n",
    "    if x in Divisor_b:\n",
    "        common.append(x)\n",
    "def find_lcm(a, b):\n",
    "    return abs(a * b) // (int(max(common)))\n",
    "        \n",
    "print(f\"LCM of {a} and {b} is {find_lcm(a, b)}\")"
   ]
  },
  {
   "cell_type": "code",
   "execution_count": 16,
   "id": "8d6a2fb6-07ae-4a53-a9ec-9ac8f6c3e095",
   "metadata": {},
   "outputs": [
    {
     "name": "stdin",
     "output_type": "stream",
     "text": [
      "Enter a number -10\n"
     ]
    },
    {
     "name": "stdout",
     "output_type": "stream",
     "text": [
      "-10 is a - ve number\n"
     ]
    }
   ],
   "source": [
    "# Write a Python program to check if a number is positive, negative, or zero using an if-else statement.\n",
    "\n",
    "a = int(input(\"Enter a number\"))\n",
    "        \n",
    "if a > 0:\n",
    "    print(f\"{a} is a + ve number\")\n",
    "elif a < 0:\n",
    "    print(f\"{a} is a - ve number\")\n",
    "else:\n",
    "    print(\"it is 0\")"
   ]
  },
  {
   "cell_type": "code",
   "execution_count": 17,
   "id": "2f3005dc-3243-4cd6-9695-da809d99daa2",
   "metadata": {},
   "outputs": [
    {
     "name": "stdin",
     "output_type": "stream",
     "text": [
      " 1\n"
     ]
    },
    {
     "name": "stdout",
     "output_type": "stream",
     "text": [
      "Odd\n"
     ]
    }
   ],
   "source": [
    "# 2 Create a Python program that checks if a given number is even or odd using an if-else statement\n",
    "\n",
    "x = int(input())\n",
    "\n",
    "\n",
    "\n",
    "if i%2 == 0:\n",
    "    print(\"even\")\n",
    "if i%2 != 0:\n",
    "    print(\"Odd\")\n",
    "        \n"
   ]
  },
  {
   "cell_type": "code",
   "execution_count": 18,
   "id": "4a4169a7-b97c-4532-8ddc-a0665dc9dacd",
   "metadata": {},
   "outputs": [
    {
     "name": "stdout",
     "output_type": "stream",
     "text": [
      " largest of three given numbers is 30\n"
     ]
    }
   ],
   "source": [
    "# 4 Write a Python program to determine the largest of three numbers using if-else.\n",
    "\n",
    "a = 10\n",
    "b = 20\n",
    "c = 30\n",
    "\n",
    "if a > b and a > c:\n",
    "    print(\" largest of three given numbers is\",a)\n",
    "elif b > a and b > c:\n",
    "    print(\" largest of three given numbers is\",b)\n",
    "else:\n",
    "    print(\" largest of three given numbers is\",c)"
   ]
  },
  {
   "cell_type": "code",
   "execution_count": 22,
   "id": "5350b8fb-33d4-49dc-af50-9e6808b14145",
   "metadata": {},
   "outputs": [
    {
     "name": "stdin",
     "output_type": "stream",
     "text": [
      "Enter -ve number -20\n"
     ]
    },
    {
     "name": "stdout",
     "output_type": "stream",
     "text": [
      " absolute value of -20 = 20\n"
     ]
    }
   ],
   "source": [
    "# 5 Write a Python program that calculates the absolute value of a number using if-else.\n",
    "\n",
    "a = int(input(\"Enter -ve number\"))\n",
    "        \n",
    "\n",
    "print(f\" absolute value of {a} = {abs(a)}\")"
   ]
  },
  {
   "cell_type": "code",
   "execution_count": 24,
   "id": "be2dcee7-3e8c-4872-96cc-c1107f595318",
   "metadata": {},
   "outputs": [
    {
     "name": "stdin",
     "output_type": "stream",
     "text": [
      " a\n"
     ]
    },
    {
     "name": "stdout",
     "output_type": "stream",
     "text": [
      "character is a vowel\n"
     ]
    }
   ],
   "source": [
    "# 6 Create a Python program that checks if a given character is a vowel or consonant using if-else.\n",
    "\n",
    "\n",
    "character = str(input())\n",
    "\n",
    "vowel = \"aeiouAEIOU\"\n",
    "\n",
    "if character in vowel:\n",
    "    print(\"character is a vowel\")\n",
    "else:\n",
    "    print(\"character is a consonant\")"
   ]
  },
  {
   "cell_type": "code",
   "execution_count": 25,
   "id": "ddb14cdf-66f9-4e46-a72c-b0e9df729e71",
   "metadata": {},
   "outputs": [
    {
     "name": "stdin",
     "output_type": "stream",
     "text": [
      " 18\n"
     ]
    },
    {
     "name": "stdout",
     "output_type": "stream",
     "text": [
      "The Candidate is eligible to vote\n"
     ]
    }
   ],
   "source": [
    "# 7 Write a Python program to determine if a user is eligible to vote based on their age using if-else.\n",
    "\n",
    "age = int(input())\n",
    "\n",
    "if age < 18:\n",
    "    print(\"The Candidate is not eligible to vote \")\n",
    "else:\n",
    "    print(\"The Candidate is eligible to vote\")"
   ]
  },
  {
   "cell_type": "code",
   "execution_count": 38,
   "id": "c546e19b-c3f4-470c-b66c-430b7014cd0d",
   "metadata": {},
   "outputs": [
    {
     "name": "stdout",
     "output_type": "stream",
     "text": [
      "OFFER\n",
      "10% off on shopping of 1000 and above\n",
      "20% off on shopping of 2000 and above\n",
      "30% off on shopping of 300  and above\n"
     ]
    },
    {
     "name": "stdin",
     "output_type": "stream",
     "text": [
      "Bill amount Test 1000\n"
     ]
    },
    {
     "name": "stdout",
     "output_type": "stream",
     "text": [
      "Total bill with 10% discount = 900.0\n"
     ]
    }
   ],
   "source": [
    "# 8 Create a Python program that calculates the discount amount based on the purchase amount using if-else\n",
    "\n",
    "print(\"OFFER\\n10% off on shopping of 1000 and above\\n20% off on shopping of 2000 and above\\n30% off on shopping of 300  and above\")\n",
    "\n",
    "bill = int(input(\"Bill amount Test\"))\n",
    "\n",
    "if bill in range(1000,2000):\n",
    "    print(\"Total bill with 10% discount =\",(bill - (bill*0.1)))\n",
    "elif bill in range(2000,3000):\n",
    "    print(\"Total bill with 20% discount =\",(bill - (bill*0.2)))\n",
    "elif bill >= 3000:\n",
    "    print(\"Total bill with 30% discount =\",(bill - (bill*0.3)))\n",
    "else:\n",
    "    print(f\"no discount, to get 10% discount please add worth {1000 - bill} stuff in your cart\\n\\n\\nTotal bill with no discount = {bill}\")"
   ]
  },
  {
   "cell_type": "code",
   "execution_count": 2,
   "id": "63b71005-cf24-460f-a7b8-6d58c236128b",
   "metadata": {},
   "outputs": [
    {
     "name": "stdin",
     "output_type": "stream",
     "text": [
      "enter a number 1\n"
     ]
    },
    {
     "name": "stdout",
     "output_type": "stream",
     "text": [
      "Number is in given range\n"
     ]
    }
   ],
   "source": [
    "# 9 Write a Python program to check if a number is within a specified range using if-else.\n",
    "\n",
    "x = int(input(\"enter a number\"))\n",
    "\n",
    "if x in range(1,11):\n",
    "    print(\"Number is in given range\")\n",
    "else:\n",
    "    print(\"Not in the range\")\n",
    "        "
   ]
  },
  {
   "cell_type": "code",
   "execution_count": 3,
   "id": "c2ee20d1-76b6-4efa-9054-86132b8bdfea",
   "metadata": {},
   "outputs": [
    {
     "name": "stdout",
     "output_type": "stream",
     "text": [
      " Rahul scored 395 marks and grade he got is B\n"
     ]
    }
   ],
   "source": [
    "# 10 Create a Python program that determines the grade of a student based on their score using if-else.\n",
    "\n",
    "\"rahul marks are mentioned below\"\n",
    "\n",
    "Maths = 70\n",
    "Hindi = 75\n",
    "English = 80\n",
    "Science = 85\n",
    "History = 90\n",
    "\n",
    "total = Maths+Hindi+English+Science+Science\n",
    "if total in range(400,500):\n",
    "    print(f\" Rahul scored { total } marks and grade he got is A\")\n",
    "elif total in range(300,400):\n",
    "    print(f\" Rahul scored { total } marks and grade he got is B\")\n",
    "else:\n",
    "    print(f\" Rahul scored { total } marks and grade he got is C\")"
   ]
  },
  {
   "cell_type": "code",
   "execution_count": 7,
   "id": "286c75f8-71f4-401b-97d8-980ed4d04e41",
   "metadata": {},
   "outputs": [
    {
     "name": "stdout",
     "output_type": "stream",
     "text": [
      "string is empty\n"
     ]
    }
   ],
   "source": [
    "# 11 Write a Python program to check if a string is empty or not using if-else.\n",
    "\n",
    "x = \" \"\n",
    "\n",
    "count = 0\n",
    "\n",
    "for i in x:\n",
    "    if i in \"abcdefghijklmnopqrstuvwxyzABCDEFGHIJKLMNOPQRSTUVWXYZ\":\n",
    "        count += 1\n",
    "\n",
    "if count == 0:\n",
    "    print(\"string is empty\")\n",
    "else:\n",
    "    print(\"string is not empty\")"
   ]
  },
  {
   "cell_type": "code",
   "execution_count": 8,
   "id": "50c750ac-b3a7-41e9-bbda-7fef798ea083",
   "metadata": {},
   "outputs": [
    {
     "name": "stdin",
     "output_type": "stream",
     "text": [
      "1st side of triangle = 8\n",
      "2nd side of triangle = 6\n",
      "3rd side of triangle = 6\n"
     ]
    },
    {
     "name": "stdout",
     "output_type": "stream",
     "text": [
      "The given triangle with sides 8,6 and 8 is a isosceles Triangle\n"
     ]
    }
   ],
   "source": [
    "# 12 Create a Python program that identifies the type of a triangle (e.g., equilateral, isosceles, or scalene) based on input values using if-else.\n",
    "\n",
    "triange_side_1 = int(input(\"1st side of triangle =\"))\n",
    "triange_side_2 = int(input(\"2nd side of triangle =\"))\n",
    "triange_side_3 = int(input(\"3rd side of triangle =\"))\n",
    "\n",
    "if triange_side_1 == triange_side_2 == triange_side_3:\n",
    "    print(f\"The given triangle with sides {triange_side_1},{triange_side_2} and {triange_side_1} is a equilateral Triangle\")\n",
    "elif triange_side_1 == triange_side_2 or  triange_side_1 == triange_side_3 or triange_side_2 == triange_side_3:\n",
    "    print(f\"The given triangle with sides {triange_side_1},{triange_side_2} and {triange_side_1} is a isosceles Triangle\")\n",
    "else:\n",
    "    print(f\"The given triangle with sides {triange_side_1},{triange_side_2} and {triange_side_1} is a scalene Triangle\")\n",
    "        "
   ]
  },
  {
   "cell_type": "code",
   "execution_count": 14,
   "id": "5d5fd7d5-46b4-47fb-86e7-ce0292ecdd6b",
   "metadata": {},
   "outputs": [
    {
     "name": "stdin",
     "output_type": "stream",
     "text": [
      "Enter a date in DD/MM/YYYY format 28/11/2023\n"
     ]
    },
    {
     "name": "stdout",
     "output_type": "stream",
     "text": [
      "The day of the week for 28/11/2023 is Tuesday.\n"
     ]
    }
   ],
   "source": [
    "# Write a Python program to determine the day of the week based on a user-provided number using if-else.\n",
    "\n",
    "date = input(\"Enter a date in DD/MM/YYYY format\")\n",
    "\n",
    "month = 0\n",
    "year = 0\n",
    "Day = 0\n",
    "dates_seperated = date.split(\"/\")\n",
    "Day += int(dates_seperated[0])\n",
    "month += int(dates_seperated[1])\n",
    "year += int(dates_seperated[2])\n",
    "\n",
    "\n",
    "import calendar \n",
    "\n",
    "\n",
    "day_of_week = calendar.weekday(year, month, Day)\n",
    "day_name = calendar.day_name[day_of_week]\n",
    "\n",
    "print(f\"The day of the week for {date} is {day_name}.\")"
   ]
  },
  {
   "cell_type": "code",
   "execution_count": 15,
   "id": "9187787d-887d-4e6a-bb2f-ff68dcbc39d7",
   "metadata": {},
   "outputs": [
    {
     "name": "stdin",
     "output_type": "stream",
     "text": [
      "please mention year that you want to check is a Leap year or not 2023\n"
     ]
    },
    {
     "name": "stdout",
     "output_type": "stream",
     "text": [
      "2023 is not Leap year\n"
     ]
    }
   ],
   "source": [
    "# Create a Python program that checks if a given year is a leap year using both if-else and a function\n",
    "\n",
    "Year = int(input(\"please mention year that you want to check is a Leap year or not\"))\n",
    "\n",
    "if Year % 4 == 0 and Year%100 == 0:\n",
    "\tprint(f\"{Year} is Leap year and it is also a Century year\")\n",
    "elif Year%4 == 0 and Year%100 != 0:\n",
    "\tprint(f\"{Year} is Leap year\")\n",
    "else:\n",
    "\tprint(f\"{Year} is not Leap year\")   \n"
   ]
  },
  {
   "cell_type": "code",
   "execution_count": 19,
   "id": "79584586-afde-4884-8fc2-80196bb1f6c1",
   "metadata": {},
   "outputs": [
    {
     "name": "stdout",
     "output_type": "stream",
     "text": [
      "7.0\n",
      "The provided number is a perfect square\n"
     ]
    }
   ],
   "source": [
    "# Write a Python program to determine if a given number is a perfect square using if-else.\n",
    "\n",
    "num = 49\n",
    "\n",
    "\n",
    "sqrt_num = num ** 0.5 \n",
    "print(sqrt_num)\n",
    "if sqrt_num.is_integer():  \n",
    "    print(\"The provided number is a perfect square\")  \n",
    "else:  \n",
    "    print(\"The provided number is not a perfect square\")  "
   ]
  },
  {
   "cell_type": "code",
   "execution_count": 20,
   "id": "8ef70497-0018-491e-8bdc-fc624455df0e",
   "metadata": {},
   "outputs": [
    {
     "name": "stdin",
     "output_type": "stream",
     "text": [
      "What is your Height in meters 1.75\n",
      "what is your weight in KG 70\n"
     ]
    },
    {
     "name": "stdout",
     "output_type": "stream",
     "text": [
      "Your BMI is 20.0\n",
      "You falls within the Healthy Weight range to mantain this kindly follow below steps\n",
      "1. Maintain same calaries\n",
      "2. Continue exercising\n",
      "3 Do both strength and cardio\n"
     ]
    }
   ],
   "source": [
    "# Create a Python program that calculates the BMI (Body Mass Index) of a person based on their weight and height using if-else.\n",
    "\n",
    "height = float(input(\"What is your Height in meters\"))\n",
    "weight = float(input(\"what is your weight in KG\"))\n",
    "\n",
    "BMI = weight/(height*2)\n",
    "\n",
    "print(f\"Your BMI is {BMI}\")             \n",
    "if BMI < 18.5:\n",
    "    print(\"You are athletic but under weight kindly follow below steps\\n1. Get more caleries \\n2. Do more strength training \\n3. Less cardio\")\n",
    "elif BMI >= 18.5 and BMI < 25:\n",
    "    print(\"You falls within the Healthy Weight range to mantain this kindly follow below steps\\n1. Maintain same calaries\\n2. Continue exercising\\n3 Do both strength and cardio\")\n",
    "else:\n",
    "    print(\"you are overweight, kindly follow below\\n1. Do regular exercise\\n2. Eat less calories\")\n"
   ]
  },
  {
   "cell_type": "code",
   "execution_count": 23,
   "id": "91919b23-ed16-4482-90e9-00596c8ad51a",
   "metadata": {},
   "outputs": [
    {
     "data": {
      "text/plain": [
       "[1, 4, 9]"
      ]
     },
     "execution_count": 23,
     "metadata": {},
     "output_type": "execute_result"
    }
   ],
   "source": [
    "# Map :-\n",
    "\n",
    "# 1 Explain the purpose of the `map()` function in Python and provide an example of how it can be used to apply a function to each element of an iterable.\n",
    "\n",
    "\" Ans - MAP is used to use a function and use it on iterable\"\n",
    "l = [1,2,3]\n",
    "\n",
    "def sq(x):\n",
    "    return x**2\n",
    "list(map(sq,l))"
   ]
  },
  {
   "cell_type": "code",
   "execution_count": 24,
   "id": "2ccb57c3-0ae5-4880-a541-0613d1c8e936",
   "metadata": {},
   "outputs": [
    {
     "data": {
      "text/plain": [
       "[1, 4, 9]"
      ]
     },
     "execution_count": 24,
     "metadata": {},
     "output_type": "execute_result"
    }
   ],
   "source": [
    "# 2 Write a Python program that uses the `map()` function to square each element of a list of numbers.\n",
    "\n",
    "l = [1,2,3]\n",
    "\n",
    "def sq(x):\n",
    "    return x**2\n",
    "list(map(sq,l))"
   ]
  },
  {
   "cell_type": "code",
   "execution_count": 27,
   "id": "0ad68606-372d-45c2-9b38-2ed4cab93711",
   "metadata": {},
   "outputs": [
    {
     "data": {
      "text/plain": [
       "['TAAPAS', 'TANVI']"
      ]
     },
     "execution_count": 27,
     "metadata": {},
     "output_type": "execute_result"
    }
   ],
   "source": [
    "# Create a Python program that uses the `map()` function to convert a list of names to uppercase.\n",
    "\n",
    "l = [\"taapas\",\"tanvi\"]\n",
    "\n",
    "def upp(x):\n",
    "    return x.upper()\n",
    "    \n",
    "list(map(upp,l))"
   ]
  },
  {
   "cell_type": "code",
   "execution_count": 1,
   "id": "feb883d7-ee9e-48c1-9009-68cbc4e0f6eb",
   "metadata": {},
   "outputs": [
    {
     "data": {
      "text/plain": [
       "[6, 5]"
      ]
     },
     "execution_count": 1,
     "metadata": {},
     "output_type": "execute_result"
    }
   ],
   "source": [
    "# 3 Write a Python program that uses the `map()` function to calculate the length of each word in a list of strings.\n",
    "\n",
    "l = [\"taapas\",\"tanvi\"]\n",
    "\n",
    "\n",
    "def count_of_words(x):\n",
    "        return len(x)\n",
    "    \n",
    "list(map(count_of_words,l))"
   ]
  },
  {
   "cell_type": "code",
   "execution_count": 4,
   "id": "4401d70d-041f-4a43-9cbf-adf3b422fde7",
   "metadata": {},
   "outputs": [
    {
     "data": {
      "text/plain": [
       "['TAAPAS', 'TANVI']"
      ]
     },
     "execution_count": 4,
     "metadata": {},
     "output_type": "execute_result"
    }
   ],
   "source": [
    "# 4  Create a Python program that uses the `map()` function to convert a list of names to uppercase\n",
    "\n",
    "l = [\"taapas\",\"tanvi\"]\n",
    "\n",
    "def upp(x):\n",
    "    return x.upper()\n",
    "\n",
    "list(map(upp,l))\n"
   ]
  },
  {
   "cell_type": "code",
   "execution_count": 5,
   "id": "53b92a33-ce82-49d1-b9f9-04c86d5393b2",
   "metadata": {},
   "outputs": [
    {
     "data": {
      "text/plain": [
       "[6, 5]"
      ]
     },
     "execution_count": 5,
     "metadata": {},
     "output_type": "execute_result"
    }
   ],
   "source": [
    "# 5 Write a Python program that uses the `map()` function to calculate the length of each word in a list of strings\n",
    "l = [\"taapas\",\"tanvi\"]\n",
    "\n",
    "\n",
    "def count_of_words(x):\n",
    "        return len(x)\n",
    "    \n",
    "list(map(count_of_words,l))\n"
   ]
  },
  {
   "cell_type": "code",
   "execution_count": 6,
   "id": "841cda79-2018-4a7e-9a6c-f6387988e0f8",
   "metadata": {},
   "outputs": [
    {
     "data": {
      "text/plain": [
       "[10, 10, 10, 10]"
      ]
     },
     "execution_count": 6,
     "metadata": {},
     "output_type": "execute_result"
    }
   ],
   "source": [
    "# 6. How can you use the `map()` function to apply a custom function to elements of multiple lists simultaneously in Python?\n",
    "\n",
    "\"\"\" by using Lamda function, eg below\"\"\"\n",
    "l1 = [1,2,3,4]\n",
    "l2 = [9,8,7,6]\n",
    "\n",
    "list(map(lambda x,y : x+y,l1,l2))\n",
    "    \n",
    "    "
   ]
  },
  {
   "cell_type": "code",
   "execution_count": 10,
   "id": "12ba9889-8dc1-4938-a899-39201178c396",
   "metadata": {},
   "outputs": [
    {
     "name": "stdout",
     "output_type": "stream",
     "text": [
      " [100, 50, 10] Celsius = [212.0, 122.0, 50.0] Fahrenheit\n"
     ]
    }
   ],
   "source": [
    "# Create a Python program that uses `map()` to convert a list of temperatures from Celsius to Fahrenheit\n",
    "\n",
    "tem_c = [100,50,10]\n",
    "\n",
    "def c_to_f(x):\n",
    "    return (x*(9/5))+32 \n",
    "\n",
    "y = list(map(c_to_f,tem_c))\n",
    "        \n",
    "print(f\" {tem_c} Celsius = {y} Fahrenheit\")"
   ]
  },
  {
   "cell_type": "code",
   "execution_count": 14,
   "id": "14e15369-da38-450f-bea1-c3715316c2cd",
   "metadata": {},
   "outputs": [
    {
     "name": "stdout",
     "output_type": "stream",
     "text": [
      "[0.1, 5.23, 65.25, 5.6656232, 56, 8.12, 9.99]\n",
      "\n",
      "Above list has been rounded to nearest results\n",
      "\n",
      "[0, 5, 65, 6, 56, 8, 10]\n"
     ]
    }
   ],
   "source": [
    "#  Write a Python program that uses the `map()` function to round each element of a list of floating-point numbers to the nearest integer\n",
    "\n",
    "l = [0.1,5.23,65.25,5.6656232,56,8.12,9.99]\n",
    "\n",
    "def Round(x):\n",
    "    return round(x)\n",
    "\n",
    "rounded_list = list(map(Round,l))\n",
    "\n",
    "print(f\"{l}\\n\\nAbove list has been rounded to nearest results\\n\\n{rounded_list}\")"
   ]
  },
  {
   "cell_type": "code",
   "execution_count": null,
   "id": "2893e4e5-1161-42a6-9d2e-f7309dd43f75",
   "metadata": {},
   "outputs": [],
   "source": [
    "\" Reduce \"\n",
    "\n",
    "\n",
    "# 1 What is the `reduce()` function in Python, and what module should you import to use it? Provide an example of its basic usage.\n",
    "\n",
    "\"\"\"Reduce is use to reduce the list\n",
    "You have to import it from “functools”\n",
    "\n",
    "mostly used to multiply or reduce the list\"\"\""
   ]
  },
  {
   "cell_type": "code",
   "execution_count": 1,
   "id": "ad704472-4443-4577-831f-4b95ec73ccef",
   "metadata": {},
   "outputs": [
    {
     "data": {
      "text/plain": [
       "8736000"
      ]
     },
     "execution_count": 1,
     "metadata": {},
     "output_type": "execute_result"
    }
   ],
   "source": [
    "# 2 Write a Python program that uses the `reduce()` function to find the product of all elements in a list.\n",
    "\n",
    "from functools import reduce\n",
    "\n",
    "l = [1, 5, 65, 6, 56, 8, 10]\n",
    "\n",
    "reduce(lambda x,y : x*y,l)"
   ]
  },
  {
   "cell_type": "code",
   "execution_count": 5,
   "id": "cbe214bc-2ad4-4e58-acf2-15bd84937447",
   "metadata": {},
   "outputs": [
    {
     "data": {
      "text/plain": [
       "65"
      ]
     },
     "execution_count": 5,
     "metadata": {},
     "output_type": "execute_result"
    }
   ],
   "source": [
    "# 3 Create a Python program that uses `reduce()` to find the maximum element in a list of numbers.\n",
    "\n",
    "l = [1, 5, 65, 6, 56, 8, 10]\n",
    "\n",
    "def Max(l1):\n",
    "    return max(l1)\n",
    "\n",
    "reduce(max,l)"
   ]
  },
  {
   "cell_type": "code",
   "execution_count": 11,
   "id": "d5dc52d7-e269-4d87-bd29-752cfea416f9",
   "metadata": {},
   "outputs": [
    {
     "data": {
      "text/plain": [
       "'Taapas Sharma'"
      ]
     },
     "execution_count": 11,
     "metadata": {},
     "output_type": "execute_result"
    }
   ],
   "source": [
    "# How can you use the `reduce()` function to concatenate a list of strings into a single string?\n",
    "\n",
    "l = [\"Taapas\",\" \",\"Sharma\"]\n",
    "\n",
    "def collate(x,y):\n",
    "    return x+y\n",
    "reduce(collate,l)\n"
   ]
  },
  {
   "cell_type": "code",
   "execution_count": 20,
   "id": "32007005-5d70-4cff-b8e8-978482bb1868",
   "metadata": {},
   "outputs": [
    {
     "data": {
      "text/plain": [
       "120"
      ]
     },
     "execution_count": 20,
     "metadata": {},
     "output_type": "execute_result"
    }
   ],
   "source": [
    "# 5 Write a Python program that calculates the factorial of a number using the `reduce()` functio\n",
    "\n",
    "num = 5\n",
    "\n",
    "\n",
    "def factorial(x,y):\n",
    "    return x*y\n",
    "\n",
    "reduce(factorial,range(1,num+1))\n",
    "\n"
   ]
  },
  {
   "cell_type": "code",
   "execution_count": 8,
   "id": "8f1ff75f-895c-4b6c-b74b-b3974fab085b",
   "metadata": {},
   "outputs": [
    {
     "data": {
      "text/plain": [
       "10"
      ]
     },
     "execution_count": 8,
     "metadata": {},
     "output_type": "execute_result"
    }
   ],
   "source": [
    "# 6  Create a Python program that uses `reduce()` to find the GCD (Greatest Common Divisor) of a list of numbers.\n",
    "from functools import reduce\n",
    "\n",
    "l = [10,20,30,40,50]\n",
    "\n",
    "def GDC(x,y):\n",
    "    common = []\n",
    "    for i in range(1,min(x,y)+1):\n",
    "        if x % i == 0 and y % i == 0:\n",
    "            common.append(i)\n",
    "    return max(common)\n",
    "    \n",
    "reduce(GDC,l)\n",
    "    \n",
    "    "
   ]
  },
  {
   "cell_type": "code",
   "execution_count": 33,
   "id": "2ba4c2d5-1774-4f75-abb9-e8273298dc46",
   "metadata": {},
   "outputs": [
    {
     "name": "stdin",
     "output_type": "stream",
     "text": [
      " 12\n"
     ]
    },
    {
     "data": {
      "text/plain": [
       "479001600"
      ]
     },
     "execution_count": 33,
     "metadata": {},
     "output_type": "execute_result"
    }
   ],
   "source": [
    "# Write a Python program that calculates the factorial of a number using the `reduce()` function.\n",
    "from functools import reduce\n",
    "\n",
    "x = int(input())\n",
    "\n",
    "def factorial(x,y):\n",
    "    return x*y\n",
    "\n",
    "reduce(factorial,range(1,x+1))"
   ]
  },
  {
   "cell_type": "code",
   "execution_count": 22,
   "id": "27219e97-1351-45da-b3bd-871a2dc9bf01",
   "metadata": {},
   "outputs": [
    {
     "data": {
      "text/plain": [
       "1"
      ]
     },
     "execution_count": 22,
     "metadata": {},
     "output_type": "execute_result"
    }
   ],
   "source": [
    "# Create a Python program that uses `reduce()` to find the GCD(x,y (Greatest Common Divisor) of a list of numbers.\n",
    "\n",
    "l = [11,22,33,55,6]\n",
    "\n",
    "def GCD(x,y):\n",
    "    common = []\n",
    "    for i in range(1,min(x,y)+1):\n",
    "        if x % i == 0 and y % i==0:\n",
    "            common.append(i)\n",
    "    return max(common)\n",
    "\n",
    "reduce(GCD,l)"
   ]
  },
  {
   "cell_type": "code",
   "execution_count": 34,
   "id": "f47b37b3-471b-4e23-8e50-86c514126150",
   "metadata": {},
   "outputs": [
    {
     "name": "stdout",
     "output_type": "stream",
     "text": [
      "136\n"
     ]
    }
   ],
   "source": [
    "# Write a Python program that uses the `reduce()` function to find the sum of the digits of a given number.\n",
    "\n",
    "x = 135056\n",
    "\n",
    "def sum_of_digits(x):\n",
    "    ls = []\n",
    "    summ = 0\n",
    "    for i in str(x):\n",
    "        ls.append(int(i))\n",
    "    for j in ls:\n",
    "        summ += summ + j\n",
    "    return summ\n",
    "\n",
    "print(sum_of_digits(x))\n",
    "        \n"
   ]
  },
  {
   "cell_type": "code",
   "execution_count": 38,
   "id": "df1dfd29-e41f-4d0d-95f3-72a68a66d1d8",
   "metadata": {},
   "outputs": [
    {
     "name": "stdout",
     "output_type": "stream",
     "text": [
      "FILTER :-\n"
     ]
    },
    {
     "data": {
      "text/plain": [
       "'filter out a iterable using the function'"
      ]
     },
     "execution_count": 38,
     "metadata": {},
     "output_type": "execute_result"
    }
   ],
   "source": [
    "a = \"Filter :-\"\n",
    "\n",
    "\n",
    "\n",
    "# Explain the purpose of the `filter()` function in Python and provide an example of how it can be used to filter elements from an iterable.\n",
    "\n",
    "\"filter out a iterable using the function\""
   ]
  },
  {
   "cell_type": "code",
   "execution_count": 1,
   "id": "d5fbf08b-e5bf-4c8e-8038-d26d6d13419b",
   "metadata": {},
   "outputs": [
    {
     "name": "stdout",
     "output_type": "stream",
     "text": [
      "[2, 4, 6, 8, 10, 12, 14, 16, 18, 20, 22, 24, 26, 28, 30, 32, 34, 36, 38, 40, 42, 44, 46, 48, 50, 52, 54, 56, 58, 60, 62, 64, 66, 68, 70, 72, 74, 76, 78, 80, 82, 84, 86, 88, 90, 92, 94, 96, 98, 100]\n"
     ]
    }
   ],
   "source": [
    "# 2. Write a Python program that uses the `filter()` function to select even numbers from a list of integers.\n",
    "\n",
    "l = range(1,101)\n",
    "\n",
    "range_1 = list(filter(lambda x: x % 2 == 0,l))\n",
    "print(range_1)"
   ]
  },
  {
   "cell_type": "code",
   "execution_count": 5,
   "id": "bc4f2124-5ce1-4c15-afa7-3dd4800c66a7",
   "metadata": {},
   "outputs": [
    {
     "name": "stdout",
     "output_type": "stream",
     "text": [
      "['Taapas Sharma', 'Tanishk Sharma']\n"
     ]
    }
   ],
   "source": [
    "# 3 Create a Python program that uses the `filter()` function to select names that start with a specific letter from a list of strings.\n",
    "\n",
    "l = [\"Taapas Sharma\",\"Tanishk Sharma\",\"Sahil Arora\",\"Anmol Bhalla\",\"Jatin Sapru\"]\n",
    "\n",
    "range_1 = list(filter(lambda x: x.startswith('T'),l))\n",
    "\n",
    "print(range_1)"
   ]
  },
  {
   "cell_type": "code",
   "execution_count": 22,
   "id": "34fd277a-e6d9-4a1f-ad7d-3f00d80313dd",
   "metadata": {},
   "outputs": [
    {
     "name": "stdout",
     "output_type": "stream",
     "text": [
      "[2, 3, 5, 7, 11, 13, 17, 19, 23, 29, 31, 37, 41, 43, 47, 53, 59, 61, 67, 71, 73, 79, 83, 89, 97]\n"
     ]
    }
   ],
   "source": [
    "# 4 Write a Python program that uses the `filter()` function to select prime numbers from a list of integers.\n",
    "\n",
    "l = range(2,101)\n",
    "\n",
    "prime = list(filter(lambda x: all(x % i !=  0 for i in range(2,x)),l))\n",
    "             # The all() function ensures that this condition holds for all elements in the range.\n",
    "print(prime)"
   ]
  },
  {
   "cell_type": "code",
   "execution_count": 25,
   "id": "bfa592a2-8518-4ddd-b0f1-59b8c5b99030",
   "metadata": {},
   "outputs": [
    {
     "name": "stdout",
     "output_type": "stream",
     "text": [
      "[11, 22, 33, 55, 6]\n"
     ]
    }
   ],
   "source": [
    "# 5 How can you use the `filter()` function to remove None values from a list in Python?\n",
    "\n",
    "l = [11,None,22,33,None,55,6,None]\n",
    "\n",
    "val_without_none = [i for i in l if i != None]\n",
    "print(val_without_none)"
   ]
  },
  {
   "cell_type": "code",
   "execution_count": 28,
   "id": "ea72226d-0d68-4015-93eb-7c843e967807",
   "metadata": {},
   "outputs": [
    {
     "name": "stdout",
     "output_type": "stream",
     "text": [
      "['Tanishk Sharma']\n"
     ]
    }
   ],
   "source": [
    "# 6 Create a Python program that uses `filter()` to select words longer than a certain length from a list of strings.\n",
    "\n",
    "l = [\"Taapas Sharma\",\"Tanishk Sharma\",\"Sahil Arora\",\"Anmol Bhalla\",\"Jatin Sapru\"]\n",
    "\n",
    "list_of_strings = list(filter(lambda x: len(x) >= 14,l))\n",
    "\n",
    "print(list_of_strings)\n"
   ]
  },
  {
   "cell_type": "code",
   "execution_count": 21,
   "id": "630db77e-e006-47df-9784-16f9a9b90341",
   "metadata": {},
   "outputs": [
    {
     "name": "stdout",
     "output_type": "stream",
     "text": [
      "Orignal list: [1, 30, 25, 27, 28, 15, 14, 9, 6]\n",
      "Values greater than 15 : [30, 25, 27, 28]\n"
     ]
    }
   ],
   "source": [
    "# 7 Write a Python program that uses the `filter()` function to select elements greater than a specified threshold from a list of values.\n",
    "\n",
    "values = [1,30,25,27,28,15,14,9,6]\n",
    "thresholds = 15\n",
    "def threshold(x,y):\n",
    "    threshold_val = list(filter(lambda x: x>thresholds,values))\n",
    "    return threshold_val\n",
    "\n",
    "\n",
    "    \n",
    "print(f\"Orignal list: {values}\")\n",
    "print(f\"Values greater than {thresholds} : {threshold(values,thresholds)}\")"
   ]
  },
  {
   "cell_type": "code",
   "execution_count": null,
   "id": "fb68764f-d5a1-4a69-b6dc-32aa60996f67",
   "metadata": {},
   "outputs": [],
   "source": [
    "\"Recursion:-\"\n",
    "\n",
    "# 1. Explain the concept of recursion in Python. How does it differ from iteration?\n",
    "\n",
    "\"\"\"\"Recursion is a programming technique where a function calls itself in its own definition. In other words, \n",
    "a problem is solved by solving smaller instances of the same problem\"\"\"\n",
    "\n",
    "# diffrence\n",
    "\n",
    "\"\"\"Recursion relies on the function calling itself, creating a chain of function calls. Each call adds a new frame\n",
    "to the call stack. Iteration uses looping constructs to repeat a set of statements until a condition is met.\"\"\"\n"
   ]
  },
  {
   "cell_type": "code",
   "execution_count": 22,
   "id": "1f137ecd-faed-46d5-adba-095bc7135ba9",
   "metadata": {},
   "outputs": [
    {
     "name": "stdout",
     "output_type": "stream",
     "text": [
      "120\n"
     ]
    }
   ],
   "source": [
    "# 2. Write a Python program to calculate the factorial of a number using recursion.\n",
    "\n",
    "def factorial(x):\n",
    "    if x == 1 or x == 0:\n",
    "        return 1\n",
    "    else:\n",
    "        return x*factorial(x-1)\n",
    "    \n",
    "print(factorial(5))"
   ]
  },
  {
   "cell_type": "code",
   "execution_count": 29,
   "id": "6168214b-2609-47f0-8592-64189a112f78",
   "metadata": {},
   "outputs": [
    {
     "name": "stdout",
     "output_type": "stream",
     "text": [
      "15\n"
     ]
    }
   ],
   "source": [
    "# 3. Create a recursive Python function to find the nth Fibonacci(x) number.\n",
    "a,b=0,1\n",
    "def Fibonacci(x):\n",
    "    if x == 1:\n",
    "        return 1\n",
    "    elif x == 0:\n",
    "        return 0\n",
    "    else:\n",
    "        return x + Fibonacci(x-1)\n",
    "\n",
    "print(Fibonacci(5))"
   ]
  },
  {
   "cell_type": "code",
   "execution_count": 6,
   "id": "fe756c23-dad1-41b7-9a9b-919b6ad16428",
   "metadata": {},
   "outputs": [
    {
     "name": "stdout",
     "output_type": "stream",
     "text": [
      "45\n"
     ]
    }
   ],
   "source": [
    "# 4. Write a recursive Python function to calculate the sum of all elements in a list.\n",
    "\n",
    "\n",
    "\n",
    "def summ(x):\n",
    "    if not x:\n",
    "        return 0\n",
    "    else:\n",
    "        return x[0]+ summ(x[1:])  #x[1:] is used when you have no idea about the length of numbers in l\n",
    "l = [1,2,3,4,5,6,7,8,9]   \n",
    "result = summ(l)\n",
    "\n",
    "print(result)"
   ]
  },
  {
   "cell_type": "code",
   "execution_count": 8,
   "id": "c5593ae6-6192-47f9-ba1c-d51635140cb4",
   "metadata": {},
   "outputs": [
    {
     "name": "stdout",
     "output_type": "stream",
     "text": [
      "The GCD of 48 and 18 is: 6\n"
     ]
    }
   ],
   "source": [
    "# Create a recursive Python function to find the greatest common divisor (GCD) of two numbers using the Euclidean algorithm.\n",
    "\n",
    "\n",
    "def gcd(a, b):\n",
    "    if b == 0:\n",
    "        return a\n",
    "    else:\n",
    "        return gcd(b, a % b)\n",
    "\n",
    "num1 = 48\n",
    "num2 = 18\n",
    "\n",
    "result = gcd(num1, num2)\n",
    "\n",
    "print(f\"The GCD of {num1} and {num2} is: {result}\")\n",
    "\n"
   ]
  },
  {
   "cell_type": "code",
   "execution_count": 10,
   "id": "852019d6-cb9b-49ce-bd1f-ef4e3eabcc1f",
   "metadata": {},
   "outputs": [
    {
     "name": "stdout",
     "output_type": "stream",
     "text": [
      " 7 raised to power 3 = 343\n"
     ]
    }
   ],
   "source": [
    "# 8 Create a recursive Python function to calculate the power of a number (x^n).\n",
    "\n",
    "def no_to_power(x,n):\n",
    "    if n == 0:\n",
    "        return 1\n",
    "    else:\n",
    "        return x**n\n",
    "    \n",
    "number = 7\n",
    "power = 3\n",
    "\n",
    "result = no_to_power(number,power)\n",
    "\n",
    "print(f\" {number} raised to power {power} = {result}\")\n",
    "\n"
   ]
  },
  {
   "cell_type": "code",
   "execution_count": 14,
   "id": "14de7399-9ba6-42bd-b055-f1d3b9bf9554",
   "metadata": {},
   "outputs": [
    {
     "name": "stdout",
     "output_type": "stream",
     "text": [
      "level is a palindrome\n"
     ]
    }
   ],
   "source": [
    "# 10. Write a recursive Python function to check if a string is a palindrome.\n",
    "\n",
    "def palindrome(x):\n",
    "    if x != x[::-1]:\n",
    "        return f\"{x} is not a palindrome\"\n",
    "    else:\n",
    "        return f\"{x} is a palindrome\"\n",
    "    \n",
    "print(palindrome(\"level\"))"
   ]
  },
  {
   "cell_type": "code",
   "execution_count": null,
   "id": "8006f345-197b-4021-b853-39e1c4b76860",
   "metadata": {},
   "outputs": [],
   "source": [
    "# Basics of Functions:\n",
    "\n",
    "\n",
    "# 1. What is a function in Python, and why is it used?\n",
    "\n",
    "\n",
    "\"\"\"A function is a block of code which only runs when it is called.\n",
    "\n",
    "You can pass data, known as parameters, into a function.\n",
    "\n",
    "A function can return data as a result.\"\"\""
   ]
  },
  {
   "cell_type": "code",
   "execution_count": null,
   "id": "c4e83f33-f1d1-4547-968a-d3e153c3d80e",
   "metadata": {},
   "outputs": [],
   "source": [
    "# 3 Explain the difference between a function definition and a function call.\n",
    "\n",
    "\"\"\"a function is a block of code that performs a specific task, while a function call is an expression that invokes a function and executes the code in the function.\"\"\""
   ]
  },
  {
   "cell_type": "code",
   "execution_count": 15,
   "id": "ae880eb9-0b99-4a61-9dbf-e05f9a4ddf06",
   "metadata": {},
   "outputs": [
    {
     "name": "stdout",
     "output_type": "stream",
     "text": [
      "15\n"
     ]
    }
   ],
   "source": [
    "#  Write a Python program that defines a function to calculate the sum of two numbers and then calls the function.\n",
    "\n",
    "def Sum(x,y):\n",
    "    return x+y\n",
    "\n",
    "print(Sum(10,5))"
   ]
  },
  {
   "cell_type": "code",
   "execution_count": 19,
   "id": "5eb80aa5-fb64-4ec8-b440-a084eccbd5a3",
   "metadata": {},
   "outputs": [
    {
     "name": "stdin",
     "output_type": "stream",
     "text": [
      "enter a number 10\n",
      "enter other number 12\n"
     ]
    },
    {
     "name": "stdout",
     "output_type": "stream",
     "text": [
      "product of 10 and 12 = 120\n"
     ]
    }
   ],
   "source": [
    "# Create a Python function that takes two arguments and returns their product.\n",
    "\n",
    "def product(x,y):\n",
    "    return x * y\n",
    "\n",
    "a = int(input(\"enter a number\"))\n",
    "b = int(input(\"enter other number\"))\n",
    "        \n",
    "result = product(a,b)\n",
    "print(f\"product of {a} and {b} = {result}\")"
   ]
  },
  {
   "cell_type": "code",
   "execution_count": 22,
   "id": "d7606bfe-9933-47a0-be09-446371fe8eaf",
   "metadata": {},
   "outputs": [
    {
     "name": "stdout",
     "output_type": "stream",
     "text": [
      "1\n",
      "2\n",
      "3\n",
      "4\n",
      "name: John\n",
      "age: 25\n",
      "city: ExampleCity\n"
     ]
    }
   ],
   "source": [
    "# Function Parameters and Arguments:\n",
    "\n",
    "# 5. What is the purpose of the `*args` and `**kwargs` syntax in function parameter lists?\n",
    "\n",
    "# *args allows a function to accept any number of positional arguments. It collects these arguments into a tuple.\n",
    "\n",
    "def example_function(*args):\n",
    "    for arg in args:\n",
    "        print(arg)\n",
    "\n",
    "example_function(1, 2, 3, 4)\n",
    "\n",
    "# **kwargs allows a function to accept any number of keyword arguments. It collects these arguments into a dictionary.\n",
    "\n",
    "def example_function(**kwargs):\n",
    "    for key, value in kwargs.items():\n",
    "        print(f\"{key}: {value}\")\n",
    "\n",
    "example_function(name=\"John\", age=25, city=\"ExampleCity\")"
   ]
  },
  {
   "cell_type": "code",
   "execution_count": 26,
   "id": "618a9351-09e0-43e0-a781-989eaf9ddefb",
   "metadata": {},
   "outputs": [
    {
     "name": "stdout",
     "output_type": "stream",
     "text": [
      "120\n"
     ]
    }
   ],
   "source": [
    "# 4. Create a Python function that calculates the factorial of a number and returns it.\n",
    "\n",
    "def factorial(x):\n",
    "    if x == 0 or x == 1:\n",
    "        return 1\n",
    "    else:\n",
    "        return x * factorial(x-1)\n",
    "\n",
    "print(factorial(5))"
   ]
  },
  {
   "cell_type": "code",
   "execution_count": null,
   "id": "77eae860-aa7b-4921-8108-906413c4aca4",
   "metadata": {},
   "outputs": [],
   "source": [
    "# 1. What are lambda functions in Python, and when are they typically used?\n",
    "\n",
    "\n",
    "# lambda is a keyword in Python for defining the anonymous function. argument(s) is a placeholder, that is a variable that will be used to hold the value you want to pass into the function expression. A lambda function can have multiple variables depending on what you want to achieve"
   ]
  },
  {
   "cell_type": "code",
   "execution_count": 3,
   "id": "5bd24a37-ed9d-45fc-8cc3-ec9892c69d75",
   "metadata": {},
   "outputs": [
    {
     "name": "stdout",
     "output_type": "stream",
     "text": [
      "[(1, 2, 3), (4, 5, 6), (7, 8, 9)]\n"
     ]
    }
   ],
   "source": [
    "# 2. Write a Python program that uses lambda functions to sort a list of tuples based on the second element\n",
    "\n",
    "l = [(4,5,6),(1,2,3),(7,8,9)]\n",
    "\n",
    "sorted_l = sorted(l, key=lambda x: x[1])\n",
    "print(sorted_l)"
   ]
  },
  {
   "cell_type": "code",
   "execution_count": null,
   "id": "bce5a68b-6087-4e3e-ad85-65c179c91a20",
   "metadata": {},
   "outputs": [],
   "source": [
    "# Explain the concept of higher-order functions in Python, and provide an example.\n",
    "\"\"\"In Python, a higher-order function is a function that takes one or more functions as arguments and/or returns a\n",
    "function as its result. This concept is based on the idea of treating functions as first-class citizens, \n",
    "meaning that functions can be treated like any other data type, such as integers or strings. Higher-order \n",
    "functions enable a functional programming style and allow for more modular and flexible code.\"\"\"\n",
    "\n"
   ]
  },
  {
   "cell_type": "code",
   "execution_count": 4,
   "id": "a7ed2847-bcce-4ccb-9fdb-4ce8de8e3799",
   "metadata": {},
   "outputs": [
    {
     "name": "stdout",
     "output_type": "stream",
     "text": [
      "Original numbers: [1, 2, 3, 4, 5]\n",
      "Squared numbers: [1, 4, 9, 16, 25]\n",
      "Doubled numbers: [2, 4, 6, 8, 10]\n"
     ]
    }
   ],
   "source": [
    "def apply_operation(operation, operand_list):\n",
    "    result = []\n",
    "    for operand in operand_list:\n",
    "        result.append(operation(operand))\n",
    "    return result\n",
    "\n",
    "# Example functions to be used with apply_operation\n",
    "def square(x):\n",
    "    return x ** 2\n",
    "\n",
    "def double(x):\n",
    "    return x * 2\n",
    "\n",
    "# Using the higher-order function with different operations\n",
    "numbers = [1, 2, 3, 4, 5]\n",
    "\n",
    "squared_numbers = apply_operation(square, numbers)\n",
    "doubled_numbers = apply_operation(double, numbers)\n",
    "\n",
    "print(\"Original numbers:\", numbers)\n",
    "print(\"Squared numbers:\", squared_numbers)\n",
    "print(\"Doubled numbers:\", doubled_numbers)"
   ]
  },
  {
   "cell_type": "code",
   "execution_count": 1,
   "id": "74e64386-1957-41b5-9b8a-265ce81b20fa",
   "metadata": {},
   "outputs": [
    {
     "name": "stdout",
     "output_type": "stream",
     "text": [
      "even numbers that has been filtered out in range 1 to 105 are :\n",
      "[2, 4, 6, 8, 10, 12, 14, 16, 18, 20, 22, 24, 26, 28, 30, 32, 34, 36, 38, 40, 42, 44, 46, 48, 50, 52, 54, 56, 58, 60, 62, 64, 66, 68, 70, 72, 74, 76, 78, 80, 82, 84, 86, 88, 90, 92, 94, 96, 98, 100, 102, 104]\n"
     ]
    }
   ],
   "source": [
    "# 3. Explain the concept of higher-order functions in Python, and provide an example.\n",
    "\n",
    "# In Python, a higher-order function is a function that takes one or more functions as arguments and/or returns a function as its result. This concept is based on the idea of treating functions as first-class citizens, meaning that functions can be treated like any other data type, such as integers or strings. Higher-order functions enable a functional programming style and allow for more modular and flexible code.\n",
    "\n",
    "def filter_even(y):\n",
    "    return list(filter(lambda x: x % 2 == 0,y))\n",
    "a = 1\n",
    "b = 105\n",
    "numbers = list(range(a,b))\n",
    "\n",
    "result = filter_even(numbers)\n",
    "                \n",
    "print(f\"even numbers that has been filtered out in range {a} to {b} are :\\n{result}\") "
   ]
  },
  {
   "cell_type": "code",
   "execution_count": 2,
   "id": "51d96c57-c938-4cb9-a8c6-da651ea3901d",
   "metadata": {},
   "outputs": [
    {
     "name": "stdout",
     "output_type": "stream",
     "text": [
      "[1, 4, 9, 16, 25, 36, 49, 64, 81, 100]\n"
     ]
    }
   ],
   "source": [
    "# Create a Python function that takes a list of numbers and a function as arguments, applying the function to each element in the list.\n",
    "\n",
    "def square(x):\n",
    "    return x**2\n",
    "\n",
    "numbers = [1,2,3,4,5,6,7,8,9,10]\n",
    "\n",
    "result = list(map(square,numbers))\n",
    "\n",
    "print(result)"
   ]
  },
  {
   "cell_type": "code",
   "execution_count": 4,
   "id": "4d642e53-ad9d-4c42-913d-2c51a3f60495",
   "metadata": {},
   "outputs": [
    {
     "name": "stdout",
     "output_type": "stream",
     "text": [
      "[1, 4, 9, 16, 25, 36, 49, 64, 81, 100]\n"
     ]
    }
   ],
   "source": [
    "# 1. Describe the role of built-in functions like `len()`, `max()`, and `min()` in Python.\n",
    "\n",
    "# len - it is used to calculate the numbers of given data\n",
    "# max = it is used to find the max of given data\n",
    "# min - is used to find lowest or minimum of given data\n",
    "\n",
    "# 2 . Write a Python program that uses the `map()` function to apply a function to each element of a list.\n",
    "\n",
    "def square(x):\n",
    "    return x**2\n",
    "\n",
    "numbers = [1,2,3,4,5,6,7,8,9,10]\n",
    "\n",
    "result = list(map(square,numbers))\n",
    "\n",
    "print(result)"
   ]
  },
  {
   "cell_type": "code",
   "execution_count": 6,
   "id": "ca93e87f-ae62-41eb-8e61-5c518f1dcbfc",
   "metadata": {},
   "outputs": [
    {
     "name": "stdout",
     "output_type": "stream",
     "text": [
      "3628800\n"
     ]
    }
   ],
   "source": [
    "# 3. How does the `filter()` function work in Python, and when would you use it?It\n",
    "\n",
    "\n",
    "# It filter out a iterable using the function \n",
    "\n",
    "# 4 Create a Python program that uses the `reduce()` function to find the product of all elements in a list.\n",
    "\n",
    "from functools import reduce\n",
    "\n",
    "def square(x,y):\n",
    "    return x*y\n",
    "\n",
    "\n",
    "numbers = [1,2,3,4,5,6,7,8,9,10]\n",
    "\n",
    "result = reduce(lambda x,y: x*y,numbers)\n",
    "\n",
    "print(result)"
   ]
  },
  {
   "cell_type": "code",
   "execution_count": null,
   "id": "a888507a-6c7f-44d4-8102-716bd5320aa5",
   "metadata": {},
   "outputs": [],
   "source": [
    "# 1. Explain the purpose of docstrings in Python functions and how to write them.\n",
    "\n",
    "\n",
    "\"\"\" Docstrings in Python are used to provide documentation or descriptive information about modules, \n",
    " functions, classes, or methods. They serve as a form of inline documentation, helping developers and users\n",
    "understand the purpose and usage of the code.\"\"\"\n",
    "\n"
   ]
  }
 ],
 "metadata": {
  "kernelspec": {
   "display_name": "Python 3 (ipykernel)",
   "language": "python",
   "name": "python3"
  },
  "language_info": {
   "codemirror_mode": {
    "name": "ipython",
    "version": 3
   },
   "file_extension": ".py",
   "mimetype": "text/x-python",
   "name": "python",
   "nbconvert_exporter": "python",
   "pygments_lexer": "ipython3",
   "version": "3.10.8"
  }
 },
 "nbformat": 4,
 "nbformat_minor": 5
}
