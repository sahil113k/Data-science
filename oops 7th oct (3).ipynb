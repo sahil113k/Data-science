{
 "cells": [
  {
   "cell_type": "code",
   "execution_count": 11,
   "id": "cf281688-467e-4426-9092-2cbde4f8ec60",
   "metadata": {},
   "outputs": [
    {
     "name": "stdout",
     "output_type": "stream",
     "text": [
      " 15000 deposited in your account, current balance is 23000\n",
      " 700 withrawn in your account, current balance is 22300\n",
      "current balance in account is 22300\n"
     ]
    }
   ],
   "source": [
    "\"\"\" Bank Account Create a class representing a bank account with attributes like account number, \n",
    "account holder name, and balance.Implement methods to deposit and withdraw money from the account\"\"\"\n",
    "\n",
    "class bank_Account_info:\n",
    "    def __init__(self,Name,Account_no,Balance=0.0):\n",
    "        self.Name = Name\n",
    "        self.Account_no = Account_no\n",
    "        self.Balance = Balance\n",
    "    \n",
    "    def deposit(self,amount):\n",
    "        if amount > 0:\n",
    "            self.Balance += amount\n",
    "            print(f\" {amount} deposited in your account, current balance is {self.Balance}\")\n",
    "        else:\n",
    "            print(\"Please enter a positive amount\")\n",
    "        \n",
    "    def withraw(self,amount):\n",
    "        if amount > 0 and amount <=  self.Balance:\n",
    "            self.Balance -= amount\n",
    "            print(f\" {amount} withrawn in your account, current balance is {self.Balance}\")\n",
    "        else:\n",
    "            print(\"Please enter a positive amount\")\n",
    "        \n",
    "    def get_balance(self):\n",
    "        print(f\"current balance in account is {self.Balance}\")\n",
    "        \n",
    "transaction = bank_Account_info(Name=\"Taapas\",Account_no=\"HDFC123\",Balance=8000)\n",
    "transaction.deposit(15000)\n",
    "transaction.withraw(700)\n",
    "transaction.get_balance()"
   ]
  },
  {
   "cell_type": "code",
   "execution_count": 13,
   "id": "ddf9a334-90a9-4f6b-b2fb-57e6f9cdd0d9",
   "metadata": {},
   "outputs": [
    {
     "name": "stdout",
     "output_type": "stream",
     "text": [
      " Fixed bonus = 64800.0\n",
      " Performance bonus that you have received is 97200.0\n"
     ]
    }
   ],
   "source": [
    "\"\"\"Employee Management Create a class representing an employee with attributes like employee ID, name,\n",
    "and salary. Implement methods to calculate the yearly bonus and display employee detail\"\"\"\n",
    "\n",
    "class employees:\n",
    "    def __init__(self,empID,Name,salary):\n",
    "        self.empID = empID\n",
    "        self.name = Name\n",
    "        self.salary = salary\n",
    "        \n",
    "\n",
    "# lets suppose fixed bonus in company is 10% of CTC\n",
    "    def Fixed_Bonus(self):\n",
    "        print(f\" Fixed bonus = {(self.salary*12)/10}\")\n",
    "        \n",
    "    def performance_bonus(self,rating):\n",
    "        if rating == 3:\n",
    "            bonus_p = 0.15 * (self.salary*12)\n",
    "            print(f\" Performance bonus that you have received is {bonus_p}\")\n",
    "        elif rating == 2:\n",
    "            bonus_p = 0.10 * (self.salary*12)\n",
    "            print(f\" Performance bonus that you have received is {bonus_p}\")\n",
    "        else:\n",
    "            bonus_p = 0.05 * (self.salary*12)\n",
    "            print(f\" Performance bonus that you have received is {bonus_p}\")\n",
    "\n",
    "Taapas = employees(empID=\"1407\",Name=\"Taapas Sharma\",salary=54000)\n",
    "\n",
    "Taapas.Fixed_Bonus()\n",
    "Taapas.performance_bonus(3)      "
   ]
  },
  {
   "cell_type": "code",
   "execution_count": 22,
   "id": "5de025fe-885c-4fb7-b23c-defec411b9a8",
   "metadata": {},
   "outputs": [
    {
     "name": "stdout",
     "output_type": "stream",
     "text": [
      "Kindly view vehicles available\n",
      "1. Grand i10\n",
      "2. i20\n",
      "3. baleno\n",
      "4. Eon\n"
     ]
    },
    {
     "name": "stdin",
     "output_type": "stream",
     "text": [
      "kindly mention the vehicle you want to rent -  Eon\n"
     ]
    },
    {
     "name": "stdout",
     "output_type": "stream",
     "text": [
      "Thank you for renting our vehicle, have a good timne\n"
     ]
    },
    {
     "data": {
      "text/plain": [
       "['Grand i10', 'i20', 'baleno']"
      ]
     },
     "execution_count": 22,
     "metadata": {},
     "output_type": "execute_result"
    }
   ],
   "source": [
    "\"\"\" Vehicle Rental Create a class representing a vehicle rental system. Implement\n",
    "methods to rent a vehicle, return a vehicle, and display available vehicles.\"\"\"\n",
    "\n",
    "\n",
    "class Vehicle_rental:\n",
    "    def __init__(self):\n",
    "        print(f\"Kindly view vehicles available\\n1. Grand i10\\n2. i20\\n3. baleno\\n4. Eon\")\n",
    "        self.availabe_vehicles = [\"Grand i10\",\"i20\",\"baleno\",\"Eon\"]\n",
    "        self.rented_vehicle = []\n",
    "        \n",
    "        \n",
    "    def rent_vehicle(self,selected):\n",
    "        if selected in self.availabe_vehicles:\n",
    "            self.rented_vehicle.append(selected)\n",
    "            self.availabe_vehicles.remove(selected)\n",
    "            print(\"Thank you for renting our vehicle, have a good timne\")\n",
    "        else:\n",
    "            print(\"Sorry! we do not have this vehicle\")\n",
    "            \n",
    "    def return_vehicle(self,selected):\n",
    "        if selected in self.rented_vehicle:\n",
    "            self.rented_vehicle.remove(selected)\n",
    "            self.availabe_vehicles.append(selected)\n",
    "            print(\"Thank you for returning our vehicle, have a good timne\")\n",
    "        else:\n",
    "            print(\"Sorry! this vehicle was not rented by us\")\n",
    "            \n",
    "    def display_all(self):\n",
    "        return self.availabe_vehicles\n",
    "    \n",
    "trip = Vehicle_rental()\n",
    "selected = input(\"kindly mention the vehicle you want to rent - \")\n",
    "trip.rent_vehicle(selected)\n",
    "trip.display_all()     "
   ]
  },
  {
   "cell_type": "code",
   "execution_count": 30,
   "id": "edf073d5-96f7-4af8-9018-5b8adf399909",
   "metadata": {},
   "outputs": [
    {
     "name": "stdin",
     "output_type": "stream",
     "text": [
      "enter the book you want to read harry potter 2\n"
     ]
    },
    {
     "data": {
      "text/plain": [
       "'harry potter 2 has been returned'"
      ]
     },
     "execution_count": 30,
     "metadata": {},
     "output_type": "execute_result"
    }
   ],
   "source": [
    "\"\"\" Library Catalog Create classes representing a library and a book. Implement methods to add \n",
    "books to the library, borrow books, and display available books.\"\"\"\n",
    "class Library:\n",
    "    def __init__(self):\n",
    "        self.booksavailable = [\"harry potter 1\",\"harry potter 2\",\"harry potter 3\",\"harry potter 4\",\"harry potter 5\"]\n",
    "        self.bookesborrowed = []\n",
    "        \n",
    "    def borrow(self,borrowed_out):\n",
    "        if borrowed_out in self.booksavailable:\n",
    "            self.bookesborrowed.append(borrowed_out)\n",
    "            self.booksavailable.remove(borrowed_out)\n",
    "            return f\"{borrowed_out} has been borrowed\"\n",
    "        else:\n",
    "            return \"sorry we do not have that book\"\n",
    "    \n",
    "    def return_book(self,borrowed_out):\n",
    "        if borrowed_out in self.bookesborrowed:\n",
    "            self.bookesborrowed.remove(borrowed_out)\n",
    "            self.booksavailable.append(borrowed_out)\n",
    "            return f\"{borrowed_out} has been returned\"\n",
    "        else:\n",
    "            return \"We dont think you borrowed this book from us\"\n",
    "\n",
    "borrowed_out = input(\"enter the book you want to read\")\n",
    "\n",
    "need_book = Library()\n",
    "\n",
    "need_book.borrow(borrowed_out)\n",
    "need_book.return_book(borrowed_out)"
   ]
  },
  {
   "cell_type": "code",
   "execution_count": 1,
   "id": "3d9356db-9d08-4f17-ad61-9547993d8fa3",
   "metadata": {},
   "outputs": [
    {
     "ename": "NameError",
     "evalue": "name 'product' is not defined",
     "output_type": "error",
     "traceback": [
      "\u001b[0;31m---------------------------------------------------------------------------\u001b[0m",
      "\u001b[0;31mNameError\u001b[0m                                 Traceback (most recent call last)",
      "Cell \u001b[0;32mIn[1], line 39\u001b[0m\n\u001b[1;32m     35\u001b[0m product3 \u001b[38;5;241m=\u001b[39m Product(\u001b[38;5;124m\"\u001b[39m\u001b[38;5;124mOranges\u001b[39m\u001b[38;5;124m\"\u001b[39m, \u001b[38;5;241m75\u001b[39m)\n\u001b[1;32m     37\u001b[0m inventory_system \u001b[38;5;241m=\u001b[39m inventory()\n\u001b[0;32m---> 39\u001b[0m \u001b[38;5;28mprint\u001b[39m(\u001b[43minventory_system\u001b[49m\u001b[38;5;241;43m.\u001b[39;49m\u001b[43madd_products\u001b[49m\u001b[43m(\u001b[49m\u001b[43mproduct1\u001b[49m\u001b[43m)\u001b[49m)\n\u001b[1;32m     40\u001b[0m \u001b[38;5;28mprint\u001b[39m(inventory_system\u001b[38;5;241m.\u001b[39madd_products(product2))\n\u001b[1;32m     41\u001b[0m \u001b[38;5;28mprint\u001b[39m(inventory_system\u001b[38;5;241m.\u001b[39madd_products(product3))\n",
      "Cell \u001b[0;32mIn[1], line 18\u001b[0m, in \u001b[0;36minventory.add_products\u001b[0;34m(self, product_name)\u001b[0m\n\u001b[1;32m     16\u001b[0m \u001b[38;5;28;01mdef\u001b[39;00m \u001b[38;5;21madd_products\u001b[39m(\u001b[38;5;28mself\u001b[39m,product_name):\n\u001b[1;32m     17\u001b[0m     \u001b[38;5;28;01mif\u001b[39;00m product_name \u001b[38;5;129;01mnot\u001b[39;00m \u001b[38;5;129;01min\u001b[39;00m \u001b[38;5;28mself\u001b[39m\u001b[38;5;241m.\u001b[39minventry:\n\u001b[0;32m---> 18\u001b[0m         \u001b[38;5;28mself\u001b[39m\u001b[38;5;241m.\u001b[39minventry[\u001b[43mproduct\u001b[49m\u001b[38;5;241m.\u001b[39mname] \u001b[38;5;241m=\u001b[39m product_name\n\u001b[1;32m     19\u001b[0m         \u001b[38;5;28;01mreturn\u001b[39;00m \u001b[38;5;124mf\u001b[39m\u001b[38;5;124m\"\u001b[39m\u001b[38;5;124m \u001b[39m\u001b[38;5;132;01m{\u001b[39;00mproduct_name\u001b[38;5;132;01m}\u001b[39;00m\u001b[38;5;124m added to inventory\u001b[39m\u001b[38;5;124m\"\u001b[39m\n\u001b[1;32m     20\u001b[0m     \u001b[38;5;28;01melse\u001b[39;00m:\n",
      "\u001b[0;31mNameError\u001b[0m: name 'product' is not defined"
     ]
    }
   ],
   "source": [
    "class Product:\n",
    "    def __init__(self,product,quantity):\n",
    "        self.product = product\n",
    "        self.quantity = quantity\n",
    "    \n",
    "    def update_quantity(self,new_quantity):\n",
    "        self.quantity = new_quantity\n",
    "        \n",
    "    def product_quantity(self):\n",
    "        return f\"{self.product} quantity = {self.quantity}\"\n",
    "    \n",
    "class inventory:\n",
    "    def __init__(self):\n",
    "        self.inventry = {}\n",
    "    \n",
    "    def add_products(self,product_name):\n",
    "        if product_name not in self.inventry:\n",
    "            self.inventry[product.name] = product_name\n",
    "            return f\" {product_name} added to inventory\"\n",
    "        else:\n",
    "            return f\" {product_name} already in inventory\"\n",
    "        \n",
    "    def update_quant(self,product_namee,new_quantity):\n",
    "        if product_namee in self.inventry:\n",
    "            self.inventry[product_namee].update_quantity(new_quantity)\n",
    "            return f\"Quantity of {product_namee} updated to {new_quantity}\"\n",
    "        else:\n",
    "            return f\"{product_namee} is not available in inventory\"\n",
    "        \n",
    "    def availabe_inv(self):\n",
    "        return \"\\n\".join(str(product_name) for product_name in self.inventry.values())\n",
    "    \n",
    "product1 = Product(\"Apples\", 100)\n",
    "product2 = Product(\"Bananas\", 50)\n",
    "product3 = Product(\"Oranges\", 75)\n",
    "\n",
    "inventory_system = inventory()\n",
    "\n",
    "print(inventory_system.add_products(product1))\n",
    "print(inventory_system.add_products(product2))\n",
    "print(inventory_system.add_products(product3))"
   ]
  },
  {
   "cell_type": "code",
   "execution_count": 27,
   "id": "c40aa530-dc71-483f-a360-88a2f0731f37",
   "metadata": {},
   "outputs": [
    {
     "name": "stdout",
     "output_type": "stream",
     "text": [
      "Circle Area: 154.0\n",
      "Circle Perimeter: 44.0\n"
     ]
    }
   ],
   "source": [
    "\"\"\"Shape Calculation Create a class representing a shape with attributes like length, width, and height. \n",
    "Implement methods to calculate the area and perimeter of the shape\"\"\"\n",
    "\n",
    "class Shapes:\n",
    "    def area(self):\n",
    "        pass\n",
    "    def perimeter(self):\n",
    "        pass\n",
    "    \n",
    "class Circle(Shapes):\n",
    "    \n",
    "    def __init__(self,radius):\n",
    "        self.radius = radius\n",
    "    \n",
    "    def area(self):\n",
    "        return (22/7) * (self.radius**2)\n",
    "    \n",
    "    def perimeter(self):\n",
    "        return (2 * (22/7) * self.radius)\n",
    "r = 7\n",
    "circle = Circle(r)\n",
    "\n",
    "circle_area = circle.area()\n",
    "circle_parameter = circle.perimeter()\n",
    "                \n",
    "print(f\"Circle Area: {circle_area}\")\n",
    "print(f\"Circle Perimeter: {circle_perimeter}\")"
   ]
  },
  {
   "cell_type": "code",
   "execution_count": 11,
   "id": "2c75e227-4b26-4062-a127-117fd2ac3c3c",
   "metadata": {},
   "outputs": [
    {
     "name": "stdout",
     "output_type": "stream",
     "text": [
      "****Students Details****\n",
      "\n",
      "Student Name - Taapas\n",
      "Student ID - 16752\n",
      "\n",
      "****Scored grades****\n",
      "\n",
      "Maths = 80\n",
      "English = 90\n",
      "Hindi = 99\n",
      "Taapas has scored 269 marks with wich he is at 89.66666666666666 % and secured A grade\n"
     ]
    }
   ],
   "source": [
    "\"\"\" Student Management Create a class representing a student with attributes like student ID, name, and grades.\n",
    "Implement methods to calculate the average grade and display student details\"\"\"\n",
    "\n",
    "class students:\n",
    "    def __init__(self,name,ID,grades):\n",
    "        self.name = name\n",
    "        self.ID = ID\n",
    "        self.grades = grades\n",
    "        \n",
    "    def students_details(self):\n",
    "        print(f\"****Students Details****\\n\\nStudent Name - {self.name}\\nStudent ID - {self.ID}\\n\\n****Scored grades****\\n\\nMaths = {self.grades[0]}\\nEnglish = {self.grades[1]}\\nHindi = {self.grades[2]}\")\n",
    "    \n",
    "    def average_grades(self):\n",
    "        x = sum(self.grades)\n",
    "       \n",
    "        if x >= 200:\n",
    "            return f\"{self.name} has scored {x} marks with wich he is at {(x/300)*100} % and secured A grade\"\n",
    "        elif x >= 200 and x< 100:\n",
    "            return f\"{self.name} has scored {x} marks with wich he is at {(x/300)*100} % and secured B grade\"\n",
    "        else:\n",
    "            return f\"{self.name} has scored {x} marks with wich he is at {(x/300)*100} % and  secured C grade\"\n",
    "student1= students(\"Taapas\",\"16752\",[80,90,99])\n",
    "\n",
    "student1.students_details()\n",
    "    \n",
    "print(student1.average_grades())     \n",
    "        "
   ]
  },
  {
   "cell_type": "code",
   "execution_count": 3,
   "id": "9a729bfa-162d-49cd-860d-488f34f05331",
   "metadata": {},
   "outputs": [
    {
     "name": "stdout",
     "output_type": "stream",
     "text": [
      "To - tanvigoyel@gmail.com\n",
      "CC - \n",
      "Subject = Job opprorunity\n",
      "From - tapusharma166@gmail.com\n",
      "CC - \n",
      "Subject = Job opprorunity\n",
      "None\n"
     ]
    }
   ],
   "source": [
    "\"\"\" Email Management Create a class representing an email with attributes like sender, recipient, and \n",
    "subject. Implement methods to send an email and display email details.\"\"\"\n",
    "\n",
    "class email:\n",
    "    def __init__(self,sender,recipient,subject):\n",
    "        self.sender = sender \n",
    "        self.recipient = recipient \n",
    "        self.subject = subject \n",
    "        \n",
    "    def send_email(self):\n",
    "        print(f\"To - {self.recipient}\\nCC - \\nSubject = {self.subject}\")\n",
    "        \n",
    "    def display_email(self):\n",
    "        print(f\"From - {self.sender}\\nCC - \\nSubject = {self.subject}\")\n",
    "        \n",
    "                                     \n",
    "\n",
    "Email = email(\"tapusharma166@gmail.com\",\"tanvigoyel@gmail.com\",\"Job opprorunity\")\n",
    "\n",
    "Email.send_email()\n",
    "        \n",
    "print(Email.display_email())    \n",
    "        "
   ]
  },
  {
   "cell_type": "code",
   "execution_count": 15,
   "id": "ad67ce39-0d27-4d63-87a1-5950c6f072f3",
   "metadata": {},
   "outputs": [
    {
     "name": "stdout",
     "output_type": "stream",
     "text": [
      "self.posts added by TaapasSharma\n",
      "self.posts added by TaapasSharma\n",
      "hi guys, welcome to my youtube channel please like and suscribe\n",
      "I work at Natwest\n",
      "\n",
      "1 results found with keyword \"Natwest\" check below\n",
      "\n",
      "I work at Natwest\n"
     ]
    }
   ],
   "source": [
    "\"\"\"Social Media Profile Create a class representing a social media profile with attributes like \n",
    "username and posts.Implement methods to add posts, display posts, and search for posts by keyword.\"\"\"\n",
    "\n",
    "class social_media:\n",
    "    def __init__(self,Username):\n",
    "        self.username = Username\n",
    "        self.posts = []\n",
    "        \n",
    "    def post(self,content):\n",
    "        self.posts.append(content)\n",
    "        print(f\"self.posts added by {self.username}\")\n",
    "        \n",
    "    def display_post(self):\n",
    "        if len(self.posts) == 0:\n",
    "            print(\"No posts available\")\n",
    "        elif len(self.posts) >= 1:\n",
    "            for i in self.posts:\n",
    "                print(i)\n",
    "            \n",
    "    def search_post(self,keyword):\n",
    "        matching_posts = [post for post in self.posts if keyword.lower() in post.lower()]\n",
    "        \n",
    "        if not matching_posts:\n",
    "            print(f\"No posts found containing the keyword {keyword}\")\n",
    "        else:\n",
    "            x = 0\n",
    "            for post in matching_posts:\n",
    "                x += 1\n",
    "                print(f\"\"\"\\n{x} results found with keyword \"{keyword}\" check below\\n\\n{post}\"\"\" )\n",
    "\n",
    "if __name__ == \"__main__\":\n",
    "    \n",
    "    myprofile = social_media(\"TaapasSharma\")\n",
    "    \n",
    "    myprofile.post(\"hi guys, welcome to my youtube channel please like and suscribe\")\n",
    "    myprofile.post(\"I work at Natwest\")\n",
    "    \n",
    "    \n",
    "    myprofile.display_post()\n",
    "    \n",
    "    \n",
    "    myprofile.search_post(\"Natwest\")\n",
    "    \n",
    "    \n",
    "    \n",
    "    \n",
    "\n",
    "\n"
   ]
  },
  {
   "cell_type": "code",
   "execution_count": 8,
   "id": "d9b08f3d-36fe-4246-a4b0-48d54f0a2451",
   "metadata": {},
   "outputs": [
    {
     "name": "stdout",
     "output_type": "stream",
     "text": [
      "Task 'study data science' added to the ToDo list.\n",
      "Task 'go to gym' added to the ToDo list.\n",
      "Task 'go to office' added to the ToDo list.\n",
      "Task 'study data science' marked as completed.\n",
      "{'task': 'study data science', 'due dates': '12-january-2024', 'completed': True}\n",
      "{'task': 'go to gym', 'due dates': '12-january-2024', 'completed': False}\n",
      "{'task': 'go to office', 'due dates': '12-january-2024', 'completed': False}\n"
     ]
    }
   ],
   "source": [
    "\"\"\" Problem 10: To Do List Create a class representing a ToDo list with attributes like tasks and due dates. \n",
    "Implement methods to add tasks, mark tasks as completed and display pending tasks.\"\"\"\n",
    "\n",
    "class ToDo:\n",
    "    def __init__(self):\n",
    "        self.tasks = []\n",
    "        \n",
    "    def add_task(self,task,due_dates):\n",
    "        self.tasks.append({\"task\": task, \"due dates\": due_dates, \"completed\": False})\n",
    "        print(f\"Task '{task}' added to the ToDo list.\")\n",
    "        \n",
    "    def mark_as_completed(self, task):\n",
    "        for i in self.tasks:\n",
    "            if i[\"task\"] == task:\n",
    "                i[\"completed\"] = True\n",
    "                print(f\"Task '{task}' marked as completed.\")\n",
    "                return\n",
    "        print(f\"Task '{task}' not found in the ToDo list.\")\n",
    "        \n",
    "    def display_pending_task(self):\n",
    "        for i in self.tasks:\n",
    "            print(i)\n",
    "        \n",
    "        \n",
    "t = ToDo()\n",
    "\n",
    "t.add_task(\"study data science\", \"12-january-2024\")\n",
    "t.add_task(\"go to gym\",\"12-january-2024\")\n",
    "t.add_task(\"go to office\",\"12-january-2024\")  \n",
    "t.mark_as_completed(\"study data science\")\n",
    "t.display_pending_task()\n",
    "\n",
    "\n",
    "        \n",
    "        \n",
    "        \n",
    "        \n",
    "        \n",
    "        \n",
    "        \n",
    "        "
   ]
  },
  {
   "cell_type": "code",
   "execution_count": null,
   "id": "42d44396-68a7-4356-8456-9e211eba1500",
   "metadata": {},
   "outputs": [],
   "source": []
  }
 ],
 "metadata": {
  "kernelspec": {
   "display_name": "Python 3 (ipykernel)",
   "language": "python",
   "name": "python3"
  },
  "language_info": {
   "codemirror_mode": {
    "name": "ipython",
    "version": 3
   },
   "file_extension": ".py",
   "mimetype": "text/x-python",
   "name": "python",
   "nbconvert_exporter": "python",
   "pygments_lexer": "ipython3",
   "version": "3.10.8"
  }
 },
 "nbformat": 4,
 "nbformat_minor": 5
}
