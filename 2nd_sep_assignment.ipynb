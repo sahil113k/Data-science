{
 "cells": [
  {
   "cell_type": "code",
   "execution_count": 8,
   "id": "ae675dcb-32cc-41bf-86c9-d0d65b7f7347",
   "metadata": {},
   "outputs": [
    {
     "name": "stdout",
     "output_type": "stream",
     "text": [
      "[1, 2, 3, 4, 5, 6, 7, 8, 9, 10]\n"
     ]
    }
   ],
   "source": [
    "\"Basic Level:\"\n",
    "\n",
    "# 1. Write a Python program to print the numbers from 1 to 10 using a `for` loop.\n",
    "\n",
    "a = range(1,11)\n",
    "aa = []\n",
    "for i in a:\n",
    "    aa.append(i)\n",
    "    \n",
    "print(aa)\n",
    "    "
   ]
  },
  {
   "cell_type": "code",
   "execution_count": 10,
   "id": "4fd30e29-790d-4c60-99f3-332f4622af5d",
   "metadata": {},
   "outputs": [
    {
     "name": "stdout",
     "output_type": "stream",
     "text": [
      "45\n"
     ]
    }
   ],
   "source": [
    "# 2. Create a program that calculates the sum of all numbers in a list using a `for` loop.\n",
    "\n",
    "a = list(range(10))\n",
    "sum_a = 0\n",
    "for i in a:\n",
    "    sum_a += i \n",
    "print(sum_a)"
   ]
  },
  {
   "cell_type": "code",
   "execution_count": 19,
   "id": "e4bacdf2-e268-464a-83c8-cc4b766cbc9d",
   "metadata": {},
   "outputs": [
    {
     "name": "stdout",
     "output_type": "stream",
     "text": [
      "sapaat"
     ]
    }
   ],
   "source": [
    "# 3. Write a program to print the characters of a string in reverse order using a `for` loop.\n",
    "\n",
    "a = \"taapas\"\n",
    "\n",
    "for i in reversed(a):\n",
    "    print(i,end='')"
   ]
  },
  {
   "cell_type": "code",
   "execution_count": 24,
   "id": "3ea0b635-a6ae-421a-804f-125c25f634ee",
   "metadata": {},
   "outputs": [
    {
     "name": "stdin",
     "output_type": "stream",
     "text": [
      " 5\n"
     ]
    },
    {
     "name": "stdout",
     "output_type": "stream",
     "text": [
      "120\n"
     ]
    }
   ],
   "source": [
    "# 4. Develop a program that finds the factorial of a given number using a `for` loop.\n",
    "\n",
    "a = int(input())\n",
    "factorial = 1\n",
    "for i in range(1,a+1):\n",
    "    factorial *= i\n",
    "    \n",
    "print(factorial)\n",
    "    \n",
    "    "
   ]
  },
  {
   "cell_type": "code",
   "execution_count": 42,
   "id": "5948da61-2be6-4a4c-a5d6-a25056ac18cb",
   "metadata": {},
   "outputs": [
    {
     "name": "stdin",
     "output_type": "stream",
     "text": [
      "which number table you want to learn? 5\n"
     ]
    },
    {
     "name": "stdout",
     "output_type": "stream",
     "text": [
      "5 x 1 = 5\n",
      "5 x 2 = 10\n",
      "5 x 3 = 15\n",
      "5 x 4 = 20\n",
      "5 x 5 = 25\n",
      "5 x 6 = 30\n",
      "5 x 7 = 35\n",
      "5 x 8 = 40\n",
      "5 x 9 = 45\n",
      "5 x 10 = 50\n"
     ]
    }
   ],
   "source": [
    "# 5. Create a program to print the multiplication table of a given number using a `for` loop.\n",
    "\n",
    "a = int(input(\"which number table you want to learn?\"))\n",
    "\n",
    "for i in range(1,11):\n",
    "    product = a * i\n",
    "    print(f\"{a} x {i} = {product}\")\n",
    "              \n",
    "           \n",
    "              "
   ]
  },
  {
   "cell_type": "code",
   "execution_count": 46,
   "id": "da6313ef-1601-431b-8ba4-e5e169fc8079",
   "metadata": {},
   "outputs": [
    {
     "name": "stdin",
     "output_type": "stream",
     "text": [
      " 7\n"
     ]
    },
    {
     "name": "stdout",
     "output_type": "stream",
     "text": [
      "7 x 1 = 7\n",
      "7 x 2 = 14\n",
      "7 x 3 = 21\n",
      "7 x 4 = 28\n",
      "7 x 5 = 35\n",
      "7 x 6 = 42\n",
      "7 x 7 = 49\n",
      "7 x 8 = 56\n",
      "7 x 9 = 63\n",
      "7 x 10 = 70\n",
      "7 x 11 = 77\n",
      "7 x 12 = 84\n",
      "7 x 13 = 91\n",
      "7 x 14 = 98\n",
      "7 x 15 = 105\n",
      "7 x 16 = 112\n",
      "7 x 17 = 119\n",
      "7 x 18 = 126\n",
      "7 x 19 = 133\n",
      "7 x 20 = 140\n"
     ]
    }
   ],
   "source": [
    "a = int(input())\n",
    "\n",
    "for i in range(1,21):\n",
    "    product = i*a\n",
    "    print(f\"{a} x {i} = {product}\")"
   ]
  },
  {
   "cell_type": "code",
   "execution_count": 5,
   "id": "d95b15ff-b800-4104-899f-d93d298c13ec",
   "metadata": {},
   "outputs": [
    {
     "name": "stdin",
     "output_type": "stream",
     "text": [
      " 101\n"
     ]
    },
    {
     "name": "stdout",
     "output_type": "stream",
     "text": [
      " in range of 101 count of odd numbers are 50 & count of even numbers is 51\n"
     ]
    }
   ],
   "source": [
    "# 6. Write a program that counts the number of even and odd numbers in a list using a `for` loop.\n",
    "\n",
    "x = int(input())\n",
    "a = range(x)\n",
    "count_odd = 0\n",
    "count_even = 0\n",
    "\n",
    "for i in a:\n",
    "    if i%2 == 0:\n",
    "        count_even += 1\n",
    "    if i%2 != 0:\n",
    "        count_odd += 1\n",
    "        \n",
    "print(f\" in range of {x} count of odd numbers are {count_odd} & count of even numbers is {count_even}\") \n"
   ]
  },
  {
   "cell_type": "code",
   "execution_count": 20,
   "id": "8542a89d-5c2e-4366-8111-a20b11a16f4a",
   "metadata": {},
   "outputs": [
    {
     "name": "stdout",
     "output_type": "stream",
     "text": [
      "1\n",
      "4\n",
      "9\n",
      "16\n",
      "25\n"
     ]
    }
   ],
   "source": [
    "# 7. Develop a program that prints the squares of numbers from 1 to 5 using a `for` loop.\n",
    "\n",
    "a = 1,2,3,4,5\n",
    "sq = 1\n",
    "\n",
    "for i in a:\n",
    "    sq = i**2\n",
    "    print(sq)  "
   ]
  },
  {
   "cell_type": "code",
   "execution_count": 21,
   "id": "5ce1ea5e-200e-4245-8dce-60942b1b2b45",
   "metadata": {},
   "outputs": [
    {
     "name": "stdout",
     "output_type": "stream",
     "text": [
      "5\n"
     ]
    }
   ],
   "source": [
    "# 8. Create a program to find the length of a string without using the `len()` function.\n",
    "\n",
    "a = 1,2,3,4,5\n",
    "count = 0\n",
    "for i in a:\n",
    "    count += 1\n",
    "    \n",
    "print(count)"
   ]
  },
  {
   "cell_type": "code",
   "execution_count": 22,
   "id": "3ef622e5-57fa-49a9-a229-12922810ac62",
   "metadata": {},
   "outputs": [
    {
     "name": "stdout",
     "output_type": "stream",
     "text": [
      "5.0\n"
     ]
    }
   ],
   "source": [
    "# 9. Write a program that calculates the average of a list of numbers using a `for` loop.\n",
    "\n",
    "a = [1,2,3,4,5,6,7,8,9]\n",
    "count = 0\n",
    "for i in a:\n",
    "    count += 1\n",
    "    \n",
    "average = sum(a)/count\n",
    "print(average)\n",
    "    "
   ]
  },
  {
   "cell_type": "code",
   "execution_count": 3,
   "id": "01bbd2b7-d7f2-42e1-ba86-bc9dff961657",
   "metadata": {},
   "outputs": [
    {
     "name": "stdin",
     "output_type": "stream",
     "text": [
      " 10\n"
     ]
    },
    {
     "name": "stdout",
     "output_type": "stream",
     "text": [
      "[0, 1, 1, 2, 3, 5, 8, 13, 21, 34]\n"
     ]
    }
   ],
   "source": [
    "# 10. Develop a program that prints the first `n` Fibonacci numbers using a `for` loop.\n",
    "n = int(input())\n",
    "Fibonacci = []\n",
    "\n",
    "a,b = 0,1\n",
    "for i in range(n):\n",
    "    Fibonacci.append(a)\n",
    "    a,b = b,a+b\n",
    "    \n",
    "print(Fibonacci)\n",
    "\n"
   ]
  },
  {
   "cell_type": "code",
   "execution_count": 16,
   "id": "9deecc95-e5a4-4f83-bede-c387c98b78f3",
   "metadata": {},
   "outputs": [
    {
     "name": "stdout",
     "output_type": "stream",
     "text": [
      "duplicate item in [1, 2, 3, 4, 5, 1]\n"
     ]
    }
   ],
   "source": [
    "\"Intermediate Level:\"\n",
    "\n",
    "# 11. Write a program to check if a given list contains any duplicates using a `for` loop.\n",
    "\n",
    "a = [1, 2, 3, 4, 5, 1,]\n",
    "\n",
    "duplicate = False\n",
    "\n",
    "aa = []\n",
    "\n",
    "for i in a:\n",
    "    if i in seen:\n",
    "        duplicate = True\n",
    "        break\n",
    "        aa.append(i)\n",
    "        \n",
    "if duplicate == False:\n",
    "    print(\"no duplicate item in\",a)\n",
    "else:\n",
    "    print(\"duplicate item in\",a)"
   ]
  },
  {
   "cell_type": "code",
   "execution_count": 25,
   "id": "f3737fa5-9274-47c9-8e53-61d6747462ef",
   "metadata": {},
   "outputs": [
    {
     "name": "stdin",
     "output_type": "stream",
     "text": [
      " 100\n"
     ]
    },
    {
     "name": "stdout",
     "output_type": "stream",
     "text": [
      "2,3,5,7,11,13,17,19,23,29,31,37,41,43,47,53,59,61,67,71,73,79,83,89,97,"
     ]
    }
   ],
   "source": [
    "# 12. Create a program that prints the prime numbers in a given range using a `for` loop.\n",
    "\n",
    "n = int(input())\n",
    "\n",
    "for i in range(2,n+1):\n",
    "    for j in range(2,n+1):\n",
    "        if i%j == 0:\n",
    "            break\n",
    "    if i == j:\n",
    "        print(i,end=',')\n",
    "    \n",
    "    "
   ]
  },
  {
   "cell_type": "code",
   "execution_count": 31,
   "id": "2d4955cb-776c-4f0a-971e-e9ea103c7418",
   "metadata": {},
   "outputs": [
    {
     "name": "stdin",
     "output_type": "stream",
     "text": [
      " Develop a program that counts the number of vowels in a string using a `for` loop.\n"
     ]
    },
    {
     "name": "stdout",
     "output_type": "stream",
     "text": [
      " count of vowels in given sentence is 24\n"
     ]
    }
   ],
   "source": [
    "# 13. Develop a program that counts the number of vowels in a string using a `for` loop.\n",
    "\n",
    "\n",
    "\n",
    "a = str(input())\n",
    "count = 0\n",
    "for i in a:\n",
    "    if i in \"aeiouAEIOU\":\n",
    "        count += 1\n",
    "print(f\" count of vowels in given sentence is {count}\")\n",
    "    "
   ]
  },
  {
   "cell_type": "code",
   "execution_count": null,
   "id": "ace448d0-8e39-4226-8112-1bf8b1abeca9",
   "metadata": {},
   "outputs": [],
   "source": [
    "# 14. Write a program to find the maximum element in a 2D list using a nested `for` loop.\n",
    "\n"
   ]
  },
  {
   "cell_type": "code",
   "execution_count": 7,
   "id": "11dda39d-e630-42fd-834a-d8d91209ae71",
   "metadata": {},
   "outputs": [
    {
     "name": "stdin",
     "output_type": "stream",
     "text": [
      " 2\n"
     ]
    },
    {
     "name": "stdout",
     "output_type": "stream",
     "text": [
      "[1, 2]\n"
     ]
    }
   ],
   "source": [
    "# 15. Create a program that removes all occurrences of a specific element from a list using a `for` loop.\n",
    "\n",
    "a = [1,2,3]\n",
    "aa = int(input())\n",
    "for i in a:\n",
    "    if i == aa:\n",
    "        a.pop(aa)\n",
    "        print(a)\n",
    "\n",
    "        "
   ]
  },
  {
   "cell_type": "code",
   "execution_count": 24,
   "id": "3ad081b8-40bb-4620-9569-f33dd3c2b716",
   "metadata": {},
   "outputs": [
    {
     "name": "stdout",
     "output_type": "stream",
     "text": [
      "multipication Table for 1\n",
      " 1 x 1 = 1\n",
      " 1 x 2 = 2\n",
      " 1 x 3 = 3\n",
      " 1 x 4 = 4\n",
      " 1 x 5 = 5\n",
      " 1 x 6 = 6\n",
      " 1 x 7 = 7\n",
      " 1 x 8 = 8\n",
      " 1 x 9 = 9\n",
      " 1 x 10 = 10\n",
      "multipication Table for 2\n",
      " 2 x 1 = 2\n",
      " 2 x 2 = 4\n",
      " 2 x 3 = 6\n",
      " 2 x 4 = 8\n",
      " 2 x 5 = 10\n",
      " 2 x 6 = 12\n",
      " 2 x 7 = 14\n",
      " 2 x 8 = 16\n",
      " 2 x 9 = 18\n",
      " 2 x 10 = 20\n",
      "multipication Table for 3\n",
      " 3 x 1 = 3\n",
      " 3 x 2 = 6\n",
      " 3 x 3 = 9\n",
      " 3 x 4 = 12\n",
      " 3 x 5 = 15\n",
      " 3 x 6 = 18\n",
      " 3 x 7 = 21\n",
      " 3 x 8 = 24\n",
      " 3 x 9 = 27\n",
      " 3 x 10 = 30\n",
      "multipication Table for 4\n",
      " 4 x 1 = 4\n",
      " 4 x 2 = 8\n",
      " 4 x 3 = 12\n",
      " 4 x 4 = 16\n",
      " 4 x 5 = 20\n",
      " 4 x 6 = 24\n",
      " 4 x 7 = 28\n",
      " 4 x 8 = 32\n",
      " 4 x 9 = 36\n",
      " 4 x 10 = 40\n",
      "multipication Table for 5\n",
      " 5 x 1 = 5\n",
      " 5 x 2 = 10\n",
      " 5 x 3 = 15\n",
      " 5 x 4 = 20\n",
      " 5 x 5 = 25\n",
      " 5 x 6 = 30\n",
      " 5 x 7 = 35\n",
      " 5 x 8 = 40\n",
      " 5 x 9 = 45\n",
      " 5 x 10 = 50\n"
     ]
    }
   ],
   "source": [
    "# 16. Develop a program that generates a multiplication table for numbers from 1 to 5 using a nested `for` loop.\n",
    "\n",
    "start = 1\n",
    "end = 5\n",
    "\n",
    "for i in range(start,end + 1):\n",
    "    print(\"multipication Table for\",i)\n",
    "    \n",
    "    for j in range(1,11):\n",
    "        product = i * j\n",
    "        print(f\" {i} x {j} = {product}\")"
   ]
  },
  {
   "cell_type": "code",
   "execution_count": 30,
   "id": "d97e69b4-a724-42ca-b275-e1440300cd9a",
   "metadata": {},
   "outputs": [
    {
     "name": "stdout",
     "output_type": "stream",
     "text": [
      " 100 Fahrenheit = 37.77777777777778 Celsius\n",
      "98 Fahrenheit = 36.666666666666664 Celsius\n",
      "80 Fahrenheit = 26.666666666666668 Celsius\n"
     ]
    }
   ],
   "source": [
    "# 17. Write a program that converts a list of Fahrenheit temperatures to Celsius using a `for` loop.\n",
    "\n",
    "temp = [100,98,80]\n",
    "converted = []\n",
    "for i in temp:\n",
    "    Celsius = (i - 32)*5/9\n",
    "    converted.append(Celsius)\n",
    "    \n",
    "print(f\"\"\" {temp[0]} Fahrenheit = {converted[0]} Celsius\n",
    "{temp[1]} Fahrenheit = {converted[1]} Celsius\n",
    "{temp[2]} Fahrenheit = {converted[2]} Celsius\"\"\")\n",
    "\n",
    "    \n",
    "    \n",
    "\n",
    "\n"
   ]
  },
  {
   "cell_type": "code",
   "execution_count": 31,
   "id": "3f761209-125d-4916-82dd-4831491c93d9",
   "metadata": {},
   "outputs": [
    {
     "name": "stdout",
     "output_type": "stream",
     "text": [
      "[1, 2, 3, 4, 5, 6]\n"
     ]
    }
   ],
   "source": [
    "# 18. Create a program to print the common elements from two lists using a `for` loop.\n",
    "\n",
    "a = [1,2,3,4,5,6]\n",
    "b = [1,2,3,4,5,6,7,8,9,10]\n",
    "common = []\n",
    "for i in a:\n",
    "    if i in b:\n",
    "        common.append(i)\n",
    "        \n",
    "print(common)\n",
    "        "
   ]
  },
  {
   "cell_type": "code",
   "execution_count": 34,
   "id": "e79b3126-e437-44ed-9f4e-6caaba8b33ca",
   "metadata": {},
   "outputs": [
    {
     "name": "stdout",
     "output_type": "stream",
     "text": [
      "*\n",
      "**\n",
      "***\n",
      "****\n",
      "*****\n"
     ]
    }
   ],
   "source": [
    "# 19. Develop a program that prints the pattern of right-angled triangles using a `for` loop. Use ‘*’ to draw pattren.\n",
    "a = 5\n",
    "for i in range(1,a+1):\n",
    "    print(i*\"*\")\n"
   ]
  },
  {
   "cell_type": "code",
   "execution_count": 37,
   "id": "4a5084d1-6808-49d3-9b49-7ac661ac32fd",
   "metadata": {},
   "outputs": [],
   "source": [
    "# 20. Write a program to find the greatest common divisor (GCD) of two numbers using a `for` loop.\n",
    "\n",
    "# GCD (a, b) = (a × b)/ LCM (a, b).\n",
    "\n",
    "\n"
   ]
  },
  {
   "cell_type": "code",
   "execution_count": 52,
   "id": "83d22f43-ca42-4e3d-ac0b-b47bb3132324",
   "metadata": {},
   "outputs": [
    {
     "name": "stdout",
     "output_type": "stream",
     "text": [
      "15\n"
     ]
    }
   ],
   "source": [
    "\"Advanced Level\"\n",
    "\n",
    "# 21. Create a program that calculates the sum of the digits of numbers in a list using a list comprehension.\n",
    "a = [1,2,3,4,5]\n",
    "\n",
    "\n",
    "\n",
    "sum_a = sum(int(i) for i in a)\n",
    "\n",
    "print(sum_a)\n"
   ]
  },
  {
   "cell_type": "code",
   "execution_count": 58,
   "id": "82923ace-38b9-4c6e-8431-632e557e041b",
   "metadata": {},
   "outputs": [
    {
     "name": "stdout",
     "output_type": "stream",
     "text": [
      "[1, 2, 5, 10]\n"
     ]
    }
   ],
   "source": [
    "# 22. Write a program to find the prime factors of a given number using a `for` loop and list comprehension.\n",
    "\n",
    "a = 10\n",
    "\n",
    "prime_a = [i for i in range(1,a+1) if  a%i == 0]\n",
    "\n",
    "print(prime_a)"
   ]
  },
  {
   "cell_type": "code",
   "execution_count": 63,
   "id": "d7325dcf-fc8a-4843-a353-10080e254489",
   "metadata": {},
   "outputs": [
    {
     "name": "stdout",
     "output_type": "stream",
     "text": [
      "[1, 2, 3, 4, 5, 6]\n"
     ]
    }
   ],
   "source": [
    "# 23. Develop a program that extracts unique elements from a list and stores them in a new list using a list.\n",
    "\n",
    "test_list = [1, 2, 2, 3, 4, 4, 5, 6, 6]\n",
    "\n",
    "unique_list = []\n",
    "\n",
    "[unique_list.append(i) for i in test_list if i not in unique_list]\n",
    "print(unique_list)\n"
   ]
  },
  {
   "cell_type": "code",
   "execution_count": 69,
   "id": "bbbba2e9-ad47-428d-87b6-6a2834591369",
   "metadata": {},
   "outputs": [
    {
     "name": "stdout",
     "output_type": "stream",
     "text": [
      "[11, 22, 33, 44, 55, 66, 77, 88, 99, 101, 111, 121, 131, 141, 151, 161, 171, 181, 191, 202, 212, 222, 232, 242, 252, 262, 272, 282, 292, 303, 313, 323, 333, 343, 353, 363, 373, 383, 393, 404, 414, 424, 434, 444, 454, 464, 474, 484, 494]\n"
     ]
    }
   ],
   "source": [
    "# 24. Create a program that generates a list of all palindromic numbers up to a specified limit using a list\n",
    "\n",
    "x = []\n",
    "\n",
    "[x.append(i) for i in range(10,500) if str(i) == str(i)[::-1]]\n",
    " \n",
    "print(x)"
   ]
  },
  {
   "cell_type": "code",
   "execution_count": 70,
   "id": "8b478757-9339-4c19-ac54-29d9832424a3",
   "metadata": {},
   "outputs": [
    {
     "ename": "TypeError",
     "evalue": "'int' object is not iterable",
     "output_type": "error",
     "traceback": [
      "\u001b[0;31m---------------------------------------------------------------------------\u001b[0m",
      "\u001b[0;31mTypeError\u001b[0m                                 Traceback (most recent call last)",
      "Cell \u001b[0;32mIn[70], line 10\u001b[0m\n\u001b[1;32m      8\u001b[0m \u001b[38;5;28;01mif\u001b[39;00m i \u001b[38;5;241m==\u001b[39m \u001b[38;5;28mint\u001b[39m:\n\u001b[1;32m      9\u001b[0m     xx\u001b[38;5;241m.\u001b[39mappend(i)\n\u001b[0;32m---> 10\u001b[0m \u001b[38;5;28;01mfor\u001b[39;00m j \u001b[38;5;129;01min\u001b[39;00m i:\n\u001b[1;32m     11\u001b[0m     \u001b[38;5;28;01mif\u001b[39;00m j \u001b[38;5;241m==\u001b[39m \u001b[38;5;28mint\u001b[39m:\n\u001b[1;32m     12\u001b[0m         xx\u001b[38;5;241m.\u001b[39mappend(j)\n",
      "\u001b[0;31mTypeError\u001b[0m: 'int' object is not iterable"
     ]
    }
   ],
   "source": [
    "# 25. Write a program to flatten a nested list using list comprehension.\n",
    "\n",
    "\n",
    "        "
   ]
  },
  {
   "cell_type": "code",
   "execution_count": 2,
   "id": "64c1cdbc-c20e-42a7-865f-d4d86ecfa61c",
   "metadata": {},
   "outputs": [
    {
     "name": "stdout",
     "output_type": "stream",
     "text": [
      " odd number sum = \n",
      "5625,\n",
      " even numner sum = \n",
      "5550\n"
     ]
    }
   ],
   "source": [
    "# 26. Develop a program that computes the sum of even and odd numbers in a list separately using list\n",
    "\n",
    "even = []\n",
    "odd = []\n",
    "\n",
    "[even.append(i) if i%2 == 0 else odd.append(i) for i in range(1,150) ]\n",
    "\n",
    "print(f\"\"\" odd number sum = \n",
    "{sum(odd)},\n",
    " even numner sum = \n",
    "{sum(even)}\"\"\")"
   ]
  },
  {
   "cell_type": "code",
   "execution_count": 4,
   "id": "13d6eb62-e5ad-468a-addb-0b89ef937c66",
   "metadata": {},
   "outputs": [
    {
     "name": "stdout",
     "output_type": "stream",
     "text": [
      " odd number list = \n",
      "[1, 3, 5, 7, 9],\n",
      " even numner list = \n",
      "[2, 4, 6, 8, 10]\n"
     ]
    }
   ],
   "source": [
    "# 27. Create a program that generates a list of squares of odd numbers between 1 and 10 using list comprehension.\n",
    "    \n",
    "odd = []\n",
    "even = []\n",
    "\n",
    "[even.append(i) if i % 2 == 0 else odd.append(i) for i in range(1,11)]\n",
    "\n",
    "\n",
    "print(f\"\"\" odd number list = \n",
    "{odd},\n",
    " even numner list = \n",
    "{even}\"\"\")"
   ]
  },
  {
   "cell_type": "code",
   "execution_count": 9,
   "id": "57a827b5-7df4-4031-82d4-56cf66645b27",
   "metadata": {},
   "outputs": [
    {
     "name": "stdout",
     "output_type": "stream",
     "text": [
      "{1: 2, 3: 4, 5: 6, 7: 8, 9: 10}\n"
     ]
    }
   ],
   "source": [
    "# 28. Write a program that combines two lists into a dictionary using list comprehension.\n",
    "\n",
    " \n",
    "odd = [1,3,5,7,9]\n",
    " \n",
    "even = [2,4,6,8,10]\n",
    "\n",
    "dic = dict(zip(odd, even))\n",
    "\n",
    "print(dic)"
   ]
  },
  {
   "cell_type": "code",
   "execution_count": 12,
   "id": "6c6466f6-88cd-49c8-8294-b682e5868f4e",
   "metadata": {},
   "outputs": [
    {
     "name": "stdin",
     "output_type": "stream",
     "text": [
      " i am working as an middle office analyst\n"
     ]
    },
    {
     "name": "stdout",
     "output_type": "stream",
     "text": [
      "['i', 'a', 'o', 'i', 'a', 'a', 'i', 'e', 'o', 'i', 'e', 'a', 'a']\n"
     ]
    }
   ],
   "source": [
    "# 29. Develop a program that extracts the vowels from a string and stores them in a list using list comprehension.\n",
    "\n",
    "a = str(input())\n",
    "\n",
    "vowels = []\n",
    "\n",
    "[vowels.append(i) for i in a if i in \"AEIOUaeiou\" ]\n",
    "\n",
    "print(vowels)\n"
   ]
  },
  {
   "cell_type": "code",
   "execution_count": 16,
   "id": "beb42708-eae9-453b-80f1-9f08c24fce88",
   "metadata": {},
   "outputs": [
    {
     "name": "stdin",
     "output_type": "stream",
     "text": [
      " i have 2 years of experienx\n"
     ]
    },
    {
     "name": "stdout",
     "output_type": "stream",
     "text": [
      "['2']\n"
     ]
    }
   ],
   "source": [
    "# 30. Create a program that removes all non-numeric characters from a list of strings using list comprehension.\n",
    "\n",
    "a = input()\n",
    "\n",
    "numeric = [i for i in a if i not in \"abcdefghijklmnbopqrstuvwxyzABCDEFGHIJKLMNOPQRSTUWXYZ \"]\n",
    "\n",
    "print(numeric)"
   ]
  },
  {
   "cell_type": "code",
   "execution_count": null,
   "id": "9c01b1c0-4af8-4b6a-938b-5e75de1e0e94",
   "metadata": {},
   "outputs": [],
   "source": [
    "\" Challenge Level:\"\n",
    "\n",
    "# 31. Write a program to generate a list of prime numbers using the Sieve of Eratosthenes algorithm and list comprehension.\n",
    "\n"
   ]
  }
 ],
 "metadata": {
  "kernelspec": {
   "display_name": "Python 3 (ipykernel)",
   "language": "python",
   "name": "python3"
  },
  "language_info": {
   "codemirror_mode": {
    "name": "ipython",
    "version": 3
   },
   "file_extension": ".py",
   "mimetype": "text/x-python",
   "name": "python",
   "nbconvert_exporter": "python",
   "pygments_lexer": "ipython3",
   "version": "3.10.8"
  }
 },
 "nbformat": 4,
 "nbformat_minor": 5
}
