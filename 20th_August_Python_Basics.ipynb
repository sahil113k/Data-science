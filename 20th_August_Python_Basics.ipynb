{
 "cells": [
  {
   "cell_type": "code",
   "execution_count": 1,
   "id": "2f12b53d-9eb9-461e-b273-4265db26c55d",
   "metadata": {},
   "outputs": [
    {
     "name": "stdin",
     "output_type": "stream",
     "text": [
      " Taapas\n"
     ]
    },
    {
     "name": "stdout",
     "output_type": "stream",
     "text": [
      "sapaaT\n"
     ]
    }
   ],
   "source": [
    "# 1. Write a program to reverse a string.\n",
    "\n",
    "a = str(input())\n",
    "\n",
    "a_reverse = a[::-1]\n",
    "\n",
    "print(a_reverse)"
   ]
  },
  {
   "cell_type": "code",
   "execution_count": 4,
   "id": "77f53fa1-335c-4dae-902b-73d260baf34e",
   "metadata": {},
   "outputs": [
    {
     "name": "stdin",
     "output_type": "stream",
     "text": [
      " level\n"
     ]
    },
    {
     "name": "stdout",
     "output_type": "stream",
     "text": [
      "level is a palindrome\n"
     ]
    }
   ],
   "source": [
    "#2. Check if a string is a palindrome.\n",
    "\n",
    "b = str(input())\n",
    "\n",
    "if b == b[::-1]:\n",
    "    print(b,\"is a palindrome\")\n",
    "else:\n",
    "    print(b,\"is a not palindrome\")"
   ]
  },
  {
   "cell_type": "code",
   "execution_count": 8,
   "id": "b3e14058-f033-436a-a4c0-213daca57a8e",
   "metadata": {},
   "outputs": [
    {
     "name": "stdin",
     "output_type": "stream",
     "text": [
      " taapas\n"
     ]
    },
    {
     "name": "stdout",
     "output_type": "stream",
     "text": [
      "TAAPAS\n"
     ]
    }
   ],
   "source": [
    "# 3. Convert a string to uppercase.\n",
    "\n",
    "c = str(input())\n",
    "\n",
    "uppercase_c = c.upper()\n",
    "\n",
    "print(uppercase_c)"
   ]
  },
  {
   "cell_type": "code",
   "execution_count": 9,
   "id": "ab96533d-aa6e-417e-a2d0-0670128e97ba",
   "metadata": {},
   "outputs": [
    {
     "name": "stdin",
     "output_type": "stream",
     "text": [
      " Taapas\n"
     ]
    },
    {
     "name": "stdout",
     "output_type": "stream",
     "text": [
      "taapas\n"
     ]
    }
   ],
   "source": [
    "# 4. Convert a string to lowercase.\n",
    "\n",
    "d = str(input())\n",
    "\n",
    "lowercase_d = d.lower()\n",
    "\n",
    "print(lowercase_d)"
   ]
  },
  {
   "cell_type": "code",
   "execution_count": 13,
   "id": "0b62f874-dcba-4fdb-a8f3-709148f70ad0",
   "metadata": {},
   "outputs": [
    {
     "name": "stdin",
     "output_type": "stream",
     "text": [
      " taapas\n"
     ]
    },
    {
     "name": "stdout",
     "output_type": "stream",
     "text": [
      "3\n"
     ]
    }
   ],
   "source": [
    "#5. Count the number of vowels in a string.\n",
    "\n",
    "e = str(input())\n",
    "count_vowels = 0\n",
    "for i in e:\n",
    "    if i in \"aeiouAEIOU\":\n",
    "        count_vowels += 1\n",
    "        \n",
    "print(count_vowels)\n",
    "    \n",
    "    "
   ]
  },
  {
   "cell_type": "code",
   "execution_count": 15,
   "id": "1aefd5f9-7a51-4dfe-a1b9-10cfb7eb037f",
   "metadata": {},
   "outputs": [
    {
     "name": "stdin",
     "output_type": "stream",
     "text": [
      " pwskills\n"
     ]
    },
    {
     "name": "stdout",
     "output_type": "stream",
     "text": [
      "7\n"
     ]
    }
   ],
   "source": [
    "#6. Count the number of consonants in a string.\n",
    "\n",
    "f = str(input())\n",
    "Count_consonants = 0\n",
    "for i in f:\n",
    "    if i in \"bcdfghjklmnpqrstvwxyz\":\n",
    "        Count_consonants += 1\n",
    "        \n",
    "print(Count_consonants)"
   ]
  },
  {
   "cell_type": "code",
   "execution_count": 19,
   "id": "e8bf737c-9592-4c2d-8f1b-76b5493939d3",
   "metadata": {},
   "outputs": [
    {
     "name": "stdin",
     "output_type": "stream",
     "text": [
      " Taapas Sharma\n"
     ]
    },
    {
     "name": "stdout",
     "output_type": "stream",
     "text": [
      "TaapasSharma\n"
     ]
    }
   ],
   "source": [
    "#7. Remove all whitespaces from a string.\n",
    "\n",
    "g = str(input())\n",
    "\n",
    "clear_whitespace = g.replace(\" \",\"\")\n",
    "\n",
    "print(clear_whitespace)"
   ]
  },
  {
   "cell_type": "code",
   "execution_count": 21,
   "id": "1d1ce842-5f20-44ed-ae9e-82ae8b0bce72",
   "metadata": {},
   "outputs": [
    {
     "name": "stdin",
     "output_type": "stream",
     "text": [
      " taapas\n"
     ]
    },
    {
     "name": "stdout",
     "output_type": "stream",
     "text": [
      "1\n"
     ]
    }
   ],
   "source": [
    "# 8. Find the length of a string without using the `len()` function.\n",
    "\n",
    "h = str(input())\n",
    "\n",
    "length_str = h.count(\n",
    "\n",
    "print(length_str)"
   ]
  },
  {
   "cell_type": "code",
   "execution_count": 1,
   "id": "f0f81492-24be-4842-a694-badd54f691df",
   "metadata": {},
   "outputs": [
    {
     "name": "stdin",
     "output_type": "stream",
     "text": [
      "Enter your sentnce I am learning Python\n"
     ]
    },
    {
     "name": "stdout",
     "output_type": "stream",
     "text": [
      "True\n"
     ]
    }
   ],
   "source": [
    "# 9. Check if a string contains a specific word.\n",
    "\n",
    "i = str(input(\"Enter your sentnce\"))\n",
    "\n",
    "# specific word is Python \n",
    "\n",
    "\n",
    "if \"Python\" in i:\n",
    "    print(True)\n",
    "else:\n",
    "    print(False)"
   ]
  },
  {
   "cell_type": "code",
   "execution_count": 2,
   "id": "222ee842-e6dc-4a8c-9415-24a49e48814f",
   "metadata": {},
   "outputs": [
    {
     "data": {
      "text/plain": [
       "'I am learning Python'"
      ]
     },
     "execution_count": 2,
     "metadata": {},
     "output_type": "execute_result"
    }
   ],
   "source": [
    "# 10. Replace a word in a string with another word.\n",
    "\n",
    "j = \"I is learning Python\"\n",
    "\n",
    "j.replace(\"is\",\"am\")\n",
    "\n"
   ]
  },
  {
   "cell_type": "code",
   "execution_count": 3,
   "id": "2eb490e8-c393-45af-bc52-5cf4896c22d7",
   "metadata": {},
   "outputs": [
    {
     "data": {
      "text/plain": [
       "1"
      ]
     },
     "execution_count": 3,
     "metadata": {},
     "output_type": "execute_result"
    }
   ],
   "source": [
    "# 11. Count the occurrences of a word in a string.\n",
    "\n",
    "k = \"I am learning Python\"\n",
    "\n",
    "k.count(\"Python\")"
   ]
  },
  {
   "cell_type": "code",
   "execution_count": 4,
   "id": "a13ee811-888e-4b37-b4b8-e60384f33155",
   "metadata": {},
   "outputs": [
    {
     "name": "stdout",
     "output_type": "stream",
     "text": [
      "T\n"
     ]
    }
   ],
   "source": [
    "# 12. Find the first occurrence of a word in a string.\n",
    "\n",
    "l = \"Taapas\"\n",
    "\n",
    "l_first = l[0]\n",
    "\n",
    "print(l_first)\n"
   ]
  },
  {
   "cell_type": "code",
   "execution_count": 1,
   "id": "8bc91744-6a3a-449d-9f2e-760c02a97e89",
   "metadata": {},
   "outputs": [
    {
     "data": {
      "text/plain": [
       "'no idea'"
      ]
     },
     "execution_count": 1,
     "metadata": {},
     "output_type": "execute_result"
    }
   ],
   "source": [
    "# 13 Find the last occurrence of a word in a string.\n",
    "\n",
    "\"no idea\"\n"
   ]
  },
  {
   "cell_type": "code",
   "execution_count": 6,
   "id": "a80fd62e-8073-49b5-bac8-1ffea8a3a859",
   "metadata": {},
   "outputs": [
    {
     "name": "stdout",
     "output_type": "stream",
     "text": [
      "['Taapas', 'Sharma']\n"
     ]
    }
   ],
   "source": [
    "# 14 Split a string into a list of words.\n",
    "\n",
    "m = \"Taapas Sharma\"\n",
    "\n",
    "print(m.split())"
   ]
  },
  {
   "cell_type": "code",
   "execution_count": 10,
   "id": "f764dc1d-73ed-4a42-b093-0b89456986dc",
   "metadata": {},
   "outputs": [
    {
     "name": "stdout",
     "output_type": "stream",
     "text": [
      "TTaapas SharmaaTaapas SharmaaTaapas SharmapTaapas SharmaaTaapas SharmasTaapas Sharma Taapas SharmaSTaapas SharmahTaapas SharmaaTaapas SharmarTaapas SharmamTaapas Sharmaa\n"
     ]
    }
   ],
   "source": [
    "# 15 Join a list of words into a string.\n",
    "\n",
    "n = \"Taapas Sharma\"\n",
    "\n",
    "print(n.join(n))"
   ]
  },
  {
   "cell_type": "code",
   "execution_count": 12,
   "id": "5b252e83-90ae-4d1a-b458-6b80ae20a343",
   "metadata": {},
   "outputs": [
    {
     "name": "stdout",
     "output_type": "stream",
     "text": [
      "I_am_learning_python\n"
     ]
    }
   ],
   "source": [
    "# 16 Convert a string where words are separated by spaces to one where wordsare separated by underscores.\n",
    "\n",
    "o = \"I am learning python\"\n",
    "o_= o.replace(\" \",\"_\")\n",
    "print(o_)"
   ]
  },
  {
   "cell_type": "code",
   "execution_count": 13,
   "id": "f6915562-19dd-4b1b-988b-973a945ecdd2",
   "metadata": {},
   "outputs": [
    {
     "name": "stdout",
     "output_type": "stream",
     "text": [
      "I am learning python\n"
     ]
    }
   ],
   "source": [
    "o_space = o_.replace(\"_\",\" \")\n",
    "print(o_space)"
   ]
  },
  {
   "cell_type": "code",
   "execution_count": 15,
   "id": "2bc7f95f-9098-4696-aab3-0821c485d729",
   "metadata": {},
   "outputs": [
    {
     "name": "stdout",
     "output_type": "stream",
     "text": [
      "string starts with I\n"
     ]
    }
   ],
   "source": [
    "# 17. Check if a string starts with a specific word or phrase.\n",
    "p = \"I am learning python\"\n",
    "\n",
    "prefix = \"I\"\n",
    "if p.startswith(prefix):\n",
    "    print(\"string starts with\",prefix)\n",
    "else:\n",
    "    print(\"string do not starts with\",prefix)"
   ]
  },
  {
   "cell_type": "code",
   "execution_count": 16,
   "id": "f91f9e20-860b-4bc4-9992-2c54f45216af",
   "metadata": {},
   "outputs": [
    {
     "name": "stdout",
     "output_type": "stream",
     "text": [
      "string do not end with I\n"
     ]
    }
   ],
   "source": [
    "# 18. Check if a string ends with a specific word or phrase.\n",
    "q = \"I am learning python\"\n",
    "\n",
    "prefix = \"I\"\n",
    "\n",
    "if q.endswith(prefix):\n",
    "    print(\"string ends with\",prefix)\n",
    "else:\n",
    "    print(\"string do not end with\",prefix)\n",
    "    \n"
   ]
  },
  {
   "cell_type": "code",
   "execution_count": 18,
   "id": "e2547fb4-e7e0-41b9-80f7-f291e7d0b3ae",
   "metadata": {},
   "outputs": [
    {
     "name": "stdout",
     "output_type": "stream",
     "text": [
      "Hello World\n"
     ]
    }
   ],
   "source": [
    "# 19. Convert a string to title case (e.g., \"hello world\" to \"Hello World\").\n",
    "\n",
    "r = \"hello world\"\n",
    "print(r.title())"
   ]
  },
  {
   "cell_type": "code",
   "execution_count": 19,
   "id": "7f7971e0-8684-4a51-83a1-b5084e955b78",
   "metadata": {},
   "outputs": [
    {
     "name": "stdin",
     "output_type": "stream",
     "text": [
      " hello world\n"
     ]
    },
    {
     "data": {
      "text/plain": [
       "2"
      ]
     },
     "execution_count": 19,
     "metadata": {},
     "output_type": "execute_result"
    }
   ],
   "source": [
    "# Find the longest word in a string.\n",
    "\n",
    "s = str(input())\n",
    "\n",
    "ss = s\n",
    "\n"
   ]
  },
  {
   "cell_type": "code",
   "execution_count": 20,
   "id": "623b730f-33e3-4445-b28c-07ba501e70e1",
   "metadata": {},
   "outputs": [
    {
     "name": "stdout",
     "output_type": "stream",
     "text": [
      "dlrow olleh\n"
     ]
    }
   ],
   "source": [
    "# 22 Reverse the order of words in a string.\n",
    "s = \"hello world\"\n",
    "\n",
    "print(s[::-1])"
   ]
  },
  {
   "cell_type": "code",
   "execution_count": 24,
   "id": "efaf8808-b307-4b91-b857-e8e52d38c4e4",
   "metadata": {},
   "outputs": [
    {
     "name": "stdout",
     "output_type": "stream",
     "text": [
      "False\n"
     ]
    }
   ],
   "source": [
    "# 23. Check if a string is alphanumeric.\n",
    "\n",
    "t = \"My age is 23\"\n",
    "\n",
    "print(t.isalnum())\n",
    "    "
   ]
  },
  {
   "cell_type": "code",
   "execution_count": 28,
   "id": "dbd40b0f-44c2-4833-a79c-51bd2d1eb078",
   "metadata": {},
   "outputs": [
    {
     "name": "stdout",
     "output_type": "stream",
     "text": [
      "['2', '3']\n"
     ]
    }
   ],
   "source": [
    "# 24. Extract all digits from a string.\n",
    "\n",
    "t = \"My age is 23\"\n",
    "digits = []\n",
    "for ii in t:\n",
    "    if ii in \"0123456789\":\n",
    "        digits.append(ii)\n",
    "print(digits)\n",
    "        "
   ]
  },
  {
   "cell_type": "code",
   "execution_count": 31,
   "id": "9689639b-0644-4b95-b36f-b1aaf0cadad5",
   "metadata": {},
   "outputs": [
    {
     "name": "stdout",
     "output_type": "stream",
     "text": [
      "['M', 'a', 'g', 'e', 'i', 's']\n"
     ]
    }
   ],
   "source": [
    "# 25. Extract all alphabets from a string.\n",
    "\n",
    "tt = \"My age is 23\"\n",
    "alphabets = []\n",
    "for ii in tt:\n",
    "    if ii in \"abcdefghijklmnopqrstABCDEFGHIJKLMNOPQRST\": #added both capital and lower case\n",
    "        alphabets.append(ii)\n",
    "print(alphabets)\n",
    "        "
   ]
  },
  {
   "cell_type": "code",
   "execution_count": 32,
   "id": "f5a3cdc1-1b78-4182-9255-697c01fcc355",
   "metadata": {},
   "outputs": [
    {
     "name": "stdout",
     "output_type": "stream",
     "text": [
      "['M']\n"
     ]
    }
   ],
   "source": [
    "#26 Count the number of uppercase letters in a string.\n",
    "\n",
    "ttt = \"My age is 23\"\n",
    "upper_alphabets = []\n",
    "for ii in ttt:\n",
    "    if ii in \"ABCDEFGHIJKLMNOPQRST\": #only added upper case\n",
    "        upper_alphabets.append(ii)\n",
    "print(upper_alphabets)"
   ]
  },
  {
   "cell_type": "code",
   "execution_count": 33,
   "id": "be29554e-444d-4acd-974c-204b5088de61",
   "metadata": {},
   "outputs": [
    {
     "name": "stdout",
     "output_type": "stream",
     "text": [
      "['a', 'g', 'e', 'i', 's']\n"
     ]
    }
   ],
   "source": [
    "# 27 Count the number of lowercase letters in a string.\n",
    "\n",
    "tttt = \"My age is 23\"\n",
    "lower_alphabets = []\n",
    "for ii in tttt:\n",
    "    if ii in \"abcdefghijklmnopqrst\": #added both capital and lower case\n",
    "        lower_alphabets.append(ii)\n",
    "print(lower_alphabets)\n",
    "        \n"
   ]
  },
  {
   "cell_type": "code",
   "execution_count": 34,
   "id": "4a307ebd-f563-4e03-bfda-430d9b29ad1a",
   "metadata": {},
   "outputs": [
    {
     "name": "stdout",
     "output_type": "stream",
     "text": [
      "HELLO WORLD\n"
     ]
    }
   ],
   "source": [
    "# 28. Swap the case of each character in a string.\n",
    "\n",
    "u = \"hello world\"\n",
    "\n",
    "print(u.swapcase())"
   ]
  },
  {
   "cell_type": "code",
   "execution_count": 37,
   "id": "ddc55714-652f-4558-82a1-c1e756a480ac",
   "metadata": {},
   "outputs": [
    {
     "data": {
      "text/plain": [
       "'hello '"
      ]
     },
     "execution_count": 37,
     "metadata": {},
     "output_type": "execute_result"
    }
   ],
   "source": [
    "# 29. Remove a specific word from a string.\n",
    "\n",
    "u = \"hello world\"\n",
    "u.replace(\"world\",\"\")"
   ]
  },
  {
   "cell_type": "code",
   "execution_count": null,
   "id": "7476cb53-db07-4126-b2e9-e1c12600290d",
   "metadata": {},
   "outputs": [],
   "source": [
    "# 30. Check if a string is a valid email address.\n",
    "\n",
    "# not learned yet"
   ]
  },
  {
   "cell_type": "code",
   "execution_count": 40,
   "id": "e4686db1-b9ef-4b18-bc21-48345c4f7179",
   "metadata": {},
   "outputs": [
    {
     "name": "stdout",
     "output_type": "stream",
     "text": [
      "['tapusharma166', 'gmail.com']\n"
     ]
    }
   ],
   "source": [
    "# 31. Extract the username from an email address string.\n",
    "\n",
    "v = \"tapusharma166@gmail.com\"\n",
    "\n",
    "vv = v.split(\"@\")\n",
    "\n",
    "print(vv)"
   ]
  },
  {
   "cell_type": "code",
   "execution_count": 42,
   "id": "1e3380d1-e8b3-49da-a414-6dc87f5496ee",
   "metadata": {},
   "outputs": [
    {
     "name": "stdout",
     "output_type": "stream",
     "text": [
      "tapusharma166\n"
     ]
    }
   ],
   "source": [
    "username = vv[0]\n",
    "print(username)"
   ]
  },
  {
   "cell_type": "code",
   "execution_count": 43,
   "id": "f15da4df-a50a-4ef2-922e-5e6022d49d72",
   "metadata": {},
   "outputs": [
    {
     "name": "stdout",
     "output_type": "stream",
     "text": [
      "gmail.com\n"
     ]
    }
   ],
   "source": [
    "# 32. Extract the domain name from an email address string.\n",
    "\n",
    "v = \"tapusharma166@gmail.com\"\n",
    "\n",
    "vv = v.split(\"@\")\n",
    "\n",
    "domain = vv[1]\n",
    "print(domain)"
   ]
  },
  {
   "cell_type": "code",
   "execution_count": null,
   "id": "e70b3dbc-f81b-4c23-bc8f-6fca9f86dea8",
   "metadata": {},
   "outputs": [],
   "source": [
    "# 33. Replace multiple spaces in a string with a single space."
   ]
  },
  {
   "cell_type": "code",
   "execution_count": 2,
   "id": "bf93fc1f-d933-45eb-973a-89ae3ae56692",
   "metadata": {},
   "outputs": [
    {
     "name": "stdin",
     "output_type": "stream",
     "text": [
      " www.pwskills.com\n"
     ]
    },
    {
     "name": "stdout",
     "output_type": "stream",
     "text": [
      "www.pwskills.com is a valid URL\n"
     ]
    }
   ],
   "source": [
    "# 34. Check if a string is a valid URL.\n",
    "\n",
    "w = str(input())\n",
    "\n",
    "ww = w.split(\".\")\n",
    "\n",
    "prefix = ww[0]\n",
    "sufix = ww[2]\n",
    "\n",
    "if prefix == \"www\" and sufix == \"com\":\n",
    "    print(w, \"is a valid URL\")\n",
    "else:\n",
    "    print(w, \"is not a valid URL\")"
   ]
  },
  {
   "cell_type": "code",
   "execution_count": 33,
   "id": "ef2bbd7e-a04d-4546-a6d7-189aac571028",
   "metadata": {},
   "outputs": [
    {
     "name": "stdin",
     "output_type": "stream",
     "text": [
      " htpps//www.pwskills.com\n"
     ]
    },
    {
     "name": "stdout",
     "output_type": "stream",
     "text": [
      "['htpps', 'www.pwskills.com']\n"
     ]
    },
    {
     "data": {
      "text/plain": [
       "'not covered at all in lectures, its a pleasent request from team to include all this in class as many of \\nindividuals are working professionals and could not devote time in learning about these things from youtube. please\\ngive assisgnmenrs from class covered syllabous only.'"
      ]
     },
     "execution_count": 33,
     "metadata": {},
     "output_type": "execute_result"
    }
   ],
   "source": [
    "# 35. Extract the protocol (http or https) from a URL string.\n",
    "\n",
    "w = str(input())\n",
    "\n",
    "ww = w.split(\"//\")\n",
    "\n",
    "prefix = ww[0]\n",
    "\n",
    "\n",
    "if prefix == \"http\" or prefix == \"https\":\n",
    "    print(ww[1])\n",
    "else:\n",
    "    print(ww)\n",
    "\n",
    "htpps//www.pwskills.com\n",
    "\n",
    "\"\"\"not covered at all in lectures, its a pleasent request from team to include all this in class as many of \n",
    "individuals are working professionals and could not devote time in learning about these things from youtube. please\n",
    "give assisgnmenrs from class covered syllabous only.\"\"\"\n"
   ]
  },
  {
   "cell_type": "code",
   "execution_count": null,
   "id": "1733f440-07c8-4083-8281-20987b49041a",
   "metadata": {},
   "outputs": [],
   "source": [
    "print(prefix)"
   ]
  },
  {
   "cell_type": "code",
   "execution_count": 4,
   "id": "2084c395-b97d-454d-9ff5-73e0eed57e7c",
   "metadata": {},
   "outputs": [
    {
     "name": "stdin",
     "output_type": "stream",
     "text": [
      " Taapas Sharma\n"
     ]
    },
    {
     "name": "stdout",
     "output_type": "stream",
     "text": [
      "'T':1\n",
      "'a':5\n",
      "'p':1\n",
      "'s':1\n",
      "' ':1\n",
      "'S':1\n",
      "'h':1\n",
      "'r':1\n",
      "'m':1\n"
     ]
    }
   ],
   "source": [
    "# 36 Find the frequency of each character in a string.\n",
    "\n",
    "\"\"\"not covered at all in lectures, its a pleasent request from team to include all this in class as many of \n",
    "individuals are working professionals and could not devote time in learning about these things from youtube. please\n",
    "give assisgnmenrs from class covered syllabous only\"\"\"\n",
    "\n",
    "x = str(input())\n",
    "\n",
    "frequency = {}\n",
    "\n",
    "for i in x:\n",
    "    if i in frequency:\n",
    "        frequency[i] += 1\n",
    "    else:\n",
    "        frequency[i] = 1\n",
    "        \n",
    "for char, freq in frequency.items():\n",
    "    print(f\"'{char}':{freq}\")\n",
    "        "
   ]
  },
  {
   "cell_type": "code",
   "execution_count": 5,
   "id": "bd65e8f8-20a3-430c-85fc-ee93a1172358",
   "metadata": {},
   "outputs": [
    {
     "name": "stdin",
     "output_type": "stream",
     "text": [
      " I am learning Data Science. I am not understanting most of it BUT! i will try my level best.\n"
     ]
    },
    {
     "name": "stdout",
     "output_type": "stream",
     "text": [
      " I am learning Data Science I am not understanting most of it BUT i will try my level best\n"
     ]
    }
   ],
   "source": [
    "# 37. Remove all punctuation from a string.\n",
    "\n",
    "y = str(input())\n",
    "\n",
    "removed_puntuation = \" \"\n",
    "for i in y:\n",
    "    if i not in \"!@#$%^&*<>?//*;:'.,[]{}*-+\\_`\":\n",
    "        removed_puntuation += i\n",
    "print(removed_puntuation)\n",
    "       \n",
    "        \n",
    "\n"
   ]
  },
  {
   "cell_type": "code",
   "execution_count": 12,
   "id": "607c8d03-1940-407a-b11e-3aaaeea815bb",
   "metadata": {},
   "outputs": [
    {
     "name": "stdin",
     "output_type": "stream",
     "text": [
      " 3333\n"
     ]
    },
    {
     "name": "stdout",
     "output_type": "stream",
     "text": [
      "strngs contains only digits\n"
     ]
    }
   ],
   "source": [
    "# 38. Check if a string contains only digits.\n",
    "\n",
    "z = str(input())\n",
    "\n",
    "digits = []\n",
    "words = []\n",
    "for i in z:\n",
    "    if i in \"1234567890\":\n",
    "        digits.append(i)\n",
    "    else:\n",
    "        words.append(i)\n",
    "        \n",
    "if len(digits) == len(z):\n",
    "    print(\"strngs contains only digits\")\n",
    "else:\n",
    "    print(\"strngs contains words & digits\")"
   ]
  },
  {
   "cell_type": "code",
   "execution_count": 25,
   "id": "010202a3-ce3d-446e-8772-90af83643690",
   "metadata": {},
   "outputs": [
    {
     "name": "stdin",
     "output_type": "stream",
     "text": [
      " My name is Taapas Sharma and i want to become data analyst\n"
     ]
    },
    {
     "name": "stdout",
     "output_type": "stream",
     "text": [
      "strngs contains only alphabets\n"
     ]
    }
   ],
   "source": [
    "# 39. Check if a string contains only alphabets.\n",
    "z = str(input())\n",
    "\n",
    "digits = []\n",
    "alphabets = []\n",
    "\n",
    "z_withoutspace = z.replace(\" \",\"\")\n",
    "for i in z:\n",
    "    if i in \"abcdefghijklmnopqrstuvwxyzABCDEFGHIJKLMNOPQRSTUVWXYZ\":\n",
    "        alphabets.append(i)\n",
    "    else:\n",
    "        digits.append(i)\n",
    "        \n",
    "if len(alphabets) == len(z_withoutspace):\n",
    "    print(\"strngs contains only alphabets\")\n",
    "else:\n",
    "    print(\"strngs contains alphabets & digits\")\n"
   ]
  },
  {
   "cell_type": "code",
   "execution_count": 26,
   "id": "a0048dd3-0877-418d-a135-d97693f32734",
   "metadata": {},
   "outputs": [
    {
     "name": "stdout",
     "output_type": "stream",
     "text": [
      "['p', 'w', 's', 'k', 'i', 'l', 'l', 's']\n"
     ]
    }
   ],
   "source": [
    "# 40. Convert a string to a list of characters.\n",
    "\n",
    "z = \"pwskills\"\n",
    "\n",
    "z_list = list(z)\n",
    "\n",
    "print(z_list)"
   ]
  },
  {
   "cell_type": "code",
   "execution_count": 3,
   "id": "dca2e447-e664-4e2f-af1f-0d5d11625593",
   "metadata": {},
   "outputs": [
    {
     "name": "stdin",
     "output_type": "stream",
     "text": [
      " elegant man\n",
      " a gentleman\n"
     ]
    },
    {
     "name": "stdout",
     "output_type": "stream",
     "text": [
      " are anagroms\n"
     ]
    }
   ],
   "source": [
    "# 41 Check if two strings are anagrams.\n",
    "\n",
    "z = str(input())\n",
    "y = str(input())\n",
    "\n",
    "z_fre = {}\n",
    "y_fre = {}\n",
    "\n",
    "for i in z:\n",
    "    if i in z_fre:\n",
    "        z_fre[i] += 1\n",
    "    else:\n",
    "        z_fre[i] = 1\n",
    "        \n",
    "for v in y:\n",
    "    if v in y_fre:\n",
    "        y_fre[v] += 1\n",
    "    else:\n",
    "        y_fre[v] = 1\n",
    "        \n",
    "if z_fre == y_fre:\n",
    "    print(\" are anagroms\")\n",
    "else:\n",
    "    print(\"are not anagroms\")"
   ]
  },
  {
   "cell_type": "code",
   "execution_count": null,
   "id": "d758b90c-a35d-4cfa-b183-e6222b57a6ca",
   "metadata": {},
   "outputs": [],
   "source": [
    "# 42. Encode a string using a Caesar cipher."
   ]
  },
  {
   "cell_type": "code",
   "execution_count": null,
   "id": "1577f925-f50f-4bb1-884d-83f57106eb72",
   "metadata": {},
   "outputs": [],
   "source": [
    "# 43. Decode a Caesar cipher encoded string."
   ]
  },
  {
   "cell_type": "code",
   "execution_count": 14,
   "id": "39953fda-2b00-4549-bd60-fb32191eb05b",
   "metadata": {},
   "outputs": [
    {
     "name": "stdin",
     "output_type": "stream",
     "text": [
      "  taapas taapas where are you going\n"
     ]
    },
    {
     "name": "stdout",
     "output_type": "stream",
     "text": [
      "most frequently used word is = taapas\n",
      " the frequency is = 2\n"
     ]
    }
   ],
   "source": [
    "# 44. Find the most frequent word in a string.\n",
    "\n",
    "x = str(input())\n",
    "\n",
    "words = x.split()\n",
    "frequency= {}\n",
    "for i in words:\n",
    "    if i in frequency:\n",
    "        frequency[i] += 1\n",
    "    else:\n",
    "        frequency[i] = 1\n",
    "        \n",
    "most_frequent = max(frequency, key = frequency.get)\n",
    "\n",
    "print(\"most frequently used word is =\", most_frequent )\n",
    "print(\" the frequency is =\",frequency[most_frequent])  \n"
   ]
  },
  {
   "cell_type": "code",
   "execution_count": 19,
   "id": "715b690f-4979-465f-8eb0-ffa0b09c37e9",
   "metadata": {},
   "outputs": [
    {
     "name": "stdin",
     "output_type": "stream",
     "text": [
      "  i am learning data science, it is difficut bu i should keep on trying. assignments are lengthy\n"
     ]
    },
    {
     "name": "stdout",
     "output_type": "stream",
     "text": [
      "{'learning', 'trying.', 'are', 'on', 'i', 'bu', 'lengthy', 'should', 'difficut', 'science,', 'it', 'data', 'is', 'assignments', 'am', 'keep'}\n"
     ]
    }
   ],
   "source": [
    "# 45 Find all unique words in a string.\n",
    "\n",
    "x = str(input())\n",
    "\n",
    "words = x.split()\n",
    "\n",
    "unique = set(words)\n",
    "\n",
    "print(unique)\n"
   ]
  },
  {
   "cell_type": "code",
   "execution_count": 22,
   "id": "a4fd45f6-5441-4c2e-81e7-73623f347f25",
   "metadata": {},
   "outputs": [
    {
     "name": "stdin",
     "output_type": "stream",
     "text": [
      "  i am curently woking in investment banking operations however i am interested in data analytics\n"
     ]
    },
    {
     "name": "stdout",
     "output_type": "stream",
     "text": [
      "Total number of syllables in a string are = 32\n"
     ]
    }
   ],
   "source": [
    "# 46. Count the number of syllables in a string.\n",
    "\n",
    "x = str(input())\n",
    "\n",
    "xx = x.split()\n",
    "\n",
    "syllables = []\n",
    "for i in xx:\n",
    "    for ii in i:\n",
    "        if ii in \"aeiouAEIOU\":\n",
    "            syllables.append(ii)\n",
    "            \n",
    "print(\"Total number of syllables in a string are =\" , len(syllables))\n",
    "        "
   ]
  },
  {
   "cell_type": "code",
   "execution_count": 32,
   "id": "52b681cf-0e3b-4080-8c81-96ef86461d78",
   "metadata": {},
   "outputs": [
    {
     "name": "stdin",
     "output_type": "stream",
     "text": [
      "    i am curently woking in investment banking operations. however i am interested in data analytics\n"
     ]
    },
    {
     "name": "stdout",
     "output_type": "stream",
     "text": [
      "string contains special characters\n"
     ]
    }
   ],
   "source": [
    "# 47. Check if a string contains any special characters.\n",
    "\n",
    "x = str(input())\n",
    "\n",
    "xx = x.split()\n",
    "\n",
    "special = []\n",
    "for i in xx:\n",
    "    for ii in i:\n",
    "        if ii in \"\"\"!@#$%^&*()_\"+=-][{};':,.<>/?/*-+\"\"\":\n",
    "            special.append(ii)\n",
    "            \n",
    "if len(special) == 0:\n",
    "    print(\"string do not contains special characters\")\n",
    "else:\n",
    "    print(\"string contains special characters\")\n",
    "            \n",
    "    "
   ]
  },
  {
   "cell_type": "code",
   "execution_count": 30,
   "id": "b0c2a740-3331-4e52-9049-a4d0330fc402",
   "metadata": {},
   "outputs": [
    {
     "name": "stdout",
     "output_type": "stream",
     "text": [
      "0\n"
     ]
    }
   ],
   "source": [
    "print(len(special))"
   ]
  },
  {
   "cell_type": "code",
   "execution_count": 38,
   "id": "786cb968-cbc4-4c74-be07-6179eb774ca3",
   "metadata": {},
   "outputs": [
    {
     "name": "stdin",
     "output_type": "stream",
     "text": [
      " 1\n"
     ]
    },
    {
     "name": "stdout",
     "output_type": "stream",
     "text": [
      "the\n",
      "Remove nth word from a string\n"
     ]
    }
   ],
   "source": [
    "# 48. Remove the nth word from a string.\n",
    "\n",
    "x = \" Remove the nth word from a string\"\n",
    "xx = x.split()\n",
    "\n",
    "n = int(input())\n",
    "\n",
    "removed_x = xx.pop(n)\n",
    "\n",
    "print(removed_x)\n",
    "\n",
    "updated = ' '.join(xx)\n",
    "\n",
    "print(updated)\n"
   ]
  },
  {
   "cell_type": "code",
   "execution_count": 46,
   "id": "e7ac7794-374f-433a-a05b-0263e3f035c8",
   "metadata": {},
   "outputs": [
    {
     "name": "stdin",
     "output_type": "stream",
     "text": [
      " 0\n"
     ]
    },
    {
     "name": "stdout",
     "output_type": "stream",
     "text": [
      "please Remove the nth word from a string\n"
     ]
    }
   ],
   "source": [
    "# 49. Insert a word at the nth position in a string.\n",
    "\n",
    "x = \" Remove the nth word from a string\"\n",
    "\n",
    "xx = x.split()\n",
    "new_word = \"please\"\n",
    "\n",
    "n = int(input())\n",
    "\n",
    "if 0 <= n <= len(xx):\n",
    "    xx.insert(n,new_word)\n",
    "    \n",
    "updated = ' '.join(xx)\n",
    "\n",
    "print(updated)"
   ]
  },
  {
   "cell_type": "code",
   "execution_count": null,
   "id": "7e03fead-b3bb-4277-a634-98c9d617a97c",
   "metadata": {},
   "outputs": [],
   "source": [
    "# 50. Convert a CSV string to a list of lists."
   ]
  },
  {
   "cell_type": "code",
   "execution_count": 3,
   "id": "1f4832df-e0e3-4911-a4e4-f017c2f53b05",
   "metadata": {},
   "outputs": [
    {
     "name": "stdout",
     "output_type": "stream",
     "text": [
      "[1, 2, 3, 4, 5, 6, 7, 8, 9, 10]\n"
     ]
    }
   ],
   "source": [
    "# List Based Practice Problem :\n",
    "\n",
    "\n",
    "# 1. Create a list with integers from 1 to 10.\n",
    "\n",
    "a = [1,2,3,4,5,6,7,8,9,10]\n",
    "\n",
    "print(a)"
   ]
  },
  {
   "cell_type": "code",
   "execution_count": 13,
   "id": "5230f119-d890-4ee0-8c41-fa3b7e4ff899",
   "metadata": {},
   "outputs": [
    {
     "name": "stdout",
     "output_type": "stream",
     "text": [
      "10\n"
     ]
    }
   ],
   "source": [
    "# 2. Find the length of a list without using the `len()` function.\n",
    "count = 0\n",
    "for i in a:\n",
    "    count += 1\n",
    "\n",
    "print(count)"
   ]
  },
  {
   "cell_type": "code",
   "execution_count": 14,
   "id": "caa72173-e713-4144-a5c0-8fc82e59065f",
   "metadata": {},
   "outputs": [
    {
     "name": "stdout",
     "output_type": "stream",
     "text": [
      "[1, 2, 3, 4, 5, 6, 7, 8, 9, 10, 11]\n"
     ]
    }
   ],
   "source": [
    "# 3. Append an element to the end of a list.\n",
    "\n",
    "b = 11\n",
    "\n",
    "a.append(b)\n",
    "\n",
    "print(a)"
   ]
  },
  {
   "cell_type": "code",
   "execution_count": 32,
   "id": "593cee87-b915-48cb-91bb-0773226f40a0",
   "metadata": {},
   "outputs": [
    {
     "name": "stdout",
     "output_type": "stream",
     "text": [
      "[1, 2, 3, 4, 5, 6, 7, 8, 9, 10, 10.5, 11]\n"
     ]
    }
   ],
   "source": [
    "# 4. Insert an element at a specific index in a list.\n",
    "\n",
    "b = 10.5\n",
    "\n",
    "a.insert(10,b)\n",
    "\n",
    "print(a)"
   ]
  },
  {
   "cell_type": "code",
   "execution_count": 33,
   "id": "275c714b-30a9-4797-9c41-0a7a943cbde8",
   "metadata": {},
   "outputs": [
    {
     "name": "stdout",
     "output_type": "stream",
     "text": [
      "[1, 2, 3, 4, 5, 6, 7, 8, 9, 10, 11]\n"
     ]
    }
   ],
   "source": [
    "# 5. Remove an element from a list by its value.\n",
    "\n",
    "a.remove(10.5)\n",
    "print(a)"
   ]
  },
  {
   "cell_type": "code",
   "execution_count": 38,
   "id": "1de952ac-1a3e-4f8a-80f7-b317a96c4642",
   "metadata": {},
   "outputs": [
    {
     "name": "stdout",
     "output_type": "stream",
     "text": [
      "[1, 2, 3, 4, 5, 6, 7, 8, 9, 10]\n"
     ]
    }
   ],
   "source": [
    "# 6. Remove an element from a list by its index.\n",
    "\n",
    "a.pop(11)\n",
    "print(a)\n"
   ]
  },
  {
   "cell_type": "code",
   "execution_count": 39,
   "id": "eff38f1c-30d1-427c-8d53-fdf8dec2cfde",
   "metadata": {},
   "outputs": [
    {
     "name": "stdout",
     "output_type": "stream",
     "text": [
      "element exist in list\n"
     ]
    }
   ],
   "source": [
    "# 7. Check if an element exists in a list.\n",
    "\n",
    "aa = a.count(1)\n",
    "\n",
    "if aa <= 1:\n",
    "    print(\"element exist in list\")\n",
    "else:\n",
    "    print(\"element do not exist in list\")"
   ]
  },
  {
   "cell_type": "code",
   "execution_count": 40,
   "id": "a6e9a172-39c1-4f0d-885b-e3db3708d89e",
   "metadata": {},
   "outputs": [
    {
     "data": {
      "text/plain": [
       "8"
      ]
     },
     "execution_count": 40,
     "metadata": {},
     "output_type": "execute_result"
    }
   ],
   "source": [
    "# 8. Find the index of the first occurrence of an element in a list.\n",
    "\n",
    "a.index(9)"
   ]
  },
  {
   "cell_type": "code",
   "execution_count": 41,
   "id": "71057de2-adef-40eb-9187-a8d6197afe77",
   "metadata": {},
   "outputs": [
    {
     "data": {
      "text/plain": [
       "1"
      ]
     },
     "execution_count": 41,
     "metadata": {},
     "output_type": "execute_result"
    }
   ],
   "source": [
    "# 9. Count the occurrences of an element in a list.\n",
    "\n",
    "a.count(10)"
   ]
  },
  {
   "cell_type": "code",
   "execution_count": 42,
   "id": "60fd6258-0df0-46e3-be65-db2aa9b5cb5a",
   "metadata": {},
   "outputs": [
    {
     "name": "stdout",
     "output_type": "stream",
     "text": [
      "[10, 9, 8, 7, 6, 5, 4, 3, 2, 1]\n"
     ]
    }
   ],
   "source": [
    "# 10. Reverse the order of elements in a list.\n",
    "\n",
    "a.reverse()\n",
    "print(a)"
   ]
  },
  {
   "cell_type": "code",
   "execution_count": 43,
   "id": "d55d78f4-93b0-4294-ad4d-e55c5df378d8",
   "metadata": {},
   "outputs": [
    {
     "name": "stdout",
     "output_type": "stream",
     "text": [
      "[1, 2, 3, 4, 5, 6, 7, 8, 9, 10]\n"
     ]
    }
   ],
   "source": [
    "# 11. Sort a list in ascending order.\n",
    "\n",
    "a.sort()\n",
    "print(a)"
   ]
  },
  {
   "cell_type": "code",
   "execution_count": 47,
   "id": "8d308e1d-0097-4762-85e7-18c801ce519d",
   "metadata": {},
   "outputs": [],
   "source": [
    "# 12. Sort a list in descending order.\n",
    "\n",
    "a.sort(reverse=True)"
   ]
  },
  {
   "cell_type": "code",
   "execution_count": 48,
   "id": "467f88c3-ec43-49ce-8e4c-1553ea60efe4",
   "metadata": {},
   "outputs": [
    {
     "name": "stdout",
     "output_type": "stream",
     "text": [
      "[10, 9, 8, 7, 6, 5, 4, 3, 2, 1]\n"
     ]
    }
   ],
   "source": [
    "print(a)"
   ]
  },
  {
   "cell_type": "code",
   "execution_count": 60,
   "id": "84690e3d-d442-4119-9e13-418603a99e00",
   "metadata": {},
   "outputs": [
    {
     "name": "stdout",
     "output_type": "stream",
     "text": [
      "[2, 4, 6, 8, 10, 12, 14, 16, 18, 20]\n"
     ]
    }
   ],
   "source": [
    "# 13. Create a list of even numbers from 1 to 20.\n",
    "\n",
    "b = list(range(2,21,2))\n",
    "print(b)"
   ]
  },
  {
   "cell_type": "code",
   "execution_count": 65,
   "id": "9d6b066f-0f1f-4ea3-8900-8a887fe9a714",
   "metadata": {},
   "outputs": [
    {
     "name": "stdout",
     "output_type": "stream",
     "text": [
      "[1, 3, 5, 7, 9, 11, 13, 15, 17, 19]\n"
     ]
    }
   ],
   "source": [
    "# 14. Create a list of odd numbers from 1 to 20.\n",
    "\n",
    "b = list(range(1,20,2))\n",
    "print(b)"
   ]
  },
  {
   "cell_type": "code",
   "execution_count": 66,
   "id": "d83d76db-09b5-44be-aa63-4eb7061b6829",
   "metadata": {},
   "outputs": [
    {
     "name": "stdout",
     "output_type": "stream",
     "text": [
      "100\n"
     ]
    }
   ],
   "source": [
    "# 15. Find the sum of all elements in a list.\n",
    "\n",
    "print(sum(b))"
   ]
  },
  {
   "cell_type": "code",
   "execution_count": 67,
   "id": "74c1f070-bcd4-46fe-9fe5-4c79bdb700bb",
   "metadata": {},
   "outputs": [
    {
     "name": "stdout",
     "output_type": "stream",
     "text": [
      "19\n"
     ]
    }
   ],
   "source": [
    "# 16. Find the maximum value in a list.\n",
    "\n",
    "print(max(b))"
   ]
  },
  {
   "cell_type": "code",
   "execution_count": 68,
   "id": "26bcba5f-73bf-44ba-b5d2-74e0a03e72ad",
   "metadata": {},
   "outputs": [
    {
     "name": "stdout",
     "output_type": "stream",
     "text": [
      "1\n"
     ]
    }
   ],
   "source": [
    "# 17. Find the minimum value in a list.\n",
    "\n",
    "print(min(b))"
   ]
  },
  {
   "cell_type": "code",
   "execution_count": 73,
   "id": "43c52ee1-9d36-4176-8762-0460e6fa36bf",
   "metadata": {},
   "outputs": [
    {
     "name": "stdout",
     "output_type": "stream",
     "text": [
      "[1, 4, 9, 16, 25, 36, 49, 64, 81, 100]\n"
     ]
    }
   ],
   "source": [
    "# 18. Create a list of squares of numbers from 1 to 10.\n",
    "\n",
    "numbers = list(range(1,11))\n",
    "sq = []\n",
    "for i in numbers:\n",
    "    if i in numbers:\n",
    "        sq.append(i**2)\n",
    "print(sq)"
   ]
  },
  {
   "cell_type": "code",
   "execution_count": 75,
   "id": "09f75992-d4f5-4d77-8615-d359171c9ef0",
   "metadata": {},
   "outputs": [],
   "source": [
    "# 19. Create a list of random numbers.\n",
    "\n",
    "import random  "
   ]
  },
  {
   "cell_type": "code",
   "execution_count": 79,
   "id": "78728e91-4198-4447-9dff-576cf92a78a3",
   "metadata": {},
   "outputs": [
    {
     "ename": "SyntaxError",
     "evalue": "did you forget parentheses around the comprehension target? (1246228811.py, line 1)",
     "output_type": "error",
     "traceback": [
      "\u001b[0;36m  Cell \u001b[0;32mIn[79], line 1\u001b[0;36m\u001b[0m\n\u001b[0;31m    random_list = [random.randint(1,100),for i in range(10)]\u001b[0m\n\u001b[0m                   ^\u001b[0m\n\u001b[0;31mSyntaxError\u001b[0m\u001b[0;31m:\u001b[0m did you forget parentheses around the comprehension target?\n"
     ]
    }
   ],
   "source": [
    "random_list = [random.randint(1,100),for i in range(10)]\n",
    "print(random_list)"
   ]
  },
  {
   "cell_type": "code",
   "execution_count": 85,
   "id": "a624d72f-0949-4c56-baab-efabb3f3fa74",
   "metadata": {},
   "outputs": [
    {
     "name": "stdout",
     "output_type": "stream",
     "text": [
      "[1, 2, 3, 4, 5, 6, 7, 8, 9, 10]\n"
     ]
    }
   ],
   "source": [
    "# 20. Remove duplicates from a list.\n",
    "\n",
    "a = [1,2,3,4,5,5,5,5,6,7,7,7,7,7,8,9,9,10,10]\n",
    "\n",
    "removed_duplicate = set(a)\n",
    "\n",
    "removed_duplicate_a = list(removed_duplicate)\n",
    "\n",
    "print(removed_duplicate_a)"
   ]
  },
  {
   "cell_type": "code",
   "execution_count": 87,
   "id": "f022152d-b0ee-46b9-b623-20865d6049d6",
   "metadata": {},
   "outputs": [
    {
     "name": "stdout",
     "output_type": "stream",
     "text": [
      "[1, 2, 3, 4, 5, 6, 8, 9, 10]\n"
     ]
    }
   ],
   "source": [
    "# 21. Find the common elements between two lists.\n",
    "\n",
    "a = [1,2,3,4,5,5,5,5,6,7,7,7,7,7,8,9,9,10,10]\n",
    "b = [1, 2, 3, 4, 5, 6, \"b\", 8, 9, 10]\n",
    "\n",
    "common = []\n",
    "\n",
    "for i in b:\n",
    "    if i in a:\n",
    "        common.append(i)\n",
    "print(common)"
   ]
  },
  {
   "cell_type": "code",
   "execution_count": 88,
   "id": "478397b6-9cff-4d9e-bf6c-cbae13d50e2d",
   "metadata": {},
   "outputs": [
    {
     "name": "stdout",
     "output_type": "stream",
     "text": [
      "['b']\n"
     ]
    }
   ],
   "source": [
    "# 22. Find the difference between two lists.\n",
    "\n",
    "a = [1,2,3,4,5,5,5,5,6,7,7,7,7,7,8,9,9,10,10]\n",
    "b = [1, 2, 3, 4, 5, 6, \"b\", 8, 9, 10]\n",
    "\n",
    "uncommon = []\n",
    "\n",
    "for i in b:\n",
    "    if i not in a:\n",
    "        uncommon.append(i)\n",
    "print(uncommon)"
   ]
  },
  {
   "cell_type": "code",
   "execution_count": 89,
   "id": "6bc4127f-692a-470b-9f22-32e70b5b001a",
   "metadata": {},
   "outputs": [
    {
     "name": "stdout",
     "output_type": "stream",
     "text": [
      "[1, 2, 3, 4, 5, 5, 5, 5, 6, 7, 7, 7, 7, 7, 8, 9, 9, 10, 10, 1, 2, 3, 4, 5, 6, 'b', 8, 9, 10]\n"
     ]
    }
   ],
   "source": [
    "# 23. Merge two lists.\n",
    "\n",
    "print(a+b)"
   ]
  },
  {
   "cell_type": "code",
   "execution_count": 93,
   "id": "4ab3c886-cd37-4665-99bf-179a060c9842",
   "metadata": {},
   "outputs": [
    {
     "name": "stdout",
     "output_type": "stream",
     "text": [
      "[2, 4, 6, 8, 10, 10, 10, 10, 12, 14, 14, 14, 14, 14, 16, 18, 18, 20, 20]\n"
     ]
    }
   ],
   "source": [
    "# 24. Multiply all elements in a list by 2.\n",
    "multiplied_list = []\n",
    "for i in a:\n",
    "    multiplied_list.append(i * 2)\n",
    "\n",
    "print(multiplied_list)"
   ]
  },
  {
   "cell_type": "code",
   "execution_count": 98,
   "id": "d50fffd0-8cce-427f-b6cf-7264f1b79104",
   "metadata": {},
   "outputs": [
    {
     "name": "stdout",
     "output_type": "stream",
     "text": [
      "[2, 4, 6, 8, 10, 10]\n"
     ]
    }
   ],
   "source": [
    "# 25. Filter out all even numbers from a list.\n",
    "\n",
    "even = []\n",
    "for i in a:\n",
    "    if i%2 == 0:\n",
    "        even.append(i)\n",
    "\n",
    "print(even)\n",
    "        "
   ]
  },
  {
   "cell_type": "code",
   "execution_count": 107,
   "id": "0d7b8b50-ccea-49f9-a7fb-368155c24894",
   "metadata": {},
   "outputs": [
    {
     "name": "stdout",
     "output_type": "stream",
     "text": [
      "[1, 2, 3]\n"
     ]
    }
   ],
   "source": [
    "# 26. Convert a list of strings to a list of integers.\n",
    "\n",
    "strings = [\"1\",\"2\",\"3\"]\n",
    "\n",
    "list_of_int = []\n",
    "for i in strings:\n",
    "    list_of_int.append(int(i))\n",
    "    \n",
    "print(list_of_int)"
   ]
  },
  {
   "cell_type": "code",
   "execution_count": 110,
   "id": "90964899-2da8-4bab-8bbd-5349bb4815ec",
   "metadata": {},
   "outputs": [
    {
     "name": "stdout",
     "output_type": "stream",
     "text": [
      "['1', '2', '3', '4']\n"
     ]
    }
   ],
   "source": [
    "# 27. Convert a list of integers to a list of strings.\n",
    "\n",
    "\n",
    "lists = [1,2,3,4]\n",
    "\n",
    "list_of_str = []\n",
    "for i in lists:\n",
    "    list_of_str.append(str(i))\n",
    "    \n",
    "print(list_of_str)"
   ]
  },
  {
   "cell_type": "code",
   "execution_count": null,
   "id": "1f6eea32-df2c-4176-be3b-dfa30fc3df0e",
   "metadata": {},
   "outputs": [],
   "source": [
    "# 28. Flatten a nested list.\n"
   ]
  },
  {
   "cell_type": "code",
   "execution_count": 4,
   "id": "95173be5-8e31-422d-b0df-202d8c094bea",
   "metadata": {},
   "outputs": [
    {
     "name": "stdout",
     "output_type": "stream",
     "text": [
      "[0, 1, 1, 2, 3, 5, 8, 13, 21, 34, 55]\n"
     ]
    }
   ],
   "source": [
    "# 29. Create a list of the first 10 Fibonacci numbers.\n",
    "\n",
    "Fibonacci = []\n",
    "a,b = 0,1\n",
    "for i in list(range(0,11)):\n",
    "    Fibonacci.append(a)\n",
    "    a,b = b,a+b\n",
    "    \n",
    "\n",
    "print(Fibonacci)\n",
    "    \n",
    "    "
   ]
  },
  {
   "cell_type": "code",
   "execution_count": 23,
   "id": "a7a92400-f7b0-47fc-a345-cf1c84cb86f0",
   "metadata": {},
   "outputs": [
    {
     "name": "stdout",
     "output_type": "stream",
     "text": [
      " List is already sorted\n",
      "[0, 1, 1, 2, 3, 5, 8, 13, 21, 34, 55]\n"
     ]
    }
   ],
   "source": [
    "#30. Check if a list is sorted.\n",
    "\n",
    "list_test = [0, 1, 1, 2, 3, 5, 8, 13, 21, 34, 55]\n",
    "\n",
    "\n",
    "\n",
    "if list_test == sorted(list_test):\n",
    "    print(\" List is already sorted\")\n",
    "else:\n",
    "    print(\"list is not sorted\")\n",
    "    \n",
    "print(list_test)\n",
    "    "
   ]
  },
  {
   "cell_type": "code",
   "execution_count": 31,
   "id": "da05295e-949d-4f6c-b0f5-547c0517bfa8",
   "metadata": {},
   "outputs": [
    {
     "name": "stdout",
     "output_type": "stream",
     "text": [
      "[3, 4, 5, 1, 2]\n"
     ]
    }
   ],
   "source": [
    "#31. Rotate a list to the left by `n` positions.\n",
    "\n",
    "original_list = [1, 2, 3, 4, 5]\n",
    "n = 2\n",
    "\n",
    "if n < 0 or n >= len(original_list):\n",
    "    print(\"Invalid rotation amount\")\n",
    "else:\n",
    "    rotated_list = original_list[n:] + original_list[:n]\n",
    "    print(rotated_list)"
   ]
  },
  {
   "cell_type": "code",
   "execution_count": 30,
   "id": "398d1373-8bec-4237-8573-df7c062031a8",
   "metadata": {},
   "outputs": [
    {
     "name": "stdout",
     "output_type": "stream",
     "text": [
      "[4, 5, 1, 2, 3]\n"
     ]
    }
   ],
   "source": [
    "# 32. Rotate a list to the right by `n` positions.\n",
    "\n",
    "original_list = [1, 2, 3, 4, 5]\n",
    "n = 2\n",
    "\n",
    "if n < 0 or n >= len(original_list):\n",
    "    print(\"Invalid rotation amount\")\n",
    "else:\n",
    "    rotated_list = original_list[-n:] + original_list[:-n]\n",
    "    print(rotated_list)"
   ]
  },
  {
   "cell_type": "code",
   "execution_count": 44,
   "id": "9f29284f-22ea-44a8-bf8f-821cd2f7a51d",
   "metadata": {},
   "outputs": [
    {
     "name": "stdout",
     "output_type": "stream",
     "text": [
      "[1, 3, 5, 7, 9, 11, 13, 15, 17, 19, 21, 23, 25, 27, 29, 31, 33, 35, 37, 39, 41, 43, 45, 47, 49]\n"
     ]
    }
   ],
   "source": [
    "# 33. Create a list of prime numbers up to 50.\n",
    "prime = list(range(1,50,2))\n",
    "print(prime)  "
   ]
  },
  {
   "cell_type": "code",
   "execution_count": null,
   "id": "1ef59547-c44d-4aef-8163-026354e859f9",
   "metadata": {},
   "outputs": [],
   "source": [
    "# 34. Split a list into chunks of size `n`.\n",
    "\n",
    "list_test = [1,2,3,4,5,6,7,8]\n",
    "\n",
    "for i in list_test:\n",
    "    if len(list_test)/2 in list(range(0,100,2):\n",
    "                                slpit(list_test)\n"
   ]
  },
  {
   "cell_type": "code",
   "execution_count": 7,
   "id": "9d1003f9-873e-4cf4-b9d9-60eddc3b2fad",
   "metadata": {},
   "outputs": [
    {
     "name": "stdin",
     "output_type": "stream",
     "text": [
      " 1,2,3,4,5,6,7,8,9\n"
     ]
    },
    {
     "name": "stdout",
     "output_type": "stream",
     "text": [
      "second biggest number is= 8\n"
     ]
    }
   ],
   "source": [
    "# 35. Find the second largest number in a list.\n",
    "\n",
    "x = list(input())\n",
    "\n",
    "y = max(x)\n",
    "\n",
    "for i in x:\n",
    "    if i == y:\n",
    "        x.remove(y)\n",
    "        \n",
    "print(\"second biggest number is=\",max(x))"
   ]
  },
  {
   "cell_type": "code",
   "execution_count": 15,
   "id": "22283002-81ed-43fe-92e3-53ae74f49aea",
   "metadata": {},
   "outputs": [
    {
     "name": "stdin",
     "output_type": "stream",
     "text": [
      " 2\n"
     ]
    },
    {
     "name": "stdout",
     "output_type": "stream",
     "text": [
      "[]\n"
     ]
    }
   ],
   "source": [
    "# 36. Replace every element in a list with its square.\n",
    "\n",
    "x = list(input())\n",
    "sq = []\n",
    "for i in x:\n",
    "    if i == int:\n",
    "        sq.append(i**2)\n",
    "        \n",
    "    \n",
    "    \n",
    "\n",
    "print(sq)"
   ]
  },
  {
   "cell_type": "code",
   "execution_count": null,
   "id": "ee51a3ed-69eb-4847-a682-c3c67f4bd2bc",
   "metadata": {},
   "outputs": [],
   "source": [
    "# 37. Convert a list to a dictionary where list elements become keys and their indices become values.\n",
    "\n"
   ]
  },
  {
   "cell_type": "code",
   "execution_count": 20,
   "id": "ed925d06-fbd7-4b46-9d0a-68275dd1a163",
   "metadata": {},
   "outputs": [
    {
     "name": "stdout",
     "output_type": "stream",
     "text": [
      "[2, 5, 4, 3, 8, 1, 6, 9, 7]\n"
     ]
    }
   ],
   "source": [
    "# 38. Shuffle the elements of a list randomly.\n",
    "\n",
    "list_test = [1,2,3,4,5,6,7,8,9]\n",
    "import random\n",
    "\n",
    "random.shuffle(list_test)\n",
    "\n",
    "print(list_test)\n",
    "\n"
   ]
  },
  {
   "cell_type": "code",
   "execution_count": 1,
   "id": "6d88cc09-ea20-4ad7-a58a-e0f39de43dfa",
   "metadata": {},
   "outputs": [
    {
     "name": "stdout",
     "output_type": "stream",
     "text": [
      "[1, 2, 6, 24, 120, 720, 5040, 40320, 362880, 3628800]\n"
     ]
    }
   ],
   "source": [
    "# 39. Create a list of the first 10 factorial numbers.\n",
    "\n",
    "factorial_list = []\n",
    "\n",
    "for n in range(1, 11):\n",
    "    factorial = 1\n",
    "    for i in range(1, n + 1):\n",
    "        factorial *= i\n",
    "    factorial_list.append(factorial)\n",
    "\n",
    "print(factorial_list)"
   ]
  },
  {
   "cell_type": "code",
   "execution_count": 11,
   "id": "6b9ea0d1-f7ea-4cb8-80ae-834b6d51f906",
   "metadata": {},
   "outputs": [
    {
     "name": "stdin",
     "output_type": "stream",
     "text": [
      " 1,2,3\n",
      " 3,4,5\n"
     ]
    },
    {
     "name": "stdout",
     "output_type": "stream",
     "text": [
      " two lists have at least one element in common \n"
     ]
    }
   ],
   "source": [
    "# 40. Check if two lists have at least one element in common.\n",
    "\n",
    "a = (input())\n",
    "b = (input())\n",
    "common = []\n",
    "for i in a:\n",
    "    if i in b:\n",
    "        common.append(i)\n",
    "        \n",
    "if len(common) >=1:\n",
    "    print(\" two lists have at least one element in common \")\n",
    "else:\n",
    "    print(\" two lists do note have at least one element in common \")\n",
    "    "
   ]
  },
  {
   "cell_type": "code",
   "execution_count": 13,
   "id": "db93025a-b171-4791-8597-78b4b571ed96",
   "metadata": {},
   "outputs": [
    {
     "name": "stdout",
     "output_type": "stream",
     "text": [
      "[]\n"
     ]
    }
   ],
   "source": [
    "# 41. Remove all elements from a list.\n",
    "\n",
    "a = [1,2,3,4]\n",
    "\n",
    "a.clear()\n",
    "print(a)"
   ]
  },
  {
   "cell_type": "code",
   "execution_count": 17,
   "id": "ebdc8287-6009-46dc-b38c-15a86ac079e4",
   "metadata": {},
   "outputs": [
    {
     "name": "stdout",
     "output_type": "stream",
     "text": [
      "[1, 2, 3, 4, -2]\n"
     ]
    }
   ],
   "source": [
    "# 42. Replace negative numbers in a list with 0.\n",
    "\n",
    "a = [1,2,3,4,-1,-2]\n",
    "\n",
    "for i in a:\n",
    "    if i <= 0:\n",
    "        a.(i)\n",
    "\n",
    "print(a)"
   ]
  },
  {
   "cell_type": "code",
   "execution_count": 1,
   "id": "e4b197d5-dacb-4b0b-923e-1f5203126ee9",
   "metadata": {},
   "outputs": [],
   "source": [
    "# 43. Convert a string into a list of words.\n",
    "\n",
    "a = \" abc\"\n",
    "\n",
    "a_list = list(a)"
   ]
  },
  {
   "cell_type": "code",
   "execution_count": 2,
   "id": "4998c7b6-5b0e-4be7-9382-f6bc6bd8e24c",
   "metadata": {},
   "outputs": [
    {
     "name": "stdout",
     "output_type": "stream",
     "text": [
      "[' ', 'a', 'b', 'c']\n"
     ]
    }
   ],
   "source": [
    "print(a_list)"
   ]
  },
  {
   "cell_type": "code",
   "execution_count": 12,
   "id": "d3be44cd-ef90-40c7-88de-f9ce1a4ce7a4",
   "metadata": {},
   "outputs": [
    {
     "name": "stdout",
     "output_type": "stream",
     "text": [
      "i want to learn data science\n"
     ]
    }
   ],
   "source": [
    "# 44. Convert a list of words into a string.\n",
    "\n",
    "a = [\"i\", \"want\", \"to\", \"learn\", \"data\", \"science\"]\n",
    "\n",
    "a_str = \" \".join(a)\n",
    "\n",
    "print(a_str)\n"
   ]
  },
  {
   "cell_type": "code",
   "execution_count": 22,
   "id": "d2bf973a-e870-4a19-a4e3-d969334fd32a",
   "metadata": {},
   "outputs": [
    {
     "name": "stdin",
     "output_type": "stream",
     "text": [
      " 2\n"
     ]
    },
    {
     "name": "stdout",
     "output_type": "stream",
     "text": [
      "[1, 2, 4, 8]\n"
     ]
    }
   ],
   "source": [
    "# 45. Create a list of the first `n` powers of 2.\n",
    "power_2 = []\n",
    "n = 2**int(input())\n",
    "for i in range(n):\n",
    "    power_2.append(2**i)\n",
    "    \n",
    "print(power_2)\n",
    "\n",
    "\n",
    "\n",
    "\n"
   ]
  },
  {
   "cell_type": "code",
   "execution_count": 30,
   "id": "93398b45-f16a-402d-83e9-500bef776469",
   "metadata": {},
   "outputs": [
    {
     "name": "stdout",
     "output_type": "stream",
     "text": [
      " Longest String is science\n"
     ]
    }
   ],
   "source": [
    "# 46. Find the longest string in a list of strings.\n",
    "\n",
    "a = [\"i\", \"want\", \"to\", \"learn\", \"data\", \"science\"]\n",
    "len_a  = \" \"\n",
    "for i in a:\n",
    "    if len(i) > len(len_a):\n",
    "        len_a = i\n",
    "        \n",
    "print(\" Longest String is\", len_a)\n",
    "\n",
    "\n",
    "    "
   ]
  },
  {
   "cell_type": "code",
   "execution_count": 31,
   "id": "cfa6887d-517d-4024-b1ab-338f71a013f8",
   "metadata": {},
   "outputs": [
    {
     "name": "stdout",
     "output_type": "stream",
     "text": [
      " Shortest String is  \n"
     ]
    }
   ],
   "source": [
    "# 47. Find the shortest string in a list of strings.\n",
    "\n",
    "a = [\"i\", \"want\", \"to\", \"learn\", \"data\", \"science\"]\n",
    "len_a  = \" \"\n",
    "for i in a:\n",
    "    if len(i) < len(len_a):\n",
    "        len_a = i\n",
    "        \n",
    "print(\" Shortest String is\", len_a)\n"
   ]
  },
  {
   "cell_type": "code",
   "execution_count": 33,
   "id": "c7ad25cf-7695-4c24-bcd5-af94937ea834",
   "metadata": {},
   "outputs": [
    {
     "name": "stdout",
     "output_type": "stream",
     "text": [
      "(1, 2, 3, 4, 5)\n"
     ]
    }
   ],
   "source": [
    "# Tuple Based Practice Problem :\n",
    "\n",
    "# 1. Create a tuple with integers from 1 to 5.\n",
    "\n",
    "a = tuple(range(1,6))\n",
    "print(a)"
   ]
  },
  {
   "cell_type": "code",
   "execution_count": 35,
   "id": "ae50c807-47d4-441a-9224-7ab3ae3e99c1",
   "metadata": {},
   "outputs": [
    {
     "name": "stdout",
     "output_type": "stream",
     "text": [
      "to\n"
     ]
    }
   ],
   "source": [
    "# 2. Access the third element of a tuple.\n",
    "a = (\"i\", \"want\", \"to\", \"learn\", \"data\", \"science\")\n",
    "\n",
    "print(a[2])\n",
    "\n",
    "\n"
   ]
  },
  {
   "cell_type": "code",
   "execution_count": 36,
   "id": "4a94e126-c658-4684-91f7-573e0070f47b",
   "metadata": {},
   "outputs": [
    {
     "name": "stdout",
     "output_type": "stream",
     "text": [
      "length of a tuple =  6\n"
     ]
    }
   ],
   "source": [
    "# 3. Find the length of a tuple without using the `len()` function.\n",
    "\n",
    "a = (\"i\", \"want\", \"to\", \"learn\", \"data\", \"science\")\n",
    "count = 0\n",
    "for i in a:\n",
    "    count += 1\n",
    "    \n",
    "print(\"length of a tuple = \",count)"
   ]
  },
  {
   "cell_type": "code",
   "execution_count": 38,
   "id": "7ff229de-d139-4802-aec8-5fa81de0dadc",
   "metadata": {},
   "outputs": [
    {
     "name": "stdout",
     "output_type": "stream",
     "text": [
      "1\n"
     ]
    }
   ],
   "source": [
    "# 4. Count the occurrences of an element in a tuple.\n",
    "\n",
    "a = (\"i\", \"want\", \"to\", \"learn\", \"data\", \"science\")\n",
    "\n",
    "print(a.count(\"i\"))"
   ]
  },
  {
   "cell_type": "code",
   "execution_count": 39,
   "id": "dbc86269-0592-416d-9f77-3bc0592a6b2d",
   "metadata": {},
   "outputs": [
    {
     "data": {
      "text/plain": [
       "1"
      ]
     },
     "execution_count": 39,
     "metadata": {},
     "output_type": "execute_result"
    }
   ],
   "source": [
    "# 5. Find the index of the first occurrence of an element in a tuple.\n",
    "\n",
    "a = (\"i\", \"want\", \"to\", \"learn\", \"data\", \"science\")\n",
    "\n",
    "a.index(\"want\")"
   ]
  },
  {
   "cell_type": "code",
   "execution_count": 44,
   "id": "3de6066d-0923-4e5e-91a7-9fc7b94a7ce6",
   "metadata": {},
   "outputs": [
    {
     "name": "stdout",
     "output_type": "stream",
     "text": [
      "element exists in a tuple.\n"
     ]
    }
   ],
   "source": [
    "# 6. Check if an element exists in a tuple.\n",
    "\n",
    "a = (\"i\", \"want\", \"to\", \"learn\", \"data\", \"science\")\n",
    "\n",
    "if \"to\" in a:\n",
    "           print(\"element exists in a tuple.\")\n",
    "else:\n",
    "    print(\"element do not exists in a tuple.\")\n"
   ]
  },
  {
   "cell_type": "code",
   "execution_count": 45,
   "id": "1ff8f77f-dc82-4bf4-a6d8-271961d5d747",
   "metadata": {},
   "outputs": [
    {
     "name": "stdout",
     "output_type": "stream",
     "text": [
      "['i', 'want', 'to', 'learn', 'data', 'science']\n"
     ]
    }
   ],
   "source": [
    "# 7. Convert a tuple to a list.\n",
    "\n",
    "a = (\"i\", \"want\", \"to\", \"learn\", \"data\", \"science\")\n",
    "\n",
    "aa = list(a)\n",
    "\n",
    "print(aa)\n",
    "\n"
   ]
  },
  {
   "cell_type": "code",
   "execution_count": 46,
   "id": "8ba65530-98ac-4f3e-8a6b-e0a58bc619e6",
   "metadata": {},
   "outputs": [
    {
     "name": "stdout",
     "output_type": "stream",
     "text": [
      "('i', 'want', 'to', 'learn', 'data', 'science')\n"
     ]
    }
   ],
   "source": [
    "# 8. Convert a list to a tuple.\n",
    "\n",
    "a = [\"i\", \"want\", \"to\", \"learn\", \"data\", \"science\"]\n",
    "\n",
    "aa = tuple(a)\n",
    "\n",
    "print(aa)"
   ]
  },
  {
   "cell_type": "code",
   "execution_count": 5,
   "id": "0575db5f-8cc5-4ff6-b88e-202e67e7ba9c",
   "metadata": {},
   "outputs": [
    {
     "name": "stdout",
     "output_type": "stream",
     "text": [
      "i want to learn data science\n"
     ]
    }
   ],
   "source": [
    "# 9. Unpack the elements of a tuple into variables.\n",
    "\n",
    "a = (\"i\", \"want\", \"to\", \"learn\", \"data\", \"science\")\n",
    "aa = \" \".join(a)\n",
    "        \n",
    "print(aa)    \n",
    "    "
   ]
  },
  {
   "cell_type": "code",
   "execution_count": 9,
   "id": "c779e10d-df24-45b8-b051-69f496f7b1e3",
   "metadata": {},
   "outputs": [
    {
     "name": "stdout",
     "output_type": "stream",
     "text": [
      "(2, 4, 6, 8, 10)\n"
     ]
    }
   ],
   "source": [
    "# 10. Create a tuple of even numbers from 1 to 10.\n",
    "\n",
    "a = tuple(range(2,11,2))\n",
    "print(a)"
   ]
  },
  {
   "cell_type": "code",
   "execution_count": 11,
   "id": "6cc3ce9b-7a61-4372-a2bb-58bf2d0887af",
   "metadata": {},
   "outputs": [
    {
     "name": "stdout",
     "output_type": "stream",
     "text": [
      "(1, 3, 5, 7, 9)\n"
     ]
    }
   ],
   "source": [
    "# 11. Create a tuple of odd numbers from 1 to 10.\n",
    "\n",
    "a = tuple(range(1,10,2))\n",
    "print(a)"
   ]
  },
  {
   "cell_type": "code",
   "execution_count": 12,
   "id": "9c478403-30d0-46a1-9c29-811125def331",
   "metadata": {},
   "outputs": [
    {
     "name": "stdout",
     "output_type": "stream",
     "text": [
      "(2, 4, 6, 8, 10, 1, 3, 5, 7, 9)\n"
     ]
    }
   ],
   "source": [
    "# 12. Concatenate two tuples.\n",
    "\n",
    "a = (2, 4, 6, 8, 10)\n",
    "b = (1, 3, 5, 7, 9)\n",
    "print(a+b)"
   ]
  },
  {
   "cell_type": "code",
   "execution_count": 13,
   "id": "513149f0-0955-4287-bc18-53961a26acb5",
   "metadata": {},
   "outputs": [
    {
     "name": "stdout",
     "output_type": "stream",
     "text": [
      "(2, 4, 6, 8, 10, 2, 4, 6, 8, 10, 2, 4, 6, 8, 10)\n"
     ]
    }
   ],
   "source": [
    "# 13. Repeat a tuple three times.\n",
    "a = (2, 4, 6, 8, 10)\n",
    "\n",
    "print(3*a)\n"
   ]
  },
  {
   "cell_type": "code",
   "execution_count": 18,
   "id": "aac843f6-aff5-42bb-8a95-def2fdbdd239",
   "metadata": {},
   "outputs": [
    {
     "name": "stdout",
     "output_type": "stream",
     "text": [
      " tuple is empty.\n"
     ]
    }
   ],
   "source": [
    "# 14. Check if a tuple is empty.\n",
    "\n",
    "a = ()\n",
    "\n",
    "if len(a) == 0:\n",
    "    print(\" tuple is empty.\")\n",
    "\n",
    "          \n",
    "    "
   ]
  },
  {
   "cell_type": "code",
   "execution_count": 19,
   "id": "55062924-dac6-41c5-a3e0-b8ce2969b78b",
   "metadata": {},
   "outputs": [],
   "source": [
    "# 15. Create a nested tuple.\n",
    "\n",
    "a = (1,2,3,(67,68,69),4,5)\n"
   ]
  },
  {
   "cell_type": "code",
   "execution_count": 23,
   "id": "4c2fac57-ccc7-4b5c-830a-3ccc7fd2b8fe",
   "metadata": {},
   "outputs": [
    {
     "name": "stdout",
     "output_type": "stream",
     "text": [
      "67\n"
     ]
    }
   ],
   "source": [
    "# 16. Access the first element of a nested tuple.\n",
    "\n",
    "print(a[3][0])"
   ]
  },
  {
   "cell_type": "code",
   "execution_count": null,
   "id": "920de44f-de6f-4d0b-a17a-36fda48fcfa8",
   "metadata": {},
   "outputs": [],
   "source": [
    "# 17. Create a tuple with a single element.\n",
    "\n",
    "a = (\"taapas\",)"
   ]
  },
  {
   "cell_type": "code",
   "execution_count": 24,
   "id": "8f962be9-72a6-437a-bd23-9bd6bb070ce7",
   "metadata": {},
   "outputs": [
    {
     "name": "stdout",
     "output_type": "stream",
     "text": [
      "A not equal to B\n"
     ]
    }
   ],
   "source": [
    "# 18. Compare two tuples.\n",
    "\n",
    "a = (2, 4, 6, 8, 10)\n",
    "b = (1, 3, 5, 7, 9)\n",
    "\n",
    "if a == b:\n",
    "    print(\"A = B\")\n",
    "elif a != b:\n",
    "    print(\"A not equal to B\")\n",
    "else:\n",
    "    print(\"not comparable\")\n"
   ]
  },
  {
   "cell_type": "code",
   "execution_count": 25,
   "id": "43308a85-aa9a-406c-ae0f-c17deb4b0667",
   "metadata": {},
   "outputs": [
    {
     "ename": "NameError",
     "evalue": "name 'a' is not defined",
     "output_type": "error",
     "traceback": [
      "\u001b[0;31m---------------------------------------------------------------------------\u001b[0m",
      "\u001b[0;31mNameError\u001b[0m                                 Traceback (most recent call last)",
      "Cell \u001b[0;32mIn[25], line 8\u001b[0m\n\u001b[1;32m      4\u001b[0m b \u001b[38;5;241m=\u001b[39m (\u001b[38;5;241m1\u001b[39m, \u001b[38;5;241m3\u001b[39m, \u001b[38;5;241m5\u001b[39m, \u001b[38;5;241m7\u001b[39m, \u001b[38;5;241m9\u001b[39m)\n\u001b[1;32m      6\u001b[0m \u001b[38;5;28;01mdel\u001b[39;00m a\n\u001b[0;32m----> 8\u001b[0m \u001b[38;5;28mprint\u001b[39m(\u001b[43ma\u001b[49m)\n",
      "\u001b[0;31mNameError\u001b[0m: name 'a' is not defined"
     ]
    }
   ],
   "source": [
    "# 19. Delete a tuple.\n",
    "\n",
    "a = (2, 4, 6, 8, 10)\n",
    "b = (1, 3, 5, 7, 9)\n",
    "\n",
    "del a\n",
    "\n",
    "print(a)"
   ]
  },
  {
   "cell_type": "code",
   "execution_count": 27,
   "id": "83dbebc6-3800-4f0b-a08c-e01be83f2805",
   "metadata": {},
   "outputs": [
    {
     "name": "stdout",
     "output_type": "stream",
     "text": [
      "(5, 7, 9)\n"
     ]
    }
   ],
   "source": [
    "# 20. Slice a tuple.\n",
    "\n",
    "b = (1, 3, 5, 7, 9)\n",
    "\n",
    "sliced_tuple = b[2:5]\n",
    "\n",
    "print(sliced_tuple)"
   ]
  },
  {
   "cell_type": "code",
   "execution_count": 28,
   "id": "58335fbe-250c-4716-970c-cca3f68319b8",
   "metadata": {},
   "outputs": [
    {
     "name": "stdout",
     "output_type": "stream",
     "text": [
      "9\n"
     ]
    }
   ],
   "source": [
    "# 21. Find the maximum value in a tuple.\n",
    "\n",
    "b = (1, 3, 5, 7, 9)\n",
    "\n",
    "print(max(b))"
   ]
  },
  {
   "cell_type": "code",
   "execution_count": 29,
   "id": "76556ec7-ea7e-4231-841c-f11d4edf3085",
   "metadata": {},
   "outputs": [
    {
     "name": "stdout",
     "output_type": "stream",
     "text": [
      "1\n"
     ]
    }
   ],
   "source": [
    "# 22. Find the minimum value in a tuple.\n",
    "b = (1, 3, 5, 7, 9)\n",
    "\n",
    "print(min(b))\n"
   ]
  },
  {
   "cell_type": "code",
   "execution_count": 31,
   "id": "7203cf4b-235c-45ae-ac59-d8d6c68bd1bc",
   "metadata": {},
   "outputs": [
    {
     "name": "stdout",
     "output_type": "stream",
     "text": [
      "('h', 'e', 'l', 'l', 'o')\n"
     ]
    }
   ],
   "source": [
    "# 23. Convert a string to a tuple of characters.\n",
    "\n",
    "a = \"hello\"\n",
    "\n",
    "aa = tuple(a)\n",
    "\n",
    "print(aa)"
   ]
  },
  {
   "cell_type": "code",
   "execution_count": 37,
   "id": "92b3f048-3a3f-4b98-82d6-d29cdc9c8ff6",
   "metadata": {},
   "outputs": [
    {
     "name": "stdout",
     "output_type": "stream",
     "text": [
      "h e l l o\n"
     ]
    }
   ],
   "source": [
    "# 24. Convert a tuple of characters to a string.\n",
    "\n",
    "aa = ('h', 'e', 'l', 'l', 'o')\n",
    "a = \" \".join(aa)\n",
    "\n",
    "print(a)"
   ]
  },
  {
   "cell_type": "code",
   "execution_count": 39,
   "id": "53613d4a-4d82-499e-be43-024cd09d9118",
   "metadata": {},
   "outputs": [
    {
     "name": "stdout",
     "output_type": "stream",
     "text": [
      "('hello', (1, 2, 3), [1, 2, 3], True)\n"
     ]
    }
   ],
   "source": [
    "# 25. Create a tuple from multiple data types.\n",
    "\n",
    "a = \"hello\"\n",
    "b = 1,2,3\n",
    "c = [1,2,3]\n",
    "d = True\n",
    "\n",
    "new_tuple = (a,b,c,d)\n",
    "print(new_tuple)"
   ]
  },
  {
   "cell_type": "code",
   "execution_count": 40,
   "id": "c246c9a3-309e-48c4-9ab6-3af485fb6890",
   "metadata": {},
   "outputs": [
    {
     "name": "stdout",
     "output_type": "stream",
     "text": [
      "A equal to B\n"
     ]
    }
   ],
   "source": [
    "# 26. Check if two tuples are identical.\n",
    "\n",
    "a = (1,2,3)\n",
    "b = (1,2,3)\n",
    "\n",
    "if a == b:\n",
    "    print(\"A equal to B\")\n"
   ]
  },
  {
   "cell_type": "code",
   "execution_count": 42,
   "id": "dacf5660-3429-406e-ac11-f14404bef55a",
   "metadata": {},
   "outputs": [
    {
     "name": "stdout",
     "output_type": "stream",
     "text": [
      "[1, 2, 3, 4, 5, 6, 7, 8]\n"
     ]
    }
   ],
   "source": [
    "# 27. Sort the elements of a tuple.\n",
    "\n",
    "a = (1,3,2,4,6,7,5,8)\n",
    "\n",
    "sorted_a = sorted(a)\n",
    "\n",
    "print(sorted_a)"
   ]
  },
  {
   "cell_type": "code",
   "execution_count": 43,
   "id": "ada227f9-174a-4a79-8d18-5544e4b67ebc",
   "metadata": {},
   "outputs": [
    {
     "name": "stdout",
     "output_type": "stream",
     "text": [
      "(1, 3, 2, 4, 6, 7, 5, 8)\n"
     ]
    }
   ],
   "source": [
    "# 28. Convert a tuple of integers to a tuple of strings.\n",
    "\n",
    "a = (1,3,2,4,6,7,5,8)\n",
    "\n",
    "NA\n",
    "    "
   ]
  },
  {
   "cell_type": "code",
   "execution_count": null,
   "id": "a2be230f-4537-47cc-b422-6b8bc19dc87b",
   "metadata": {},
   "outputs": [],
   "source": [
    "# 29. Convert a tuple of strings to a tuple of integers.\n"
   ]
  },
  {
   "cell_type": "code",
   "execution_count": 46,
   "id": "d1926aae-c6d7-46f5-b2ae-aa2200d4e2c2",
   "metadata": {},
   "outputs": [
    {
     "name": "stdout",
     "output_type": "stream",
     "text": [
      "(2, 4, 6, 8, 10, 1, 3, 5, 7, 9)\n"
     ]
    }
   ],
   "source": [
    "# 30. Merge two tuples.\n",
    "\n",
    "a = (2, 4, 6, 8, 10)\n",
    "b = (1, 3, 5, 7, 9)\n",
    "\n",
    "merged = (a+b)\n",
    "\n",
    "print(merged)"
   ]
  },
  {
   "cell_type": "code",
   "execution_count": 47,
   "id": "d297cd12-e688-48ae-a2f4-d313bf7e50b2",
   "metadata": {},
   "outputs": [
    {
     "ename": "NameError",
     "evalue": "name 'split' is not defined",
     "output_type": "error",
     "traceback": [
      "\u001b[0;31m---------------------------------------------------------------------------\u001b[0m",
      "\u001b[0;31mNameError\u001b[0m                                 Traceback (most recent call last)",
      "Cell \u001b[0;32mIn[47], line 5\u001b[0m\n\u001b[1;32m      1\u001b[0m \u001b[38;5;66;03m# 31. Flatten a nested tuple.\u001b[39;00m\n\u001b[1;32m      3\u001b[0m a \u001b[38;5;241m=\u001b[39m (\u001b[38;5;241m1\u001b[39m,\u001b[38;5;241m2\u001b[39m,\u001b[38;5;241m3\u001b[39m,\u001b[38;5;241m4\u001b[39m,(\u001b[38;5;241m5\u001b[39m,\u001b[38;5;241m6\u001b[39m,\u001b[38;5;241m7\u001b[39m,\u001b[38;5;241m8\u001b[39m))\n\u001b[0;32m----> 5\u001b[0m aa \u001b[38;5;241m=\u001b[39m \u001b[43msplit\u001b[49m(\u001b[38;5;124m\"\u001b[39m\u001b[38;5;124m(\u001b[39m\u001b[38;5;124m\"\u001b[39m)\n",
      "\u001b[0;31mNameError\u001b[0m: name 'split' is not defined"
     ]
    }
   ],
   "source": [
    "# 31. Flatten a nested tuple.\n",
    "\n",
    "a = (1,2,3,4,(5,6,7,8))\n",
    "\n",
    "aa = split(\"(\")"
   ]
  },
  {
   "cell_type": "code",
   "execution_count": null,
   "id": "d9c5475c-86c8-45f6-b6aa-3f651ba82c87",
   "metadata": {},
   "outputs": [],
   "source": [
    "# 32. Create a tuple of the first 5 prime numbers.\n",
    "\n",
    "a = (1,2,3,5,7)\n"
   ]
  },
  {
   "cell_type": "code",
   "execution_count": 51,
   "id": "1063e3fc-689d-4498-be3f-445334132701",
   "metadata": {},
   "outputs": [
    {
     "name": "stdout",
     "output_type": "stream",
     "text": [
      "tuple is a palindrome\n"
     ]
    }
   ],
   "source": [
    "# 33. Check if a tuple is a palindrome.\n",
    "\n",
    "a = (1,2,1)\n",
    "\n",
    "if a[::-1] == a:\n",
    "    print(\"tuple is a palindrome\")\n",
    "else:\n",
    "    print(\"tuple is not a palindrome\")"
   ]
  },
  {
   "cell_type": "code",
   "execution_count": 52,
   "id": "da732098-bed5-408b-b3d0-a93e326d464e",
   "metadata": {},
   "outputs": [
    {
     "name": "stdout",
     "output_type": "stream",
     "text": [
      "(1, 4, 9, 16)\n"
     ]
    }
   ],
   "source": [
    "# 34. Create a tuple of squares of numbers from 1 to 5.\n",
    "\n",
    "a = (1,2,3,4)\n",
    "aa = []\n",
    "for i in a:\n",
    "    i == int\n",
    "    aa.append(i**2)\n",
    "    \n",
    "sq_t = tuple(aa)\n",
    "\n",
    "print(sq_t)\n",
    "    \n",
    "    "
   ]
  },
  {
   "cell_type": "code",
   "execution_count": 58,
   "id": "b6e14d56-6a73-4611-89f7-19889b32d35e",
   "metadata": {},
   "outputs": [
    {
     "name": "stdout",
     "output_type": "stream",
     "text": [
      "(2, 4, 6, 8)\n"
     ]
    }
   ],
   "source": [
    "# 35. Filter out all even numbers from a tuple.\n",
    "\n",
    "a = (1,2,3,4,5,6,7,8,9)\n",
    "even = []\n",
    "for i in a:\n",
    "    if i % 2 == 0:\n",
    "        even.append(i)\n",
    "even_t = tuple(even)\n",
    "\n",
    "print(even_t)\n"
   ]
  },
  {
   "cell_type": "code",
   "execution_count": 54,
   "id": "e67d328e-dd43-4ae4-9ee7-b360aa80080b",
   "metadata": {},
   "outputs": [
    {
     "name": "stdout",
     "output_type": "stream",
     "text": [
      "[]\n"
     ]
    }
   ],
   "source": [
    "print(even)"
   ]
  },
  {
   "cell_type": "code",
   "execution_count": 59,
   "id": "8b230034-6202-44d0-8f99-09864b538c39",
   "metadata": {},
   "outputs": [
    {
     "name": "stdout",
     "output_type": "stream",
     "text": [
      "(2, 4, 6, 8, 10, 12, 14, 16, 18)\n"
     ]
    }
   ],
   "source": [
    "# 36. Multiply all elements in a tuple by 2.\n",
    "\n",
    "a = (1,2,3,4,5,6,7,8,9)\n",
    "multiple_2 = []\n",
    "for i in a:\n",
    "    multiple_2.append(i*2)\n",
    "    \n",
    "Tuple_mul2 = tuple(multiple_2)\n",
    "\n",
    "print(Tuple_mul2)\n",
    "    "
   ]
  },
  {
   "cell_type": "code",
   "execution_count": 63,
   "id": "cd0a60cd-3cf4-451a-9d2d-dc24f5539888",
   "metadata": {},
   "outputs": [
    {
     "name": "stdout",
     "output_type": "stream",
     "text": [
      "(8, 10, 2, 21, 3)\n"
     ]
    }
   ],
   "source": [
    "# 37. Create a tuple of random numbers.\n",
    "\n",
    "import random\n",
    "\n",
    "a = tuple(random.sample(range(0,50),5))\n",
    "\n",
    "print(a)"
   ]
  },
  {
   "cell_type": "code",
   "execution_count": 64,
   "id": "d0b1fade-7f59-4ca4-aeb2-fc157c02d7f0",
   "metadata": {},
   "outputs": [
    {
     "name": "stdout",
     "output_type": "stream",
     "text": [
      "tuple is not sorted\n"
     ]
    }
   ],
   "source": [
    "# 38. Check if a tuple is sorted.\n",
    "\n",
    "if a == sorted(a):\n",
    "    print(\"tuple is sorted\")\n",
    "else:\n",
    "    print(\"tuple is not sorted\")"
   ]
  },
  {
   "cell_type": "code",
   "execution_count": null,
   "id": "15990294-fdfb-47bb-8076-efa32a7477e9",
   "metadata": {},
   "outputs": [],
   "source": [
    "# 39. Rotate a tuple to the left by `n` positions.\n",
    "# 40. Rotate a tuple to the right by `n` positions."
   ]
  },
  {
   "cell_type": "code",
   "execution_count": 65,
   "id": "8baab2e3-570d-49a8-aa7c-e50f225e3933",
   "metadata": {},
   "outputs": [
    {
     "name": "stdout",
     "output_type": "stream",
     "text": [
      "(0, 1, 1, 2, 3)\n"
     ]
    }
   ],
   "source": [
    "# 41. Create a tuple of the first 5 Fibonacci numbers.\n",
    "Fibonacci = []\n",
    "a,b = 0,1\n",
    "\n",
    "for i in range(0,5):\n",
    "    Fibonacci.append(a)\n",
    "    a,b  = b,a+b\n",
    "    \n",
    "Fibonacci_tuple = tuple(Fibonacci)\n",
    "\n",
    "print(Fibonacci_tuple)"
   ]
  },
  {
   "cell_type": "code",
   "execution_count": 68,
   "id": "eab21e7b-7fdd-4e27-ab9f-b7ef4b510444",
   "metadata": {},
   "outputs": [
    {
     "name": "stdin",
     "output_type": "stream",
     "text": [
      " 1,2,3,4,5\n"
     ]
    },
    {
     "name": "stdout",
     "output_type": "stream",
     "text": [
      "('1', ',', '2', ',', '3', ',', '4', ',', '5')\n"
     ]
    }
   ],
   "source": [
    "# 42. Create a tuple from user input.\n",
    "\n",
    "a = input()\n",
    "\n",
    "aa= tuple(a)\n",
    "\n",
    "print(aa)"
   ]
  },
  {
   "cell_type": "code",
   "execution_count": 7,
   "id": "51abed60-8c5e-48c7-978e-bb9da11e3127",
   "metadata": {},
   "outputs": [
    {
     "name": "stdout",
     "output_type": "stream",
     "text": [
      "(2, 1, 3, 4, 5, 6)\n"
     ]
    }
   ],
   "source": [
    "# 43. Swap two elements in a tuple.\n",
    "\n",
    "a = (1,2,3,4,5,6)\n",
    "\n",
    "aa = list(a)\n",
    "\n",
    "aa[0],aa[1] = aa[1],aa[0]\n",
    "\n",
    "aa_t = tuple(aa)\n",
    "\n",
    "print(aa_t)"
   ]
  },
  {
   "cell_type": "code",
   "execution_count": 8,
   "id": "8b24caa6-033f-49c8-8c82-160fd433a280",
   "metadata": {},
   "outputs": [
    {
     "name": "stdout",
     "output_type": "stream",
     "text": [
      "(6, 5, 4, 3, 2, 1)\n"
     ]
    }
   ],
   "source": [
    "# 44. Reverse the elements of a tuple.\n",
    "\n",
    "a = (1,2,3,4,5,6)\n",
    "\n",
    "aa = list(a)\n",
    "\n",
    "aa.reverse()\n",
    "\n",
    "aa_t = tuple(aa)\n",
    "\n",
    "print(aa_t)"
   ]
  },
  {
   "cell_type": "code",
   "execution_count": 10,
   "id": "19b2c43d-6c78-48b6-a70c-40de2ccd0951",
   "metadata": {},
   "outputs": [
    {
     "name": "stdin",
     "output_type": "stream",
     "text": [
      " 4\n"
     ]
    },
    {
     "name": "stdout",
     "output_type": "stream",
     "text": [
      "(1, 2, 4, 8)\n"
     ]
    }
   ],
   "source": [
    "# 45. Create a tuple of the first `n` powers of 2.\n",
    "\n",
    "power_2 = []\n",
    "x = int(input())\n",
    "n = 2**(x)\n",
    "\n",
    "for i in range(x):\n",
    "    power_2.append(2**i)\n",
    "    \n",
    "power_2_t = tuple(power_2)\n",
    "\n",
    "print(power_2_t)"
   ]
  },
  {
   "cell_type": "code",
   "execution_count": 11,
   "id": "9a5f251d-e6ef-4bed-a503-ef6955c0e652",
   "metadata": {},
   "outputs": [
    {
     "name": "stdout",
     "output_type": "stream",
     "text": [
      "largest string is - science\n"
     ]
    }
   ],
   "source": [
    "# 46. Find the longest string in a tuple of strings.\n",
    "a = (\"i\", \"want\", \"to\", \"learn\", \"data\", \"science\")\n",
    "\n",
    "\n",
    "len_a = \" \"\n",
    "\n",
    "for i in a:\n",
    "    if len(i) > len(len_a):\n",
    "        len_a = i\n",
    "print(\"largest string is -\",len_a)\n"
   ]
  },
  {
   "cell_type": "code",
   "execution_count": 13,
   "id": "fc159a37-0558-4d74-bd3c-e10285af2e41",
   "metadata": {},
   "outputs": [
    {
     "name": "stdout",
     "output_type": "stream",
     "text": [
      "Shortest string is -  \n"
     ]
    }
   ],
   "source": [
    "# 47. Find the shortest string in a tuple of strings.\n",
    "a = (\"i\", \"want\", \"to\", \"learn\", \"data\", \"science\")\n",
    "\n",
    "\n",
    "len_a = \" \"\n",
    "\n",
    "for i in a:\n",
    "    if len(i) < len(len_a):\n",
    "        len_a = i\n",
    "print(\"Shortest string is -\",len_a)\n"
   ]
  },
  {
   "cell_type": "code",
   "execution_count": null,
   "id": "06fffbab-5ced-423a-9b99-1211a90cea5e",
   "metadata": {},
   "outputs": [],
   "source": [
    "# 48 Create a tuple of the first `n` triangular numbers."
   ]
  },
  {
   "cell_type": "code",
   "execution_count": 7,
   "id": "9ae2cf07-235d-44aa-a9ad-aab8b2407eff",
   "metadata": {},
   "outputs": [
    {
     "name": "stdout",
     "output_type": "stream",
     "text": [
      "tuple contains another tuple as a subsequence.\n"
     ]
    }
   ],
   "source": [
    "# 49. Check if a tuple contains another tuple as a subsequence.\n",
    "\n",
    "a = (1,2,3,(1,2,3))\n",
    "aa = list(a)\n",
    "\n",
    "aaa = []\n",
    "\n",
    "\n",
    "for i in aa:\n",
    "    if type(i) == tuple:\n",
    "        aaa.append(i)\n",
    "if len(aaa) <= 1:\n",
    "    print(\"tuple contains another tuple as a subsequence.\")\n",
    "else:\n",
    "    print(\"no it do not\")\n",
    "        "
   ]
  },
  {
   "cell_type": "code",
   "execution_count": 8,
   "id": "7d2685bc-b806-4558-8f6e-98e8f5ef7318",
   "metadata": {},
   "outputs": [],
   "source": [
    "# 50. Create a tuple of alternating 1s and 0s of length `n`.\n",
    "\n",
    "\n"
   ]
  },
  {
   "cell_type": "code",
   "execution_count": 10,
   "id": "66b56b78-9f98-4e3c-96cb-f4af5d235a1e",
   "metadata": {},
   "outputs": [
    {
     "name": "stdout",
     "output_type": "stream",
     "text": [
      "{1, 2, 3, 4, 5}\n"
     ]
    }
   ],
   "source": [
    "# Set Based Practice Problem :\n",
    "\n",
    "# 1. Create a set with integers from 1 to 5.\n",
    "\n",
    "a = (1,2,3,4,5)\n",
    "set_a  = set(a)\n",
    "print(set_a)"
   ]
  },
  {
   "cell_type": "code",
   "execution_count": 11,
   "id": "342f1e4a-4913-4316-baa7-fed6055afc92",
   "metadata": {},
   "outputs": [],
   "source": [
    "# 2. Add an element to a set.\n",
    "\n",
    "a = {1,2,3,4,5}\n",
    "\n",
    "a.add(6)"
   ]
  },
  {
   "cell_type": "code",
   "execution_count": 12,
   "id": "e0f6c1ae-434b-4c74-ad01-94346e980833",
   "metadata": {},
   "outputs": [
    {
     "name": "stdout",
     "output_type": "stream",
     "text": [
      "{1, 2, 3, 4, 5, 6}\n"
     ]
    }
   ],
   "source": [
    "print(a)"
   ]
  },
  {
   "cell_type": "code",
   "execution_count": 13,
   "id": "7b49890a-441d-4795-ad6a-78f4fe9833b4",
   "metadata": {},
   "outputs": [],
   "source": [
    "# 3. Remove an element from a set.\n",
    "\n",
    "a.remove(6)"
   ]
  },
  {
   "cell_type": "code",
   "execution_count": 14,
   "id": "2ca62f41-03c8-49fc-882f-d09eb90745cb",
   "metadata": {},
   "outputs": [
    {
     "name": "stdout",
     "output_type": "stream",
     "text": [
      "{1, 2, 3, 4, 5}\n"
     ]
    }
   ],
   "source": [
    "print(a)"
   ]
  },
  {
   "cell_type": "code",
   "execution_count": 16,
   "id": "de64f8dd-8c16-47b7-acfb-9b4559d163a3",
   "metadata": {},
   "outputs": [
    {
     "name": "stdout",
     "output_type": "stream",
     "text": [
      "elements exists\n"
     ]
    }
   ],
   "source": [
    "# 4. Check if an element exists in a set.\n",
    "\n",
    "a = {1,2,3,4,5}\n",
    "if 5 in a:\n",
    "        print(\"elements exists\")"
   ]
  },
  {
   "cell_type": "code",
   "execution_count": 17,
   "id": "2d36b01e-cd9e-49da-9cf1-13a969fb8174",
   "metadata": {},
   "outputs": [
    {
     "name": "stdout",
     "output_type": "stream",
     "text": [
      "5\n"
     ]
    }
   ],
   "source": [
    "# 5. Find the length of a set without using the `len()` function.\n",
    "\n",
    "count = 0\n",
    "for i in a:\n",
    "    count += 1\n",
    "print(count)"
   ]
  },
  {
   "cell_type": "code",
   "execution_count": 18,
   "id": "e7b5ff14-a52f-4ee7-89bb-48987718b0ff",
   "metadata": {},
   "outputs": [
    {
     "name": "stdout",
     "output_type": "stream",
     "text": [
      "set()\n"
     ]
    }
   ],
   "source": [
    "# 6. Clear all elements from a set.\n",
    "\n",
    "a.clear()\n",
    "\n",
    "print(a)"
   ]
  },
  {
   "cell_type": "code",
   "execution_count": 29,
   "id": "844ed0e9-006a-4b50-8851-865195da2de8",
   "metadata": {},
   "outputs": [
    {
     "name": "stdout",
     "output_type": "stream",
     "text": [
      "{0, 2, 4, 6, 8}\n"
     ]
    }
   ],
   "source": [
    "# 7. Create a set of even numbers from 1 to 10.\n",
    "\n",
    "a = set(range(0,10,2))\n",
    "         \n",
    "print(a)"
   ]
  },
  {
   "cell_type": "code",
   "execution_count": 30,
   "id": "d2204459-db1a-45bd-8c60-432a7a15692d",
   "metadata": {},
   "outputs": [],
   "source": [
    "# 8. Create a set of odd numbers from 1 to 10.\n",
    "\n",
    "a = set(range(1,10,2))"
   ]
  },
  {
   "cell_type": "code",
   "execution_count": 31,
   "id": "761800fa-4d26-4f27-a440-eebfe2950d59",
   "metadata": {},
   "outputs": [
    {
     "name": "stdout",
     "output_type": "stream",
     "text": [
      "{1, 3, 5, 7, 9}\n"
     ]
    }
   ],
   "source": [
    "print(a)"
   ]
  },
  {
   "cell_type": "code",
   "execution_count": 34,
   "id": "06caa930-32e1-4bbe-b30a-13c33f3113eb",
   "metadata": {},
   "outputs": [
    {
     "name": "stdout",
     "output_type": "stream",
     "text": [
      "{1, 2, 3, 4, 5}\n"
     ]
    }
   ],
   "source": [
    "# 9. Find the union of two sets.\n",
    "\n",
    "a = {1,2,3}\n",
    "b = {3,4,5}\n",
    "union = a.union(b)\n",
    "\n",
    "print(union)\n",
    "        \n",
    "        "
   ]
  },
  {
   "cell_type": "code",
   "execution_count": 33,
   "id": "2067a3f3-cb46-405e-a65e-f8b41b4d07d6",
   "metadata": {},
   "outputs": [
    {
     "name": "stdout",
     "output_type": "stream",
     "text": [
      "[3]\n"
     ]
    }
   ],
   "source": [
    "# 10. Find the intersection of two sets.\n",
    "\n",
    "a = {1,2,3}\n",
    "b = {3,4,5}\n",
    "intersection = []\n",
    "for i in a:\n",
    "    if i in b:\n",
    "        intersection.append(i)\n",
    "\n",
    "print(intersection)"
   ]
  },
  {
   "cell_type": "code",
   "execution_count": 40,
   "id": "6eed99bd-243c-48b7-9b58-c66117a8ca54",
   "metadata": {},
   "outputs": [
    {
     "name": "stdout",
     "output_type": "stream",
     "text": [
      "{1, 2}\n"
     ]
    }
   ],
   "source": [
    "# 11. Find the difference between two sets.\n",
    "\n",
    "a = {1,2,3}\n",
    "b = {3,4,5}\n",
    "difference = a-b\n",
    "print(difference)"
   ]
  },
  {
   "cell_type": "code",
   "execution_count": 45,
   "id": "ac199ba7-5440-4403-8d2a-4d89134bd395",
   "metadata": {},
   "outputs": [
    {
     "name": "stdout",
     "output_type": "stream",
     "text": [
      "True\n"
     ]
    }
   ],
   "source": [
    "# 12. Check if a set is a subset of another set.\n",
    "\n",
    "a = {1,2,3,4,5}\n",
    "b = {3,4,5}\n",
    "\n",
    "if b.issubset(a):\n",
    "    print(\"True\")\n",
    "else:\n",
    "    print(\"b is not a subset of a\")\n",
    "        "
   ]
  },
  {
   "cell_type": "code",
   "execution_count": 46,
   "id": "8c6542bc-d6e9-41a4-8160-9229fd43929b",
   "metadata": {},
   "outputs": [
    {
     "name": "stdout",
     "output_type": "stream",
     "text": [
      "true\n"
     ]
    }
   ],
   "source": [
    "# 13. Check if a set is a superset of another set.\n",
    "\n",
    "a = {1,2,3,4,5}\n",
    "b = {3,4,5}\n",
    "\n",
    "if a.issuperset(b):\n",
    "    print(\"true\")"
   ]
  },
  {
   "cell_type": "code",
   "execution_count": 47,
   "id": "053de5eb-4d7a-489c-a894-a8e41d4b9560",
   "metadata": {},
   "outputs": [
    {
     "name": "stdout",
     "output_type": "stream",
     "text": [
      "{1, 2, 3, 4, 5}\n"
     ]
    }
   ],
   "source": [
    "# 14. Create a set from a list.\n",
    "\n",
    "a = [1,2,3,4,5]\n",
    "\n",
    "aa = set(a)\n",
    "\n",
    "print(aa)"
   ]
  },
  {
   "cell_type": "code",
   "execution_count": 48,
   "id": "da27525f-0c6b-4986-9eae-eb1c0fbba3fc",
   "metadata": {},
   "outputs": [
    {
     "name": "stdout",
     "output_type": "stream",
     "text": [
      "[1, 2, 3, 4, 5]\n"
     ]
    }
   ],
   "source": [
    "# 15. Convert a set to a list.\n",
    "a = {1,2,3,4,5}\n",
    "\n",
    "aa = list(a)\n",
    "\n",
    "print(aa)\n"
   ]
  },
  {
   "cell_type": "code",
   "execution_count": 50,
   "id": "ce88087b-2534-4099-ac82-08b7639faea5",
   "metadata": {},
   "outputs": [
    {
     "name": "stdout",
     "output_type": "stream",
     "text": [
      "{1, 2, 3, 4}\n"
     ]
    }
   ],
   "source": [
    "# 16. Remove a random element from a set.\n",
    "\n",
    "a.remove(5)\n",
    "\n",
    "print(a)"
   ]
  },
  {
   "cell_type": "code",
   "execution_count": 56,
   "id": "21c154bf-6ab2-4b39-8e46-17837c9bdb0b",
   "metadata": {},
   "outputs": [
    {
     "ename": "TypeError",
     "evalue": "set.pop() takes no arguments (1 given)",
     "output_type": "error",
     "traceback": [
      "\u001b[0;31m---------------------------------------------------------------------------\u001b[0m",
      "\u001b[0;31mTypeError\u001b[0m                                 Traceback (most recent call last)",
      "Cell \u001b[0;32mIn[56], line 3\u001b[0m\n\u001b[1;32m      1\u001b[0m \u001b[38;5;66;03m# 17. Pop an element from a set.\u001b[39;00m\n\u001b[1;32m      2\u001b[0m a \u001b[38;5;241m=\u001b[39m {\u001b[38;5;241m1\u001b[39m,\u001b[38;5;241m2\u001b[39m,\u001b[38;5;241m3\u001b[39m,\u001b[38;5;241m4\u001b[39m,\u001b[38;5;241m5\u001b[39m}\n\u001b[0;32m----> 3\u001b[0m \u001b[43ma\u001b[49m\u001b[38;5;241;43m.\u001b[39;49m\u001b[43mpop\u001b[49m\u001b[43m(\u001b[49m\u001b[38;5;241;43m1\u001b[39;49m\u001b[43m)\u001b[49m\n\u001b[1;32m      4\u001b[0m \u001b[38;5;28mprint\u001b[39m(a)\n",
      "\u001b[0;31mTypeError\u001b[0m: set.pop() takes no arguments (1 given)"
     ]
    }
   ],
   "source": [
    "# 17. Pop an element from a set.\n",
    "a = {1,2,3,4,5}\n",
    "a.pop(1)\n",
    "print(a)"
   ]
  },
  {
   "cell_type": "code",
   "execution_count": 61,
   "id": "c9b08c19-20a0-4fb0-9ae7-077d6a15d065",
   "metadata": {},
   "outputs": [
    {
     "name": "stdout",
     "output_type": "stream",
     "text": [
      "two sets have no elements in common\n"
     ]
    }
   ],
   "source": [
    "# 18. Check if two sets have no elements in common.\n",
    "\n",
    "a = {1,2,3,4,5}\n",
    "b = {6,7,8,9}\n",
    "common = []\n",
    "for i in a:\n",
    "    if i in b:\n",
    "        common.append(i)\n",
    "        \n",
    "if len(common) == 0:\n",
    "    print(\"two sets have no elements in common\")"
   ]
  },
  {
   "cell_type": "code",
   "execution_count": 66,
   "id": "6fa97097-da20-4ca4-b23e-b2b70e0ae0a1",
   "metadata": {},
   "outputs": [
    {
     "name": "stdout",
     "output_type": "stream",
     "text": [
      "{1, 2, 3, 4, 5}\n"
     ]
    }
   ],
   "source": [
    "# 19. Find the symmetric difference between two sets.\n",
    "\n",
    "a = {1,2,3,4,5}\n",
    "b = {6,7,8,9,10}\n",
    "\n",
    "symmetric_difference = a | b & a - b\n",
    "print(symmetric_difference)"
   ]
  },
  {
   "cell_type": "code",
   "execution_count": 69,
   "id": "e4c53cd1-f2c4-475b-84d4-f890ccd68f91",
   "metadata": {},
   "outputs": [
    {
     "name": "stdout",
     "output_type": "stream",
     "text": [
      "{1, 2, 3, 4, 5, 6, 7, 8, 9, 10}\n"
     ]
    }
   ],
   "source": [
    "# 20. Update a set with elements from another set.\n",
    "a = {1,2,3,4,5}\n",
    "b = {6,7,8,9,10}\n",
    "\n",
    "for i in b:\n",
    "    a.add(i)\n",
    "print(a)\n"
   ]
  },
  {
   "cell_type": "code",
   "execution_count": 72,
   "id": "2a83d245-482c-45b3-92c6-b7b368ba12dc",
   "metadata": {},
   "outputs": [
    {
     "name": "stdout",
     "output_type": "stream",
     "text": [
      "{2, 3, 5, 7, 11}\n"
     ]
    }
   ],
   "source": [
    "# 21. Create a set of the first 5 prime numbers.\n",
    "\n",
    "primes = {2}\n",
    "for i in range(3, 13):\n",
    "  is_prime = True\n",
    "  for j in primes:\n",
    "    if i % j == 0:\n",
    "      is_prime = False\n",
    "      break\n",
    "  if is_prime:\n",
    "    primes.add(i)\n",
    "\n",
    "print(primes)"
   ]
  },
  {
   "cell_type": "code",
   "execution_count": 74,
   "id": "224cf492-696c-49e8-85a9-cae0f2149d4e",
   "metadata": {},
   "outputs": [
    {
     "name": "stdout",
     "output_type": "stream",
     "text": [
      "two sets are identical\n"
     ]
    }
   ],
   "source": [
    "# 22. Check if two sets are identical.\n",
    "\n",
    "a = {1,2,3,4,5}\n",
    "b = {1,2,3,4,5}\n",
    "\n",
    "aa = a - b\n",
    "\n",
    "if len(aa) == 0:\n",
    "    print(\"two sets are identical\")"
   ]
  },
  {
   "cell_type": "code",
   "execution_count": 75,
   "id": "e8cccf38-4329-4a8c-8c9a-ef1f34635f73",
   "metadata": {},
   "outputs": [
    {
     "name": "stdout",
     "output_type": "stream",
     "text": [
      "frozenset({1, 2, 3, 4, 5})\n"
     ]
    }
   ],
   "source": [
    "# 23. Create a frozen set.\n",
    "\n",
    "a = {1,2,3,4,5}\n",
    "\n",
    "aa = frozenset(a)\n",
    "\n",
    "print(aa)"
   ]
  },
  {
   "cell_type": "code",
   "execution_count": 76,
   "id": "5cbbd852-3a24-4de6-87cf-c006c2825c34",
   "metadata": {},
   "outputs": [
    {
     "name": "stdout",
     "output_type": "stream",
     "text": [
      "True\n"
     ]
    }
   ],
   "source": [
    "# 24. Check if a set is disjoint with another set.\n",
    "\n",
    "A = {1, 2, 3, 4}\n",
    "B = {5, 6, 7, 8}\n",
    "\n",
    "is_disjoint = A.isdisjoint(B)\n",
    "\n",
    "print(is_disjoint) # it help us understand no element is common"
   ]
  },
  {
   "cell_type": "code",
   "execution_count": 78,
   "id": "85dbe055-ef21-47dd-a553-f4b3c8a7962a",
   "metadata": {},
   "outputs": [
    {
     "name": "stdout",
     "output_type": "stream",
     "text": [
      "{0, 1, 4, 9, 16, 25}\n"
     ]
    }
   ],
   "source": [
    "# 25. Create a set of squares of numbers from 1 to 5.\n",
    "a = set(range(6))\n",
    "\n",
    "sq = []\n",
    "for i in a:\n",
    "    sq.append(i**2)\n",
    "sq_s = set(sq)    \n",
    "print(sq_s)\n",
    "    \n",
    "    "
   ]
  },
  {
   "cell_type": "code",
   "execution_count": 80,
   "id": "1832a910-c0ae-43ba-8a32-1b6700539861",
   "metadata": {},
   "outputs": [
    {
     "name": "stdout",
     "output_type": "stream",
     "text": [
      "{0, 2, 4, 6, 8}\n"
     ]
    }
   ],
   "source": [
    "# 26. Filter out all even numbers from a set.\n",
    "\n",
    "a = set(range(10))\n",
    "even = []\n",
    "for i in a:\n",
    "    if i%2 == 0:\n",
    "        even.append(i)\n",
    "\n",
    "even_s = set(even)\n",
    "\n",
    "print(even_s)\n",
    "    "
   ]
  },
  {
   "cell_type": "code",
   "execution_count": 6,
   "id": "64662174-06bc-4561-84d1-3f965e26c504",
   "metadata": {},
   "outputs": [
    {
     "name": "stdout",
     "output_type": "stream",
     "text": [
      "[0, 2, 4, 6, 8, 10, 12, 14, 16, 18]\n"
     ]
    }
   ],
   "source": [
    "# 27. Multiply all elements in a set by 2.\n",
    "\n",
    "a = set(range(10))\n",
    "multiple = []\n",
    "for i in a:\n",
    "    multiple.append(2*i)\n",
    "    \n",
    "print(multiple)\n",
    "    "
   ]
  },
  {
   "cell_type": "code",
   "execution_count": 11,
   "id": "7301e537-0627-418f-989e-6f2f3f4059b5",
   "metadata": {},
   "outputs": [
    {
     "name": "stdout",
     "output_type": "stream",
     "text": [
      "{32, 34, 6, 41, 46, 17, 21, 23, 25, 27}\n"
     ]
    }
   ],
   "source": [
    "# 28. Create a set of random numbers.\n",
    "\n",
    "import random\n",
    "a = set(random.sample(range(0,50),10))\n",
    "        \n",
    "print(a)"
   ]
  },
  {
   "cell_type": "code",
   "execution_count": 12,
   "id": "eb23df6e-bfc4-47ec-82f5-ddbd8a56b98d",
   "metadata": {},
   "outputs": [
    {
     "name": "stdout",
     "output_type": "stream",
     "text": [
      "set is empty\n"
     ]
    }
   ],
   "source": [
    "# 29. Check if a set is empty.\n",
    "\n",
    "a = {}\n",
    "\n",
    "count = 0\n",
    "for i in a:\n",
    "    count+= 1\n",
    "    \n",
    "if count == 0:\n",
    "    print(\"set is empty\")\n",
    "    \n"
   ]
  },
  {
   "cell_type": "code",
   "execution_count": 13,
   "id": "659db9cc-29a7-4c13-b770-afcae9babb64",
   "metadata": {},
   "outputs": [
    {
     "name": "stdout",
     "output_type": "stream",
     "text": [
      "frozenset({frozenset({1, 2, 3}), frozenset({'b', 'c', 'a'})})\n"
     ]
    }
   ],
   "source": [
    "# 30. Create a nested set (hint: use frozenset).\n",
    "\n",
    "numbers = frozenset([1, 2, 3])\n",
    "letters = frozenset(['a', 'b', 'c'])\n",
    "nested_set = frozenset([numbers, letters])\n",
    "\n",
    "print(nested_set) "
   ]
  },
  {
   "cell_type": "code",
   "execution_count": 19,
   "id": "a63c4bf7-3236-4c74-9e0c-078fc76c768c",
   "metadata": {},
   "outputs": [
    {
     "name": "stdout",
     "output_type": "stream",
     "text": [
      "{0, 1, 4, 9, 25}\n"
     ]
    }
   ],
   "source": [
    "# 31. Remove an element from a set using the discard method.\n",
    "\n",
    "a = {0, 1, 4, 9, 16, 25}\n",
    "\n",
    "a.discard(16)\n",
    "\n",
    "print(a)"
   ]
  },
  {
   "cell_type": "code",
   "execution_count": 22,
   "id": "5e6d2314-80a5-4e4f-8941-ccf86ef978fc",
   "metadata": {},
   "outputs": [
    {
     "name": "stdout",
     "output_type": "stream",
     "text": [
      "equal\n"
     ]
    }
   ],
   "source": [
    "# 32. Compare two sets.\n",
    "\n",
    "a = {0, 1, 4, 9, 16, 25}\n",
    "b = {0, 1, 4, 9, 16, 25}\n",
    "\n",
    "if a == b:\n",
    "    print(\"equal\")\n",
    "elif a > b:\n",
    "    print(\"a > b\")\n",
    "else:\n",
    "    print(\"a < b\")"
   ]
  },
  {
   "cell_type": "code",
   "execution_count": 25,
   "id": "fa90f661-cf3b-4b71-8873-bf737414aab4",
   "metadata": {},
   "outputs": [
    {
     "name": "stdout",
     "output_type": "stream",
     "text": [
      "{0, 1, 4, 9, 16, 25}\n"
     ]
    }
   ],
   "source": [
    "# 33. Create a set from a string.\n",
    "\n",
    "a = \"0\", \"1\", \"4\", \"9\", \"16\", \"25\"\n",
    "aa = []\n",
    "for i in a:\n",
    "        aa.append(int(i))\n",
    "        \n",
    "aa_set = set(aa)\n",
    "\n",
    "print(aa_set)\n",
    "        \n",
    "\n"
   ]
  },
  {
   "cell_type": "code",
   "execution_count": 26,
   "id": "53b87e3b-3299-4e55-a0d6-4b084c5450f2",
   "metadata": {},
   "outputs": [
    {
     "name": "stdout",
     "output_type": "stream",
     "text": [
      "{0, 1, 4, 9, 16, 25}\n"
     ]
    }
   ],
   "source": [
    "# 34. Convert a set of strings to a set of integers.\n",
    "a = {\"0\", \"1\", \"4\", \"9\", \"16\", \"25\"}\n",
    "\n",
    "aa = []\n",
    "\n",
    "for i in a:\n",
    "    aa.append(int(i))\n",
    "    \n",
    "aa_set = set(aa)\n",
    "\n",
    "print(aa_set)"
   ]
  },
  {
   "cell_type": "code",
   "execution_count": 27,
   "id": "c7d3e4df-4af3-4ca3-ab59-03a40ec3647c",
   "metadata": {},
   "outputs": [
    {
     "name": "stdout",
     "output_type": "stream",
     "text": [
      "{'4', '1', '0', '25', '16', '9'}\n"
     ]
    }
   ],
   "source": [
    "# 35. Convert a set of integers to a set of strings.\n",
    "\n",
    "a = {0, 1, 4, 9, 16, 25}\n",
    "\n",
    "aa = []\n",
    "\n",
    "for i in a:\n",
    "    aa.append(str(i))\n",
    "    \n",
    "aa_set = set(aa)\n",
    "\n",
    "print(aa_set)"
   ]
  },
  {
   "cell_type": "code",
   "execution_count": 28,
   "id": "c3d89a5b-07c3-40d2-9d9b-029b6d63fcb4",
   "metadata": {},
   "outputs": [
    {
     "name": "stdout",
     "output_type": "stream",
     "text": [
      "{1, 2, 3, 4, 5}\n"
     ]
    }
   ],
   "source": [
    "# 36. Create a set from a tuple.\n",
    "\n",
    "a = (1,2,3,4,5)\n",
    "\n",
    "aa = set(a)\n",
    "\n",
    "print(aa)"
   ]
  },
  {
   "cell_type": "code",
   "execution_count": 29,
   "id": "b0ae69e3-61be-4571-b0e2-773632bf1dfe",
   "metadata": {},
   "outputs": [
    {
     "name": "stdout",
     "output_type": "stream",
     "text": [
      "(1, 2, 3, 4, 5)\n"
     ]
    }
   ],
   "source": [
    "# 37. Convert a set to a tuple.\n",
    "\n",
    "a = {1, 2, 3, 4, 5}\n",
    "\n",
    "aa = tuple(a)\n",
    "\n",
    "print(aa)"
   ]
  },
  {
   "cell_type": "code",
   "execution_count": 30,
   "id": "4fd560b9-3e74-4b17-89f8-cbbb4df5b15c",
   "metadata": {},
   "outputs": [
    {
     "name": "stdout",
     "output_type": "stream",
     "text": [
      "5\n"
     ]
    }
   ],
   "source": [
    "# 38. Find the maximum value in a set.\n",
    "a = {1, 2, 3, 4, 5}\n",
    "aa = list(a)\n",
    "\n",
    "print(max(a))\n"
   ]
  },
  {
   "cell_type": "code",
   "execution_count": 31,
   "id": "5a922c85-f032-4e98-a505-c4deb191c223",
   "metadata": {},
   "outputs": [
    {
     "name": "stdout",
     "output_type": "stream",
     "text": [
      "1\n"
     ]
    }
   ],
   "source": [
    "# 39. Find the minimum value in a set.\n",
    "\n",
    "a = {1, 2, 3, 4, 5}\n",
    "aa = list(a)\n",
    "\n",
    "print(min(a))\n"
   ]
  },
  {
   "cell_type": "code",
   "execution_count": 32,
   "id": "60edf7bc-b754-49de-91ed-adeab3ca3f9f",
   "metadata": {},
   "outputs": [
    {
     "name": "stdin",
     "output_type": "stream",
     "text": [
      " 1,2,3\n"
     ]
    },
    {
     "name": "stdout",
     "output_type": "stream",
     "text": [
      "{'2', '3', ',', '1'}\n"
     ]
    }
   ],
   "source": [
    "# 40. Create a set from user input.\n",
    "\n",
    "a = set(input())\n",
    "print(a)"
   ]
  },
  {
   "cell_type": "code",
   "execution_count": 34,
   "id": "77d874b0-edb1-4e30-a219-0f123da815d9",
   "metadata": {},
   "outputs": [
    {
     "name": "stdout",
     "output_type": "stream",
     "text": [
      "intersection of two sets is empty.\n"
     ]
    }
   ],
   "source": [
    "# 41. Check if the intersection of two sets is empty.\n",
    "\n",
    "a = {1,2,3}\n",
    "b = {4,5,6}\n",
    "\n",
    "aa = a.intersection(b)\n",
    "if len(aa) == 0:\n",
    "    print(\"intersection of two sets is empty.\")"
   ]
  },
  {
   "cell_type": "code",
   "execution_count": 46,
   "id": "ec427dde-8205-4391-951e-3ce4561822d0",
   "metadata": {},
   "outputs": [
    {
     "name": "stdout",
     "output_type": "stream",
     "text": [
      "{0, 1, 2, 3}\n"
     ]
    }
   ],
   "source": [
    "# 42. Create a set of the first 5 Fibonacci numbers.\n",
    "Fibonacci = []\n",
    "a,b = 0,1\n",
    "for i in range(0,5):\n",
    "    Fibonacci.append(a)\n",
    "    a,b = b,a+b\n",
    "        \n",
    "Fibonacci_set = set(Fibonacci)\n",
    "\n",
    "\n",
    "print(Fibonacci_set)\n",
    "    "
   ]
  },
  {
   "cell_type": "code",
   "execution_count": 47,
   "id": "7f99e93b-e484-44de-ad9e-9b7919e88ed5",
   "metadata": {},
   "outputs": [
    {
     "name": "stdout",
     "output_type": "stream",
     "text": [
      "{1, 2, 3, 4, 5}\n"
     ]
    }
   ],
   "source": [
    "# 43. Remove duplicates from a list using sets.\n",
    "\n",
    "a = [1,1,2,2,3,3,4,4,5,5]\n",
    "\n",
    "a_removed_duplicated = set(a)\n",
    "\n",
    "print(a_removed_duplicated)"
   ]
  },
  {
   "cell_type": "code",
   "execution_count": 50,
   "id": "81755ebf-863e-47ed-86d4-6d1ba49a59d5",
   "metadata": {},
   "outputs": [],
   "source": [
    "# 44. Check if two sets have the same elements, regardless of their count.\n",
    "\n",
    "a = {0, 1, 2, 3}\n",
    "b = {1, 2, 3, 4, 5}\n",
    "\n",
    "aa = a.difference(b)\n"
   ]
  },
  {
   "cell_type": "code",
   "execution_count": 51,
   "id": "58b8680e-2388-4d70-bad3-497b9b625dda",
   "metadata": {},
   "outputs": [
    {
     "name": "stdout",
     "output_type": "stream",
     "text": [
      "{0}\n"
     ]
    }
   ],
   "source": [
    "print(aa)"
   ]
  },
  {
   "cell_type": "code",
   "execution_count": 1,
   "id": "f180c531-572d-40b5-8b33-625479d0dbfd",
   "metadata": {},
   "outputs": [
    {
     "name": "stdin",
     "output_type": "stream",
     "text": [
      " 5\n"
     ]
    },
    {
     "name": "stdout",
     "output_type": "stream",
     "text": [
      "{1, 2, 4, 8, 16}\n"
     ]
    }
   ],
   "source": [
    "# 45. Create a set of the first `n` powers of 2.\n",
    "power_2 = []\n",
    "x = int(input())\n",
    "n = 2**(x)\n",
    "\n",
    "for i in range(x):\n",
    "    power_2.append(2**i)\n",
    "    \n",
    "power_2_set = set(power_2)\n",
    "\n",
    "print(power_2_set) "
   ]
  },
  {
   "cell_type": "code",
   "execution_count": 4,
   "id": "d61d7094-9d7c-4609-9fb1-f2fa450a5bf4",
   "metadata": {},
   "outputs": [
    {
     "name": "stdout",
     "output_type": "stream",
     "text": [
      "{1, 2}\n"
     ]
    }
   ],
   "source": [
    "# 46. Find the common elements between a set and a list.\n",
    "\n",
    "set_a = {1, 2, 3}\n",
    "list_a = [1, 2, 4]\n",
    "\n",
    "common = set_a.intersection(set(list_a))\n",
    "\n",
    "print(common)\n"
   ]
  },
  {
   "cell_type": "code",
   "execution_count": 11,
   "id": "f968e9e1-5539-4b85-bf9d-e539d2d9e464",
   "metadata": {},
   "outputs": [
    {
     "name": "stdout",
     "output_type": "stream",
     "text": [
      "set a contains another set b as a subset\n"
     ]
    }
   ],
   "source": [
    "# 48. Check if a set contains another set as a subset.\n",
    "\n",
    "a = {1,2,3,4,5}\n",
    "b = {1,2,3,4,5,6,7,8,9,10}\n",
    "\n",
    "if a.issubset(b):\n",
    "    print(\"set a contains another set b as a subset\")\n",
    "elif b.issubset(a):\n",
    "    print(\"set b contains another set a as a subset\")\n",
    "else:\n",
    "    print(\"no subset\")\n",
    "    \n",
    "        "
   ]
  },
  {
   "cell_type": "code",
   "execution_count": 9,
   "id": "545c177a-e20c-4dae-bb12-4287394a965e",
   "metadata": {},
   "outputs": [
    {
     "name": "stdout",
     "output_type": "stream",
     "text": [
      "{1, 2, 3, 4, 5, 6}\n"
     ]
    }
   ],
   "source": [
    "# 50. Merge multiple sets into one.\n",
    "\n",
    "set_a = {1, 2, 3}\n",
    "set_b = {4, 5, 6}\n",
    "\n",
    "merged = set_a.union(set_b)\n",
    "\n",
    "print(merged)\n"
   ]
  },
  {
   "cell_type": "code",
   "execution_count": null,
   "id": "51f532f2-3a82-4478-8790-ed166b65fa86",
   "metadata": {},
   "outputs": [],
   "source": []
  }
 ],
 "metadata": {
  "kernelspec": {
   "display_name": "Python 3 (ipykernel)",
   "language": "python",
   "name": "python3"
  },
  "language_info": {
   "codemirror_mode": {
    "name": "ipython",
    "version": 3
   },
   "file_extension": ".py",
   "mimetype": "text/x-python",
   "name": "python",
   "nbconvert_exporter": "python",
   "pygments_lexer": "ipython3",
   "version": "3.10.8"
  }
 },
 "nbformat": 4,
 "nbformat_minor": 5
}
