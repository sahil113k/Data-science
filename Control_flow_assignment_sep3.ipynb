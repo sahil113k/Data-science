{
 "cells": [
  {
   "cell_type": "code",
   "execution_count": 4,
   "id": "c013fe03-f89c-4042-bf4a-2239299dc607",
   "metadata": {},
   "outputs": [
    {
     "name": "stdin",
     "output_type": "stream",
     "text": [
      " 2\n"
     ]
    },
    {
     "name": "stdout",
     "output_type": "stream",
     "text": [
      "Given number is positive\n"
     ]
    }
   ],
   "source": [
    "# Basic If-Else Statements:\n",
    "\n",
    "#1. Write a Python program to check if a given number is positive or negative.\n",
    "\n",
    "a = int(input())\n",
    "\n",
    "positive = True\n",
    "\n",
    "if a < 0:\n",
    "    positive = False\n",
    "    print(\"Given number is negative\")\n",
    "else:\n",
    "    print(\"Given number is positive\")\n",
    "    \n",
    "    \n",
    "    "
   ]
  },
  {
   "cell_type": "code",
   "execution_count": 9,
   "id": "bd1b0700-5d84-4586-bbf5-e5c22f7d4e1d",
   "metadata": {},
   "outputs": [
    {
     "name": "stdin",
     "output_type": "stream",
     "text": [
      " 24\n"
     ]
    },
    {
     "name": "stdout",
     "output_type": "stream",
     "text": [
      "The Candidate is eligible to vote\n"
     ]
    }
   ],
   "source": [
    "# 2. Create a program that determines if a person is eligible to vote based on their age.\n",
    "\n",
    "\n",
    "age = int(input())\n",
    "\n",
    "if age < 18:\n",
    "    print(\"The Candidate is not eligible to vote \")\n",
    "else:\n",
    "    print(\"The Candidate is eligible to vote\")"
   ]
  },
  {
   "cell_type": "code",
   "execution_count": 10,
   "id": "8cebb689-824d-4e80-b647-c7eb9b57979d",
   "metadata": {},
   "outputs": [
    {
     "name": "stdin",
     "output_type": "stream",
     "text": [
      " 10\n",
      " 51\n"
     ]
    },
    {
     "name": "stdout",
     "output_type": "stream",
     "text": [
      "b>a\n"
     ]
    }
   ],
   "source": [
    "# 3. Develop a program to find the maximum of two numbers using if-else statements.\n",
    "\n",
    "a = int(input())\n",
    "b = int(input())\n",
    "\n",
    "if a > b:\n",
    "    print(\"a>b\")\n",
    "else:\n",
    "    print(\"b>a\")"
   ]
  },
  {
   "cell_type": "code",
   "execution_count": 6,
   "id": "9eccec6f-2bc7-4f1d-a2c4-6f2249f5c0e8",
   "metadata": {},
   "outputs": [
    {
     "name": "stdin",
     "output_type": "stream",
     "text": [
      " 2020\n"
     ]
    },
    {
     "name": "stdout",
     "output_type": "stream",
     "text": [
      "2020 is a leep year\n"
     ]
    }
   ],
   "source": [
    "# 4. Write a Python script to classify a given year as a leap year or not.\n",
    "\n",
    "year = int(input())\n",
    "\n",
    "\n",
    "if year % 4 == 0:\n",
    "    print(f\"{year} is a leep year\")\n",
    "else:\n",
    "    print(f\"{year} is a leep year\")\n",
    "    \n",
    "    "
   ]
  },
  {
   "cell_type": "code",
   "execution_count": 19,
   "id": "283ea30d-a23c-4d93-8381-13f124cbb407",
   "metadata": {},
   "outputs": [
    {
     "name": "stdin",
     "output_type": "stream",
     "text": [
      "please enter only 1 character h\n"
     ]
    },
    {
     "name": "stdout",
     "output_type": "stream",
     "text": [
      " h is consonant\n"
     ]
    }
   ],
   "source": [
    "# 5. Create a program that checks whether a character is a vowel or a consonant.\n",
    "\n",
    "a = \"abcdefghijklmnopqrstuvwxyzABCDEFGHIJKLMNOPQRSTUVWXYZ\"\n",
    "list_a = []\n",
    "for i in a:\n",
    "    if i not in \"aeiouAEIOU\":\n",
    "        list_a.append(i)\n",
    "        \n",
    "consonant = \"\".join(list_a)\n",
    "\n",
    "vovels = \"aeiouAEIOU\"\n",
    "\n",
    "\n",
    "character = str(input(\"please enter only 1 character\"))\n",
    "\n",
    "\n",
    "if character in consonant:\n",
    "    print(f\" {character} is consonant\")\n",
    "elif character in vovels:\n",
    "    print(f\" {character} is vovel\")\n",
    "              \n",
    "        \n"
   ]
  },
  {
   "cell_type": "code",
   "execution_count": 2,
   "id": "d999e853-3d2c-42b2-bf68-0d3dc3a4ce5c",
   "metadata": {},
   "outputs": [
    {
     "name": "stdin",
     "output_type": "stream",
     "text": [
      " 10\n"
     ]
    },
    {
     "name": "stdout",
     "output_type": "stream",
     "text": [
      " 10 is even number\n"
     ]
    }
   ],
   "source": [
    "# 6. Implement a program to determine whether a given number is even or odd.\n",
    "\n",
    "a = int(input())\n",
    "\n",
    "if a % 2 == 0:\n",
    "    print(f\" {a} is even number\")\n",
    "else:\n",
    "    print(f\" {a} is an odd number\")\n"
   ]
  },
  {
   "cell_type": "code",
   "execution_count": 7,
   "id": "9becdaaf-014e-4ad7-a517-98fdb3804a1d",
   "metadata": {},
   "outputs": [
    {
     "name": "stdout",
     "output_type": "stream",
     "text": [
      " absolute values of [-12, -10, 0, 5, 9] are [12, 10, 0, 5, 9]\n"
     ]
    }
   ],
   "source": [
    "#7. Write a Python function to calculate the absolute value of a number without using the `abs()` function.\n",
    "\n",
    "numbers = [-12,-10,0,5,9]\n",
    "\n",
    "absolute = []\n",
    "for i in numbers:\n",
    "    if i < 0:\n",
    "        absolute.append(i*-1)\n",
    "    else:\n",
    "        absolute.append(i)\n",
    "        \n",
    "print(f\" absolute values of {numbers} are {absolute}\")\n",
    "        \n"
   ]
  },
  {
   "cell_type": "code",
   "execution_count": 12,
   "id": "07e5219c-ad9d-4a04-a3a4-aad5a4a4d5a3",
   "metadata": {},
   "outputs": [
    {
     "name": "stdout",
     "output_type": "stream",
     "text": [
      " largest of three given numbers is 30\n"
     ]
    }
   ],
   "source": [
    "# 8. Develop a program that determines the largest of three given numbers using if-else statements.\n",
    "\n",
    "a = 10\n",
    "b = 20\n",
    "c = 30\n",
    "\n",
    "if a > b and a > c:\n",
    "    print(\" largest of three given numbers is\",a)\n",
    "elif b > a and b > c:\n",
    "    print(\" largest of three given numbers is\",b)\n",
    "else:\n",
    "    print(\" largest of three given numbers is\",c)"
   ]
  },
  {
   "cell_type": "code",
   "execution_count": 21,
   "id": "fe84c35d-0fb6-47f4-9adc-62ffe71cbb6b",
   "metadata": {},
   "outputs": [
    {
     "name": "stdin",
     "output_type": "stream",
     "text": [
      " level\n"
     ]
    },
    {
     "name": "stdout",
     "output_type": "stream",
     "text": [
      "level  is palindrome word\n"
     ]
    }
   ],
   "source": [
    "# 9. Create a program that checks if a given string is a palindrome.\n",
    "\n",
    "a = str(input())\n",
    "if a == a[::-1]:\n",
    "    print(a,\" is palindrome word\")\n",
    "        \n",
    "    \n"
   ]
  },
  {
   "cell_type": "code",
   "execution_count": 24,
   "id": "368c1616-11f3-49ee-9980-d908b87e603e",
   "metadata": {},
   "outputs": [
    {
     "name": "stdout",
     "output_type": "stream",
     "text": [
      " Rahul scored 395 marks and grade he got is B\n"
     ]
    }
   ],
   "source": [
    "# 10. Write a Python program to calculate the grade based on a student's score.\n",
    "\n",
    "\"rahul marks are mentioned below\"\n",
    "\n",
    "Maths = 70\n",
    "Hindi = 75\n",
    "English = 80\n",
    "Science = 85\n",
    "History = 90\n",
    "\n",
    "total = Maths+Hindi+English+Science+Science\n",
    "if total in range(400,500):\n",
    "    print(f\" Rahul scored { total } marks and grade he got is A\")\n",
    "elif total in range(300,400):\n",
    "    print(f\" Rahul scored { total } marks and grade he got is B\")\n",
    "else:\n",
    "    print(f\" Rahul scored { total } marks and grade he got is C\")\n",
    "    "
   ]
  },
  {
   "cell_type": "code",
   "execution_count": 5,
   "id": "1dd33c4e-4f88-48db-abf4-e1bfd11e07c8",
   "metadata": {},
   "outputs": [
    {
     "name": "stdout",
     "output_type": "stream",
     "text": [
      "The largest number among 10 , 20 and 30 is 30\n"
     ]
    }
   ],
   "source": [
    "\" Nested If-Else Statements:\"\n",
    "\n",
    "# 11. Write a program to find the largest among three numbers using nested if-else statements.\n",
    "\n",
    "a = 10\n",
    "b = 20\n",
    "c = 30\n",
    "\n",
    "if a >= b:\n",
    "    if a >= c:\n",
    "        largest = a\n",
    "    else:\n",
    "        largest = c\n",
    "elif b >= a:\n",
    "    if b >= c:\n",
    "        largest = b\n",
    "    else:\n",
    "        largest = c\n",
    "        \n",
    "print(\"The largest number among\",a,\",\",b,\"and\",c, \"is\", largest)\n",
    "    "
   ]
  },
  {
   "cell_type": "code",
   "execution_count": 12,
   "id": "cd8a7b88-d413-44ec-b63b-048323e8c809",
   "metadata": {},
   "outputs": [
    {
     "name": "stdin",
     "output_type": "stream",
     "text": [
      "1st side of triangle = 26\n",
      "2nd side of triangle = 96\n",
      "3rd side of triangle = 56\n"
     ]
    },
    {
     "name": "stdout",
     "output_type": "stream",
     "text": [
      "The given triangle with sides 26,96 and 26 is a scalene Triangle\n"
     ]
    }
   ],
   "source": [
    "# 12. Implement a program to determine if a triangle is equilateral, isosceles, or scalene.\n",
    "\n",
    "triange_side_1 = int(input(\"1st side of triangle =\"))\n",
    "triange_side_2 = int(input(\"2nd side of triangle =\"))\n",
    "triange_side_3 = int(input(\"3rd side of triangle =\"))\n",
    "\n",
    "if triange_side_1 == triange_side_2 == triange_side_3:\n",
    "    print(f\"The given triangle with sides {triange_side_1},{triange_side_2} and {triange_side_1} is a equilateral Triangle\")\n",
    "elif triange_side_1 == triange_side_2 or  triange_side_1 == triange_side_3 or triange_side_2 == triange_side_3:\n",
    "    print(f\"The given triangle with sides {triange_side_1},{triange_side_2} and {triange_side_1} is a isosceles Triangle\")\n",
    "else:\n",
    "    print(f\"The given triangle with sides {triange_side_1},{triange_side_2} and {triange_side_1} is a scalene Triangle\")\n",
    "        \n",
    "\n",
    "    "
   ]
  },
  {
   "cell_type": "code",
   "execution_count": 33,
   "id": "979e3ca8-2a89-4609-aa23-8fbe04df961c",
   "metadata": {},
   "outputs": [
    {
     "name": "stdin",
     "output_type": "stream",
     "text": [
      "please mention year that you want to check is a Leap year or not 2000\n"
     ]
    },
    {
     "name": "stdout",
     "output_type": "stream",
     "text": [
      "2000 is Leap year and it is also a Century year\n"
     ]
    }
   ],
   "source": [
    "# 13. Develop a program that checks if a year is a leap year and also if it is a century year.\n",
    "\n",
    "Year = int(input(\"please mention year that you want to check is a Leap year or not\"))\n",
    "\n",
    "if Year % 4 == 0 and Year%100 == 0:\n",
    "\tprint(f\"{Year} is Leap year and it is also a Century year\")\n",
    "elif Year%4 == 0 and Year%100 != 0:\n",
    "\tprint(f\"{Year} is Leap year\")\n",
    "else:\n",
    "\tprint(f\"{Year} is not Leap year\")   "
   ]
  },
  {
   "cell_type": "code",
   "execution_count": 1,
   "id": "8d03fb99-52fc-4958-943a-f8003a1649b3",
   "metadata": {},
   "outputs": [
    {
     "name": "stdin",
     "output_type": "stream",
     "text": [
      " -10\n"
     ]
    },
    {
     "name": "stdout",
     "output_type": "stream",
     "text": [
      "number is negative\n"
     ]
    }
   ],
   "source": [
    "# 14. Write a Python script to determine if a number is positive, negative, or zero.\n",
    "\n",
    "number = int(input())\n",
    "\n",
    "if number < 0:\n",
    "    print(\"number is negative\")\n",
    "elif number > 0:\n",
    "    print(\"number is positive\")\n",
    "else:\n",
    "     print(\"number is Zero\")\n",
    "    "
   ]
  },
  {
   "cell_type": "code",
   "execution_count": 12,
   "id": "ed1c8fcf-537a-4c8d-878f-0135adf7f277",
   "metadata": {},
   "outputs": [
    {
     "name": "stdin",
     "output_type": "stream",
     "text": [
      "age 15\n"
     ]
    },
    {
     "name": "stdout",
     "output_type": "stream",
     "text": [
      "the given age is between 13 and 19\n"
     ]
    }
   ],
   "source": [
    "# 15. Create a program to check if a person is a teenager (between 13 and 19 years old).\n",
    "\n",
    "age = int(input(\"age\"))\n",
    "\n",
    "if age in range(13,20):\n",
    "\tprint(\"the given age is between 13 and 19\")\n",
    "else:\n",
    "\tprint(\"the given age is not in between 13 and 19\")\n",
    "           \n",
    "        \n",
    "           \n",
    "        \n",
    "            \n"
   ]
  },
  {
   "cell_type": "code",
   "execution_count": 13,
   "id": "d5319e59-6cd3-44b0-8163-0386a091c6f9",
   "metadata": {},
   "outputs": [
    {
     "name": "stdin",
     "output_type": "stream",
     "text": [
      " 15\n"
     ]
    },
    {
     "name": "stdout",
     "output_type": "stream",
     "text": [
      "number is positive\n"
     ]
    }
   ],
   "source": [
    "# Basic Level:\n",
    "\n",
    "# 1. Write a Python program that checks if a given number is positive, negative, or zero.\n",
    "\n",
    "number = int(input())\n",
    "\n",
    "if number < 0:\n",
    "    print(\"number is negative\")\n",
    "elif number > 0:\n",
    "    print(\"number is positive\")\n",
    "else:\n",
    "     print(\"number is Zero\")"
   ]
  },
  {
   "cell_type": "code",
   "execution_count": 16,
   "id": "5e88cf30-02bb-47b0-b2bc-6c54be2947b1",
   "metadata": {},
   "outputs": [
    {
     "name": "stdin",
     "output_type": "stream",
     "text": [
      "age 18\n"
     ]
    },
    {
     "name": "stdout",
     "output_type": "stream",
     "text": [
      "Eligible to Vote\n"
     ]
    }
   ],
   "source": [
    "# 2. Create a program to determine if a person is eligible to vote based on their age.\n",
    "\n",
    "age = int(input(\"age\"))\n",
    "\n",
    "if age in range(0,18):\n",
    "\tprint(\"Not Eligible to Vote\")\n",
    "else:\n",
    "\tprint(\"Eligible to Vote\")"
   ]
  },
  {
   "cell_type": "code",
   "execution_count": 17,
   "id": "c8031856-dfaf-4bb6-a21c-b3d5a3de1be2",
   "metadata": {},
   "outputs": [
    {
     "name": "stdout",
     "output_type": "stream",
     "text": [
      "maximum = 20\n"
     ]
    }
   ],
   "source": [
    "# 3. Write a program to find the maximum of two given numbers using conditional statements.\n",
    "\n",
    "a = 10\n",
    "b = 20\n",
    "\n",
    "if a > b:\n",
    "    print(\"maximum =\",a)\n",
    "else:\n",
    "    print(\"maximum =\",b)"
   ]
  },
  {
   "cell_type": "code",
   "execution_count": 21,
   "id": "c20944d7-91b5-4328-b234-479cc340acd7",
   "metadata": {},
   "outputs": [
    {
     "name": "stdout",
     "output_type": "stream",
     "text": [
      " Rahul scored 291 marks and grade he got is C\n"
     ]
    }
   ],
   "source": [
    "# 4. Develop a program that calculates the grade of a student based on their exam score.\n",
    "\n",
    "\"rahul marks are mentioned below\"\n",
    "\n",
    "Maths = 60\n",
    "Hindi = 57\n",
    "English = 60\n",
    "Science = 57\n",
    "History = 67\n",
    "\n",
    "total = Maths+Hindi+English+Science+Science\n",
    "if total in range(400,500):\n",
    "    print(f\" Rahul scored { total } marks and grade he got is A\")\n",
    "elif total in range(300,400):\n",
    "    print(f\" Rahul scored { total } marks and grade he got is B\")\n",
    "elif total in range(200,300):\n",
    "    print(f\" Rahul scored { total } marks and grade he got is C\")\n",
    "else:\n",
    "    print(f\" Rahul scored { total } marks and grade he got is D\")"
   ]
  },
  {
   "cell_type": "code",
   "execution_count": 25,
   "id": "48e4e2ff-501c-44a7-af05-588a518f7e6e",
   "metadata": {},
   "outputs": [
    {
     "name": "stdin",
     "output_type": "stream",
     "text": [
      "please mention year that you want to check is a Leap year or not 2030\n"
     ]
    },
    {
     "name": "stdout",
     "output_type": "stream",
     "text": [
      "2030 is not Leap year\n"
     ]
    }
   ],
   "source": [
    "# 5. Create a program that checks if a year is a leap year or not.\n",
    "\n",
    "Year = int(input(\"please mention year that you want to check is a Leap year or not\"))\n",
    "\n",
    "if Year % 4 == 0:\n",
    "\tprint(f\"{Year} is Leap year\")\n",
    "else:\n",
    "\tprint(f\"{Year} is not Leap year\")  \n"
   ]
  },
  {
   "cell_type": "code",
   "execution_count": 26,
   "id": "2413c45e-d65e-444b-b75b-34932f74cf17",
   "metadata": {},
   "outputs": [
    {
     "name": "stdin",
     "output_type": "stream",
     "text": [
      "1st side of triangle = 9\n",
      "2nd side of triangle = 9\n",
      "3rd side of triangle = 9\n"
     ]
    },
    {
     "name": "stdout",
     "output_type": "stream",
     "text": [
      "The given triangle with sides 9,9 and 9 is a equilateral Triangle\n"
     ]
    }
   ],
   "source": [
    "# 6. Write a program to classify a triangle based on its sides' lengths.\n",
    "\n",
    "triange_side_1 = int(input(\"1st side of triangle =\"))\n",
    "triange_side_2 = int(input(\"2nd side of triangle =\"))\n",
    "triange_side_3 = int(input(\"3rd side of triangle =\"))\n",
    "\n",
    "if triange_side_1 == triange_side_2 == triange_side_3:\n",
    "    print(f\"The given triangle with sides {triange_side_1},{triange_side_2} and {triange_side_1} is a equilateral Triangle\")\n",
    "elif triange_side_1 == triange_side_2 or  triange_side_1 == triange_side_3 or triange_side_2 == triange_side_3:\n",
    "    print(f\"The given triangle with sides {triange_side_1},{triange_side_2} and {triange_side_1} is a isosceles Triangle\")\n",
    "else:\n",
    "    print(f\"The given triangle with sides {triange_side_1},{triange_side_2} and {triange_side_1} is a scalene Triangle\")\n",
    "        "
   ]
  },
  {
   "cell_type": "code",
   "execution_count": 28,
   "id": "27ae6456-b2ab-479e-9fa2-8ca558db5818",
   "metadata": {},
   "outputs": [
    {
     "name": "stdout",
     "output_type": "stream",
     "text": [
      " The max of 10,20 and 30 is 30\n"
     ]
    }
   ],
   "source": [
    "# 7. Build a program that determines the largest of three given numbers.\n",
    "\n",
    "a = 10\n",
    "b = 20\n",
    "c = 30\n",
    "\n",
    "print(f\" The max of {a},{b} and {c} is {max(a,b,c)}\")"
   ]
  },
  {
   "cell_type": "code",
   "execution_count": 29,
   "id": "eec9dbae-09a8-438e-bfa4-87551fae9734",
   "metadata": {},
   "outputs": [
    {
     "name": "stdin",
     "output_type": "stream",
     "text": [
      " T\n"
     ]
    },
    {
     "name": "stdout",
     "output_type": "stream",
     "text": [
      "character is a consonant\n"
     ]
    }
   ],
   "source": [
    "# 8. Develop a program that checks whether a character is a vowel or a consonant.\n",
    "\n",
    "character = str(input())\n",
    "\n",
    "vowel = \"aeiouAEIOU\"\n",
    "\n",
    "if character in vowel:\n",
    "    print(\"character is a vowel\")\n",
    "else:\n",
    "    print(\"character is a consonant\")\n",
    "    \n",
    "\n"
   ]
  },
  {
   "cell_type": "code",
   "execution_count": 31,
   "id": "e848126e-f60a-4163-b260-a18337029f81",
   "metadata": {},
   "outputs": [
    {
     "name": "stdout",
     "output_type": "stream",
     "text": [
      "430\n"
     ]
    }
   ],
   "source": [
    "# 9. Create a program to calculate the total cost of a shopping cart based on discounts.\n",
    "\n",
    "pen = 10\n",
    "aata = 100\n",
    "laundry_bag = 210\n",
    "vegitables = 110\n",
    "\n",
    "shoping_cart = (pen,aata,laundry_bag,vegitables)\n",
    "\n",
    "print(sum(shoping_cart))\n"
   ]
  },
  {
   "cell_type": "code",
   "execution_count": 34,
   "id": "dc92efe7-f04c-4367-96d7-043962cbe1b1",
   "metadata": {},
   "outputs": [
    {
     "name": "stdin",
     "output_type": "stream",
     "text": [
      " 2\n"
     ]
    },
    {
     "name": "stdout",
     "output_type": "stream",
     "text": [
      " 2 is even number\n"
     ]
    }
   ],
   "source": [
    "# 10. Write a program that checks if a given number is even or odd.\n",
    "\n",
    "a = int(input())\n",
    "\n",
    "if a % 2 == 0:\n",
    "    print(f\" {a} is even number\")\n",
    "elif a%2!= 0:\n",
    "    print(f\" {a} is odd number\")\n",
    "else:\n",
    "    print(\"the given number is 0 which is neither even or odd\")\n"
   ]
  },
  {
   "cell_type": "code",
   "execution_count": 41,
   "id": "a57f6134-5814-41ec-903a-30296d101ad6",
   "metadata": {},
   "outputs": [
    {
     "name": "stdin",
     "output_type": "stream",
     "text": [
      "choose a number between 1 to 7: 5\n"
     ]
    },
    {
     "name": "stdout",
     "output_type": "stream",
     "text": [
      "Friday\n"
     ]
    }
   ],
   "source": [
    "# Intermediate Level:\n",
    "\n",
    "# 11. Write a program that calculates the roots of a quadratic equation.\n",
    "\n",
    "# 12. Create a program that determines the day of the week based on the day number (1-7).\n",
    "\n",
    "\n",
    "\n",
    "aa = str(input(\"choose a number between 1 to 7:\"))\n",
    "\n",
    "\n",
    "\n",
    "if aa == \"1\":\n",
    "    print(\"Monday\")\n",
    "elif aa == \"2\":\n",
    "    print(\"Tuesday\")\n",
    "elif aa == \"3\":\n",
    "    print(\"Wednesday\")\n",
    "elif aa == \"4\":\n",
    "    print(\"Thursday\")\n",
    "elif aa == \"5\":\n",
    "    print(\"Friday\")\n",
    "elif aa == \"6\":\n",
    "    print(\"saturday\")\n",
    "else:\n",
    "    print(\"Sunday\")\n",
    "\n"
   ]
  },
  {
   "cell_type": "code",
   "execution_count": 14,
   "id": "729ad39c-e2e7-428e-b9de-134b08312091",
   "metadata": {},
   "outputs": [
    {
     "name": "stdin",
     "output_type": "stream",
     "text": [
      " 3\n"
     ]
    },
    {
     "name": "stdout",
     "output_type": "stream",
     "text": [
      "factorial of given number =  6\n"
     ]
    }
   ],
   "source": [
    "# 13. Develop a program that calculates the factorial of a given number using recursion.\n",
    "\n",
    "r = int(input())\n",
    "\n",
    "factorial = 1\n",
    "\n",
    "range_r = range(1,r+1)\n",
    "\n",
    "for i in range_r:\n",
    "    factorial*=i\n",
    "    \n",
    "    \n",
    "if r>0:\n",
    "    print(\"factorial of given number = \",factorial)\n",
    "elif r==0:\n",
    "    print(1)\n",
    "else:\n",
    "    print(\"Negitive number do not have factorial\")\n",
    "\n"
   ]
  },
  {
   "cell_type": "code",
   "execution_count": 1,
   "id": "dc8b79f2-6080-4fc9-92e0-c55f303ec449",
   "metadata": {},
   "outputs": [
    {
     "name": "stdout",
     "output_type": "stream",
     "text": [
      " 30 is greater than both 10 and 20\n"
     ]
    }
   ],
   "source": [
    "# 14. Write a program to find the largest among three numbers without using the `max()` function.\n",
    "\n",
    "a = 10\n",
    "b = 20\n",
    "c = 30\n",
    "\n",
    "if a>b and a>c:\n",
    "    print(f\" {a} is greater than both {b} and {c}\")\n",
    "elif b>c and b>a:\n",
    "    print(f\" {b} is greater than both {a} and {c}\")\n",
    "else:\n",
    "    print(f\" {c} is greater than both {a} and {b}\")\n"
   ]
  },
  {
   "cell_type": "code",
   "execution_count": 3,
   "id": "8226192b-c198-4402-a453-4c630980eaff",
   "metadata": {},
   "outputs": [
    {
     "name": "stdin",
     "output_type": "stream",
     "text": [
      "Please Enter ATM pin 5216\n"
     ]
    },
    {
     "name": "stdout",
     "output_type": "stream",
     "text": [
      "Choose action from below\n",
      "1. withraw\n",
      "2. Deposit\n"
     ]
    },
    {
     "name": "stdin",
     "output_type": "stream",
     "text": [
      "choose from 2 option 1\n",
      "enter amount 9000\n"
     ]
    },
    {
     "name": "stdout",
     "output_type": "stream",
     "text": [
      "Balance = 1000\n"
     ]
    }
   ],
   "source": [
    "# 15. Create a program that simulates a basic ATM transaction menu.\n",
    "\n",
    "account = 10000\n",
    "\n",
    "atm_pin = \"5216\"\n",
    "\n",
    "enter_ATM_pin = str(input(\"Please Enter ATM pin\"))\n",
    "\n",
    "\n",
    "\n",
    "if enter_ATM_pin == atm_pin:\n",
    "    print(\"Choose action from below\\n1. withraw\\n2. Deposit\")\n",
    "    choice = str(input(\"choose from 2 option\"))\n",
    "    if choice == \"1\" or \"withraw\":\n",
    "        withraw_amount = int(input(\"enter amount\"))\n",
    "        if withraw_amount <= account:\n",
    "            account -= withraw_amount\n",
    "            print(\"Balance =\", account)\n",
    "        elif withraw_amount > account:\n",
    "            print(\"Insufficient Balance\")\n",
    "    elif choice == \"2\" or \"Deposit\":\n",
    "        Deposit_amount = int(input(\"enter amount\"))\n",
    "        account += Deposit_amount\n",
    "        print(\"Balance =\", account)\n",
    "    else:\n",
    "        print(\"error\")\n",
    "else:\n",
    "    print(\"Incorrect Pin\")"
   ]
  },
  {
   "cell_type": "code",
   "execution_count": 2,
   "id": "b0577bbc-ffc9-4344-a670-014a8dc5baf5",
   "metadata": {},
   "outputs": [
    {
     "name": "stdin",
     "output_type": "stream",
     "text": [
      "String level\n"
     ]
    },
    {
     "name": "stdout",
     "output_type": "stream",
     "text": [
      " level is palindrome\n"
     ]
    }
   ],
   "source": [
    "# 16. Build a program that checks if a given string is a palindrome or not.\n",
    "\n",
    "check_pal = str(input(\"String\"))\n",
    "\n",
    "if check_pal == check_pal[::-1]:\n",
    "    print(f\" {check_pal} is palindrome\")\n",
    "elif check_pal != check_pal[::-1]:\n",
    "    print(f\" {check_pal} is not palindrome\")\n",
    "else:\n",
    "    print(\"Please mention words\")\n",
    "\n",
    "    \n"
   ]
  },
  {
   "cell_type": "code",
   "execution_count": 13,
   "id": "03ff8c76-13a8-4873-9983-630976a626d3",
   "metadata": {},
   "outputs": [
    {
     "name": "stdout",
     "output_type": "stream",
     "text": [
      " Average of given list = 5.5\n",
      " Average excluding the smallest and largest values = 5.5\n"
     ]
    }
   ],
   "source": [
    "# 17. Write a program that calculates the average of a list of numbers, excluding the smallest and largest values.\n",
    "\n",
    "a = [1,2,3,4,5,6,7,8,9,10]\n",
    "\n",
    "max_a = max(a)\n",
    "min_a = min(a)\n",
    "\n",
    "average = sum(a)/len(a)\n",
    "\n",
    "average_without_max_min = (sum(a)-(max_a+min_a))/(len(a)-2)\n",
    "\n",
    "print(f\" Average of given list = {average}\\n Average excluding the smallest and largest values = {average_without_max_min}\")\n"
   ]
  },
  {
   "cell_type": "code",
   "execution_count": 15,
   "id": "21794e57-add5-4945-90c1-61144c615e46",
   "metadata": {},
   "outputs": [
    {
     "name": "stdout",
     "output_type": "stream",
     "text": [
      " 98.5 Celsius = 209.3 Fahrenheit\n"
     ]
    }
   ],
   "source": [
    "# 18. Develop a program that converts a given temperature from Celsius to Fahrenheit.\n",
    "\n",
    "tem_Celsius = 98.5\n",
    "\n",
    "converteed = (tem_Celsius * 9/5) + 32\n",
    "\n",
    "print(f\" {tem_Celsius} Celsius = {converteed} Fahrenheit\")"
   ]
  },
  {
   "cell_type": "code",
   "execution_count": 22,
   "id": "64efedfe-79f3-462d-8eea-d20f071148f9",
   "metadata": {},
   "outputs": [
    {
     "name": "stdin",
     "output_type": "stream",
     "text": [
      "number1 15\n",
      "number2 10\n"
     ]
    },
    {
     "name": "stdout",
     "output_type": "stream",
     "text": [
      "1. Addition\n",
      "2. Subtraction \n",
      "3. Multiplication \n",
      "4. Division\n"
     ]
    },
    {
     "name": "stdin",
     "output_type": "stream",
     "text": [
      "select from Above 4\n"
     ]
    },
    {
     "name": "stdout",
     "output_type": "stream",
     "text": [
      " 15 / 10 = 1.5\n"
     ]
    }
   ],
   "source": [
    "# 19. Create a program that simulates a basic calculator for addition, subtraction, multiplication, and division.\n",
    "\n",
    "a = int(input(\"number1\"))\n",
    "b = int(input(\"number2\"))\n",
    "\n",
    "print(\"1. Addition\\n2. Subtraction \\n3. Multiplication \\n4. Division\")\n",
    "\n",
    "Choice = str(input(\"select from Above\"))\n",
    "\n",
    "if Choice == \"1\" or Choice == \"Addition\":\n",
    "    print(f\" {a} + {b} = {a+b}\")\n",
    "elif Choice == \"2\" or Choice == \"Subtraction\":\n",
    "    print(f\" {a} - {b} = {a-b}\")\n",
    "elif Choice == \"3\" or Choice == \"multiplication\":\n",
    "    print(f\" {a} X {b} = {a*b}\")\n",
    "elif Choice == \"4\" or Choice == \"Division\":\n",
    "    print(f\" {a} / {b} = {a/b}\")\n",
    "else:\n",
    "    print(\"incorrect option please try again\")\n",
    "    \n",
    "    \n",
    " \n",
    "    "
   ]
  },
  {
   "cell_type": "markdown",
   "id": "dc44d020-f8ea-4c6c-9751-743ee8a3d0cd",
   "metadata": {},
   "source": [
    "# 20. Write a program that determines the roots of a cubic equation using the Cardano formula.\n",
    "\n"
   ]
  },
  {
   "cell_type": "code",
   "execution_count": 31,
   "id": "65e6a591-3ca9-4c37-a704-aae9ddf741f5",
   "metadata": {},
   "outputs": [
    {
     "name": "stdin",
     "output_type": "stream",
     "text": [
      "Enter your salary 900000\n"
     ]
    },
    {
     "name": "stdout",
     "output_type": "stream",
     "text": [
      " Income Tax on Rs 900000 = RS 45000.0\n"
     ]
    }
   ],
   "source": [
    "\" Advanced \"\n",
    "\n",
    "# 21. Create a program that calculates the income tax based on the user's income and tax brackets.\n",
    "\n",
    "salary = int(input(\"Enter your salary\"))\n",
    "\n",
    "no_tax_till = 750000\n",
    "             \n",
    "if salary > no_tax_till:\n",
    "\tprint(f\" Income Tax on Rs {salary} = RS {(salary - no_tax_till) * 0.3}\")\n",
    "elif salary < no_tax_till:\n",
    "    print(\"You would not have to pay any tax\")\n",
    "else:\n",
    "    print(\"You would not have to pay any tax\")\n"
   ]
  },
  {
   "cell_type": "code",
   "execution_count": 1,
   "id": "7c116f3a-285f-4edd-9111-244ed19f13d0",
   "metadata": {},
   "outputs": [
    {
     "name": "stdout",
     "output_type": "stream",
     "text": [
      "Rock\n",
      "Paper\n",
      "Scissor\n"
     ]
    },
    {
     "name": "stdin",
     "output_type": "stream",
     "text": [
      "Choose between Rock, paper or Scissor Rock\n"
     ]
    },
    {
     "name": "stdout",
     "output_type": "stream",
     "text": [
      "Computer chooses: Paper\n",
      "Computer win\n"
     ]
    }
   ],
   "source": [
    "# 22. Write a program that simulates a rock-paper-scissors game against the computer.\n",
    "\n",
    "import random\n",
    "choices = [\"Rock\",\"Paper\",\"Scissor\"]\n",
    "print(f\"Rock\\nPaper\\nScissor\")\n",
    "you = input(\"Choose between Rock, paper or Scissor\")\n",
    "\n",
    "computer = random.choice(choices)\n",
    "print(f\"Computer chooses: {computer}\")\n",
    "\n",
    "if you == computer:\n",
    "    print(\"its a tie\")\n",
    "elif you == \"Rock\" and computer == \"Paper\":\n",
    "    print(\"Computer win\")\n",
    "elif you == \"Rock\" and computer ==\"Scissor\":\n",
    "    print(\"You Win\")\n",
    "elif you == \"Paper\" and computer ==\"Scissor\":\n",
    "    print(\"Computer win\")\n",
    "elif you == \"Paper\" and computer ==\"Rock\":\n",
    "    print(\"You Win\")\n",
    "elif you == \"Scissor\" and computer ==\"Rock\":\n",
    "    print(\"Computer win\")\n",
    "elif you == \"Scissor\" and computer ==\"Paper\":\n",
    "    print(\"You Win\")\n",
    "else:\n",
    "    print(\"Please Choose correct option\")\n",
    "\n",
    "    \n"
   ]
  },
  {
   "cell_type": "code",
   "execution_count": 4,
   "id": "36fbb963-6fb7-4c1b-ad4a-8980c536a8ce",
   "metadata": {},
   "outputs": [
    {
     "name": "stdin",
     "output_type": "stream",
     "text": [
      "Enter the length of password you require 10\n",
      " How many special character you want 1\n",
      "how many digits you want 3\n",
      " How many upper case you require 1\n"
     ]
    },
    {
     "name": "stdout",
     "output_type": "stream",
     "text": [
      " Suggested password based on your prefrence is : Rjnifq;008\n"
     ]
    }
   ],
   "source": [
    "# 23. Develop a program that generates a random password based on user preferences (length, complexity).\n",
    "\n",
    "import random\n",
    "import string\n",
    "\n",
    "length = int(input(\"Enter the length of password you require\"))\n",
    "complexity = int(input(\" How many special character you want\"))\n",
    "digits = int(input(\"how many digits you want\"))\n",
    "upper_case = int(input(\" How many upper case you require\"))\n",
    "                 \n",
    "upper = string.ascii_uppercase\n",
    "lower = string.ascii_lowercase\n",
    "special = string.punctuation\n",
    "Numbers = string.digits\n",
    "                 \n",
    "random_upper = random.choices(upper,k=upper_case)\n",
    "random_complexity = random.choices(special,k=complexity)\n",
    "random_digits = random.choices(Numbers,k=digits)\n",
    "random_lower = random.choices(lower,k=(length-(complexity+digits+upper_case)))\n",
    "\n",
    "if length > (complexity+digits+upper_case):\n",
    "    random_password =  random_upper + random_lower + random_complexity + random_digits\n",
    "    password = \"\".join(random_password)\n",
    "    print(f\" Suggested password based on your prefrence is : {password}\")\n",
    "elif length == (complexity+digits+upper_case):\n",
    "    random_password =  random_upper +  random_complexity + random_digits\n",
    "    password = \"\".join(random_password)\n",
    "    print(f\" Suggested password based on your prefrence is : {password}\")\n",
    "else:\n",
    "    print(f\" This kind of passwod is not possible, kindly try new prefrences\")"
   ]
  },
  {
   "cell_type": "code",
   "execution_count": 2,
   "id": "d88e8216-11ac-471b-bc81-9736a9f7ada3",
   "metadata": {},
   "outputs": [
    {
     "name": "stdout",
     "output_type": "stream",
     "text": [
      "Welcome to the Text Adventure Game!\n",
      "You find yourself in a dark forest.\n",
      "You hear rustling in the bushes. What do you do?\n",
      "1. Investigate the rustling sound.\n",
      "2. Ignore it and keep walking.\n"
     ]
    },
    {
     "name": "stdin",
     "output_type": "stream",
     "text": [
      "Enter your choice (1 or 2):  1\n"
     ]
    },
    {
     "name": "stdout",
     "output_type": "stream",
     "text": [
      "You cautiously approach the bushes and discover a friendly squirrel.\n",
      "The squirrel leads you to a hidden treasure chest.\n",
      "Congratulations! You found the treasure!\n"
     ]
    }
   ],
   "source": [
    "\n",
    "#24. Create a program that implements a simple text-based adventure game with branching scenarios.\n",
    "import time\n",
    "\n",
    "def intro():\n",
    "    print(\"Welcome to the Text Adventure Game!\")\n",
    "    time.sleep(1)\n",
    "    print(\"You find yourself in a dark forest.\")\n",
    "    time.sleep(1)\n",
    "    print(\"You hear rustling in the bushes. What do you do?\")\n",
    "    time.sleep(1)\n",
    "    print(\"1. Investigate the rustling sound.\")\n",
    "    print(\"2. Ignore it and keep walking.\")\n",
    "\n",
    "def investigate():\n",
    "    print(\"You cautiously approach the bushes and discover a friendly squirrel.\")\n",
    "    time.sleep(1)\n",
    "    print(\"The squirrel leads you to a hidden treasure chest.\")\n",
    "    time.sleep(1)\n",
    "    print(\"Congratulations! You found the treasure!\")\n",
    "\n",
    "def ignore():\n",
    "    print(\"You decide to ignore the sound and keep walking.\")\n",
    "    time.sleep(1)\n",
    "    print(\"You step on a trap and fall into a pit.\")\n",
    "    time.sleep(1)\n",
    "    print(\"Game over.\")\n",
    "\n",
    "def play_game():\n",
    "    intro()\n",
    "    choice = input(\"Enter your choice (1 or 2): \")\n",
    "\n",
    "    if choice == \"1\":\n",
    "        investigate()\n",
    "    elif choice == \"2\":\n",
    "        ignore()\n",
    "    else:\n",
    "        print(\"Invalid choice. Please enter 1 or 2.\")\n",
    "        play_game()\n",
    "\n",
    "play_game()"
   ]
  },
  {
   "cell_type": "code",
   "execution_count": 8,
   "id": "cb333ed1-607f-40db-9c68-6e5ab43b6e42",
   "metadata": {},
   "outputs": [
    {
     "name": "stdout",
     "output_type": "stream",
     "text": [
      "Welcome to Quiz on Mahabharat\n",
      "Press \"S\" to start the Quiz\n",
      "Press \"Q\" to exit\n"
     ]
    },
    {
     "name": "stdin",
     "output_type": "stream",
     "text": [
      "Response:  s\n"
     ]
    },
    {
     "name": "stdout",
     "output_type": "stream",
     "text": [
      "Q1: Who killed 100 Kauravas?\n",
      "Options\n",
      "1. Arjun\n",
      "2. Bheem\n",
      "3. Yudhister\n",
      "4. Krishna\n"
     ]
    },
    {
     "name": "stdin",
     "output_type": "stream",
     "text": [
      "Select the answer:  2\n"
     ]
    },
    {
     "name": "stdout",
     "output_type": "stream",
     "text": [
      "Correct answer\n",
      "On whose side Krishna army fought for\n",
      "Option\n",
      "1.Kaurav\n",
      "2 Pandavas\n"
     ]
    },
    {
     "name": "stdin",
     "output_type": "stream",
     "text": [
      "Select the answer:  1\n"
     ]
    },
    {
     "name": "stdout",
     "output_type": "stream",
     "text": [
      "corret answers\n",
      "Your answerd 2 out of 2\n"
     ]
    }
   ],
   "source": [
    "# 26. Write a program that simulates a basic quiz game with multiple-choice questions and scoring.\n",
    "\n",
    "import time\n",
    "\n",
    "print(\"Welcome to Quiz on Mahabharat\")\n",
    "time.sleep(1)\n",
    "print(\"\"\"Press \"S\" to start the Quiz\\nPress \"Q\" to exit\"\"\")\n",
    "res = input(\"Response: \")  \n",
    "\n",
    "correctanswers = 0\n",
    "\n",
    "if res.lower() == \"s\": \n",
    "    print(\"Q1: Who killed 100 Kauravas?\")\n",
    "    time.sleep(1)\n",
    "    print(\"Options\\n1. Arjun\\n2. Bheem\\n3. Yudhister\\n4. Krishna\")\n",
    "    time.sleep(1)\n",
    "    res2 = input(\"Select the answer: \")  \n",
    "\n",
    "    if res2.lower() in [\"2\", \"bheem\"]:\n",
    "        correctanswers += 1\n",
    "        time.sleep(1)\n",
    "        print(\"Correct answer\")\n",
    "    else:\n",
    "        print(\"Incorrect answer\")\n",
    "    time.sleep(1)\n",
    "    print(\"On whose side Krishna army fought for\")\n",
    "    time.sleep(1)\n",
    "    print(\"Option\\n1.Kaurav\\n2 Pandavas\")\n",
    "    time.sleep(1)\n",
    "    res3 = str(input(\"Select the answer: \"))\n",
    "    if res3.lower() in [\"1\",\"Kaurav\"]:\n",
    "        correctanswers += 1\n",
    "        print(\"corret answers\")\n",
    "    else:\n",
    "        print(\"Incorrect answer\")\n",
    "               \n",
    "    print(f\"Your answerd {correctanswers} out of 2\")\n",
    "\n",
    "\n",
    "else:\n",
    "    print(\"Exiting the quiz\")"
   ]
  },
  {
   "cell_type": "code",
   "execution_count": 10,
   "id": "56d18c5d-aa2a-48f4-822f-aa21154d7c36",
   "metadata": {},
   "outputs": [
    {
     "name": "stdin",
     "output_type": "stream",
     "text": [
      "Year 2024\n"
     ]
    },
    {
     "name": "stdout",
     "output_type": "stream",
     "text": [
      " 2024 is a prime number\n"
     ]
    }
   ],
   "source": [
    "# 27. Develop a program that determines whether a given year is a prime number or not.\n",
    "\n",
    "year = int(input(\"Year\"))\n",
    "\n",
    "if year % 4 == 0:\n",
    "    print(f\" {year} is a prime number\")\n",
    "elif year % 4 != 0:\n",
    "    print(f\" {year} is not prime number\")\n",
    "else:\n",
    "    print(\"We could not understand this number\")"
   ]
  },
  {
   "cell_type": "code",
   "execution_count": 30,
   "id": "59c8ea2d-1430-4778-85fa-929e0eda2ee7",
   "metadata": {},
   "outputs": [
    {
     "name": "stdout",
     "output_type": "stream",
     "text": [
      "sorted numbers =  55 30 10\n"
     ]
    }
   ],
   "source": [
    "# 28. Create a program that sorts three numbers in ascending order using conditional statements.\n",
    "\n",
    "a = 10\n",
    "b = 55\n",
    "c = 30\n",
    "\n",
    "\n",
    "\n",
    "if a > b and a > c:\n",
    "    Max = a\n",
    "elif b > a and b > c:\n",
    "    Max = b\n",
    "else:\n",
    "    Max = c\n",
    "    \n",
    "if a<b and a < c:\n",
    "    Min = a\n",
    "elif b<a and b < c:\n",
    "    Min = b\n",
    "else:\n",
    "    Min = c\n",
    "    \n",
    "Mid = a+b+c-Max-Min\n",
    "\n",
    "print(\"sorted numbers = \",Max, Mid, Min)\n"
   ]
  },
  {
   "cell_type": "code",
   "execution_count": null,
   "id": "b841b093-fae7-41ea-83c2-007a9478f11a",
   "metadata": {
    "jp-MarkdownHeadingCollapsed": true,
    "tags": []
   },
   "outputs": [],
   "source": [
    "# 29. Build a program that determines the roots of a quartic equation using numerical methods.\n",
    "\n"
   ]
  },
  {
   "cell_type": "code",
   "execution_count": 6,
   "id": "70b86175-9dac-4b13-aba5-01e95522d508",
   "metadata": {},
   "outputs": [
    {
     "name": "stdin",
     "output_type": "stream",
     "text": [
      "What is your Height in meters 1.55448\n",
      "what is your weight in KG 75\n"
     ]
    },
    {
     "name": "stdout",
     "output_type": "stream",
     "text": [
      "Your BMI is 24.123822757449435\n",
      "You falls within the Healthy Weight range to mantain this kindly follow below steps\n",
      "1. Maintain same calaries\n",
      "2. Continue exercising\n",
      "3 Do both strength and cardio\n"
     ]
    }
   ],
   "source": [
    "# 30. Write a program that calculates the BMI (Body Mass Index) and provides health recommendations based on the user's input.\n",
    "\n",
    "height = float(input(\"What is your Height in meters\"))\n",
    "weight = float(input(\"what is your weight in KG\"))\n",
    "\n",
    "BMI = weight/(height*2)\n",
    "\n",
    "print(f\"Your BMI is {BMI}\")             \n",
    "if BMI < 18.5:\n",
    "    print(\"You are athletic but under weight kindly follow below steps\\n1. Get more caleries \\n2. Do more strength training \\n3. Less cardio\")\n",
    "elif BMI >= 18.5 and BMI < 25:\n",
    "    print(\"You falls within the Healthy Weight range to mantain this kindly follow below steps\\n1. Maintain same calaries\\n2. Continue exercising\\n3 Do both strength and cardio\")\n",
    "else:\n",
    "    print(\"you are overweight, kindly follow below\\n1. Do regular exercise\\n2. Eat less calories\")\n"
   ]
  },
  {
   "cell_type": "code",
   "execution_count": 22,
   "id": "fca62672-5817-4632-83d0-a5faf014f91e",
   "metadata": {},
   "outputs": [
    {
     "name": "stdin",
     "output_type": "stream",
     "text": [
      "Enter your password Pazzword@\n"
     ]
    },
    {
     "name": "stdout",
     "output_type": "stream",
     "text": [
      "Password length is too short\n",
      "No Number is used by you\n"
     ]
    }
   ],
   "source": [
    "# Challenge Level:\n",
    "\n",
    "# 31. Create a program that validates a password based on complexity rules (length, characters, etc.).\n",
    "\n",
    "password = input(\"Enter your password\")\n",
    "import random\n",
    "import string\n",
    "\n",
    "upper = string.ascii_uppercase\n",
    "lower = string.ascii_lowercase\n",
    "special = string.punctuation\n",
    "Numbers = string.digits\n",
    "\n",
    "len_p = len(password)\n",
    "Capital = 0\n",
    "Special = 0\n",
    "numbers = 0\n",
    "#parameters length\n",
    "if len_p <= 10:\n",
    "    print(\"Password length is too short\")\n",
    "else:\n",
    "    pass\n",
    "  \n",
    "# Capital letters\n",
    "\n",
    "for i in password:\n",
    "    if i in upper:\n",
    "        Capital += 1\n",
    "\n",
    "if Capital < 1:\n",
    "    print(\"No upper Character used by you\")\n",
    "else:\n",
    "    pass\n",
    "\n",
    "# special Character\n",
    "\n",
    "for i in password:\n",
    "    if i in special:\n",
    "        Special += 1\n",
    "\n",
    "if Special < 1:\n",
    "    print(\"No Special Character used by you\")\n",
    "else:\n",
    "    pass\n",
    "\n",
    "# numerical \n",
    "\n",
    "\n",
    "for i in password:\n",
    "    if i in Numbers:\n",
    "        numbers += 1\n",
    "\n",
    "if numbers < 1:\n",
    "    print(\"No Number is used by you\")\n",
    "else:\n",
    "    print(\"You have a strong password\")\n",
    "        \n",
    "\n"
   ]
  },
  {
   "cell_type": "code",
   "execution_count": 7,
   "id": "8caffe83-5fc7-4d6b-9de3-9641a1c52fd8",
   "metadata": {},
   "outputs": [
    {
     "name": "stdin",
     "output_type": "stream",
     "text": [
      "Enter number of rows you want in Matrix 2\n",
      "Enter number of coulmns you want in Matrix 2\n",
      " please mention Mat A [0],[0] 1\n",
      " please mention Mat A [0],[1] 2\n",
      " please mention Mat A [1],[0] 3\n",
      " please mention Mat A [1],[1] 4\n",
      " please mention Mat B [0],[0] 9\n",
      " please mention Mat B [0],[1] 8\n",
      " please mention Mat B [1],[0] 7\n",
      " please mention Mat B [1],[1] 6\n"
     ]
    },
    {
     "name": "stdout",
     "output_type": "stream",
     "text": [
      " Matrix A = [[1, 2], [3, 4]]\n",
      " Matrix B = [[9, 8], [7, 6]]\n",
      "Choose from below list\n",
      "Enter \"1\" to add matrix\n",
      "Enter \"2\" to add matrix\n"
     ]
    },
    {
     "name": "stdin",
     "output_type": "stream",
     "text": [
      "Enter 1 or 2 1\n"
     ]
    },
    {
     "name": "stdout",
     "output_type": "stream",
     "text": [
      " Matrix A = [[1, 2], [3, 4]]\n",
      " Matrix B = [[9, 8], [7, 6]]\n",
      " A+B = [[10, 10], [10, 10]]\n"
     ]
    }
   ],
   "source": [
    "# 32. Develop a program that performs matrix addition and subtraction based on user input.\n",
    "\n",
    "\n",
    "row = int(input(\"Enter number of rows you want in Matrix\"))\n",
    "coulomn = int(input(\"Enter number of coulmns you want in Matrix\"))\n",
    "a = []\n",
    "for i in range(row):\n",
    "    t = []\n",
    "    for j in range(coulomn):\n",
    "        matA = int(input(f\" please mention Mat A {[i]},{[j]}\"))\n",
    "        t.append(matA)\n",
    "    a.append(t)\n",
    "\n",
    "b = []\n",
    "for k in range(row):\n",
    "    x = []\n",
    "    for l in range(coulomn):\n",
    "        matB = int(input(f\" please mention Mat B {[k]},{[l]}\"))\n",
    "        x.append(matB)\n",
    "    b.append(x)\n",
    "print(f\" Matrix A = {a}\\n Matrix B = {b}\")\n",
    "        \n",
    "    \n",
    "print(\"\"\"Choose from below list\\nEnter \"1\" to add matrix\\nEnter \"2\" to add matrix\"\"\")\n",
    "\n",
    "res = input(\"Enter 1 or 2\")\n",
    "\n",
    "          \n",
    "\n",
    "if res == \"1\":\n",
    "    add = []\n",
    "\n",
    "    for ii in range(row):\n",
    "        tt = []\n",
    "        for jj in range(coulomn):\n",
    "            vall = a[ii][jj]+b[ii][jj]\n",
    "            tt.append(vall)\n",
    "        add.append(tt)\n",
    "    print(f\" Matrix A = {a}\\n Matrix B = {b}\\n A+B = {add}\")\n",
    "    \n",
    "if res == \"2\":\n",
    "    sub = []\n",
    "\n",
    "    for ii in range(row):\n",
    "        tt = []\n",
    "        for jj in range(coulomn):\n",
    "            vall = a[ii][jj]-b[ii][jj]\n",
    "            tt.append(vall)\n",
    "        add.append(tt)\n",
    "    print(f\" Matrix A = {a}\\n Matrix B = {b}\\n A+B = {sub}\")"
   ]
  },
  {
   "cell_type": "code",
   "execution_count": 24,
   "id": "225f23a9-805a-48e9-87c6-a2d1e3677d67",
   "metadata": {},
   "outputs": [
    {
     "name": "stdin",
     "output_type": "stream",
     "text": [
      "Enter 1st number 25\n",
      "Enter 2nd number 50\n"
     ]
    },
    {
     "name": "stdout",
     "output_type": "stream",
     "text": [
      "[1, 5, 25]\n",
      "Greatest common divisor for 25 and 50 = 25\n"
     ]
    }
   ],
   "source": [
    "# 33. Write a program that calculates the greatest common divisor (GCD) of two numbers using the Euclidean algorithm.\n",
    "\n",
    "number_1 = int(input(\"Enter 1st number\"))\n",
    "number_2 = int(input(\"Enter 2nd number\"))\n",
    "\n",
    "divisor_1 = []\n",
    "divisor_2 = []\n",
    "for i in range(1,number_1+1):\n",
    "    if number_1%i == 0:\n",
    "        divisor_1.append(i)\n",
    "for ii in range(1,number_2+1):\n",
    "    if number_2%ii == 0:\n",
    "        divisor_2.append(ii)\n",
    "common = []      \n",
    "for iii in divisor_1:\n",
    "    if iii in divisor_2:\n",
    "        common.append(iii)\n",
    "\n",
    "print(common)\n",
    "print(f\"Greatest common divisor for {number_1} and {number_2} = {max(common)}\")\n"
   ]
  },
  {
   "cell_type": "code",
   "execution_count": 31,
   "id": "82f08b07-4c00-478f-b5eb-2f2f393727dc",
   "metadata": {},
   "outputs": [
    {
     "name": "stdin",
     "output_type": "stream",
     "text": [
      "Enter number of rows you want in Matrix 2\n",
      "Enter number of coulmns you want in Matrix 2\n",
      "please mention Matrix A[0][0] = 2\n",
      "please mention Matrix A[0][1] = 2\n",
      "please mention Matrix A[1][0] = 2\n",
      "please mention Matrix A[1][1] = 2\n",
      "please mention Matrix A[0][0] = 2\n",
      "please mention Matrix A[0][1] = 2\n",
      "please mention Matrix A[1][0] = 2\n",
      "please mention Matrix A[1][1] = 2\n"
     ]
    },
    {
     "name": "stdout",
     "output_type": "stream",
     "text": [
      " Matrix A = [[2, 2], [2, 2]]\n",
      " Matrix B = [[2, 2], [2, 2]]\n",
      " A X B = [[4, 4], [4, 4]]\n"
     ]
    }
   ],
   "source": [
    "## 34. Build a program that performs matrix multiplication using nested loops and conditional statements.\n",
    "\n",
    "row = int(input(\"Enter number of rows you want in Matrix\"))\n",
    "coulomn = int(input(\"Enter number of coulmns you want in Matrix\"))\n",
    "\n",
    "a = []\n",
    "for i in range(row):\n",
    "    t = []\n",
    "    for j in range(coulomn):\n",
    "        val = int(input(f\"please mention Matrix A[{i}][{j}] =\"))\n",
    "        t.append(val)\n",
    "    a.append(t)\n",
    "b = []\n",
    "for ii in range(row):\n",
    "    tt = []\n",
    "    for jj in range(coulomn):\n",
    "        vall = int(input(f\"please mention Matrix A[{ii}][{jj}] =\"))\n",
    "        tt.append(vall)\n",
    "    b.append(tt)\n",
    "                   \n",
    "# multiplication\n",
    "multipliedAB = []\n",
    "for x in range(row):\n",
    "    ttt = []\n",
    "    for z in range(coulomn):\n",
    "        value = a[x][z] * b[x][z]\n",
    "        ttt.append(value)\n",
    "    multipliedAB.append(ttt)\n",
    "\n",
    "print(f\" Matrix A = {a}\\n Matrix B = {b}\\n A X B = {multipliedAB}\")\n",
    "        "
   ]
  },
  {
   "cell_type": "code",
   "execution_count": 2,
   "id": "992137ba-2347-4510-8837-7daaf51338b7",
   "metadata": {},
   "outputs": [],
   "source": [
    "# 35. Create a program that simulates a basic text-based tic-tac-toe game against the computer.\n",
    "\n"
   ]
  },
  {
   "cell_type": "code",
   "execution_count": 5,
   "id": "4d426d50-b931-4e5d-af54-6ea337587d69",
   "metadata": {},
   "outputs": [
    {
     "name": "stdin",
     "output_type": "stream",
     "text": [
      " 5\n"
     ]
    },
    {
     "name": "stdout",
     "output_type": "stream",
     "text": [
      "[1, 1, 2, 3, 5]\n"
     ]
    }
   ],
   "source": [
    "# 36. Write a program that generates Fibonacci numbers up to a specified term using iterative methods.\n",
    "\n",
    "Fibonacci_till = int(input())\n",
    "Fibonacci = []\n",
    "a,b = 0,1\n",
    "for i in range(1,Fibonacci_till+1):\n",
    "    a,b = b,a+b\n",
    "    Fibonacci.append(a)\n",
    "    \n",
    "print(Fibonacci)\n",
    "    "
   ]
  },
  {
   "cell_type": "code",
   "execution_count": 18,
   "id": "11db9055-427c-4b00-a764-d4a84229df62",
   "metadata": {},
   "outputs": [
    {
     "name": "stdin",
     "output_type": "stream",
     "text": [
      "Enter a date in /MM/YYYY format 16/11/2023\n"
     ]
    },
    {
     "name": "stdout",
     "output_type": "stream",
     "text": [
      "   November 2023\n",
      "Mo Tu We Th Fr Sa Su\n",
      "       1  2  3  4  5\n",
      " 6  7  8  9 10 11 12\n",
      "13 14 15 16 17 18 19\n",
      "20 21 22 23 24 25 26\n",
      "27 28 29 30\n",
      "\n"
     ]
    }
   ],
   "source": [
    "# 38. Create a program that generates a calendar for a given month and year using conditional statements.\n",
    "\n",
    "date = input(\"Enter a date in /MM/YYYY format\")\n",
    "\n",
    "month = 0\n",
    "year = 0\n",
    "\n",
    "dates_seperated = date.split(\"/\")\n",
    "month += int(dates_seperated[1])\n",
    "year += int(dates_seperated[2])\n",
    "\n",
    "\n",
    "import calendar \n",
    "\n",
    "\n",
    "print(calendar.month(year,month))\n",
    "    "
   ]
  },
  {
   "cell_type": "code",
   "execution_count": 21,
   "id": "1e485c41-4f65-4fac-a7e5-586b83ca0f71",
   "metadata": {},
   "outputs": [
    {
     "name": "stdin",
     "output_type": "stream",
     "text": [
      "Enter the number 10\n"
     ]
    },
    {
     "name": "stdout",
     "output_type": "stream",
     "text": [
      "[4, 6, 6, 8, 8, 9, 10, 10]\n"
     ]
    }
   ],
   "source": [
    "# 40. Write a program that generates the prime factors of a given number using trial division.\n",
    "\n",
    "number = int(input(\"Enter the number\"))\n",
    "prime = []\n",
    "checked = []\n",
    "for i in range(2,number+1):\n",
    "    while number%i == 0:\n",
    "        prime.append(i)\n",
    "                \n",
    "print(prime)\n",
    "    \n",
    "    \n",
    "    "
   ]
  },
  {
   "cell_type": "code",
   "execution_count": null,
   "id": "f125c0a8-4200-4d41-ab21-00e2a0826449",
   "metadata": {},
   "outputs": [],
   "source": []
  }
 ],
 "metadata": {
  "kernelspec": {
   "display_name": "Python 3 (ipykernel)",
   "language": "python",
   "name": "python3"
  },
  "language_info": {
   "codemirror_mode": {
    "name": "ipython",
    "version": 3
   },
   "file_extension": ".py",
   "mimetype": "text/x-python",
   "name": "python",
   "nbconvert_exporter": "python",
   "pygments_lexer": "ipython3",
   "version": "3.10.8"
  }
 },
 "nbformat": 4,
 "nbformat_minor": 5
}
